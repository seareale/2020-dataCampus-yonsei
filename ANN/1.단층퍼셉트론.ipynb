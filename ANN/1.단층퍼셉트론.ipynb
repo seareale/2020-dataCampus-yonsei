{
 "cells": [
  {
   "cell_type": "markdown",
   "metadata": {},
   "source": [
    "1.단층퍼셉트론"
   ]
  },
  {
   "cell_type": "markdown",
   "metadata": {},
   "source": [
    "Contents\n",
    "<div id=\"toc\"></div>"
   ]
  },
  {
   "cell_type": "markdown",
   "metadata": {},
   "source": [
    "# 1. 인공신경망"
   ]
  },
  {
   "cell_type": "markdown",
   "metadata": {},
   "source": [
    "인공 신경망 (ANN; Artificial Neural Network)\n",
    "- 생물학적인 뇌의 뉴런 신경망 구조로부터 받은 영감을 바탕으로, 이를 모방하여 구성한 구조 및 그 처리 기법\n",
    "- 시냅스의 결합을 통해 서로 연결되어 있는 뇌 안의 뉴런들이 입력된 자극을 처리하여 서로 전달하듯이, 서로 연결되어 있는 노드들이 정보를 전달하면서 학습을 수행한다.\n"
   ]
  },
  {
   "cell_type": "markdown",
   "metadata": {},
   "source": [
    "**인공 신경망에 대한 오해**\n",
    "- 실제 사람의 뇌와 같은 방식으로 작동한다는 의미가 아니다.\n",
    "- 사람 또는 동물의 뇌 구조를 모델링하는 것이 아니다.\n",
    "- 인공 신경망이 인공 지능 그 자체 또는 머신 러닝 그 자체를 의미하는 것이 아니다."
   ]
  },
  {
   "cell_type": "markdown",
   "metadata": {},
   "source": [
    "**인공 신경망에 대한 진실**\n",
    "- 인공 신경망은 머신 러닝 기법 중 하나이다. 즉, 데이터를 기반으로 학습을 수행하여 분류와 예측을 하는 모형이다.\n",
    "- 심층 학습(deep learning)을 수행하는 핵심 구조이다.\n",
    "\n",
    "<img src=\"img/ch1_1.png\" width=\"60%\">"
   ]
  },
  {
   "cell_type": "markdown",
   "metadata": {},
   "source": [
    "**단순한 논리 연산 수행을 위한 인공 신경망**\n",
    "<img src=\"img/ch1_2.png\" width=\"60%\">\n",
    "- 2개 이상의 이진 입력과 1개의 이진 출력으로 이루어진 뉴런 C의 출력을 처리하는 인공 신경망이다.\n",
    "- 최소한 2개의 입력이 활성화되어야(즉, 2개의 1이 입력되어야) 뉴런 C가 활성화된다(즉, 1이 출력된다)."
   ]
  },
  {
   "cell_type": "markdown",
   "metadata": {},
   "source": [
    "# 2. 단층 퍼셉트론"
   ]
  },
  {
   "cell_type": "markdown",
   "metadata": {},
   "source": [
    "## 2.1. 퍼셉트론 (Perceptron)"
   ]
  },
  {
   "cell_type": "markdown",
   "metadata": {},
   "source": [
    "- 가장 기초가 되는 인공 신경망 구조 중 하나이다.\n",
    "- TLU(threshold logic unit)라는 뉴런으로 구성된다.\n",
    "<img src=\"img/ch1_3.png\" width=\"70%\">"
   ]
  },
  {
   "cell_type": "markdown",
   "metadata": {},
   "source": [
    "## 2.2. 퍼셉트론의 구성"
   ]
  },
  {
   "cell_type": "markdown",
   "metadata": {},
   "source": [
    "- 연산과 출력을 하는 TLU들이 1개의 층으로 이루어져 있다.\n",
    "    - 단층 퍼셉트론(SLP; single-layer perceptron)이라고 한다.\n",
    "\n",
    "\n",
    "- **입력층 (input layer)** : 입력 뉴런들 및 편향 뉴런이 존재한다.\n",
    "    - 입력 뉴런 : 계단 함수를 적용하지 않고 입력을 그대로 출력으로 내보낸다. (즉, 입력값 그 자체이다.)\n",
    "    - 편향 뉴런 : 항상 편향(절편)값 1을 출력한다.\n",
    "- **출력층 (output layer)** : 출력을 하는 TLU들이 존재한다.\n",
    "    - 각 뉴런들은 모든 입력과 연결되어 있다.\n",
    "    - 입력들의 가중치 합을 계단 함수에 적용하여 그 결과를 출력으로 내보낸다.\n"
   ]
  },
  {
   "cell_type": "markdown",
   "metadata": {},
   "source": [
    "**예시**"
   ]
  },
  {
   "cell_type": "markdown",
   "metadata": {},
   "source": [
    "- 2개의 입력과 3개의 출력으로 구성된 단층 퍼셉트론이다.\n",
    "<img src=\"img/ch1_4.png\" width=\"70%\">"
   ]
  },
  {
   "cell_type": "markdown",
   "metadata": {},
   "source": [
    "## 2.3. 퍼셉트론의 학습 절차 (편향이 없는 경우)\n",
    "1. 입력층과 출력층의 뉴런(노드)들을 배치한다.\n",
    "2. 각 입력 노드들마다 임의로 가중치를 할당한다.\n",
    "3. 노드의 입력값(들)에 가중치를 적용하여 총합을 구한다.\n",
    "4. 총합이 미리 정해진 임계치 이상의 값인지 검사한다.\n",
    "5. 검사한 결과값이  \n",
    "    1) 임계치 이상이면 1을 출력한다. (즉, 1로 예측한다.)  \n",
    "    2) 임계치 미만이면 0을 출력한다. (즉, 0으로 예측한다.)\n",
    "6. 출력(즉, 예측값)이 실제값과 다르다면 가중치를 갱신한다.\n",
    "7. 모든 데이터를 학습할 때까지 위의 ③번 단계부터 반복한다.\n",
    "8. 모든 데이터에 대해서 출력(예측값)과 실제값이 동일하게 될 때까지 위의 ③번 단계부터 반복한다."
   ]
  },
  {
   "cell_type": "markdown",
   "metadata": {},
   "source": [
    "## 2.4. 퍼셉트론의 학습 절차 (편향이 <span class=\"mark\">있는</span> 경우)\n",
    "1. 입력층과 출력층의 뉴런(노드)들을 배치한다.\n",
    "2. 입력 노드들과 <span class=\"mark\">편향 노드</span>에 각각 임의로 가중치를 할당한다.\n",
    "3. 노드의 입력값(들)에 가중치를 적용하여 총합을 구한다.\n",
    "4. 총합이 <span class=\"mark\">0 이상인지</span> 검사한다. <span class=\"mark\">(즉, 임계치가 0이다.)</span>\n",
    "5. 검사한 결과값이  \n",
    "    1) <span class=\"mark\">0 이상이면</span> 1을 출력한다. (즉, 1로 예측한다.)  \n",
    "    2) <span class=\"mark\">0 미만이면</span> 0을 출력한다. (즉, 0으로 예측한다.)\n",
    "6. 출력(즉, 예측값)이 실제값과 다르다면 가중치를 갱신한다.\n",
    "7. 모든 데이터를 학습할 때까지 위의 ③번 단계부터 반복한다.\n",
    "8. 모든 데이터에 대해서 출력(예측값)과 실제값이 동일하게 될 때까지 위의 ③번 단계부터 반복한다."
   ]
  },
  {
   "cell_type": "markdown",
   "metadata": {},
   "source": [
    "## 2.5. 퍼셉트론의 가중치 갱신"
   ]
  },
  {
   "cell_type": "markdown",
   "metadata": {},
   "source": [
    "$w_i = w_i + \\eta \\times x_i \\times (y_i - \\hat{y}_i)$ \n",
    " \n",
    "(이 때, wi는 입력 노드 i의 가중치이다.  \n",
    "$\\qquad x_i$는 입력 노드 i의 입력값이다.  \n",
    "$\\qquad y_i$는 $x_i$가 입력되었을 때의 실제값이다.  \n",
    "$\\qquad \\hat{y}_i$는 $x_i$가 입력되었을 때의 출력(예측값)이다.  \n",
    "$\\qquad$η는 학습률(learning rate)이다.)  "
   ]
  },
  {
   "cell_type": "markdown",
   "metadata": {},
   "source": [
    "- 출력이 실제값과 동일하다면, 가중치는 바뀌지 않는다.\n",
    "- 실제값이 1인데 출력이 0이라면, 다음 계산에서 출력이 증가하는 방향으로 가중치가 조정된다.\n",
    "- 실제값이 0인데 출력이 1이라면, 다음 계산에서 출력이 감소하는 방향으로 가중치가 조정된다."
   ]
  },
  {
   "cell_type": "markdown",
   "metadata": {},
   "source": [
    "### 2.5.1 학습 절차 예시"
   ]
  },
  {
   "cell_type": "markdown",
   "metadata": {},
   "source": [
    "**논리곱 (AND)**\n",
    "- 특성이 $X_1$, $X_2$이고 편향이 $X_0$인 경우의 논리곱을 학습한다.\n",
    "- 학습률은 0.1이라고 가정한다."
   ]
  },
  {
   "cell_type": "markdown",
   "metadata": {},
   "source": [
    "**반복 1회차**\n",
    "<img src=\"img/ch1_5.png\" width=\"70%\">\n",
    "<img src=\"img/ch1_6.png\" width=\"70%\">\n",
    "※ 실제값과 출력이 다른 데이터가 존재하므로 학습을 반복한다."
   ]
  },
  {
   "cell_type": "markdown",
   "metadata": {},
   "source": [
    "**반복 2회차**\n",
    "<img src=\"img/ch1_7.png\" width=\"70%\">\n",
    "<img src=\"img/ch1_8.png\" width=\"70%\">\n",
    "※ 실제값과 출력이 다른 데이터가 존재하므로 학습을 반복한다."
   ]
  },
  {
   "cell_type": "markdown",
   "metadata": {},
   "source": [
    "**이러한 가중치 갱신 과정을 모든 데이터가 실제값과 동일한 출력을 내보낼 때까지 반복한다.**"
   ]
  },
  {
   "cell_type": "markdown",
   "metadata": {},
   "source": [
    "**반복 5회차**\n",
    "<img src=\"img/ch1_9.png\" width=\"70%\">\n",
    "※ 전체 데이터들을 5회 반복 학습한 결과, 모든 실제값과 출력이 동일한 것이 확인되었으므로 학습을 종료한다."
   ]
  },
  {
   "cell_type": "markdown",
   "metadata": {},
   "source": [
    "<img src=\"img/ch1_10.png\" width=\"70%\">"
   ]
  },
  {
   "cell_type": "markdown",
   "metadata": {},
   "source": [
    "## 2.6. 퍼셉트론의 목표"
   ]
  },
  {
   "cell_type": "markdown",
   "metadata": {},
   "source": [
    "학습 데이터에 대해 정확한 선형의 결정 경계를 찾는 것이다"
   ]
  },
  {
   "cell_type": "markdown",
   "metadata": {},
   "source": [
    "**가중치와 편향의 의미**\n",
    "- **가중치**는 입력값이 출력에 끼치게 되는 영향의 강도를 조절하는 역할을 한다.\n",
    "- **편향**은 노드들이 얼마나 쉽게 활성화 되도록 할 것인지 조절하는 역할을 한다."
   ]
  },
  {
   "cell_type": "markdown",
   "metadata": {},
   "source": [
    "# 3. 활성화 함수 (Activation Function)"
   ]
  },
  {
   "cell_type": "markdown",
   "metadata": {},
   "source": [
    "- 퍼셉트론 구조에서 가중치들의 합에 따라 처리를 하여 변환된 값을 출력하는 함수를 **활성화 함수**라고 한다.\n",
    "- 퍼셉트론의 학습 절차 ⑤번 단계에서 적용되는 함수이다.\n",
    "<img src=\"img/ch1_11.png\" width=\"70%\">"
   ]
  },
  {
   "cell_type": "markdown",
   "metadata": {},
   "source": [
    "- 활성화 함수의 종류에는 여러 가지가 있으나, 퍼셉트론은 그 중에서 **계단 함수(step function)**를 사용한다.\n",
    "- 계단 함수는 특정 값을 기준으로 활성화 하거나 비활성화하는 단순한 형태를 띄고 있다.\n",
    "<img src=\"img/ch1_12.png\" width=\"70%\">"
   ]
  },
  {
   "cell_type": "markdown",
   "metadata": {},
   "source": [
    "# 4. 단층 퍼셉트론의 한계"
   ]
  },
  {
   "cell_type": "markdown",
   "metadata": {},
   "source": [
    "- 단층 퍼셉트론 학습이 종료되기 위해서는 모든 출력이 실제 값과 일치해야 한다. 그러나 반드시 100% 정확하게 분류를 한다는 것은 현실성이 부족한 조건이다.\n",
    "- 단층 퍼셉트론은 정확한 선형 결정 경계를 찾는 문제에 대한 모형이므로, 비선형 데이터에 대해서는 처리가 불가능하다.\n",
    "    - 예를 들어, 논리합 OR 및 논리곱 AND 연산은 선형으로 분리되므로 수행 가능하다.\n",
    "    - 그러나 배타적 논리합(exclusive OR) XOR 연산은 선형으로 분리할 수 없기 때문에 수행이 불가능하다.\n",
    "<img src=\"img/ch1_13.png\" width=\"70%\">\n",
    "<img src=\"img/ch1_14.png\" width=\"70%\">"
   ]
  },
  {
   "cell_type": "markdown",
   "metadata": {},
   "source": [
    "# 실습) 사이킷런으로 단층 퍼셉트론 학습 수행"
   ]
  },
  {
   "cell_type": "markdown",
   "metadata": {},
   "source": [
    "1. **linear_model** 모듈에 있는 **Perceptron**을 이용하여 단층 퍼셉트론 객체를 생성한다.\n",
    "    - 매개변수 **eta0**는 학습률이며, 기본값은 1이다.\n",
    "    - 매개변수 **max_iter**는 학습의 반복 횟수, 즉 에폭(epoch)이다. 현재 기본값은 None으로 지정되어 있으나, 이후 버전에서 1000으로 변경될 예정이다.\n",
    "    - 매개변수 **tol**은 반복을 종료할 수 있는 허용 손실(오차)의 값이다. 현재 기본값은 None으로 지정되어 있으나, 이후 버전에서 1e-3으로 변경될 예정이다."
   ]
  },
  {
   "cell_type": "code",
   "execution_count": 1,
   "metadata": {},
   "outputs": [],
   "source": [
    "import sklearn.linear_model as lm\n",
    "\n",
    "ppn_clf = lm.Perceptron(eta0=0.1, \\\n",
    "                        max_iter=1000, \\\n",
    "                        tol=0.001)"
   ]
  },
  {
   "cell_type": "markdown",
   "metadata": {},
   "source": [
    "※ 학습 데이터는 연습용으로 다음과 같이 준비한다."
   ]
  },
  {
   "cell_type": "code",
   "execution_count": 2,
   "metadata": {},
   "outputs": [],
   "source": [
    "X_train = [[1, 2], [5, 6], [2, 3], [6, 7], [3, 1], [7, 5]]\n",
    "y_train = [0, 1, 0, 1, 0, 1]"
   ]
  },
  {
   "cell_type": "markdown",
   "metadata": {},
   "source": [
    "2. 퍼셉트론 객체에 대하여 **fit** 메소드를 이용하여 훈련한다."
   ]
  },
  {
   "cell_type": "code",
   "execution_count": 3,
   "metadata": {},
   "outputs": [],
   "source": [
    "clf = ppn_clf.fit(X_train, y_train)"
   ]
  },
  {
   "cell_type": "markdown",
   "metadata": {},
   "source": [
    "3. 실행 객체 또는 분류 모형에 대하여 **predict** 메소드를 이용하여 예측을 수행한다.  "
   ]
  },
  {
   "cell_type": "code",
   "execution_count": 5,
   "metadata": {},
   "outputs": [],
   "source": [
    "X_test = [[1.5, 3.1], [4, 4.5], [6.7, 4.7]]\n",
    "y_test = [0, 0, 1]\n",
    "\n",
    "y_pred = clf.predict(X_test)"
   ]
  },
  {
   "cell_type": "code",
   "execution_count": 6,
   "metadata": {},
   "outputs": [
    {
     "name": "stdout",
     "output_type": "stream",
     "text": [
      "[0 1 1]\n"
     ]
    }
   ],
   "source": [
    "print(y_pred)"
   ]
  },
  {
   "cell_type": "markdown",
   "metadata": {},
   "source": [
    "4. 분석 결과를 평가한다. (정확도)\n",
    "    - **metrics** 모듈에 있는 **accuracy_score** 함수 또는 분류 모형에 대해 **score** 메소드를 이용하여 정확도를 구한다."
   ]
  },
  {
   "cell_type": "code",
   "execution_count": 7,
   "metadata": {},
   "outputs": [
    {
     "name": "stdout",
     "output_type": "stream",
     "text": [
      "정확도 : 0.667\n"
     ]
    }
   ],
   "source": [
    "import sklearn.metrics as mt\n",
    "\n",
    "score = mt.accuracy_score(y_test, y_pred)\n",
    "print('정확도 : {:.3f}'.format(score))"
   ]
  },
  {
   "cell_type": "code",
   "execution_count": 8,
   "metadata": {},
   "outputs": [
    {
     "name": "stdout",
     "output_type": "stream",
     "text": [
      "정확도 : 0.667\n"
     ]
    }
   ],
   "source": [
    "score = clf.score(X_test, y_test)\n",
    "print('정확도 : {:.3f}'.format(score))"
   ]
  },
  {
   "cell_type": "markdown",
   "metadata": {},
   "source": [
    "# 실습2) 붓꽃데이터"
   ]
  },
  {
   "cell_type": "code",
   "execution_count": 17,
   "metadata": {},
   "outputs": [],
   "source": [
    "import sklearn.datasets as d\n",
    "import sklearn.linear_model as lm\n",
    "import sklearn.model_selection as ms\n",
    "import sklearn.metrics as mt\n",
    "import numpy as np"
   ]
  },
  {
   "cell_type": "code",
   "execution_count": 18,
   "metadata": {},
   "outputs": [],
   "source": [
    "iris = d.load_iris()\n",
    "X = iris.data\n",
    "y = iris.target\n",
    "\n",
    "X_train, X_test, y_train, y_test = \\\n",
    "ms.train_test_split(X, y, test_size=0.3, random_state=0)"
   ]
  },
  {
   "cell_type": "code",
   "execution_count": 27,
   "metadata": {},
   "outputs": [],
   "source": [
    "ppn_clf = lm.Perceptron(eta0=0.1, max_iter=1000, tol=0.001)\n",
    "clf = ppn_clf.fit(X_train, y_train)\n",
    "y_pred = clf.predict(X_test)"
   ]
  },
  {
   "cell_type": "code",
   "execution_count": 28,
   "metadata": {
    "scrolled": true
   },
   "outputs": [
    {
     "name": "stdout",
     "output_type": "stream",
     "text": [
      "정확도 = 0.8\n"
     ]
    }
   ],
   "source": [
    "print(\"정확도 =\", mt.accuracy_score(y_test, y_pred))"
   ]
  },
  {
   "cell_type": "code",
   "execution_count": 29,
   "metadata": {},
   "outputs": [
    {
     "name": "stdout",
     "output_type": "stream",
     "text": [
      "[[16  0  0]\n",
      " [ 2  9  7]\n",
      " [ 0  0 11]]\n"
     ]
    }
   ],
   "source": [
    "print(mt.confusion_matrix(y_test, y_pred))"
   ]
  },
  {
   "cell_type": "code",
   "execution_count": 30,
   "metadata": {},
   "outputs": [
    {
     "name": "stdout",
     "output_type": "stream",
     "text": [
      "              precision    recall  f1-score   support\n",
      "\n",
      "           0       0.89      1.00      0.94        16\n",
      "           1       1.00      0.50      0.67        18\n",
      "           2       0.61      1.00      0.76        11\n",
      "\n",
      "    accuracy                           0.80        45\n",
      "   macro avg       0.83      0.83      0.79        45\n",
      "weighted avg       0.87      0.80      0.79        45\n",
      "\n"
     ]
    }
   ],
   "source": [
    "print(mt.classification_report(y_test, y_pred))"
   ]
  },
  {
   "cell_type": "code",
   "execution_count": 31,
   "metadata": {},
   "outputs": [
    {
     "data": {
      "application/javascript": [
       "$.getScript('https://seareale.github.io/ipython_notebook_goodies/ipython_notebook_toc.js')\n"
      ],
      "text/plain": [
       "<IPython.core.display.Javascript object>"
      ]
     },
     "metadata": {},
     "output_type": "display_data"
    }
   ],
   "source": [
    "%%javascript\n",
    "$.getScript('https://seareale.github.io/ipython_notebook_goodies/ipython_notebook_toc.js')"
   ]
  }
 ],
 "metadata": {
  "kernelspec": {
   "display_name": "Python 3.8.3 64-bit",
   "language": "python",
   "name": "python38364bitc7d172dfbcaf4c84b1b0b3dca7174a39"
  },
  "language_info": {
   "codemirror_mode": {
    "name": "ipython",
    "version": 3
   },
   "file_extension": ".py",
   "mimetype": "text/x-python",
   "name": "python",
   "nbconvert_exporter": "python",
   "pygments_lexer": "ipython3",
   "version": "3.8.3"
  }
 },
 "nbformat": 4,
 "nbformat_minor": 4
}
