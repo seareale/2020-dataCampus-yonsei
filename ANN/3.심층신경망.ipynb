{
 "cells": [
  {
   "cell_type": "markdown",
   "metadata": {},
   "source": [
    "3.심층신경망"
   ]
  },
  {
   "cell_type": "markdown",
   "metadata": {},
   "source": [
    "Contents\n",
    "<div id=\"toc\"></div>"
   ]
  },
  {
   "cell_type": "markdown",
   "metadata": {},
   "source": [
    "# 1. 심층 신경망 (DNN; Deep Neural Network)"
   ]
  },
  {
   "cell_type": "markdown",
   "metadata": {},
   "source": [
    "- 다층 퍼셉트론 구조에서 특히 은닉층이 2개 이상인 경우를 **심층 신경망(deep neural network)** 이라고 한다.\n",
    "- 심층 신경망 구조를 통해서 학습을 수행하는 것을 **심층 학습**, 즉 **딥 러닝(deep learning)** 이라고 한다.\n",
    "<img src=\"img/ch3_1.png\" width=\"50%\">"
   ]
  },
  {
   "cell_type": "markdown",
   "metadata": {},
   "source": [
    "## 1.1. 텐서플로우 (TensorFlow)"
   ]
  },
  {
   "cell_type": "markdown",
   "metadata": {},
   "source": [
    "- 대규모 머신 러닝을 지원하는 오픈소스 라이브러리로서, 분산 환경에서 거대한 인공 신경망을 훈련시킬 수 있다.\n",
    "- 웹사이트 https://www.tensorflow.org 에서 관련 정보 및 튜토리얼, 확장 기능, 관련 프로그램 등을 확인할 수 있다."
   ]
  },
  {
   "cell_type": "markdown",
   "metadata": {},
   "source": [
    "## 1.2. 파이토치  (PyTorch)"
   ]
  },
  {
   "cell_type": "markdown",
   "metadata": {},
   "source": [
    "- 대표적인 립러닝 오픈소스 라이브러리로, 텐서플로우보다 직관적이고 간결하다는 장점이 있다.\n",
    "- 웹사이트 https://pytorch.org 에서 관련 정보 및 문서, 튜토리얼, 응용 도구 등을 확인할 수 있다"
   ]
  },
  {
   "cell_type": "markdown",
   "metadata": {},
   "source": [
    "## 1.3. 케라스 (Keras)"
   ]
  },
  {
   "cell_type": "markdown",
   "metadata": {},
   "source": [
    "- 고수준의 인공 신경망 학습을 지원하는 머신 러닝 API로서, 텐서플로우 및 씨아노(Theano) 등의 패키지 상에서 수행되는 딥러닝 라이브러리이다.\n",
    "- 웹사이트 https://keras.io 에서 관련 정보 및 문서, 예제 등을 확인할 수 있다"
   ]
  },
  {
   "cell_type": "markdown",
   "metadata": {},
   "source": [
    "- 케라스에는 많이 사용되는 주요 기법들이 이미 만들어져(premade) 있으며, 상대적으로 텐서플로우보다 사용자 친화적으로 표현되어 있기 때문에 직관적이고 편리하다.\n",
    "- 반면, 세부적이고 구체적인 설정과 변경을 하기에는 다소 어려움이 있다.\n",
    "- 따라서, 기존의 기능들을 활용하면서 너무 복잡하지 않은 신경망을 구성하려는 경우 케라스를 사용하는 것도 좋다.\n",
    "- 반대로, 사용자가 직접 모든 환경을 설정하고 고정된 방식 이외의 여러 가지 사항들을 유연하게 조정하면서 심도있게 응용하려는 경우에는 텐서플로우 또는 파이토치를 사용하는 것이 바람직하다."
   ]
  },
  {
   "cell_type": "markdown",
   "metadata": {},
   "source": [
    "```\n",
    "pip install keras\n",
    "```\n",
    "정상적으로 설치되었다면, 처음 import할 때 다음과 같이 텐서플로우의 backend로 사용된다는 메시지가 나타난다.\n",
    "<img src=\"img/ch3_2.png\" width=\"30%\">"
   ]
  },
  {
   "cell_type": "markdown",
   "metadata": {},
   "source": [
    "# 2. 케라스의 신경망 학습 수행 절차"
   ]
  },
  {
   "cell_type": "code",
   "execution_count": 186,
   "metadata": {},
   "outputs": [],
   "source": [
    "import keras"
   ]
  },
  {
   "cell_type": "markdown",
   "metadata": {},
   "source": [
    "1. 데이터를 준비한다.\n",
    "    - 붓꽃데이터를 불러온다."
   ]
  },
  {
   "cell_type": "code",
   "execution_count": 187,
   "metadata": {},
   "outputs": [],
   "source": [
    "from sklearn.datasets import load_iris\n",
    "\n",
    "iris = load_iris()\n",
    "X, y = iris.data, iris.target"
   ]
  },
  {
   "cell_type": "markdown",
   "metadata": {},
   "source": [
    "- **utils**의 **to_categorical** 또는 **sklearn.preprocessing**의 **OneHotEncoder** 등을 이용하여 클래스 정보를 변환한다."
   ]
  },
  {
   "cell_type": "code",
   "execution_count": 188,
   "metadata": {},
   "outputs": [],
   "source": [
    "from keras.utils import to_categorical\n",
    "\n",
    "y = to_categorical(y, 3) # one-hot encoding"
   ]
  },
  {
   "cell_type": "markdown",
   "metadata": {},
   "source": [
    "- 변환된 데이터를 학습용 및 검증용으로 분리한다."
   ]
  },
  {
   "cell_type": "code",
   "execution_count": 189,
   "metadata": {},
   "outputs": [],
   "source": [
    "from sklearn.model_selection import train_test_split\n",
    "\n",
    "X_train, X_test, y_train, y_test = train_test_split(X, y, test_size=0.3, random_state=0)"
   ]
  },
  {
   "cell_type": "markdown",
   "metadata": {},
   "source": [
    "2. 인공 신경망 모형을 구성한다.\n",
    "    - **models**의 **Sequential**을 이용하여 신경망의 층을 순서대로 쌓을 수 있도록 초기화한다.\n",
    "    - **layers**의 **Dense**를 이용하여 입력과 출력이 모두 연결된 은닉층(들)과 출력층을 생성하여 **add** 함수로 추가한다.\n",
    "        - **units**는 해당 층에 배치할 노드 수이다.\n",
    "        - **input_dim**은 입력 특성의 수, 즉 입력 노드의 개수이다. 최초 은닉층 외에는 기재하지 않는다.\n",
    "        - **kernel_initializer**는 가중치들의 초기화, 설정 방법이라고 생각하면 된다.\n",
    "        - **activation**은 활성화 함수이다."
   ]
  },
  {
   "cell_type": "markdown",
   "metadata": {},
   "source": [
    "- 노드가 8개 있는 은닉층 1개와 최종 출력 노드가 3개 있는 출력층을 생성하였다."
   ]
  },
  {
   "cell_type": "code",
   "execution_count": 190,
   "metadata": {},
   "outputs": [],
   "source": [
    "from keras.models import Sequential\n",
    "from keras.layers import Dense\n",
    "\n",
    "model = Sequential()\n",
    "# 경험 바탕\n",
    "# 특성개수(4개)의 2배 또는 2의 제곱배\n",
    "model.add(Dense(units=8, input_dim=4, \\\n",
    "               kernel_initializer='uniform', \\\n",
    "               activation='relu'))\n",
    "model.add(Dense(units=3, activation='softmax'))"
   ]
  },
  {
   "cell_type": "markdown",
   "metadata": {},
   "source": [
    "3. 모형의 학습 과정에 대한 설정을 한다.\n",
    "    - 모형에 대해 **compile** 함수를 이용하여 설정을 한다.\n",
    "        - **loss**는 손실 함수이다. 대부분 이진 분류인 경우에는‘binary_crossentropy’, 다중 클래스 분류인 경우에는‘categorical_crossentropy’를 사용한다.\n",
    "        - **optimizer**는 가중치를 최적화 하기 위해서 적용되는 알고리즘의 이름이다.\n",
    "        - **metrics**는 모형의 성능 평가 지표가 나열되는 목록이며, 기본적으로 ‘accuracy’가 포함된다.\n"
   ]
  },
  {
   "cell_type": "markdown",
   "metadata": {},
   "source": [
    "- 다중 클래스 분류이므로 손실 함수를 ‘categorical_crossentropy’로, 최적화 기법을 ‘adam’으로 지정하였다."
   ]
  },
  {
   "cell_type": "code",
   "execution_count": 191,
   "metadata": {},
   "outputs": [],
   "source": [
    "model.compile(loss='categorical_crossentropy', \\\n",
    "             optimizer='adam', \\\n",
    "             metrics=['accuracy'])"
   ]
  },
  {
   "cell_type": "markdown",
   "metadata": {},
   "source": [
    "※ 설정된 모형에 대해 summary 함수를 이용하여 상태를 확인해 볼 수 있다."
   ]
  },
  {
   "cell_type": "code",
   "execution_count": 192,
   "metadata": {},
   "outputs": [
    {
     "name": "stdout",
     "output_type": "stream",
     "text": [
      "Model: \"sequential_11\"\n",
      "_________________________________________________________________\n",
      "Layer (type)                 Output Shape              Param #   \n",
      "=================================================================\n",
      "dense_22 (Dense)             (None, 8)                 40        \n",
      "_________________________________________________________________\n",
      "dense_23 (Dense)             (None, 3)                 27        \n",
      "=================================================================\n",
      "Total params: 67\n",
      "Trainable params: 67\n",
      "Non-trainable params: 0\n",
      "_________________________________________________________________\n"
     ]
    }
   ],
   "source": [
    "model.summary()"
   ]
  },
  {
   "cell_type": "markdown",
   "metadata": {},
   "source": [
    "4. 모형을 학습시킨다.\n",
    "    - 모형에 대해 **fit** 함수를 이용하여 학습을 수행한다. 추가 옵션은 다음과 같다.\n",
    "        - **epochs**는 학습의 반복 횟수이다.\n",
    "        - **batch_size**는 배치의 크기이다.\n",
    "        - **verbose**는 학습 경과를 출력하는 옵션으로, 0은 출력하지 않음, 1은 매 학습 단계마다 진행 막대(progress bar)와 상태를 함께 출력, 2는 진행 막대 없이 매 학습단계의 상태를 출력하는 것이다.\n"
   ]
  },
  {
   "cell_type": "markdown",
   "metadata": {},
   "source": [
    "- 에폭을 100, 배치 크기를 10으로 지정하였다."
   ]
  },
  {
   "cell_type": "code",
   "execution_count": 205,
   "metadata": {},
   "outputs": [
    {
     "name": "stdout",
     "output_type": "stream",
     "text": [
      "Epoch 1/100\n",
      "11/11 - 0s - loss: 0.4622 - accuracy: 0.7619\n",
      "Epoch 2/100\n",
      "11/11 - 0s - loss: 0.4566 - accuracy: 0.7810\n",
      "Epoch 3/100\n",
      "11/11 - 0s - loss: 0.4516 - accuracy: 0.8095\n",
      "Epoch 4/100\n",
      "11/11 - 0s - loss: 0.4467 - accuracy: 0.8190\n",
      "Epoch 5/100\n",
      "11/11 - 0s - loss: 0.4419 - accuracy: 0.8190\n",
      "Epoch 6/100\n",
      "11/11 - 0s - loss: 0.4371 - accuracy: 0.8190\n",
      "Epoch 7/100\n",
      "11/11 - 0s - loss: 0.4324 - accuracy: 0.8190\n",
      "Epoch 8/100\n",
      "11/11 - 0s - loss: 0.4280 - accuracy: 0.8571\n",
      "Epoch 9/100\n",
      "11/11 - 0s - loss: 0.4236 - accuracy: 0.8667\n",
      "Epoch 10/100\n",
      "11/11 - 0s - loss: 0.4190 - accuracy: 0.8667\n",
      "Epoch 11/100\n",
      "11/11 - 0s - loss: 0.4146 - accuracy: 0.8667\n",
      "Epoch 12/100\n",
      "11/11 - 0s - loss: 0.4111 - accuracy: 0.8667\n",
      "Epoch 13/100\n",
      "11/11 - 0s - loss: 0.4062 - accuracy: 0.8857\n",
      "Epoch 14/100\n",
      "11/11 - 0s - loss: 0.4018 - accuracy: 0.8857\n",
      "Epoch 15/100\n",
      "11/11 - 0s - loss: 0.3984 - accuracy: 0.8857\n",
      "Epoch 16/100\n",
      "11/11 - 0s - loss: 0.3943 - accuracy: 0.8857\n",
      "Epoch 17/100\n",
      "11/11 - 0s - loss: 0.3904 - accuracy: 0.8952\n",
      "Epoch 18/100\n",
      "11/11 - 0s - loss: 0.3873 - accuracy: 0.9048\n",
      "Epoch 19/100\n",
      "11/11 - 0s - loss: 0.3824 - accuracy: 0.9048\n",
      "Epoch 20/100\n",
      "11/11 - 0s - loss: 0.3791 - accuracy: 0.8857\n",
      "Epoch 21/100\n",
      "11/11 - 0s - loss: 0.3757 - accuracy: 0.8952\n",
      "Epoch 22/100\n",
      "11/11 - 0s - loss: 0.3718 - accuracy: 0.9333\n",
      "Epoch 23/100\n",
      "11/11 - 0s - loss: 0.3680 - accuracy: 0.9333\n",
      "Epoch 24/100\n",
      "11/11 - 0s - loss: 0.3646 - accuracy: 0.9238\n",
      "Epoch 25/100\n",
      "11/11 - 0s - loss: 0.3621 - accuracy: 0.9429\n",
      "Epoch 26/100\n",
      "11/11 - 0s - loss: 0.3588 - accuracy: 0.9238\n",
      "Epoch 27/100\n",
      "11/11 - 0s - loss: 0.3548 - accuracy: 0.9429\n",
      "Epoch 28/100\n",
      "11/11 - 0s - loss: 0.3514 - accuracy: 0.9429\n",
      "Epoch 29/100\n",
      "11/11 - 0s - loss: 0.3484 - accuracy: 0.9429\n",
      "Epoch 30/100\n",
      "11/11 - 0s - loss: 0.3445 - accuracy: 0.9524\n",
      "Epoch 31/100\n",
      "11/11 - 0s - loss: 0.3426 - accuracy: 0.9333\n",
      "Epoch 32/100\n",
      "11/11 - 0s - loss: 0.3386 - accuracy: 0.9333\n",
      "Epoch 33/100\n",
      "11/11 - 0s - loss: 0.3352 - accuracy: 0.9429\n",
      "Epoch 34/100\n",
      "11/11 - 0s - loss: 0.3331 - accuracy: 0.9619\n",
      "Epoch 35/100\n",
      "11/11 - 0s - loss: 0.3304 - accuracy: 0.9619\n",
      "Epoch 36/100\n",
      "11/11 - 0s - loss: 0.3270 - accuracy: 0.9524\n",
      "Epoch 37/100\n",
      "11/11 - 0s - loss: 0.3237 - accuracy: 0.9524\n",
      "Epoch 38/100\n",
      "11/11 - 0s - loss: 0.3207 - accuracy: 0.9524\n",
      "Epoch 39/100\n",
      "11/11 - 0s - loss: 0.3181 - accuracy: 0.9524\n",
      "Epoch 40/100\n",
      "11/11 - 0s - loss: 0.3150 - accuracy: 0.9524\n",
      "Epoch 41/100\n",
      "11/11 - 0s - loss: 0.3130 - accuracy: 0.9524\n",
      "Epoch 42/100\n",
      "11/11 - 0s - loss: 0.3101 - accuracy: 0.9524\n",
      "Epoch 43/100\n",
      "11/11 - 0s - loss: 0.3075 - accuracy: 0.9619\n",
      "Epoch 44/100\n",
      "11/11 - 0s - loss: 0.3050 - accuracy: 0.9524\n",
      "Epoch 45/100\n",
      "11/11 - 0s - loss: 0.3018 - accuracy: 0.9619\n",
      "Epoch 46/100\n",
      "11/11 - 0s - loss: 0.3000 - accuracy: 0.9619\n",
      "Epoch 47/100\n",
      "11/11 - 0s - loss: 0.2967 - accuracy: 0.9619\n",
      "Epoch 48/100\n",
      "11/11 - 0s - loss: 0.2943 - accuracy: 0.9619\n",
      "Epoch 49/100\n",
      "11/11 - 0s - loss: 0.2924 - accuracy: 0.9619\n",
      "Epoch 50/100\n",
      "11/11 - 0s - loss: 0.2888 - accuracy: 0.9619\n",
      "Epoch 51/100\n",
      "11/11 - 0s - loss: 0.2872 - accuracy: 0.9619\n",
      "Epoch 52/100\n",
      "11/11 - 0s - loss: 0.2843 - accuracy: 0.9619\n",
      "Epoch 53/100\n",
      "11/11 - 0s - loss: 0.2815 - accuracy: 0.9619\n",
      "Epoch 54/100\n",
      "11/11 - 0s - loss: 0.2788 - accuracy: 0.9619\n",
      "Epoch 55/100\n",
      "11/11 - 0s - loss: 0.2771 - accuracy: 0.9619\n",
      "Epoch 56/100\n",
      "11/11 - 0s - loss: 0.2740 - accuracy: 0.9619\n",
      "Epoch 57/100\n",
      "11/11 - 0s - loss: 0.2719 - accuracy: 0.9619\n",
      "Epoch 58/100\n",
      "11/11 - 0s - loss: 0.2696 - accuracy: 0.9619\n",
      "Epoch 59/100\n",
      "11/11 - 0s - loss: 0.2679 - accuracy: 0.9619\n",
      "Epoch 60/100\n",
      "11/11 - 0s - loss: 0.2648 - accuracy: 0.9619\n",
      "Epoch 61/100\n",
      "11/11 - 0s - loss: 0.2626 - accuracy: 0.9619\n",
      "Epoch 62/100\n",
      "11/11 - 0s - loss: 0.2618 - accuracy: 0.9619\n",
      "Epoch 63/100\n",
      "11/11 - 0s - loss: 0.2580 - accuracy: 0.9619\n",
      "Epoch 64/100\n",
      "11/11 - 0s - loss: 0.2575 - accuracy: 0.9619\n",
      "Epoch 65/100\n",
      "11/11 - 0s - loss: 0.2553 - accuracy: 0.9619\n",
      "Epoch 66/100\n",
      "11/11 - 0s - loss: 0.2521 - accuracy: 0.9619\n",
      "Epoch 67/100\n",
      "11/11 - 0s - loss: 0.2494 - accuracy: 0.9619\n",
      "Epoch 68/100\n",
      "11/11 - 0s - loss: 0.2477 - accuracy: 0.9619\n",
      "Epoch 69/100\n",
      "11/11 - 0s - loss: 0.2455 - accuracy: 0.9619\n",
      "Epoch 70/100\n",
      "11/11 - 0s - loss: 0.2434 - accuracy: 0.9619\n",
      "Epoch 71/100\n",
      "11/11 - 0s - loss: 0.2413 - accuracy: 0.9619\n",
      "Epoch 72/100\n",
      "11/11 - 0s - loss: 0.2398 - accuracy: 0.9619\n",
      "Epoch 73/100\n",
      "11/11 - 0s - loss: 0.2378 - accuracy: 0.9619\n",
      "Epoch 74/100\n",
      "11/11 - 0s - loss: 0.2360 - accuracy: 0.9619\n",
      "Epoch 75/100\n",
      "11/11 - 0s - loss: 0.2335 - accuracy: 0.9619\n",
      "Epoch 76/100\n",
      "11/11 - 0s - loss: 0.2325 - accuracy: 0.9619\n",
      "Epoch 77/100\n",
      "11/11 - 0s - loss: 0.2301 - accuracy: 0.9619\n",
      "Epoch 78/100\n",
      "11/11 - 0s - loss: 0.2281 - accuracy: 0.9619\n",
      "Epoch 79/100\n",
      "11/11 - 0s - loss: 0.2261 - accuracy: 0.9619\n",
      "Epoch 80/100\n",
      "11/11 - 0s - loss: 0.2242 - accuracy: 0.9619\n",
      "Epoch 81/100\n",
      "11/11 - 0s - loss: 0.2227 - accuracy: 0.9619\n",
      "Epoch 82/100\n",
      "11/11 - 0s - loss: 0.2206 - accuracy: 0.9619\n",
      "Epoch 83/100\n",
      "11/11 - 0s - loss: 0.2192 - accuracy: 0.9619\n",
      "Epoch 84/100\n",
      "11/11 - 0s - loss: 0.2174 - accuracy: 0.9619\n",
      "Epoch 85/100\n",
      "11/11 - 0s - loss: 0.2156 - accuracy: 0.9619\n",
      "Epoch 86/100\n",
      "11/11 - 0s - loss: 0.2143 - accuracy: 0.9619\n",
      "Epoch 87/100\n",
      "11/11 - 0s - loss: 0.2120 - accuracy: 0.9619\n",
      "Epoch 88/100\n",
      "11/11 - 0s - loss: 0.2104 - accuracy: 0.9619\n",
      "Epoch 89/100\n",
      "11/11 - 0s - loss: 0.2098 - accuracy: 0.9714\n",
      "Epoch 90/100\n",
      "11/11 - 0s - loss: 0.2087 - accuracy: 0.9619\n",
      "Epoch 91/100\n",
      "11/11 - 0s - loss: 0.2069 - accuracy: 0.9619\n",
      "Epoch 92/100\n",
      "11/11 - 0s - loss: 0.2047 - accuracy: 0.9714\n",
      "Epoch 93/100\n",
      "11/11 - 0s - loss: 0.2026 - accuracy: 0.9714\n",
      "Epoch 94/100\n",
      "11/11 - 0s - loss: 0.2008 - accuracy: 0.9619\n",
      "Epoch 95/100\n",
      "11/11 - 0s - loss: 0.1996 - accuracy: 0.9619\n",
      "Epoch 96/100\n",
      "11/11 - 0s - loss: 0.1981 - accuracy: 0.9619\n",
      "Epoch 97/100\n",
      "11/11 - 0s - loss: 0.1967 - accuracy: 0.9619\n",
      "Epoch 98/100\n",
      "11/11 - 0s - loss: 0.1951 - accuracy: 0.9619\n",
      "Epoch 99/100\n",
      "11/11 - 0s - loss: 0.1939 - accuracy: 0.9714\n",
      "Epoch 100/100\n",
      "11/11 - 0s - loss: 0.1924 - accuracy: 0.9619\n"
     ]
    }
   ],
   "source": [
    "hist = model.fit(X_train, y_train, \\\n",
    "              epochs=100, \\\n",
    "              batch_size=10, \\\n",
    "              verbose=2)"
   ]
  },
  {
   "cell_type": "code",
   "execution_count": 206,
   "metadata": {},
   "outputs": [],
   "source": [
    "# hist.history['accuracy']"
   ]
  },
  {
   "cell_type": "code",
   "execution_count": 207,
   "metadata": {
    "scrolled": true
   },
   "outputs": [],
   "source": [
    "# hist.history['loss']"
   ]
  },
  {
   "cell_type": "markdown",
   "metadata": {},
   "source": [
    "※ 학습 결과를 명시적으로 반환한 뒤 history 기능을 이용하여 손실과 정확도의 변화를 별도로 확인할 수도 있다.  \n",
    "  ‘accuracy’는 훈련 정확도, ‘loss’는 훈련 손실값이다."
   ]
  },
  {
   "cell_type": "code",
   "execution_count": 208,
   "metadata": {
    "scrolled": false
   },
   "outputs": [
    {
     "data": {
      "text/plain": [
       "[<matplotlib.lines.Line2D at 0x239cd808820>]"
      ]
     },
     "execution_count": 208,
     "metadata": {},
     "output_type": "execute_result"
    },
    {
     "data": {
      "image/png": "[encoded data removed]",
      "text/plain": [
       "<Figure size 432x288 with 1 Axes>"
      ]
     },
     "metadata": {
      "needs_background": "light"
     },
     "output_type": "display_data"
    }
   ],
   "source": [
    "import matplotlib.pyplot as plt\n",
    "import numpy as np\n",
    "\n",
    "X_pts = np.linspace(0,100, len(hist.history['loss']))\n",
    "\n",
    "plt.plot(X_pts, hist.history['loss'])"
   ]
  },
  {
   "cell_type": "code",
   "execution_count": 209,
   "metadata": {},
   "outputs": [
    {
     "data": {
      "text/plain": [
       "[<matplotlib.lines.Line2D at 0x239cd81f3a0>]"
      ]
     },
     "execution_count": 209,
     "metadata": {},
     "output_type": "execute_result"
    },
    {
     "data": {
      "image/png": "[encoded data removed]",
      "text/plain": [
       "<Figure size 432x288 with 1 Axes>"
      ]
     },
     "metadata": {
      "needs_background": "light"
     },
     "output_type": "display_data"
    }
   ],
   "source": [
    "plt.plot(X_pts, hist.history['accuracy'])"
   ]
  },
  {
   "cell_type": "markdown",
   "metadata": {},
   "source": [
    "5. 모형의 성능을 평가한다.\n",
    "    - 모형에 대해 **evaluate** 함수를 이용하여 평가를 수행한다. 반환되는 결과는 손실값과 정확도가 항목인 튜플이다."
   ]
  },
  {
   "cell_type": "code",
   "execution_count": 210,
   "metadata": {},
   "outputs": [
    {
     "name": "stdout",
     "output_type": "stream",
     "text": [
      "2/2 [==============================] - 0s 1ms/step - loss: 0.2264 - accuracy: 0.9778\n"
     ]
    }
   ],
   "source": [
    "loss, acc = model.evaluate(X_test, y_test)"
   ]
  },
  {
   "cell_type": "code",
   "execution_count": 211,
   "metadata": {},
   "outputs": [
    {
     "name": "stdout",
     "output_type": "stream",
     "text": [
      "손실값 : 0.226\n",
      "정확도 : 0.978\n"
     ]
    }
   ],
   "source": [
    "print(\"손실값 :\", round(loss, 3))\n",
    "print(\"정확도 :\", round(acc, 3))"
   ]
  },
  {
   "cell_type": "markdown",
   "metadata": {},
   "source": [
    "6. 임의의 데이터에 대해서 모형의 출력을 확인한다.\n",
    "    - 최종 시험용 데이터 집합이 별도로 존재하는 경우에는 그 데이터를 이용하여 출력을 확인하면 된다.\n",
    "    - 별도의 시험용 데이터가 없는 경우, 검증 데이터(X_test, y_test)를 사용하거나 임의로 데이터를 직접 생성하여 출력을 확인해 볼 수 있다."
   ]
  },
  {
   "cell_type": "code",
   "execution_count": 212,
   "metadata": {},
   "outputs": [
    {
     "name": "stdout",
     "output_type": "stream",
     "text": [
      "[[6.38 5.51 9.92 1.18]\n",
      " [8.69 7.28 3.41 2.58]\n",
      " [5.55 7.26 3.8  3.88]]\n"
     ]
    }
   ],
   "source": [
    "from numpy.random import random\n",
    "from numpy import round\n",
    "\n",
    "X_new = round(random([3,4])*10, 2)\n",
    "print(X_new)"
   ]
  },
  {
   "cell_type": "markdown",
   "metadata": {},
   "source": [
    "- 모형에 대해 **predict** 함수를 이용하여 새로운 데이터에 대한 출력을 수행한다.  \n",
    "  이 때의 결과는 출력층의 활성화함수에 의해 추정된 확률(소프트맥스 점수)이다."
   ]
  },
  {
   "cell_type": "code",
   "execution_count": 213,
   "metadata": {},
   "outputs": [
    {
     "name": "stdout",
     "output_type": "stream",
     "text": [
      "[[8.4396015e-06 7.6001741e-02 9.2398983e-01]\n",
      " [7.2243649e-01 2.7748722e-01 7.6301432e-05]\n",
      " [2.1893868e-02 9.1346139e-01 6.4644761e-02]]\n"
     ]
    }
   ],
   "source": [
    "# 출력층의 활성화 함수에 의해 추정된 확률(소프트맥스 점수)\n",
    "y_pred = model.predict(X_new)\n",
    "print(y_pred)"
   ]
  },
  {
   "cell_type": "markdown",
   "metadata": {},
   "source": [
    "- 모형에 대해 **predict_classes** 함수를 이용하여 새로운 데이터에 대한 출력을 수행한다. 이 때의 결과는 분류된 클래스(레이블)이다."
   ]
  },
  {
   "cell_type": "code",
   "execution_count": 214,
   "metadata": {},
   "outputs": [
    {
     "name": "stdout",
     "output_type": "stream",
     "text": [
      "[2 0 1]\n"
     ]
    }
   ],
   "source": [
    "y_pred_class = model.predict_classes(X_new)\n",
    "print(y_pred_class)"
   ]
  },
  {
   "cell_type": "code",
   "execution_count": 215,
   "metadata": {},
   "outputs": [
    {
     "data": {
      "text/plain": [
       "array([[0, 0, 1],\n",
       "       [1, 0, 0],\n",
       "       [0, 1, 0]])"
      ]
     },
     "execution_count": 215,
     "metadata": {},
     "output_type": "execute_result"
    }
   ],
   "source": [
    "(model.predict(X_new) > 0.5).astype(\"int32\")"
   ]
  },
  {
   "cell_type": "markdown",
   "metadata": {},
   "source": [
    "# 실습"
   ]
  },
  {
   "cell_type": "code",
   "execution_count": 285,
   "metadata": {},
   "outputs": [],
   "source": [
    "# MNIST\n",
    "import sklearn.datasets as d\n",
    "\n",
    "# load_ : 연습용 데이터\n",
    "# make_ : 가상의 데이터\n",
    "# fetch_ : 데이터 다운로드\n",
    "mnist = d.fetch_openml('mnist_784', version=1)"
   ]
  },
  {
   "cell_type": "code",
   "execution_count": 286,
   "metadata": {},
   "outputs": [
    {
     "data": {
      "text/plain": [
       "{'data': array([[0., 0., 0., ..., 0., 0., 0.],\n",
       "        [0., 0., 0., ..., 0., 0., 0.],\n",
       "        [0., 0., 0., ..., 0., 0., 0.],\n",
       "        ...,\n",
       "        [0., 0., 0., ..., 0., 0., 0.],\n",
       "        [0., 0., 0., ..., 0., 0., 0.],\n",
       "        [0., 0., 0., ..., 0., 0., 0.]]),\n",
       " 'target': array(['5', '0', '4', ..., '4', '5', '6'], dtype=object),\n",
       " 'frame': None,\n",
       " 'categories': {},\n",
       " 'feature_names': ['pixel1',\n",
       "  'pixel2',\n",
       "  'pixel3',\n",
       "  'pixel4',\n",
       "  'pixel5',\n",
       "  'pixel6',\n",
       "  'pixel7',\n",
       "  'pixel8',\n",
       "  'pixel9',\n",
       "  'pixel10',\n",
       "  'pixel11',\n",
       "  'pixel12',\n",
       "  'pixel13',\n",
       "  'pixel14',\n",
       "  'pixel15',\n",
       "  'pixel16',\n",
       "  'pixel17',\n",
       "  'pixel18',\n",
       "  'pixel19',\n",
       "  'pixel20',\n",
       "  'pixel21',\n",
       "  'pixel22',\n",
       "  'pixel23',\n",
       "  'pixel24',\n",
       "  'pixel25',\n",
       "  'pixel26',\n",
       "  'pixel27',\n",
       "  'pixel28',\n",
       "  'pixel29',\n",
       "  'pixel30',\n",
       "  'pixel31',\n",
       "  'pixel32',\n",
       "  'pixel33',\n",
       "  'pixel34',\n",
       "  'pixel35',\n",
       "  'pixel36',\n",
       "  'pixel37',\n",
       "  'pixel38',\n",
       "  'pixel39',\n",
       "  'pixel40',\n",
       "  'pixel41',\n",
       "  'pixel42',\n",
       "  'pixel43',\n",
       "  'pixel44',\n",
       "  'pixel45',\n",
       "  'pixel46',\n",
       "  'pixel47',\n",
       "  'pixel48',\n",
       "  'pixel49',\n",
       "  'pixel50',\n",
       "  'pixel51',\n",
       "  'pixel52',\n",
       "  'pixel53',\n",
       "  'pixel54',\n",
       "  'pixel55',\n",
       "  'pixel56',\n",
       "  'pixel57',\n",
       "  'pixel58',\n",
       "  'pixel59',\n",
       "  'pixel60',\n",
       "  'pixel61',\n",
       "  'pixel62',\n",
       "  'pixel63',\n",
       "  'pixel64',\n",
       "  'pixel65',\n",
       "  'pixel66',\n",
       "  'pixel67',\n",
       "  'pixel68',\n",
       "  'pixel69',\n",
       "  'pixel70',\n",
       "  'pixel71',\n",
       "  'pixel72',\n",
       "  'pixel73',\n",
       "  'pixel74',\n",
       "  'pixel75',\n",
       "  'pixel76',\n",
       "  'pixel77',\n",
       "  'pixel78',\n",
       "  'pixel79',\n",
       "  'pixel80',\n",
       "  'pixel81',\n",
       "  'pixel82',\n",
       "  'pixel83',\n",
       "  'pixel84',\n",
       "  'pixel85',\n",
       "  'pixel86',\n",
       "  'pixel87',\n",
       "  'pixel88',\n",
       "  'pixel89',\n",
       "  'pixel90',\n",
       "  'pixel91',\n",
       "  'pixel92',\n",
       "  'pixel93',\n",
       "  'pixel94',\n",
       "  'pixel95',\n",
       "  'pixel96',\n",
       "  'pixel97',\n",
       "  'pixel98',\n",
       "  'pixel99',\n",
       "  'pixel100',\n",
       "  'pixel101',\n",
       "  'pixel102',\n",
       "  'pixel103',\n",
       "  'pixel104',\n",
       "  'pixel105',\n",
       "  'pixel106',\n",
       "  'pixel107',\n",
       "  'pixel108',\n",
       "  'pixel109',\n",
       "  'pixel110',\n",
       "  'pixel111',\n",
       "  'pixel112',\n",
       "  'pixel113',\n",
       "  'pixel114',\n",
       "  'pixel115',\n",
       "  'pixel116',\n",
       "  'pixel117',\n",
       "  'pixel118',\n",
       "  'pixel119',\n",
       "  'pixel120',\n",
       "  'pixel121',\n",
       "  'pixel122',\n",
       "  'pixel123',\n",
       "  'pixel124',\n",
       "  'pixel125',\n",
       "  'pixel126',\n",
       "  'pixel127',\n",
       "  'pixel128',\n",
       "  'pixel129',\n",
       "  'pixel130',\n",
       "  'pixel131',\n",
       "  'pixel132',\n",
       "  'pixel133',\n",
       "  'pixel134',\n",
       "  'pixel135',\n",
       "  'pixel136',\n",
       "  'pixel137',\n",
       "  'pixel138',\n",
       "  'pixel139',\n",
       "  'pixel140',\n",
       "  'pixel141',\n",
       "  'pixel142',\n",
       "  'pixel143',\n",
       "  'pixel144',\n",
       "  'pixel145',\n",
       "  'pixel146',\n",
       "  'pixel147',\n",
       "  'pixel148',\n",
       "  'pixel149',\n",
       "  'pixel150',\n",
       "  'pixel151',\n",
       "  'pixel152',\n",
       "  'pixel153',\n",
       "  'pixel154',\n",
       "  'pixel155',\n",
       "  'pixel156',\n",
       "  'pixel157',\n",
       "  'pixel158',\n",
       "  'pixel159',\n",
       "  'pixel160',\n",
       "  'pixel161',\n",
       "  'pixel162',\n",
       "  'pixel163',\n",
       "  'pixel164',\n",
       "  'pixel165',\n",
       "  'pixel166',\n",
       "  'pixel167',\n",
       "  'pixel168',\n",
       "  'pixel169',\n",
       "  'pixel170',\n",
       "  'pixel171',\n",
       "  'pixel172',\n",
       "  'pixel173',\n",
       "  'pixel174',\n",
       "  'pixel175',\n",
       "  'pixel176',\n",
       "  'pixel177',\n",
       "  'pixel178',\n",
       "  'pixel179',\n",
       "  'pixel180',\n",
       "  'pixel181',\n",
       "  'pixel182',\n",
       "  'pixel183',\n",
       "  'pixel184',\n",
       "  'pixel185',\n",
       "  'pixel186',\n",
       "  'pixel187',\n",
       "  'pixel188',\n",
       "  'pixel189',\n",
       "  'pixel190',\n",
       "  'pixel191',\n",
       "  'pixel192',\n",
       "  'pixel193',\n",
       "  'pixel194',\n",
       "  'pixel195',\n",
       "  'pixel196',\n",
       "  'pixel197',\n",
       "  'pixel198',\n",
       "  'pixel199',\n",
       "  'pixel200',\n",
       "  'pixel201',\n",
       "  'pixel202',\n",
       "  'pixel203',\n",
       "  'pixel204',\n",
       "  'pixel205',\n",
       "  'pixel206',\n",
       "  'pixel207',\n",
       "  'pixel208',\n",
       "  'pixel209',\n",
       "  'pixel210',\n",
       "  'pixel211',\n",
       "  'pixel212',\n",
       "  'pixel213',\n",
       "  'pixel214',\n",
       "  'pixel215',\n",
       "  'pixel216',\n",
       "  'pixel217',\n",
       "  'pixel218',\n",
       "  'pixel219',\n",
       "  'pixel220',\n",
       "  'pixel221',\n",
       "  'pixel222',\n",
       "  'pixel223',\n",
       "  'pixel224',\n",
       "  'pixel225',\n",
       "  'pixel226',\n",
       "  'pixel227',\n",
       "  'pixel228',\n",
       "  'pixel229',\n",
       "  'pixel230',\n",
       "  'pixel231',\n",
       "  'pixel232',\n",
       "  'pixel233',\n",
       "  'pixel234',\n",
       "  'pixel235',\n",
       "  'pixel236',\n",
       "  'pixel237',\n",
       "  'pixel238',\n",
       "  'pixel239',\n",
       "  'pixel240',\n",
       "  'pixel241',\n",
       "  'pixel242',\n",
       "  'pixel243',\n",
       "  'pixel244',\n",
       "  'pixel245',\n",
       "  'pixel246',\n",
       "  'pixel247',\n",
       "  'pixel248',\n",
       "  'pixel249',\n",
       "  'pixel250',\n",
       "  'pixel251',\n",
       "  'pixel252',\n",
       "  'pixel253',\n",
       "  'pixel254',\n",
       "  'pixel255',\n",
       "  'pixel256',\n",
       "  'pixel257',\n",
       "  'pixel258',\n",
       "  'pixel259',\n",
       "  'pixel260',\n",
       "  'pixel261',\n",
       "  'pixel262',\n",
       "  'pixel263',\n",
       "  'pixel264',\n",
       "  'pixel265',\n",
       "  'pixel266',\n",
       "  'pixel267',\n",
       "  'pixel268',\n",
       "  'pixel269',\n",
       "  'pixel270',\n",
       "  'pixel271',\n",
       "  'pixel272',\n",
       "  'pixel273',\n",
       "  'pixel274',\n",
       "  'pixel275',\n",
       "  'pixel276',\n",
       "  'pixel277',\n",
       "  'pixel278',\n",
       "  'pixel279',\n",
       "  'pixel280',\n",
       "  'pixel281',\n",
       "  'pixel282',\n",
       "  'pixel283',\n",
       "  'pixel284',\n",
       "  'pixel285',\n",
       "  'pixel286',\n",
       "  'pixel287',\n",
       "  'pixel288',\n",
       "  'pixel289',\n",
       "  'pixel290',\n",
       "  'pixel291',\n",
       "  'pixel292',\n",
       "  'pixel293',\n",
       "  'pixel294',\n",
       "  'pixel295',\n",
       "  'pixel296',\n",
       "  'pixel297',\n",
       "  'pixel298',\n",
       "  'pixel299',\n",
       "  'pixel300',\n",
       "  'pixel301',\n",
       "  'pixel302',\n",
       "  'pixel303',\n",
       "  'pixel304',\n",
       "  'pixel305',\n",
       "  'pixel306',\n",
       "  'pixel307',\n",
       "  'pixel308',\n",
       "  'pixel309',\n",
       "  'pixel310',\n",
       "  'pixel311',\n",
       "  'pixel312',\n",
       "  'pixel313',\n",
       "  'pixel314',\n",
       "  'pixel315',\n",
       "  'pixel316',\n",
       "  'pixel317',\n",
       "  'pixel318',\n",
       "  'pixel319',\n",
       "  'pixel320',\n",
       "  'pixel321',\n",
       "  'pixel322',\n",
       "  'pixel323',\n",
       "  'pixel324',\n",
       "  'pixel325',\n",
       "  'pixel326',\n",
       "  'pixel327',\n",
       "  'pixel328',\n",
       "  'pixel329',\n",
       "  'pixel330',\n",
       "  'pixel331',\n",
       "  'pixel332',\n",
       "  'pixel333',\n",
       "  'pixel334',\n",
       "  'pixel335',\n",
       "  'pixel336',\n",
       "  'pixel337',\n",
       "  'pixel338',\n",
       "  'pixel339',\n",
       "  'pixel340',\n",
       "  'pixel341',\n",
       "  'pixel342',\n",
       "  'pixel343',\n",
       "  'pixel344',\n",
       "  'pixel345',\n",
       "  'pixel346',\n",
       "  'pixel347',\n",
       "  'pixel348',\n",
       "  'pixel349',\n",
       "  'pixel350',\n",
       "  'pixel351',\n",
       "  'pixel352',\n",
       "  'pixel353',\n",
       "  'pixel354',\n",
       "  'pixel355',\n",
       "  'pixel356',\n",
       "  'pixel357',\n",
       "  'pixel358',\n",
       "  'pixel359',\n",
       "  'pixel360',\n",
       "  'pixel361',\n",
       "  'pixel362',\n",
       "  'pixel363',\n",
       "  'pixel364',\n",
       "  'pixel365',\n",
       "  'pixel366',\n",
       "  'pixel367',\n",
       "  'pixel368',\n",
       "  'pixel369',\n",
       "  'pixel370',\n",
       "  'pixel371',\n",
       "  'pixel372',\n",
       "  'pixel373',\n",
       "  'pixel374',\n",
       "  'pixel375',\n",
       "  'pixel376',\n",
       "  'pixel377',\n",
       "  'pixel378',\n",
       "  'pixel379',\n",
       "  'pixel380',\n",
       "  'pixel381',\n",
       "  'pixel382',\n",
       "  'pixel383',\n",
       "  'pixel384',\n",
       "  'pixel385',\n",
       "  'pixel386',\n",
       "  'pixel387',\n",
       "  'pixel388',\n",
       "  'pixel389',\n",
       "  'pixel390',\n",
       "  'pixel391',\n",
       "  'pixel392',\n",
       "  'pixel393',\n",
       "  'pixel394',\n",
       "  'pixel395',\n",
       "  'pixel396',\n",
       "  'pixel397',\n",
       "  'pixel398',\n",
       "  'pixel399',\n",
       "  'pixel400',\n",
       "  'pixel401',\n",
       "  'pixel402',\n",
       "  'pixel403',\n",
       "  'pixel404',\n",
       "  'pixel405',\n",
       "  'pixel406',\n",
       "  'pixel407',\n",
       "  'pixel408',\n",
       "  'pixel409',\n",
       "  'pixel410',\n",
       "  'pixel411',\n",
       "  'pixel412',\n",
       "  'pixel413',\n",
       "  'pixel414',\n",
       "  'pixel415',\n",
       "  'pixel416',\n",
       "  'pixel417',\n",
       "  'pixel418',\n",
       "  'pixel419',\n",
       "  'pixel420',\n",
       "  'pixel421',\n",
       "  'pixel422',\n",
       "  'pixel423',\n",
       "  'pixel424',\n",
       "  'pixel425',\n",
       "  'pixel426',\n",
       "  'pixel427',\n",
       "  'pixel428',\n",
       "  'pixel429',\n",
       "  'pixel430',\n",
       "  'pixel431',\n",
       "  'pixel432',\n",
       "  'pixel433',\n",
       "  'pixel434',\n",
       "  'pixel435',\n",
       "  'pixel436',\n",
       "  'pixel437',\n",
       "  'pixel438',\n",
       "  'pixel439',\n",
       "  'pixel440',\n",
       "  'pixel441',\n",
       "  'pixel442',\n",
       "  'pixel443',\n",
       "  'pixel444',\n",
       "  'pixel445',\n",
       "  'pixel446',\n",
       "  'pixel447',\n",
       "  'pixel448',\n",
       "  'pixel449',\n",
       "  'pixel450',\n",
       "  'pixel451',\n",
       "  'pixel452',\n",
       "  'pixel453',\n",
       "  'pixel454',\n",
       "  'pixel455',\n",
       "  'pixel456',\n",
       "  'pixel457',\n",
       "  'pixel458',\n",
       "  'pixel459',\n",
       "  'pixel460',\n",
       "  'pixel461',\n",
       "  'pixel462',\n",
       "  'pixel463',\n",
       "  'pixel464',\n",
       "  'pixel465',\n",
       "  'pixel466',\n",
       "  'pixel467',\n",
       "  'pixel468',\n",
       "  'pixel469',\n",
       "  'pixel470',\n",
       "  'pixel471',\n",
       "  'pixel472',\n",
       "  'pixel473',\n",
       "  'pixel474',\n",
       "  'pixel475',\n",
       "  'pixel476',\n",
       "  'pixel477',\n",
       "  'pixel478',\n",
       "  'pixel479',\n",
       "  'pixel480',\n",
       "  'pixel481',\n",
       "  'pixel482',\n",
       "  'pixel483',\n",
       "  'pixel484',\n",
       "  'pixel485',\n",
       "  'pixel486',\n",
       "  'pixel487',\n",
       "  'pixel488',\n",
       "  'pixel489',\n",
       "  'pixel490',\n",
       "  'pixel491',\n",
       "  'pixel492',\n",
       "  'pixel493',\n",
       "  'pixel494',\n",
       "  'pixel495',\n",
       "  'pixel496',\n",
       "  'pixel497',\n",
       "  'pixel498',\n",
       "  'pixel499',\n",
       "  'pixel500',\n",
       "  'pixel501',\n",
       "  'pixel502',\n",
       "  'pixel503',\n",
       "  'pixel504',\n",
       "  'pixel505',\n",
       "  'pixel506',\n",
       "  'pixel507',\n",
       "  'pixel508',\n",
       "  'pixel509',\n",
       "  'pixel510',\n",
       "  'pixel511',\n",
       "  'pixel512',\n",
       "  'pixel513',\n",
       "  'pixel514',\n",
       "  'pixel515',\n",
       "  'pixel516',\n",
       "  'pixel517',\n",
       "  'pixel518',\n",
       "  'pixel519',\n",
       "  'pixel520',\n",
       "  'pixel521',\n",
       "  'pixel522',\n",
       "  'pixel523',\n",
       "  'pixel524',\n",
       "  'pixel525',\n",
       "  'pixel526',\n",
       "  'pixel527',\n",
       "  'pixel528',\n",
       "  'pixel529',\n",
       "  'pixel530',\n",
       "  'pixel531',\n",
       "  'pixel532',\n",
       "  'pixel533',\n",
       "  'pixel534',\n",
       "  'pixel535',\n",
       "  'pixel536',\n",
       "  'pixel537',\n",
       "  'pixel538',\n",
       "  'pixel539',\n",
       "  'pixel540',\n",
       "  'pixel541',\n",
       "  'pixel542',\n",
       "  'pixel543',\n",
       "  'pixel544',\n",
       "  'pixel545',\n",
       "  'pixel546',\n",
       "  'pixel547',\n",
       "  'pixel548',\n",
       "  'pixel549',\n",
       "  'pixel550',\n",
       "  'pixel551',\n",
       "  'pixel552',\n",
       "  'pixel553',\n",
       "  'pixel554',\n",
       "  'pixel555',\n",
       "  'pixel556',\n",
       "  'pixel557',\n",
       "  'pixel558',\n",
       "  'pixel559',\n",
       "  'pixel560',\n",
       "  'pixel561',\n",
       "  'pixel562',\n",
       "  'pixel563',\n",
       "  'pixel564',\n",
       "  'pixel565',\n",
       "  'pixel566',\n",
       "  'pixel567',\n",
       "  'pixel568',\n",
       "  'pixel569',\n",
       "  'pixel570',\n",
       "  'pixel571',\n",
       "  'pixel572',\n",
       "  'pixel573',\n",
       "  'pixel574',\n",
       "  'pixel575',\n",
       "  'pixel576',\n",
       "  'pixel577',\n",
       "  'pixel578',\n",
       "  'pixel579',\n",
       "  'pixel580',\n",
       "  'pixel581',\n",
       "  'pixel582',\n",
       "  'pixel583',\n",
       "  'pixel584',\n",
       "  'pixel585',\n",
       "  'pixel586',\n",
       "  'pixel587',\n",
       "  'pixel588',\n",
       "  'pixel589',\n",
       "  'pixel590',\n",
       "  'pixel591',\n",
       "  'pixel592',\n",
       "  'pixel593',\n",
       "  'pixel594',\n",
       "  'pixel595',\n",
       "  'pixel596',\n",
       "  'pixel597',\n",
       "  'pixel598',\n",
       "  'pixel599',\n",
       "  'pixel600',\n",
       "  'pixel601',\n",
       "  'pixel602',\n",
       "  'pixel603',\n",
       "  'pixel604',\n",
       "  'pixel605',\n",
       "  'pixel606',\n",
       "  'pixel607',\n",
       "  'pixel608',\n",
       "  'pixel609',\n",
       "  'pixel610',\n",
       "  'pixel611',\n",
       "  'pixel612',\n",
       "  'pixel613',\n",
       "  'pixel614',\n",
       "  'pixel615',\n",
       "  'pixel616',\n",
       "  'pixel617',\n",
       "  'pixel618',\n",
       "  'pixel619',\n",
       "  'pixel620',\n",
       "  'pixel621',\n",
       "  'pixel622',\n",
       "  'pixel623',\n",
       "  'pixel624',\n",
       "  'pixel625',\n",
       "  'pixel626',\n",
       "  'pixel627',\n",
       "  'pixel628',\n",
       "  'pixel629',\n",
       "  'pixel630',\n",
       "  'pixel631',\n",
       "  'pixel632',\n",
       "  'pixel633',\n",
       "  'pixel634',\n",
       "  'pixel635',\n",
       "  'pixel636',\n",
       "  'pixel637',\n",
       "  'pixel638',\n",
       "  'pixel639',\n",
       "  'pixel640',\n",
       "  'pixel641',\n",
       "  'pixel642',\n",
       "  'pixel643',\n",
       "  'pixel644',\n",
       "  'pixel645',\n",
       "  'pixel646',\n",
       "  'pixel647',\n",
       "  'pixel648',\n",
       "  'pixel649',\n",
       "  'pixel650',\n",
       "  'pixel651',\n",
       "  'pixel652',\n",
       "  'pixel653',\n",
       "  'pixel654',\n",
       "  'pixel655',\n",
       "  'pixel656',\n",
       "  'pixel657',\n",
       "  'pixel658',\n",
       "  'pixel659',\n",
       "  'pixel660',\n",
       "  'pixel661',\n",
       "  'pixel662',\n",
       "  'pixel663',\n",
       "  'pixel664',\n",
       "  'pixel665',\n",
       "  'pixel666',\n",
       "  'pixel667',\n",
       "  'pixel668',\n",
       "  'pixel669',\n",
       "  'pixel670',\n",
       "  'pixel671',\n",
       "  'pixel672',\n",
       "  'pixel673',\n",
       "  'pixel674',\n",
       "  'pixel675',\n",
       "  'pixel676',\n",
       "  'pixel677',\n",
       "  'pixel678',\n",
       "  'pixel679',\n",
       "  'pixel680',\n",
       "  'pixel681',\n",
       "  'pixel682',\n",
       "  'pixel683',\n",
       "  'pixel684',\n",
       "  'pixel685',\n",
       "  'pixel686',\n",
       "  'pixel687',\n",
       "  'pixel688',\n",
       "  'pixel689',\n",
       "  'pixel690',\n",
       "  'pixel691',\n",
       "  'pixel692',\n",
       "  'pixel693',\n",
       "  'pixel694',\n",
       "  'pixel695',\n",
       "  'pixel696',\n",
       "  'pixel697',\n",
       "  'pixel698',\n",
       "  'pixel699',\n",
       "  'pixel700',\n",
       "  'pixel701',\n",
       "  'pixel702',\n",
       "  'pixel703',\n",
       "  'pixel704',\n",
       "  'pixel705',\n",
       "  'pixel706',\n",
       "  'pixel707',\n",
       "  'pixel708',\n",
       "  'pixel709',\n",
       "  'pixel710',\n",
       "  'pixel711',\n",
       "  'pixel712',\n",
       "  'pixel713',\n",
       "  'pixel714',\n",
       "  'pixel715',\n",
       "  'pixel716',\n",
       "  'pixel717',\n",
       "  'pixel718',\n",
       "  'pixel719',\n",
       "  'pixel720',\n",
       "  'pixel721',\n",
       "  'pixel722',\n",
       "  'pixel723',\n",
       "  'pixel724',\n",
       "  'pixel725',\n",
       "  'pixel726',\n",
       "  'pixel727',\n",
       "  'pixel728',\n",
       "  'pixel729',\n",
       "  'pixel730',\n",
       "  'pixel731',\n",
       "  'pixel732',\n",
       "  'pixel733',\n",
       "  'pixel734',\n",
       "  'pixel735',\n",
       "  'pixel736',\n",
       "  'pixel737',\n",
       "  'pixel738',\n",
       "  'pixel739',\n",
       "  'pixel740',\n",
       "  'pixel741',\n",
       "  'pixel742',\n",
       "  'pixel743',\n",
       "  'pixel744',\n",
       "  'pixel745',\n",
       "  'pixel746',\n",
       "  'pixel747',\n",
       "  'pixel748',\n",
       "  'pixel749',\n",
       "  'pixel750',\n",
       "  'pixel751',\n",
       "  'pixel752',\n",
       "  'pixel753',\n",
       "  'pixel754',\n",
       "  'pixel755',\n",
       "  'pixel756',\n",
       "  'pixel757',\n",
       "  'pixel758',\n",
       "  'pixel759',\n",
       "  'pixel760',\n",
       "  'pixel761',\n",
       "  'pixel762',\n",
       "  'pixel763',\n",
       "  'pixel764',\n",
       "  'pixel765',\n",
       "  'pixel766',\n",
       "  'pixel767',\n",
       "  'pixel768',\n",
       "  'pixel769',\n",
       "  'pixel770',\n",
       "  'pixel771',\n",
       "  'pixel772',\n",
       "  'pixel773',\n",
       "  'pixel774',\n",
       "  'pixel775',\n",
       "  'pixel776',\n",
       "  'pixel777',\n",
       "  'pixel778',\n",
       "  'pixel779',\n",
       "  'pixel780',\n",
       "  'pixel781',\n",
       "  'pixel782',\n",
       "  'pixel783',\n",
       "  'pixel784'],\n",
       " 'target_names': ['class'],\n",
       " 'DESCR': \"**Author**: Yann LeCun, Corinna Cortes, Christopher J.C. Burges  \\n**Source**: [MNIST Website](http://yann.lecun.com/exdb/mnist/) - Date unknown  \\n**Please cite**:  \\n\\nThe MNIST database of handwritten digits with 784 features, raw data available at: http://yann.lecun.com/exdb/mnist/. It can be split in a training set of the first 60,000 examples, and a test set of 10,000 examples  \\n\\nIt is a subset of a larger set available from NIST. The digits have been size-normalized and centered in a fixed-size image. It is a good database for people who want to try learning techniques and pattern recognition methods on real-world data while spending minimal efforts on preprocessing and formatting. The original black and white (bilevel) images from NIST were size normalized to fit in a 20x20 pixel box while preserving their aspect ratio. The resulting images contain grey levels as a result of the anti-aliasing technique used by the normalization algorithm. the images were centered in a 28x28 image by computing the center of mass of the pixels, and translating the image so as to position this point at the center of the 28x28 field.  \\n\\nWith some classification methods (particularly template-based methods, such as SVM and K-nearest neighbors), the error rate improves when the digits are centered by bounding box rather than center of mass. If you do this kind of pre-processing, you should report it in your publications. The MNIST database was constructed from NIST's NIST originally designated SD-3 as their training set and SD-1 as their test set. However, SD-3 is much cleaner and easier to recognize than SD-1. The reason for this can be found on the fact that SD-3 was collected among Census Bureau employees, while SD-1 was collected among high-school students. Drawing sensible conclusions from learning experiments requires that the result be independent of the choice of training set and test among the complete set of samples. Therefore it was necessary to build a new database by mixing NIST's datasets.  \\n\\nThe MNIST training set is composed of 30,000 patterns from SD-3 and 30,000 patterns from SD-1. Our test set was composed of 5,000 patterns from SD-3 and 5,000 patterns from SD-1. The 60,000 pattern training set contained examples from approximately 250 writers. We made sure that the sets of writers of the training set and test set were disjoint. SD-1 contains 58,527 digit images written by 500 different writers. In contrast to SD-3, where blocks of data from each writer appeared in sequence, the data in SD-1 is scrambled. Writer identities for SD-1 is available and we used this information to unscramble the writers. We then split SD-1 in two: characters written by the first 250 writers went into our new training set. The remaining 250 writers were placed in our test set. Thus we had two sets with nearly 30,000 examples each. The new training set was completed with enough examples from SD-3, starting at pattern # 0, to make a full set of 60,000 training patterns. Similarly, the new test set was completed with SD-3 examples starting at pattern # 35,000 to make a full set with 60,000 test patterns. Only a subset of 10,000 test images (5,000 from SD-1 and 5,000 from SD-3) is available on this site. The full 60,000 sample training set is available.\\n\\nDownloaded from openml.org.\",\n",
       " 'details': {'id': '554',\n",
       "  'name': 'mnist_784',\n",
       "  'version': '1',\n",
       "  'format': 'ARFF',\n",
       "  'upload_date': '2014-09-29T03:28:38',\n",
       "  'licence': 'Public',\n",
       "  'url': 'https://www.openml.org/data/v1/download/52667/mnist_784.arff',\n",
       "  'file_id': '52667',\n",
       "  'default_target_attribute': 'class',\n",
       "  'tag': ['AzurePilot',\n",
       "   'OpenML-CC18',\n",
       "   'OpenML100',\n",
       "   'study_1',\n",
       "   'study_123',\n",
       "   'study_41',\n",
       "   'study_99',\n",
       "   'vision'],\n",
       "  'visibility': 'public',\n",
       "  'status': 'active',\n",
       "  'processing_date': '2018-10-03 21:23:30',\n",
       "  'md5_checksum': '0298d579eb1b86163de7723944c7e495'},\n",
       " 'url': 'https://www.openml.org/d/554'}"
      ]
     },
     "execution_count": 286,
     "metadata": {},
     "output_type": "execute_result"
    }
   ],
   "source": [
    "mnist"
   ]
  },
  {
   "cell_type": "code",
   "execution_count": 287,
   "metadata": {},
   "outputs": [],
   "source": [
    "X = mnist.data\n",
    "y = mnist.target"
   ]
  },
  {
   "cell_type": "code",
   "execution_count": 288,
   "metadata": {},
   "outputs": [
    {
     "data": {
      "text/plain": [
       "(70000, 784)"
      ]
     },
     "execution_count": 288,
     "metadata": {},
     "output_type": "execute_result"
    }
   ],
   "source": [
    "X.shape # 픽셀크기 28*28 = 784"
   ]
  },
  {
   "cell_type": "code",
   "execution_count": 289,
   "metadata": {},
   "outputs": [
    {
     "data": {
      "text/plain": [
       "(70000,)"
      ]
     },
     "execution_count": 289,
     "metadata": {},
     "output_type": "execute_result"
    }
   ],
   "source": [
    "y.shape"
   ]
  },
  {
   "cell_type": "code",
   "execution_count": 290,
   "metadata": {},
   "outputs": [
    {
     "data": {
      "text/plain": [
       "array(['0', '1', '2', '3', '4', '5', '6', '7', '8', '9'], dtype=object)"
      ]
     },
     "execution_count": 290,
     "metadata": {},
     "output_type": "execute_result"
    }
   ],
   "source": [
    "import numpy as np\n",
    "\n",
    "np.unique(y) # 문자열 형태로 되어있음"
   ]
  },
  {
   "cell_type": "code",
   "execution_count": 291,
   "metadata": {},
   "outputs": [],
   "source": [
    "y = y.astype(np.int)"
   ]
  },
  {
   "cell_type": "code",
   "execution_count": 292,
   "metadata": {},
   "outputs": [
    {
     "data": {
      "text/plain": [
       "array([0, 1, 2, 3, 4, 5, 6, 7, 8, 9])"
      ]
     },
     "execution_count": 292,
     "metadata": {},
     "output_type": "execute_result"
    }
   ],
   "source": [
    "np.unique(y)"
   ]
  },
  {
   "cell_type": "code",
   "execution_count": 293,
   "metadata": {},
   "outputs": [
    {
     "name": "stdout",
     "output_type": "stream",
     "text": [
      "label = 5\n"
     ]
    },
    {
     "data": {
      "image/png": "[encoded data removed]",
      "text/plain": [
       "<Figure size 432x288 with 1 Axes>"
      ]
     },
     "metadata": {
      "needs_background": "light"
     },
     "output_type": "display_data"
    }
   ],
   "source": [
    "import matplotlib.pyplot as plt\n",
    "%matplotlib inline\n",
    "\n",
    "px = np.array(X[0], dtype='uint8').reshape((28,28))\n",
    "\n",
    "plt.imshow(px, cmap='gray')\n",
    "print('label =',y[0])"
   ]
  },
  {
   "cell_type": "code",
   "execution_count": 294,
   "metadata": {},
   "outputs": [],
   "source": [
    "from keras.utils import to_categorical\n",
    "\n",
    "y = to_categorical(y, 10) # one-hot encoding"
   ]
  },
  {
   "cell_type": "code",
   "execution_count": 295,
   "metadata": {},
   "outputs": [],
   "source": [
    "from sklearn.model_selection import train_test_split\n",
    "\n",
    "X_train, X_test, y_train, y_test = train_test_split(X, y, test_size=0.3, random_state=1)"
   ]
  },
  {
   "cell_type": "code",
   "execution_count": 296,
   "metadata": {},
   "outputs": [],
   "source": [
    "from keras.models import Sequential\n",
    "from keras.layers import Dense\n",
    "\n",
    "model = Sequential()\n",
    "model.add(Dense(units=20, input_dim=784, activation='relu'))\n",
    "model.add(Dense(units=15, activation='relu'))\n",
    "model.add(Dense(units=10, activation='softmax'))"
   ]
  },
  {
   "cell_type": "markdown",
   "metadata": {},
   "source": [
    "```python\n",
    "from keras.optimizers import Adam -> 'adam' # 'adam' = 기본값으로 설정\n",
    "```"
   ]
  },
  {
   "cell_type": "code",
   "execution_count": 297,
   "metadata": {},
   "outputs": [],
   "source": [
    "from keras.optimizers import Adam\n",
    "\n",
    "model.compile(loss='categorical_crossentropy', optimizer=Adam(lr=0.001), metrics=['accuracy'])"
   ]
  },
  {
   "cell_type": "code",
   "execution_count": 298,
   "metadata": {},
   "outputs": [
    {
     "name": "stdout",
     "output_type": "stream",
     "text": [
      "Model: \"sequential_13\"\n",
      "_________________________________________________________________\n",
      "Layer (type)                 Output Shape              Param #   \n",
      "=================================================================\n",
      "dense_27 (Dense)             (None, 20)                15700     \n",
      "_________________________________________________________________\n",
      "dense_28 (Dense)             (None, 15)                315       \n",
      "_________________________________________________________________\n",
      "dense_29 (Dense)             (None, 10)                160       \n",
      "=================================================================\n",
      "Total params: 16,175\n",
      "Trainable params: 16,175\n",
      "Non-trainable params: 0\n",
      "_________________________________________________________________\n"
     ]
    }
   ],
   "source": [
    "model.summary()"
   ]
  },
  {
   "cell_type": "code",
   "execution_count": 311,
   "metadata": {},
   "outputs": [
    {
     "name": "stdout",
     "output_type": "stream",
     "text": [
      "Epoch 1/10\n",
      "490/490 - 0s - loss: 0.4115 - accuracy: 0.8818\n",
      "Epoch 2/10\n",
      "490/490 - 0s - loss: 0.4005 - accuracy: 0.8855\n",
      "Epoch 3/10\n",
      "490/490 - 0s - loss: 0.3910 - accuracy: 0.8892\n",
      "Epoch 4/10\n",
      "490/490 - 0s - loss: 0.3832 - accuracy: 0.8898\n",
      "Epoch 5/10\n",
      "490/490 - 0s - loss: 0.3671 - accuracy: 0.8962\n",
      "Epoch 6/10\n",
      "490/490 - 0s - loss: 0.3646 - accuracy: 0.8952\n",
      "Epoch 7/10\n",
      "490/490 - 0s - loss: 0.3564 - accuracy: 0.8983\n",
      "Epoch 8/10\n",
      "490/490 - 0s - loss: 0.3481 - accuracy: 0.9002\n",
      "Epoch 9/10\n",
      "490/490 - 0s - loss: 0.3432 - accuracy: 0.9013\n",
      "Epoch 10/10\n",
      "490/490 - 0s - loss: 0.3349 - accuracy: 0.9028\n"
     ]
    }
   ],
   "source": [
    "hist = model.fit(X_train, y_train, epochs=10, batch_size=100, verbose=2)"
   ]
  },
  {
   "cell_type": "code",
   "execution_count": 312,
   "metadata": {},
   "outputs": [
    {
     "data": {
      "text/plain": [
       "[<matplotlib.lines.Line2D at 0x239e5c6f430>]"
      ]
     },
     "execution_count": 312,
     "metadata": {},
     "output_type": "execute_result"
    },
    {
     "data": {
      "image/png": "[encoded data removed]",
      "text/plain": [
       "<Figure size 432x288 with 1 Axes>"
      ]
     },
     "metadata": {
      "needs_background": "light"
     },
     "output_type": "display_data"
    }
   ],
   "source": [
    "import matplotlib.pyplot as plt\n",
    "import numpy as np\n",
    "\n",
    "plt.plot(hist.history['loss'])"
   ]
  },
  {
   "cell_type": "code",
   "execution_count": 313,
   "metadata": {},
   "outputs": [
    {
     "data": {
      "text/plain": [
       "[<matplotlib.lines.Line2D at 0x239e5b336a0>]"
      ]
     },
     "execution_count": 313,
     "metadata": {},
     "output_type": "execute_result"
    },
    {
     "data": {
      "image/png": "[encoded data removed]",
      "text/plain": [
       "<Figure size 432x288 with 1 Axes>"
      ]
     },
     "metadata": {
      "needs_background": "light"
     },
     "output_type": "display_data"
    }
   ],
   "source": [
    "plt.plot(hist.history['accuracy'])"
   ]
  },
  {
   "cell_type": "code",
   "execution_count": 314,
   "metadata": {},
   "outputs": [
    {
     "name": "stdout",
     "output_type": "stream",
     "text": [
      "657/657 [==============================] - 0s 518us/step - loss: 0.4025 - accuracy: 0.8863\n",
      "손실 = 0.40250730514526367\n",
      "정확 = 0.8863333463668823\n"
     ]
    }
   ],
   "source": [
    "loss, acc = model.evaluate(X_test, y_test)\n",
    "\n",
    "print('손실 =', loss)\n",
    "print('정확 =', acc)"
   ]
  },
  {
   "cell_type": "code",
   "execution_count": 315,
   "metadata": {},
   "outputs": [],
   "source": [
    "y_pred = model.predict(X_test)\n",
    "y_pred_class = model.predict_classes(X_test)"
   ]
  },
  {
   "cell_type": "code",
   "execution_count": 316,
   "metadata": {},
   "outputs": [
    {
     "data": {
      "text/plain": [
       "array([[2.83600475e-05, 3.24337680e-06, 3.06145906e-01, 5.60904434e-03,\n",
       "        1.17646260e-02, 9.46497824e-03, 6.50266647e-01, 2.41331145e-04,\n",
       "        1.59667376e-02, 5.09103294e-04],\n",
       "       [1.10275093e-02, 1.26665030e-02, 7.18020082e-01, 1.03983402e-01,\n",
       "        2.85763945e-03, 1.11039868e-02, 1.20964935e-02, 3.73629443e-02,\n",
       "        8.89098272e-02, 1.97159150e-03],\n",
       "       [2.71876441e-08, 4.93471125e-05, 2.17189863e-02, 4.61872295e-02,\n",
       "        1.80028292e-05, 8.71487355e-05, 2.30453992e-19, 9.31137979e-01,\n",
       "        1.56083377e-06, 7.99764879e-04]], dtype=float32)"
      ]
     },
     "execution_count": 316,
     "metadata": {},
     "output_type": "execute_result"
    }
   ],
   "source": [
    "y_pred[0:3]"
   ]
  },
  {
   "cell_type": "code",
   "execution_count": 317,
   "metadata": {},
   "outputs": [
    {
     "data": {
      "text/plain": [
       "array([6, 2, 7], dtype=int64)"
      ]
     },
     "execution_count": 317,
     "metadata": {},
     "output_type": "execute_result"
    }
   ],
   "source": [
    "y_pred_class[0:3]"
   ]
  },
  {
   "cell_type": "code",
   "execution_count": 318,
   "metadata": {},
   "outputs": [
    {
     "data": {
      "text/plain": [
       "array([[0., 0., 0., 0., 0., 0., 1., 0., 0., 0.],\n",
       "       [0., 0., 1., 0., 0., 0., 0., 0., 0., 0.],\n",
       "       [0., 0., 0., 0., 0., 0., 0., 1., 0., 0.]], dtype=float32)"
      ]
     },
     "execution_count": 318,
     "metadata": {},
     "output_type": "execute_result"
    }
   ],
   "source": [
    "y_test[0:3]"
   ]
  },
  {
   "cell_type": "code",
   "execution_count": 322,
   "metadata": {},
   "outputs": [],
   "source": [
    "y_test_class = np.argmax(y_test, axis=1)"
   ]
  },
  {
   "cell_type": "code",
   "execution_count": 323,
   "metadata": {},
   "outputs": [
    {
     "data": {
      "text/plain": [
       "array([6, 2, 7], dtype=int64)"
      ]
     },
     "execution_count": 323,
     "metadata": {},
     "output_type": "execute_result"
    }
   ],
   "source": [
    "y_test_class [0:3]"
   ]
  },
  {
   "cell_type": "code",
   "execution_count": 324,
   "metadata": {},
   "outputs": [
    {
     "name": "stdout",
     "output_type": "stream",
     "text": [
      "[[1967    0   17    3    5    7   15   12   47    3]\n",
      " [   2 2307   20   10    3    2    3    9   28    6]\n",
      " [  18    5 1873   13   13    6   50   37  103    6]\n",
      " [   8    3   83 1752    2  154    2   42   99   20]\n",
      " [   3    2   12    0 1815    3   31    2   23  172]\n",
      " [ 135    6   11  100   29 1418   21   12  161   30]\n",
      " [  49    0   58    1   26   22 1815    0   28    0]\n",
      " [   6    1    9    7   17    1    2 2027   12   74]\n",
      " [  35   12   26    5   35   23   11   36 1849   16]\n",
      " [   3    2    0   25   58    7    1  135   35 1790]]\n"
     ]
    }
   ],
   "source": [
    "from sklearn.metrics import confusion_matrix\n",
    "\n",
    "print(confusion_matrix(y_test_class, y_pred_class))"
   ]
  },
  {
   "cell_type": "code",
   "execution_count": 1,
   "metadata": {},
   "outputs": [
    {
     "data": {
      "application/javascript": [
       "$.getScript('https://seareale.github.io/ipython_notebook_goodies/ipython_notebook_toc.js')\n"
      ],
      "text/plain": [
       "<IPython.core.display.Javascript object>"
      ]
     },
     "metadata": {},
     "output_type": "display_data"
    }
   ],
   "source": [
    "%%javascript\n",
    "$.getScript('https://seareale.github.io/ipython_notebook_goodies/ipython_notebook_toc.js')"
   ]
  }
 ],
 "metadata": {
  "kernelspec": {
   "display_name": "Python 3.8.3 64-bit",
   "language": "python",
   "name": "python38364bitc7d172dfbcaf4c84b1b0b3dca7174a39"
  },
  "language_info": {
   "codemirror_mode": {
    "name": "ipython",
    "version": 3
   },
   "file_extension": ".py",
   "mimetype": "text/x-python",
   "name": "python",
   "nbconvert_exporter": "python",
   "pygments_lexer": "ipython3",
   "version": "3.8.3"
  }
 },
 "nbformat": 4,
 "nbformat_minor": 4
}
