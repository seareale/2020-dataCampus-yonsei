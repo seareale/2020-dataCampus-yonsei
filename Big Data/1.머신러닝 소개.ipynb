{
 "cells": [
  {
   "cell_type": "markdown",
   "metadata": {},
   "source": [
    "1.머신러닝 소개"
   ]
  },
  {
   "cell_type": "markdown",
   "metadata": {},
   "source": [
    "Contents\n",
    "<div id=\"toc\"></div>"
   ]
  },
  {
   "cell_type": "markdown",
   "metadata": {},
   "source": [
    "# 인공지능이란?"
   ]
  },
  {
   "cell_type": "markdown",
   "metadata": {},
   "source": [
    "사람과 유사한 지능을 가지도록 인간의 학습능력, 추론능력, 지각능력, 자연어 이해 능력 등을 컴퓨터 프로그램으로 실현하는 기술"
   ]
  },
  {
   "cell_type": "markdown",
   "metadata": {},
   "source": [
    "딥러닝<br>Deep Learning | 머신러닝<br>Machine Learning | 인공지능<br>Artificial Intelligence\n",
    ":---: | :---: | :---: \n",
    "인간의 뉴런과 비슷한 인공신경망<br>방식으로 컴퓨터를 스스로 학습하고<br>문제를 해결하는 방법 | 입력된 데이터를 기반으로 컴퓨터가<br>스스로 학습하여 인공지능의 성능을<br>향상시키는 기술 방법 | 인간의 지적 능력을 컴퓨터를 통해<br>구현하는 기술의 총칭\n",
    "e.g. CNN, RNN, Neural Netrowk | e.g. 회귀분석, SVM, 결정트리, 군집화 등 | "
   ]
  },
  {
   "cell_type": "markdown",
   "metadata": {},
   "source": [
    "- Turing Test : 1950  \n",
    "- Dartmouth AI Project : 1956  \n",
    "- 1st AI Winter : 60년대 말 ~ 70년대  \n",
    "- AI Boon - 전문가 시스템 : 80년대 중반  \n",
    "- 2nd AI Winter : 80년대 후반 ~ 90년대 초  \n",
    "- Deep Learning : 2000년대 초"
   ]
  },
  {
   "cell_type": "markdown",
   "metadata": {},
   "source": [
    "# 현재 인공지능 붐 원인"
   ]
  },
  {
   "cell_type": "markdown",
   "metadata": {},
   "source": [
    "알고리즘, 빅데이터, 고성능 컴퓨터"
   ]
  },
  {
   "cell_type": "markdown",
   "metadata": {},
   "source": [
    "# 머신러닝 정의"
   ]
  },
  {
   "cell_type": "markdown",
   "metadata": {},
   "source": [
    "머신 러닝은 명시적인 프로그래밍 없이 컴퓨터가 학습하는 능력을 갖추게 하는 연구 분야이다.\n",
    "\n",
    "아서 사무엘(Arthur Samuel, 1959)"
   ]
  },
  {
   "cell_type": "markdown",
   "metadata": {},
   "source": [
    "어떤 작업 T에 대한 컴퓨터 프로그램의 성능을 P로 측정했을 때 경험 E로 인해 성능이 향상됐다면,<br>\n",
    "이 컴퓨터 프로그램은 작업 T와 성능 측정 P에 대해 경험 E로 학습한 것이다.\n",
    "\n",
    "톰 미첼(Tom Mitchell, 1997)"
   ]
  },
  {
   "cell_type": "markdown",
   "metadata": {},
   "source": [
    "# 프로그래밍 방식의 차이점"
   ]
  },
  {
   "cell_type": "markdown",
   "metadata": {},
   "source": [
    "- 일반적인 프로그램\n",
    "    - 사람이 주어진 문제를 풀기 위한 알고리즘을 설계하고 구현\n",
    "\n",
    "\n",
    "- 머신러닝 프로그램\n",
    "    - 컴퓨터에게 머신러닝 알고리즘과 데이터를 입력\n",
    "    - 컴퓨터가 입력데이터에 맞는 정답을 찾아내는 알고리즘(모델)을 생성"
   ]
  },
  {
   "cell_type": "markdown",
   "metadata": {},
   "source": [
    "- 머신러닝이 필요한 문제\n",
    "    - 명시적 문제해결 지식의 부재(알고리즘 부재)\n",
    "    - 프로그래밍이 어려운 문제(ex: 음성인식)\n",
    "    - 지속적으로 변화하는 문제(ex: 자율이동로봇)\n",
    "    \n",
    "    \n",
    "- 머신러닝 더욱 중요해지는 이유\n",
    "    - 빅데이터의 존재(학습에 필요)\n",
    "    - 컴퓨팅 성능의 향상(고난도 학습이 가능)\n",
    "    - 서비스와 직접 연결(비지니스적 효과)\n",
    "    - 비즈니스 가치 창출(회사 가치 향상)"
   ]
  },
  {
   "cell_type": "markdown",
   "metadata": {},
   "source": [
    "# 머신러닝의 종류"
   ]
  },
  {
   "cell_type": "markdown",
   "metadata": {},
   "source": [
    "Types || Tasks | Algorithms\n",
    ":--- |:---: |:--- | :---\n",
    "지도학습<br>(Supervised Learning) || 분류<br>(Classification) | - KNN : k Nearest Neighbor<br>- SVM : Support Vector Machine<br>Decision Tree(의사결정 나무)<br>Logistic Regression\n",
    "|| 예측<br>(Prediction) | Linear Regression(선형 회귀)\n",
    "비지도학습<br>(Unsupervised Learning) || 군집<br>(Clustering) | - K-Means Clustering<br>- DBSCAN Clustering<br>- Hierarchical Clustering(계층형 군집)\n",
    "강화학습<br>(Reinforcement Learning)||| - MDP : Markov Decision Process"
   ]
  },
  {
   "cell_type": "markdown",
   "metadata": {},
   "source": [
    "- 머신러닝 시 고려해야할 사항\n",
    "    - 그 방법으로 문제를 풀 수 있는가?\n",
    "    - 그 방법을 적용할 경우 성능에 문제가 없는가?\n",
    "    - 그 방법을 적용하기 위해 데이터를 충분히 준비할 수 있는가?"
   ]
  },
  {
   "cell_type": "markdown",
   "metadata": {},
   "source": [
    "# 머신러닝 알고리즘들"
   ]
  },
  {
   "cell_type": "markdown",
   "metadata": {},
   "source": [
    "<img src=\"img/ch1_1.png\">"
   ]
  },
  {
   "cell_type": "markdown",
   "metadata": {},
   "source": [
    "# 지도 학습"
   ]
  },
  {
   "cell_type": "markdown",
   "metadata": {},
   "source": [
    "Label이 있는 학습 데이터(Training Set)를 이용해서 학습."
   ]
  },
  {
   "cell_type": "markdown",
   "metadata": {},
   "source": [
    "|| 분류 (Classification) | 회귀 (Regression)\n",
    ":---: | :---: | :---: \n",
    "결과 | 학습데이터의 레이블 중 하나를 예측(discrete) | 연속된 값을 예측(continuous)\n",
    "예제 | 학습데이터가 A,B,C인 경우 결과는 A,B,C 중 하나다.<br>예) 스팸메일 필터 | 결과 값이 어떠한 값도 나올 수 있다.<br>예) 주가 분석 예측"
   ]
  },
  {
   "cell_type": "markdown",
   "metadata": {},
   "source": [
    "# 비지도 학습"
   ]
  },
  {
   "cell_type": "markdown",
   "metadata": {},
   "source": [
    "Label이 없는 학습 데이터(Training Set)를 이용해서 학습."
   ]
  },
  {
   "cell_type": "markdown",
   "metadata": {},
   "source": [
    "|| 분류 (Classification) | 군집 (Clustering)\n",
    "    :---: | :---: | :--- |\n",
    "공통점 | 입력된 데이터들이 어떤 형태로<br>그룹을 형성하는지가 관심사 ||\n",
    "차이점 | 레이블이 있다. | 레이블이 없다.<br>예) 의학 임상실험 환자군 구별<br>예) 구매자 유형 분류"
   ]
  },
  {
   "cell_type": "markdown",
   "metadata": {},
   "source": [
    "# 강화 학습"
   ]
  },
  {
   "cell_type": "markdown",
   "metadata": {},
   "source": [
    "상과 벌이라는 보상을 통해 현재의 행위의 그 방향 혹은 반대 방향으로 행위를 강화하는 학습 방향"
   ]
  },
  {
   "cell_type": "markdown",
   "metadata": {},
   "source": [
    "<img src=\"img/ch1_2.png\">\n",
    "\n",
    "- 시행착오 과정을 거쳐 학습하기 때문에 사람의 학습방식과 유사.\n",
    "- Agent는 환경으로부터 상태를 관측하고 이에 따른 적절한 행동을 하면 해당 행동을 기준으로 환경으로부터 보상을 받는다.\n",
    "- 관측 - 행동 - 보상의 상호작용을 반복하면서 환경으로부터 얻는 보상을 최대화하는 태스크를 수행하기 위한 일련의 과정.\n",
    "- 관측 - 행동 - 보상의 과정을 경험(Experience)이라고도 한다."
   ]
  },
  {
   "cell_type": "markdown",
   "metadata": {},
   "source": [
    "# 머신 러닝의 과정"
   ]
  },
  {
   "cell_type": "markdown",
   "metadata": {},
   "source": [
    "1.데이터 수집 $\\rightarrow$ 2.데이터 가공 $\\rightarrow$ \n",
    "\n",
    "\n",
    "3.데이터학습  $\\qquad\\rightarrow$   \n",
    "1) 학습방법 선택  \n",
    "2) 매개변수 최적화  \n",
    "3) 모델학습  \n",
    "\n",
    "\n",
    "4.모델평가 $\\rightarrow$ 정확도 높은가? $\\rightarrow$ 분석완료 or 3.데이터학습"
   ]
  },
  {
   "cell_type": "markdown",
   "metadata": {},
   "source": [
    "# 머신 러닝의 주요 도전 과제 - 데이터"
   ]
  },
  {
   "cell_type": "markdown",
   "metadata": {},
   "source": [
    "1. 충분하지 않은 양의 훈련 데이터\n",
    "    - 충분한 데이터가 주어지면, 복잡한 자연어 중의성 해소 가능하다는 것을 증명\n",
    "<img src=\"img/ch1_3.png\" width=\"40%\">"
   ]
  },
  {
   "cell_type": "markdown",
   "metadata": {},
   "source": [
    "2. 대표성 없는 훈련 데이터\n",
    "    - 예) 1936 미국 대선 : Randon(공화당) vs Roosevelt(민주당)"
   ]
  },
  {
   "cell_type": "markdown",
   "metadata": {},
   "source": [
    "3. 낮은 품질의 데이터\n",
    "    - 에러(error), 이상치(outlier), 잡음(noise) $\\rightarrow전처리\\rightarrow$ 데이터 품질 향상 "
   ]
  },
  {
   "cell_type": "markdown",
   "metadata": {},
   "source": [
    "4. 관련 없는 특성\n",
    "    - Garbage In Garbage Out\n",
    "    - 특성공학 (Feature Engineering)\n",
    "        - 특성 선택(feature selection) : 가장 유용한 특성 선택\n",
    "        - 특성 추출(featrue extraction) : 특성을 결합하여 더 유용한 새로운 특성을 만듬 (e.g. 차원축소)"
   ]
  },
  {
   "cell_type": "markdown",
   "metadata": {},
   "source": [
    "5. 과대 적합(Overfitting)\n",
    "    - 훈련데이터에 잡음이 많거나, 데이터셋의 크기가 작은 경우 자주 발생\n",
    "    - 해결책\n",
    "        1. 더 많은 훈련 데이터 확보\n",
    "        2. 훈련 데이터의 잡읍 제거(데이터 수정, 이상치 제거, 정규화 등)\n",
    "        3. 모델의 단순화(알고리즘 변경, 규제(regulation) 등)"
   ]
  },
  {
   "cell_type": "markdown",
   "metadata": {},
   "source": [
    "6. 과소 적합(Underfitting)\n",
    "    - 모델이 너무 단순해서 데이터의 내재된 구조를 학습하지 못할 때 발생\n",
    "    - 해결책\n",
    "        1. 특성 공학을 통한 데이터 정제\n",
    "        2. 더 강력한 모델을 선택\n",
    "        3. 모델의 규제(Regulation)을 줄임."
   ]
  },
  {
   "cell_type": "markdown",
   "metadata": {},
   "source": [
    "# No Free Lunch 이론"
   ]
  },
  {
   "cell_type": "markdown",
   "metadata": {},
   "source": [
    "어떤 알고리즘도 모든 문제에 대해서 다른 알고리즘보다 항상 좋을 수 없다."
   ]
  },
  {
   "cell_type": "markdown",
   "metadata": {},
   "source": [
    "# 배치 학습과 온라인 학습"
   ]
  },
  {
   "cell_type": "markdown",
   "metadata": {},
   "source": [
    "- 배치 학습\n",
    "    - 가용한 데이터를 모두 사용하여 훈련\n",
    "    - 시간과 자원을 많이 소모하므로 보통 오프라인에서 수행\n",
    "    - 기훈련된 학습 결과(모델)을 시스템에 적용만 함. (업데이트 X) -> 오프라인 학습\n",
    "    \n",
    "    \n",
    "- 온라인 학습\n",
    "    - 데이터를 한개 씩 또는 미니배치 단위로 입력받아 훈련\n",
    "    - 매 학습 단계가 빠르고 비용이 적게 듬"
   ]
  },
  {
   "cell_type": "code",
   "execution_count": 1,
   "metadata": {},
   "outputs": [
    {
     "data": {
      "application/javascript": [
       "$.getScript('https://kmahelona.github.io/ipython_notebook_goodies/ipython_notebook_toc.js')\n"
      ],
      "text/plain": [
       "<IPython.core.display.Javascript object>"
      ]
     },
     "metadata": {},
     "output_type": "display_data"
    }
   ],
   "source": [
    "%%javascript\n",
    "$.getScript('https://kmahelona.github.io/ipython_notebook_goodies/ipython_notebook_toc.js')"
   ]
  }
 ],
 "metadata": {
  "kernelspec": {
   "display_name": "Python 3.8.3 64-bit",
   "language": "python",
   "name": "python38364bitc7d172dfbcaf4c84b1b0b3dca7174a39"
  },
  "language_info": {
   "codemirror_mode": {
    "name": "ipython",
    "version": 3
   },
   "file_extension": ".py",
   "mimetype": "text/x-python",
   "name": "python",
   "nbconvert_exporter": "python",
   "pygments_lexer": "ipython3",
   "version": "3.8.3"
  }
 },
 "nbformat": 4,
 "nbformat_minor": 4
}
