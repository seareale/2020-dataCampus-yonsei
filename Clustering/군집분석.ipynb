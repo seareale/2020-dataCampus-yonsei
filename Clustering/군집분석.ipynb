{
 "cells": [
  {
   "cell_type": "markdown",
   "metadata": {},
   "source": [
    "군집분석"
   ]
  },
  {
   "cell_type": "markdown",
   "metadata": {},
   "source": [
    "Contents\n",
    "<div id=\"toc\"></div>"
   ]
  },
  {
   "cell_type": "markdown",
   "metadata": {},
   "source": [
    "# 1. 군집분석 개념"
   ]
  },
  {
   "cell_type": "markdown",
   "metadata": {},
   "source": [
    "- 각 객체의 **유사성을 측정** 하여 비슷한 특성을 가진 그룹을 찾는데 사용되는 분석 방법\n",
    "- 예를 들어, 사람들의 나이와 경제적인 수입이 유사한 그룹을 찾아내어 해당 그룹의 공통적인 특성, 즉 직업이나 거주지역, 근무환경 등을 분류 할 수 있음\n",
    "\n",
    "\n",
    "- 몇 개의 그룹이 나올지 모름, 예상하지 못했던 그룹을 통해 분석 및 파악\n",
    "\n",
    "<img src=\"img/1.png\" width=\"40%\">"
   ]
  },
  {
   "cell_type": "markdown",
   "metadata": {},
   "source": [
    "- 활용\n",
    "    - 사람들의 키와 체중을 대상으로 군집 분석 수행\n",
    "    - 화물 배송 경로 개선\n",
    "        - 고객 위치를 기준으로 유사한 지역 군집\n",
    "        - 투입 차량 16대 -> 14대로 감소\n",
    "        - 차량 이동거리 평균 66.08km에서 56.61km로 감소\n",
    "        \n",
    "<img src=\"img/2.png\" width=\"40%\">"
   ]
  },
  {
   "cell_type": "markdown",
   "metadata": {},
   "source": [
    "# 1.1. 유사성"
   ]
  },
  {
   "cell_type": "markdown",
   "metadata": {},
   "source": [
    "- 거리는 유사성의 종류 중 하나\n",
    "- 거리함수 d를 Euclidean distance 로 사용\n",
    "    - 상점의 좌표 (x, y)\n",
    "\n",
    "<img src=\"img/3.png\" width=\"70%\">"
   ]
  },
  {
   "cell_type": "markdown",
   "metadata": {},
   "source": [
    "# 2. 분할 기반 알고리즘"
   ]
  },
  {
   "cell_type": "markdown",
   "metadata": {},
   "source": [
    "- 객체들을 대상으로 k개의 군집으로 분할을 수행\n",
    "- 주어진 k에 선택한 분할 기준을 최적화할 수 잇는 k개의 군집을 찾음\n",
    "    - 반복적으로 수많은 분할을 수행 검토함\n",
    "    - 각 군집은 중심점에 의해 표현됨\n",
    "    - 객체들이 어느 중심점에 가까운가에 따라 군집을 결정함\n",
    "    \n",
    " \n",
    "- 반복을 통해 좋은 결과를 찾아냄"
   ]
  },
  {
   "cell_type": "markdown",
   "metadata": {},
   "source": [
    "## 2.1. K-Means 군집 분석 알고리즘"
   ]
  },
  {
   "cell_type": "markdown",
   "metadata": {},
   "source": [
    "- 대부분 분할 알고리즘은 k-Means 기반임 \n",
    "\n",
    "\n",
    "- 주어진 k로, k-means 알고리즘은 4단계로 수행함\n",
    "    - 모든 객체들을 k개의 그룹으로 분할함\n",
    "    - 분할한 클러스터 내의 객체들로부터 새로 seed 객체를 탐색, 클러스터의 중심(또는 평균) 값을 centroid로 정함\n",
    "    - 각 객체들을 인접한 seed 객체로 할당함\n",
    "    - 클러스터가 변화하지 않을때까지 2번째 단계부터 반복함"
   ]
  },
  {
   "cell_type": "markdown",
   "metadata": {},
   "source": [
    "### 2.1.1. 예시"
   ]
  },
  {
   "cell_type": "markdown",
   "metadata": {},
   "source": [
    "- 물류업체는 택배배송을 위해 각 택배 도착지까지 배송거리를 최소화\n",
    "- 각 도착지를 모두 오가는 비용을 줄이고자, 중간지점을 찾아 인접 도착지들로 배송\n",
    "- 도착지들을 군집분석을 수행, 인접한 도착지 군집을 분석\n",
    "- 거리를 최소로 하는 군집을 찾기 위해 K-means 수행\n",
    "\n",
    "<img src=\"img/4.png\" width=\"70%\">"
   ]
  },
  {
   "cell_type": "markdown",
   "metadata": {},
   "source": [
    "**1회차**\n",
    "- 출발지로부터 도착지들의 거리를 1-d 클러스터링 수행\n",
    "- {2km, 4km, 10km, 12km, 3km, 20km, 30km, 11km, 25km}\n",
    "- 임의의 군집 중심: $m_{1}$ = 3, $m_{2}$ = 4\n",
    "<img src=\"img/5.png\" width=\"70%\">\n",
    "- 각 중심에 가까운 군집#1, 군집#2 생성\n",
    "- 각 군집#1, 군집#2의 새 중심 계산\n",
    "- 중심#1 = (2+3)/2 = 2.5\n",
    "- 중심#2 = (4+10+11+12+20+25+30)/7 = 16"
   ]
  },
  {
   "cell_type": "markdown",
   "metadata": {},
   "source": [
    "**2회차**\n",
    "- 중심#1=2.5, 중심#2=16\n",
    "- 각 중심에 가까운 군집#1, 군집#2 생성\n",
    "<img src=\"img/6.png\" width=\"70%\">\n",
    "- 각 군집#1, 군집#2의 새 중심 계산\n",
    "- 중심#1= (2+3+4) /3=3\n",
    "- 중심#2= (10+11+12+20+25+30)/6=18"
   ]
  },
  {
   "cell_type": "markdown",
   "metadata": {},
   "source": [
    "**3회차**\n",
    "- 중심#1=3, 중심#2=18\n",
    "- 각 중심에 가까운 군집#1, 군집#2 생성\n",
    "<img src=\"img/7.png\" width=\"70%\">\n",
    "- 각 군집#1, 군집#2의 새 중심 계산\n",
    "    - 중심#1= 4.75\n",
    "    - 중심#2= 19.6"
   ]
  },
  {
   "cell_type": "markdown",
   "metadata": {},
   "source": [
    "**4회차**\n",
    "- 중심#1=4.75, 중심#2=19.6\n",
    "- 각 중심에 가까운 군집#1, 군집#2 생성\n",
    "<img src=\"img/8.png\" width=\"70%\">\n",
    "- 각 군집#1, 군집#2의 새 중심 계산\n",
    "    - 중심#1= 7\n",
    "    - 중심#2= 25\n",
    "- 중심#1, #2에 대해 더 이상 군집의 변화가 없으므로 군집분석 종료"
   ]
  },
  {
   "cell_type": "markdown",
   "metadata": {},
   "source": [
    "### 2.1.2. PYTHON 실습1. 1차원 클러스터링 예제"
   ]
  },
  {
   "cell_type": "code",
   "execution_count": 46,
   "metadata": {},
   "outputs": [],
   "source": [
    "from __future__ import print_function\n",
    "from sklearn.datasets import make_blobs\n",
    "from sklearn.cluster import KMeans\n",
    "#from sklearn.metrics import silhouette_samples, silhouette_score  # 군집분석 결과 \n",
    "from pandas import DataFrame\n",
    "import matplotlib.pyplot as plt\n",
    "#import matplotlib.cm as cm\n",
    "import numpy as np\n",
    "import pandas as pd\n",
    "#import math\n",
    "#import timeit\n",
    "\n",
    "# 그래프가 바로 출력되도록, 보통 연산한다고 그래프 늦게 출력\n",
    "%matplotlib inline "
   ]
  },
  {
   "cell_type": "code",
   "execution_count": 47,
   "metadata": {},
   "outputs": [
    {
     "data": {
      "image/png": "[encoded data removed]",
      "text/plain": [
       "<Figure size 432x288 with 1 Axes>"
      ]
     },
     "metadata": {
      "needs_background": "light"
     },
     "output_type": "display_data"
    }
   ],
   "source": [
    "X = np.array([[2, 0], [3, 0], [4, 0], [10, 0], [11, 0], [12, 0], [20, 0], [25, 0], [30, 0]])\n",
    "plt.scatter(X[:,0], X[:, 1], s= 100)\n",
    "plt.show()"
   ]
  },
  {
   "cell_type": "code",
   "execution_count": 48,
   "metadata": {},
   "outputs": [
    {
     "data": {
      "text/plain": [
       "(array([2.5, 0. ]), array([16.,  0.]))"
      ]
     },
     "execution_count": 48,
     "metadata": {},
     "output_type": "execute_result"
    }
   ],
   "source": [
    "####### k-means 1회차\n",
    "model1 = KMeans(n_clusters = 2, init = np.array([[3, 0], [4, 0]]), n_init = 1, max_iter = 1, random_state = 1).fit(X)\n",
    "# init = 초기 중심\n",
    "# n_init = 매번 다른 centroid seeds로 KMeans 알고리즘을 돌릴 횟수 -> 이 중 제일 좋은 결과를 찾음\n",
    "# max_iter = 최대 반복 횟수\n",
    "\n",
    "c0, c1 = model1.cluster_centers_\n",
    "c0, c1"
   ]
  },
  {
   "cell_type": "code",
   "execution_count": 49,
   "metadata": {},
   "outputs": [
    {
     "data": {
      "text/plain": [
       "-372.75"
      ]
     },
     "execution_count": 49,
     "metadata": {},
     "output_type": "execute_result"
    }
   ],
   "source": [
    "# 값이 적을 수록 중시에 가까이 있다.\n",
    "# 부호 무시. 거리의 제곱의 형태 \n",
    "model1.score(X)"
   ]
  },
  {
   "cell_type": "code",
   "execution_count": 50,
   "metadata": {},
   "outputs": [],
   "source": [
    "def kmeans_df(model, c0, c1):\n",
    "    df = pd.DataFrame(np.hstack([X,\n",
    "                                np.linalg.norm(X - c0, axis = 1)[:, np.newaxis],\n",
    "                                np.linalg.norm(X - c1, axis = 1)[:, np.newaxis],\n",
    "                                model.labels_[:, np.newaxis]]),\n",
    "                     columns=['x', 'y', '거리1', '거리2', '번호'])\n",
    "    return df"
   ]
  },
  {
   "cell_type": "code",
   "execution_count": 51,
   "metadata": {},
   "outputs": [
    {
     "data": {
      "text/html": [
       "<div>\n",
       "<style scoped>\n",
       "    .dataframe tbody tr th:only-of-type {\n",
       "        vertical-align: middle;\n",
       "    }\n",
       "\n",
       "    .dataframe tbody tr th {\n",
       "        vertical-align: top;\n",
       "    }\n",
       "\n",
       "    .dataframe thead th {\n",
       "        text-align: right;\n",
       "    }\n",
       "</style>\n",
       "<table border=\"1\" class=\"dataframe\">\n",
       "  <thead>\n",
       "    <tr style=\"text-align: right;\">\n",
       "      <th></th>\n",
       "      <th>x</th>\n",
       "      <th>y</th>\n",
       "      <th>거리1</th>\n",
       "      <th>거리2</th>\n",
       "      <th>번호</th>\n",
       "    </tr>\n",
       "  </thead>\n",
       "  <tbody>\n",
       "    <tr>\n",
       "      <th>0</th>\n",
       "      <td>2.0</td>\n",
       "      <td>0.0</td>\n",
       "      <td>0.5</td>\n",
       "      <td>14.0</td>\n",
       "      <td>0.0</td>\n",
       "    </tr>\n",
       "    <tr>\n",
       "      <th>1</th>\n",
       "      <td>3.0</td>\n",
       "      <td>0.0</td>\n",
       "      <td>0.5</td>\n",
       "      <td>13.0</td>\n",
       "      <td>0.0</td>\n",
       "    </tr>\n",
       "    <tr>\n",
       "      <th>2</th>\n",
       "      <td>4.0</td>\n",
       "      <td>0.0</td>\n",
       "      <td>1.5</td>\n",
       "      <td>12.0</td>\n",
       "      <td>0.0</td>\n",
       "    </tr>\n",
       "    <tr>\n",
       "      <th>3</th>\n",
       "      <td>10.0</td>\n",
       "      <td>0.0</td>\n",
       "      <td>7.5</td>\n",
       "      <td>6.0</td>\n",
       "      <td>1.0</td>\n",
       "    </tr>\n",
       "    <tr>\n",
       "      <th>4</th>\n",
       "      <td>11.0</td>\n",
       "      <td>0.0</td>\n",
       "      <td>8.5</td>\n",
       "      <td>5.0</td>\n",
       "      <td>1.0</td>\n",
       "    </tr>\n",
       "    <tr>\n",
       "      <th>5</th>\n",
       "      <td>12.0</td>\n",
       "      <td>0.0</td>\n",
       "      <td>9.5</td>\n",
       "      <td>4.0</td>\n",
       "      <td>1.0</td>\n",
       "    </tr>\n",
       "    <tr>\n",
       "      <th>6</th>\n",
       "      <td>20.0</td>\n",
       "      <td>0.0</td>\n",
       "      <td>17.5</td>\n",
       "      <td>4.0</td>\n",
       "      <td>1.0</td>\n",
       "    </tr>\n",
       "    <tr>\n",
       "      <th>7</th>\n",
       "      <td>25.0</td>\n",
       "      <td>0.0</td>\n",
       "      <td>22.5</td>\n",
       "      <td>9.0</td>\n",
       "      <td>1.0</td>\n",
       "    </tr>\n",
       "    <tr>\n",
       "      <th>8</th>\n",
       "      <td>30.0</td>\n",
       "      <td>0.0</td>\n",
       "      <td>27.5</td>\n",
       "      <td>14.0</td>\n",
       "      <td>1.0</td>\n",
       "    </tr>\n",
       "  </tbody>\n",
       "</table>\n",
       "</div>"
      ],
      "text/plain": [
       "      x    y   거리1   거리2   번호\n",
       "0   2.0  0.0   0.5  14.0  0.0\n",
       "1   3.0  0.0   0.5  13.0  0.0\n",
       "2   4.0  0.0   1.5  12.0  0.0\n",
       "3  10.0  0.0   7.5   6.0  1.0\n",
       "4  11.0  0.0   8.5   5.0  1.0\n",
       "5  12.0  0.0   9.5   4.0  1.0\n",
       "6  20.0  0.0  17.5   4.0  1.0\n",
       "7  25.0  0.0  22.5   9.0  1.0\n",
       "8  30.0  0.0  27.5  14.0  1.0"
      ]
     },
     "execution_count": 51,
     "metadata": {},
     "output_type": "execute_result"
    }
   ],
   "source": [
    "kmeans_df(model1, c0, c1)"
   ]
  },
  {
   "cell_type": "code",
   "execution_count": 52,
   "metadata": {},
   "outputs": [],
   "source": [
    "def plot_cluster(model, c0, c1):\n",
    "    plt.scatter(X[model.labels_ == 0,0],\n",
    "               X[model.labels_ == 0,1], s = 100, marker = 'v', c = 'r')\n",
    "    plt.scatter(X[model.labels_ == 1,0],\n",
    "               X[model.labels_ == 1,1], s = 100, marker = '^', c = 'b')\n",
    "    plt.scatter(c0[0], c0[1], s=300, c='r')\n",
    "    plt.scatter(c1[0], c1[1], s=300, c='b')\n",
    "    plt.show()"
   ]
  },
  {
   "cell_type": "code",
   "execution_count": 53,
   "metadata": {},
   "outputs": [
    {
     "data": {
      "image/png": "[encoded data removed]",
      "text/plain": [
       "<Figure size 432x288 with 1 Axes>"
      ]
     },
     "metadata": {
      "needs_background": "light"
     },
     "output_type": "display_data"
    }
   ],
   "source": [
    "plot_cluster(model1, c0, c1)"
   ]
  },
  {
   "cell_type": "code",
   "execution_count": 57,
   "metadata": {},
   "outputs": [],
   "source": [
    "def calc_new_centroid(model):\n",
    "    c0_new = (X[model.labels_ == 0, 0].mean(), X[model.labels_ == 0, 1].mean())\n",
    "    c1_new = (X[model.labels_ == 1, 0].mean(), X[model.labels_ == 1, 1].mean())\n",
    "    return c0_new, c1_new"
   ]
  },
  {
   "cell_type": "code",
   "execution_count": 58,
   "metadata": {},
   "outputs": [
    {
     "data": {
      "text/plain": [
       "((3.0, 0.0), (18.0, 0.0))"
      ]
     },
     "execution_count": 58,
     "metadata": {},
     "output_type": "execute_result"
    }
   ],
   "source": [
    "calc_new_centroid(model1)"
   ]
  },
  {
   "cell_type": "code",
   "execution_count": 59,
   "metadata": {},
   "outputs": [
    {
     "data": {
      "text/plain": [
       "(array([3., 0.]), array([18.,  0.]))"
      ]
     },
     "execution_count": 59,
     "metadata": {},
     "output_type": "execute_result"
    }
   ],
   "source": [
    "####### k-means 2회차\n",
    "model1 = KMeans(n_clusters = 2, init = np.array([[2.5, 0. ], [16.,  0.]]), n_init = 1, max_iter = 1, random_state = 1).fit(X)\n",
    "c0, c1 = model1.cluster_centers_\n",
    "c0, c1"
   ]
  },
  {
   "cell_type": "code",
   "execution_count": 60,
   "metadata": {},
   "outputs": [
    {
     "data": {
      "text/plain": [
       "-333.0"
      ]
     },
     "execution_count": 60,
     "metadata": {},
     "output_type": "execute_result"
    }
   ],
   "source": [
    "model1.score(X)"
   ]
  },
  {
   "cell_type": "code",
   "execution_count": 61,
   "metadata": {},
   "outputs": [
    {
     "data": {
      "text/html": [
       "<div>\n",
       "<style scoped>\n",
       "    .dataframe tbody tr th:only-of-type {\n",
       "        vertical-align: middle;\n",
       "    }\n",
       "\n",
       "    .dataframe tbody tr th {\n",
       "        vertical-align: top;\n",
       "    }\n",
       "\n",
       "    .dataframe thead th {\n",
       "        text-align: right;\n",
       "    }\n",
       "</style>\n",
       "<table border=\"1\" class=\"dataframe\">\n",
       "  <thead>\n",
       "    <tr style=\"text-align: right;\">\n",
       "      <th></th>\n",
       "      <th>x</th>\n",
       "      <th>y</th>\n",
       "      <th>거리1</th>\n",
       "      <th>거리2</th>\n",
       "      <th>번호</th>\n",
       "    </tr>\n",
       "  </thead>\n",
       "  <tbody>\n",
       "    <tr>\n",
       "      <th>0</th>\n",
       "      <td>2.0</td>\n",
       "      <td>0.0</td>\n",
       "      <td>1.0</td>\n",
       "      <td>16.0</td>\n",
       "      <td>0.0</td>\n",
       "    </tr>\n",
       "    <tr>\n",
       "      <th>1</th>\n",
       "      <td>3.0</td>\n",
       "      <td>0.0</td>\n",
       "      <td>0.0</td>\n",
       "      <td>15.0</td>\n",
       "      <td>0.0</td>\n",
       "    </tr>\n",
       "    <tr>\n",
       "      <th>2</th>\n",
       "      <td>4.0</td>\n",
       "      <td>0.0</td>\n",
       "      <td>1.0</td>\n",
       "      <td>14.0</td>\n",
       "      <td>0.0</td>\n",
       "    </tr>\n",
       "    <tr>\n",
       "      <th>3</th>\n",
       "      <td>10.0</td>\n",
       "      <td>0.0</td>\n",
       "      <td>7.0</td>\n",
       "      <td>8.0</td>\n",
       "      <td>0.0</td>\n",
       "    </tr>\n",
       "    <tr>\n",
       "      <th>4</th>\n",
       "      <td>11.0</td>\n",
       "      <td>0.0</td>\n",
       "      <td>8.0</td>\n",
       "      <td>7.0</td>\n",
       "      <td>1.0</td>\n",
       "    </tr>\n",
       "    <tr>\n",
       "      <th>5</th>\n",
       "      <td>12.0</td>\n",
       "      <td>0.0</td>\n",
       "      <td>9.0</td>\n",
       "      <td>6.0</td>\n",
       "      <td>1.0</td>\n",
       "    </tr>\n",
       "    <tr>\n",
       "      <th>6</th>\n",
       "      <td>20.0</td>\n",
       "      <td>0.0</td>\n",
       "      <td>17.0</td>\n",
       "      <td>2.0</td>\n",
       "      <td>1.0</td>\n",
       "    </tr>\n",
       "    <tr>\n",
       "      <th>7</th>\n",
       "      <td>25.0</td>\n",
       "      <td>0.0</td>\n",
       "      <td>22.0</td>\n",
       "      <td>7.0</td>\n",
       "      <td>1.0</td>\n",
       "    </tr>\n",
       "    <tr>\n",
       "      <th>8</th>\n",
       "      <td>30.0</td>\n",
       "      <td>0.0</td>\n",
       "      <td>27.0</td>\n",
       "      <td>12.0</td>\n",
       "      <td>1.0</td>\n",
       "    </tr>\n",
       "  </tbody>\n",
       "</table>\n",
       "</div>"
      ],
      "text/plain": [
       "      x    y   거리1   거리2   번호\n",
       "0   2.0  0.0   1.0  16.0  0.0\n",
       "1   3.0  0.0   0.0  15.0  0.0\n",
       "2   4.0  0.0   1.0  14.0  0.0\n",
       "3  10.0  0.0   7.0   8.0  0.0\n",
       "4  11.0  0.0   8.0   7.0  1.0\n",
       "5  12.0  0.0   9.0   6.0  1.0\n",
       "6  20.0  0.0  17.0   2.0  1.0\n",
       "7  25.0  0.0  22.0   7.0  1.0\n",
       "8  30.0  0.0  27.0  12.0  1.0"
      ]
     },
     "execution_count": 61,
     "metadata": {},
     "output_type": "execute_result"
    }
   ],
   "source": [
    "kmeans_df(model1, c0, c1)"
   ]
  },
  {
   "cell_type": "code",
   "execution_count": 62,
   "metadata": {},
   "outputs": [
    {
     "data": {
      "image/png": "[encoded data removed]",
      "text/plain": [
       "<Figure size 432x288 with 1 Axes>"
      ]
     },
     "metadata": {
      "needs_background": "light"
     },
     "output_type": "display_data"
    }
   ],
   "source": [
    "plot_cluster(model1, c0, c1)"
   ]
  },
  {
   "cell_type": "code",
   "execution_count": 64,
   "metadata": {},
   "outputs": [
    {
     "data": {
      "text/plain": [
       "((4.75, 0.0), (19.6, 0.0))"
      ]
     },
     "execution_count": 64,
     "metadata": {},
     "output_type": "execute_result"
    }
   ],
   "source": [
    "calc_new_centroid(model1)"
   ]
  },
  {
   "cell_type": "code",
   "execution_count": 65,
   "metadata": {},
   "outputs": [
    {
     "data": {
      "text/plain": [
       "(array([4.75, 0.  ]), array([19.6,  0. ]))"
      ]
     },
     "execution_count": 65,
     "metadata": {},
     "output_type": "execute_result"
    }
   ],
   "source": [
    "####### k-means 3회차\n",
    "model1 = KMeans(n_clusters = 2, init = np.array([[3., 0.], [18.,  0.]]), n_init = 1, max_iter = 1, random_state = 1).fit(X)\n",
    "c0, c1 = model1.cluster_centers_\n",
    "c0, c1"
   ]
  },
  {
   "cell_type": "code",
   "execution_count": 66,
   "metadata": {},
   "outputs": [
    {
     "data": {
      "text/plain": [
       "-267.85499999999996"
      ]
     },
     "execution_count": 66,
     "metadata": {},
     "output_type": "execute_result"
    }
   ],
   "source": [
    "model1.score(X)"
   ]
  },
  {
   "cell_type": "code",
   "execution_count": 67,
   "metadata": {},
   "outputs": [
    {
     "data": {
      "text/html": [
       "<div>\n",
       "<style scoped>\n",
       "    .dataframe tbody tr th:only-of-type {\n",
       "        vertical-align: middle;\n",
       "    }\n",
       "\n",
       "    .dataframe tbody tr th {\n",
       "        vertical-align: top;\n",
       "    }\n",
       "\n",
       "    .dataframe thead th {\n",
       "        text-align: right;\n",
       "    }\n",
       "</style>\n",
       "<table border=\"1\" class=\"dataframe\">\n",
       "  <thead>\n",
       "    <tr style=\"text-align: right;\">\n",
       "      <th></th>\n",
       "      <th>x</th>\n",
       "      <th>y</th>\n",
       "      <th>거리1</th>\n",
       "      <th>거리2</th>\n",
       "      <th>번호</th>\n",
       "    </tr>\n",
       "  </thead>\n",
       "  <tbody>\n",
       "    <tr>\n",
       "      <th>0</th>\n",
       "      <td>2.0</td>\n",
       "      <td>0.0</td>\n",
       "      <td>2.75</td>\n",
       "      <td>17.6</td>\n",
       "      <td>0.0</td>\n",
       "    </tr>\n",
       "    <tr>\n",
       "      <th>1</th>\n",
       "      <td>3.0</td>\n",
       "      <td>0.0</td>\n",
       "      <td>1.75</td>\n",
       "      <td>16.6</td>\n",
       "      <td>0.0</td>\n",
       "    </tr>\n",
       "    <tr>\n",
       "      <th>2</th>\n",
       "      <td>4.0</td>\n",
       "      <td>0.0</td>\n",
       "      <td>0.75</td>\n",
       "      <td>15.6</td>\n",
       "      <td>0.0</td>\n",
       "    </tr>\n",
       "    <tr>\n",
       "      <th>3</th>\n",
       "      <td>10.0</td>\n",
       "      <td>0.0</td>\n",
       "      <td>5.25</td>\n",
       "      <td>9.6</td>\n",
       "      <td>0.0</td>\n",
       "    </tr>\n",
       "    <tr>\n",
       "      <th>4</th>\n",
       "      <td>11.0</td>\n",
       "      <td>0.0</td>\n",
       "      <td>6.25</td>\n",
       "      <td>8.6</td>\n",
       "      <td>0.0</td>\n",
       "    </tr>\n",
       "    <tr>\n",
       "      <th>5</th>\n",
       "      <td>12.0</td>\n",
       "      <td>0.0</td>\n",
       "      <td>7.25</td>\n",
       "      <td>7.6</td>\n",
       "      <td>0.0</td>\n",
       "    </tr>\n",
       "    <tr>\n",
       "      <th>6</th>\n",
       "      <td>20.0</td>\n",
       "      <td>0.0</td>\n",
       "      <td>15.25</td>\n",
       "      <td>0.4</td>\n",
       "      <td>1.0</td>\n",
       "    </tr>\n",
       "    <tr>\n",
       "      <th>7</th>\n",
       "      <td>25.0</td>\n",
       "      <td>0.0</td>\n",
       "      <td>20.25</td>\n",
       "      <td>5.4</td>\n",
       "      <td>1.0</td>\n",
       "    </tr>\n",
       "    <tr>\n",
       "      <th>8</th>\n",
       "      <td>30.0</td>\n",
       "      <td>0.0</td>\n",
       "      <td>25.25</td>\n",
       "      <td>10.4</td>\n",
       "      <td>1.0</td>\n",
       "    </tr>\n",
       "  </tbody>\n",
       "</table>\n",
       "</div>"
      ],
      "text/plain": [
       "      x    y    거리1   거리2   번호\n",
       "0   2.0  0.0   2.75  17.6  0.0\n",
       "1   3.0  0.0   1.75  16.6  0.0\n",
       "2   4.0  0.0   0.75  15.6  0.0\n",
       "3  10.0  0.0   5.25   9.6  0.0\n",
       "4  11.0  0.0   6.25   8.6  0.0\n",
       "5  12.0  0.0   7.25   7.6  0.0\n",
       "6  20.0  0.0  15.25   0.4  1.0\n",
       "7  25.0  0.0  20.25   5.4  1.0\n",
       "8  30.0  0.0  25.25  10.4  1.0"
      ]
     },
     "execution_count": 67,
     "metadata": {},
     "output_type": "execute_result"
    }
   ],
   "source": [
    "kmeans_df(model1, c0, c1)"
   ]
  },
  {
   "cell_type": "code",
   "execution_count": 68,
   "metadata": {
    "scrolled": true
   },
   "outputs": [
    {
     "data": {
      "image/png": "[encoded data removed]",
      "text/plain": [
       "<Figure size 432x288 with 1 Axes>"
      ]
     },
     "metadata": {
      "needs_background": "light"
     },
     "output_type": "display_data"
    }
   ],
   "source": [
    "plot_cluster(model1, c0, c1)"
   ]
  },
  {
   "cell_type": "code",
   "execution_count": 69,
   "metadata": {},
   "outputs": [
    {
     "data": {
      "text/plain": [
       "((7.0, 0.0), (25.0, 0.0))"
      ]
     },
     "execution_count": 69,
     "metadata": {},
     "output_type": "execute_result"
    }
   ],
   "source": [
    "calc_new_centroid(model1)"
   ]
  },
  {
   "cell_type": "code",
   "execution_count": 70,
   "metadata": {},
   "outputs": [
    {
     "data": {
      "text/plain": [
       "(array([7., 0.]), array([25.,  0.]))"
      ]
     },
     "execution_count": 70,
     "metadata": {},
     "output_type": "execute_result"
    }
   ],
   "source": [
    "####### k-means 4회차\n",
    "model1 = KMeans(n_clusters = 2, init = np.array([[4.75, 0.  ], [19.6,  0. ]]), n_init = 1, max_iter = 1, random_state = 1).fit(X)\n",
    "c0, c1 = model1.cluster_centers_\n",
    "c0, c1"
   ]
  },
  {
   "cell_type": "code",
   "execution_count": 71,
   "metadata": {},
   "outputs": [
    {
     "data": {
      "text/plain": [
       "-150.0"
      ]
     },
     "execution_count": 71,
     "metadata": {},
     "output_type": "execute_result"
    }
   ],
   "source": [
    "model1.score(X)"
   ]
  },
  {
   "cell_type": "code",
   "execution_count": 72,
   "metadata": {},
   "outputs": [
    {
     "data": {
      "text/html": [
       "<div>\n",
       "<style scoped>\n",
       "    .dataframe tbody tr th:only-of-type {\n",
       "        vertical-align: middle;\n",
       "    }\n",
       "\n",
       "    .dataframe tbody tr th {\n",
       "        vertical-align: top;\n",
       "    }\n",
       "\n",
       "    .dataframe thead th {\n",
       "        text-align: right;\n",
       "    }\n",
       "</style>\n",
       "<table border=\"1\" class=\"dataframe\">\n",
       "  <thead>\n",
       "    <tr style=\"text-align: right;\">\n",
       "      <th></th>\n",
       "      <th>x</th>\n",
       "      <th>y</th>\n",
       "      <th>거리1</th>\n",
       "      <th>거리2</th>\n",
       "      <th>번호</th>\n",
       "    </tr>\n",
       "  </thead>\n",
       "  <tbody>\n",
       "    <tr>\n",
       "      <th>0</th>\n",
       "      <td>2.0</td>\n",
       "      <td>0.0</td>\n",
       "      <td>5.0</td>\n",
       "      <td>23.0</td>\n",
       "      <td>0.0</td>\n",
       "    </tr>\n",
       "    <tr>\n",
       "      <th>1</th>\n",
       "      <td>3.0</td>\n",
       "      <td>0.0</td>\n",
       "      <td>4.0</td>\n",
       "      <td>22.0</td>\n",
       "      <td>0.0</td>\n",
       "    </tr>\n",
       "    <tr>\n",
       "      <th>2</th>\n",
       "      <td>4.0</td>\n",
       "      <td>0.0</td>\n",
       "      <td>3.0</td>\n",
       "      <td>21.0</td>\n",
       "      <td>0.0</td>\n",
       "    </tr>\n",
       "    <tr>\n",
       "      <th>3</th>\n",
       "      <td>10.0</td>\n",
       "      <td>0.0</td>\n",
       "      <td>3.0</td>\n",
       "      <td>15.0</td>\n",
       "      <td>0.0</td>\n",
       "    </tr>\n",
       "    <tr>\n",
       "      <th>4</th>\n",
       "      <td>11.0</td>\n",
       "      <td>0.0</td>\n",
       "      <td>4.0</td>\n",
       "      <td>14.0</td>\n",
       "      <td>0.0</td>\n",
       "    </tr>\n",
       "    <tr>\n",
       "      <th>5</th>\n",
       "      <td>12.0</td>\n",
       "      <td>0.0</td>\n",
       "      <td>5.0</td>\n",
       "      <td>13.0</td>\n",
       "      <td>0.0</td>\n",
       "    </tr>\n",
       "    <tr>\n",
       "      <th>6</th>\n",
       "      <td>20.0</td>\n",
       "      <td>0.0</td>\n",
       "      <td>13.0</td>\n",
       "      <td>5.0</td>\n",
       "      <td>1.0</td>\n",
       "    </tr>\n",
       "    <tr>\n",
       "      <th>7</th>\n",
       "      <td>25.0</td>\n",
       "      <td>0.0</td>\n",
       "      <td>18.0</td>\n",
       "      <td>0.0</td>\n",
       "      <td>1.0</td>\n",
       "    </tr>\n",
       "    <tr>\n",
       "      <th>8</th>\n",
       "      <td>30.0</td>\n",
       "      <td>0.0</td>\n",
       "      <td>23.0</td>\n",
       "      <td>5.0</td>\n",
       "      <td>1.0</td>\n",
       "    </tr>\n",
       "  </tbody>\n",
       "</table>\n",
       "</div>"
      ],
      "text/plain": [
       "      x    y   거리1   거리2   번호\n",
       "0   2.0  0.0   5.0  23.0  0.0\n",
       "1   3.0  0.0   4.0  22.0  0.0\n",
       "2   4.0  0.0   3.0  21.0  0.0\n",
       "3  10.0  0.0   3.0  15.0  0.0\n",
       "4  11.0  0.0   4.0  14.0  0.0\n",
       "5  12.0  0.0   5.0  13.0  0.0\n",
       "6  20.0  0.0  13.0   5.0  1.0\n",
       "7  25.0  0.0  18.0   0.0  1.0\n",
       "8  30.0  0.0  23.0   5.0  1.0"
      ]
     },
     "execution_count": 72,
     "metadata": {},
     "output_type": "execute_result"
    }
   ],
   "source": [
    "kmeans_df(model1, c0, c1)"
   ]
  },
  {
   "cell_type": "code",
   "execution_count": 73,
   "metadata": {
    "scrolled": true
   },
   "outputs": [
    {
     "data": {
      "image/png": "[encoded data removed]",
      "text/plain": [
       "<Figure size 432x288 with 1 Axes>"
      ]
     },
     "metadata": {
      "needs_background": "light"
     },
     "output_type": "display_data"
    }
   ],
   "source": [
    "plot_cluster(model1, c0, c1)"
   ]
  },
  {
   "cell_type": "code",
   "execution_count": 74,
   "metadata": {},
   "outputs": [
    {
     "data": {
      "text/plain": [
       "((7.0, 0.0), (25.0, 0.0))"
      ]
     },
     "execution_count": 74,
     "metadata": {},
     "output_type": "execute_result"
    }
   ],
   "source": [
    "calc_new_centroid(model1)\n",
    "# 더 이상 안 바뀜"
   ]
  },
  {
   "cell_type": "code",
   "execution_count": 75,
   "metadata": {},
   "outputs": [
    {
     "data": {
      "text/plain": [
       "(array([7., 0.]), array([25.,  0.]))"
      ]
     },
     "execution_count": 75,
     "metadata": {},
     "output_type": "execute_result"
    }
   ],
   "source": [
    "####### k-means 5회차\n",
    "model1 = KMeans(n_clusters = 2, init = np.array([[7., 0.], [25.,  0.]]), n_init = 1, max_iter = 1, random_state = 1).fit(X)\n",
    "c0, c1 = model1.cluster_centers_\n",
    "c0, c1\n",
    "\n",
    "# 더 이상 안 바뀜"
   ]
  },
  {
   "cell_type": "markdown",
   "metadata": {},
   "source": [
    "---"
   ]
  },
  {
   "cell_type": "code",
   "execution_count": 42,
   "metadata": {},
   "outputs": [
    {
     "data": {
      "text/plain": [
       "(array([7., 0.]), array([25.,  0.]))"
      ]
     },
     "execution_count": 42,
     "metadata": {},
     "output_type": "execute_result"
    }
   ],
   "source": [
    "####### k-means 일반적인 방법\n",
    "model1 = KMeans(n_clusters = 2, init = 'random', n_init = 10, max_iter = 50).fit(X)\n",
    "c0, c1 = model1.cluster_centers_\n",
    "c0, c1"
   ]
  },
  {
   "cell_type": "markdown",
   "metadata": {},
   "source": [
    "## 2.2. k-Means 분석 결과 비교"
   ]
  },
  {
   "cell_type": "markdown",
   "metadata": {},
   "source": [
    "<img src=\"img/9.png\" width=\"70%\">\n",
    "\n",
    "- Importance of Choosing Initial Centroids   \n",
    "**초기값 or 중심 설정에 따라 달라짐**"
   ]
  },
  {
   "cell_type": "markdown",
   "metadata": {},
   "source": [
    "**예시 1)**\n",
    "<img src=\"img/10.png\" width=\"70%\">"
   ]
  },
  {
   "cell_type": "markdown",
   "metadata": {},
   "source": [
    "**예시 2)**\n",
    "<img src=\"img/11.png\" width=\"70%\">"
   ]
  },
  {
   "cell_type": "markdown",
   "metadata": {},
   "source": [
    "# 3. k-Means 군집 평가"
   ]
  },
  {
   "cell_type": "markdown",
   "metadata": {},
   "source": [
    "- 가장 보편적으로 Sum of Squared Error (SSE) 사용\n",
    "    - 각 객체마다 인접한 클러스터와의 거리로 구함\n",
    "    <img src=\"img/5.png\" width=\"70%\">\n",
    "    - $k_{1}$={2,3}, $k_{2}$={4,10,11,12,20,25,30} $m_{1}$=3, $m_{2}$=4\n",
    "    - SSE= ∑ |$k_{i}$– $m_{i}$|= 1+0+0+6+7+8+16+21+26=85"
   ]
  },
  {
   "cell_type": "markdown",
   "metadata": {},
   "source": [
    "- SSE는 거리 제곱의 합으로 정의됨  \n",
    "\n",
    "  \n",
    "$$\n",
    "SSE = \\sum\\limits_{i = 1}^{K}\\sum\\limits_{x\\in\\mathbb{C_{i}}} dist^{2}(m_{i}, x)\n",
    "$$\n",
    "\n",
    "- x: 군집 Ci 내의 데이터 객체, mi 해당 군집에서의 중심(대표)객체\n",
    "    - mi 이 군집의 평균 중심에 가까운 것을 산출\n",
    "- 두 클러스터 결과로부터 최소 에러의 결과를 선택할 수 있음\n",
    "- SSE를 줄이는 방법으로 클러스터 군집의 수 k 를 증가시킬 수 있음\n",
    "    - 작은 k에서의 좋은 분석 결과는 높은 k에서의 나쁜 분석 결과보다 낮은 SSE를 가짐\n"
   ]
  },
  {
   "cell_type": "markdown",
   "metadata": {},
   "source": [
    "## 3.1 응집도(Cohesion)와 분리도(Separation)"
   ]
  },
  {
   "cell_type": "markdown",
   "metadata": {},
   "source": [
    "- 응집도와 분리도는 그래프 기반으로 해석가능 함\n",
    "    - 클러스터 응집도는 클래스터 내의 모든 거리 가중치의 합으로 표현\n",
    "    - 클러스터 분리도는 클러스터 외부 객체 간의 모든 거리 가중치의 합으로 표현됨\n",
    "<img src=\"img/12.png\" width=\"70%\">"
   ]
  },
  {
   "cell_type": "markdown",
   "metadata": {},
   "source": [
    "예시 #1\n",
    "<img src=\"img/5.png\" width=\"80%\">\n",
    "- $k_{1}$={2,3}, $k_{2}$={4,10,11,12,20,25,30} $m_{1}$=3, $m_{2}$=4 m=58.5\n",
    "- SSE = ∑ $|k_{i}– m_{i}|= 1+0+0+6+7+8+16+21+26=85$\n",
    "- 분리도 = $2*(13-3)^{2}+7*(13-4)^{2}=200+81*7=200+567=767$"
   ]
  },
  {
   "cell_type": "markdown",
   "metadata": {},
   "source": [
    "- 클러스터 응집도 : 한 클러스터 내의 객체들이 밀집해있는 정도를 측정함 (SSE)\n",
    "    - 응집도는 클러스터 내의 “sum of squares (SSE)” 값으로 측정\n",
    "$$\n",
    "WSS = \\sum\\limits_{i}\\sum\\limits_{x\\in\\mathbb{C_{i}}} (x - m_{i})^{2}\n",
    "$$\n",
    "\n",
    "\n",
    "- 클러스터 분리도: 한 클러스터가 다른 클러스터와 잘 분리되어 있는 정도를 측정함\n",
    "    - 분리도는 클러스터 외부 객체와의 “sum of squares”으로 측정함\n",
    "$$\n",
    "BSS = \\sum\\limits_{i}|C_{i}|(m - m_{i})^{2}\n",
    "$$\n",
    "    - Where |Ci| is the size of cluster i"
   ]
  },
  {
   "cell_type": "markdown",
   "metadata": {},
   "source": [
    "## 3.2. 유사도 매트릭스"
   ]
  },
  {
   "cell_type": "markdown",
   "metadata": {},
   "source": [
    "- 유사도 매트릭스\n",
    "    - x, y 축의 한 값이 각각의 데이터 객체로 표현됨\n",
    "    - x, y 쌍의 객체가 동일한 클러스터에 위치한다면 ‘1’의 값\n",
    "    - x, y 쌍의 객체가 서로 다른 클러스터에 위치한다면 ‘0’의 값\n",
    "- 일부 밀도기반의 군집이나 연속성 기반의 군집에는 적절하지 않을 수 있음\n",
    "<img src=\"img/13.png\" width=\"70%\">"
   ]
  },
  {
   "cell_type": "markdown",
   "metadata": {},
   "source": [
    "<img src=\"img/14.png\" width=\"70%\">"
   ]
  },
  {
   "cell_type": "markdown",
   "metadata": {},
   "source": [
    "- 군집분석 결과 포함된 군집의 번호 순서대로 객체들을 정렬함\n",
    "<img src=\"img/17.png\" width=\"70%\">\n",
    "- 랜덤 객체를 대상으로 유사성 매트릭스는 좋은 값이 나오지 않음\n",
    "<img src=\"img/18.png\" width=\"70%\">"
   ]
  },
  {
   "cell_type": "markdown",
   "metadata": {},
   "source": [
    "## 3.3. 엔트로피 기반의 군집평가"
   ]
  },
  {
   "cell_type": "markdown",
   "metadata": {},
   "source": [
    "- 각 군집의 엔트로피를 측정하여 군집 평가에 사용함  \n",
    "    (엔트로피 값이 낮을수록 좋은 군집으로 평가함)\n",
    "<img src=\"img/15.png\" width=\"70%\">"
   ]
  },
  {
   "cell_type": "markdown",
   "metadata": {},
   "source": [
    "$$\n",
    "Entropy = - \\sum\\limits_{i=1}^{2}P_{i}log_{2}P_{i}\n",
    "$$"
   ]
  },
  {
   "cell_type": "markdown",
   "metadata": {},
   "source": [
    "<img src=\"img/16.png\" width=\"70%\">"
   ]
  },
  {
   "cell_type": "markdown",
   "metadata": {},
   "source": [
    "## 3.4.  PYTHON 실습2. 군집평가"
   ]
  },
  {
   "cell_type": "code",
   "execution_count": 77,
   "metadata": {},
   "outputs": [],
   "source": [
    "from __future__ import print_function\n",
    "from sklearn.datasets import make_blobs\n",
    "from sklearn.cluster import KMeans\n",
    "from sklearn.metrics import silhouette_samples, silhouette_score  # 군집분석 결과 \n",
    "from pandas import DataFrame\n",
    "from scipy.stats import entropy\n",
    "from math import log, e\n",
    "import matplotlib.pyplot as plt\n",
    "import matplotlib.cm as cm\n",
    "import numpy as np\n",
    "import pandas as pd\n",
    "import math\n",
    "import timeit\n",
    "\n",
    "# 그래프가 바로 출력되도록, 보통 연산한다고 그래프 늦게 출력\n",
    "%matplotlib inline "
   ]
  },
  {
   "cell_type": "code",
   "execution_count": 78,
   "metadata": {},
   "outputs": [
    {
     "data": {
      "image/png": "[encoded data removed]",
      "text/plain": [
       "<Figure size 432x288 with 1 Axes>"
      ]
     },
     "metadata": {
      "needs_background": "light"
     },
     "output_type": "display_data"
    }
   ],
   "source": [
    "X = np.array([[2, 0], [3, 0], [4, 0], [10, 0], [11, 0], [12, 0], [20, 0], [25, 0], [30, 0]])\n",
    "plt.scatter(X[:,0], X[:, 1], s= 100)\n",
    "plt.show()"
   ]
  },
  {
   "cell_type": "code",
   "execution_count": 79,
   "metadata": {},
   "outputs": [
    {
     "data": {
      "text/plain": [
       "(array([2.5, 0. ]), array([16.,  0.]))"
      ]
     },
     "execution_count": 79,
     "metadata": {},
     "output_type": "execute_result"
    }
   ],
   "source": [
    "# k-means 1회차\n",
    "model1 = KMeans(n_clusters = 2, init = np.array([[3, 0], [4, 0]]), n_init = 1, max_iter = 1, random_state = 1).fit(X)\n",
    "c0, c1 = model1.cluster_centers_\n",
    "c0, c1"
   ]
  },
  {
   "cell_type": "code",
   "execution_count": 80,
   "metadata": {},
   "outputs": [
    {
     "data": {
      "text/plain": [
       "-372.75"
      ]
     },
     "execution_count": 80,
     "metadata": {},
     "output_type": "execute_result"
    }
   ],
   "source": [
    "#### 1. SSE 측정\n",
    "model1.score(X)"
   ]
  },
  {
   "cell_type": "code",
   "execution_count": 81,
   "metadata": {},
   "outputs": [
    {
     "data": {
      "text/plain": [
       "array([2, 2, 2, 3, 3, 3, 3, 3, 3])"
      ]
     },
     "execution_count": 81,
     "metadata": {},
     "output_type": "execute_result"
    }
   ],
   "source": [
    "X[model1.labels_,0]  # 군집 분포 확인"
   ]
  },
  {
   "cell_type": "code",
   "execution_count": 82,
   "metadata": {},
   "outputs": [
    {
     "data": {
      "text/plain": [
       "(13.0, 3.0, 3, 3.0)"
      ]
     },
     "execution_count": 82,
     "metadata": {},
     "output_type": "execute_result"
    }
   ],
   "source": [
    "np.mean(X[:,0]),np.mean(X[model1.labels_ == 0, 0])\\\n",
    ", np.count_nonzero(X[model1.labels_, 0] == 2), np.mean(X[model1.labels_ == 0, 0])"
   ]
  },
  {
   "cell_type": "code",
   "execution_count": 84,
   "metadata": {},
   "outputs": [
    {
     "data": {
      "text/plain": [
       "(13.0, 18.0, 6, 18.0)"
      ]
     },
     "execution_count": 84,
     "metadata": {},
     "output_type": "execute_result"
    }
   ],
   "source": [
    "np.mean(X[:,0]),np.mean(X[model1.labels_ == 1, 0])\\\n",
    ", np.count_nonzero(X[model1.labels_, 0] == 3), np.mean(X[model1.labels_ == 1, 0])"
   ]
  },
  {
   "cell_type": "code",
   "execution_count": 199,
   "metadata": {},
   "outputs": [],
   "source": [
    "def k_cohesion(model1, c0, c1):  # 분리도 함수\n",
    "    total_mean = np.mean(X[:, 0])  # 전체 평균\n",
    "    m1 = np.mean(X[model1.labels_ == 0, 0])  # 라벨이 0인 군집의 평균\n",
    "    m2 = np.mean(X[model1.labels_ == 1, 0])  # 라벨이 1인 군집의 평균\n",
    "    \n",
    "    # 내부 코드가 label이 바뀌는 경우가 있음 -> 2, 3\n",
    "    count1 = np.count_nonzero(X[model1.labels_, 0] == 2)   # 1번 군집의 개수\n",
    "    count2 = np.count_nonzero(X[model1.labels_, 0] == 3)   # 2번 군집의 개수\n",
    "    separation = count1*(total_mean - m1)**2 + count2*(total_mean - m2)**2\n",
    "    print(separation)"
   ]
  },
  {
   "cell_type": "code",
   "execution_count": 91,
   "metadata": {},
   "outputs": [
    {
     "name": "stdout",
     "output_type": "stream",
     "text": [
      "450.0\n"
     ]
    }
   ],
   "source": [
    "#### 2. Cohesion 측정\n",
    "k_cohesion(model1, c0, c1)"
   ]
  },
  {
   "cell_type": "code",
   "execution_count": 94,
   "metadata": {},
   "outputs": [
    {
     "data": {
      "text/plain": [
       "9"
      ]
     },
     "execution_count": 94,
     "metadata": {},
     "output_type": "execute_result"
    }
   ],
   "source": [
    "list1 = []\n",
    "list1.clear()\n",
    "np.count_nonzero(X)  # 데이터 수"
   ]
  },
  {
   "cell_type": "code",
   "execution_count": 96,
   "metadata": {},
   "outputs": [],
   "source": [
    "def s_matrix(model1):\n",
    "    for i in range(0, np.count_nonzero(X)):\n",
    "        list1.append([])\n",
    "        for j in range(0, np.count_nonzero(X)):\n",
    "            if model1.labels_[i] == model1.labels_[j]:\n",
    "                list1[i].append(1)\n",
    "            else :\n",
    "                list1[i].append(0)"
   ]
  },
  {
   "cell_type": "code",
   "execution_count": 97,
   "metadata": {},
   "outputs": [
    {
     "data": {
      "text/plain": [
       "[[1, 1, 1, 0, 0, 0, 0, 0, 0],\n",
       " [1, 1, 1, 0, 0, 0, 0, 0, 0],\n",
       " [1, 1, 1, 0, 0, 0, 0, 0, 0],\n",
       " [0, 0, 0, 1, 1, 1, 1, 1, 1],\n",
       " [0, 0, 0, 1, 1, 1, 1, 1, 1],\n",
       " [0, 0, 0, 1, 1, 1, 1, 1, 1],\n",
       " [0, 0, 0, 1, 1, 1, 1, 1, 1],\n",
       " [0, 0, 0, 1, 1, 1, 1, 1, 1],\n",
       " [0, 0, 0, 1, 1, 1, 1, 1, 1]]"
      ]
     },
     "execution_count": 97,
     "metadata": {},
     "output_type": "execute_result"
    }
   ],
   "source": [
    "#### 3. 유사성 매트릭스 평가\n",
    "s_matrix(model1)\n",
    "list1"
   ]
  },
  {
   "cell_type": "code",
   "execution_count": 98,
   "metadata": {},
   "outputs": [],
   "source": [
    "#### 4. entropy 평가"
   ]
  },
  {
   "cell_type": "code",
   "execution_count": 112,
   "metadata": {},
   "outputs": [],
   "source": [
    "def entropy(labels):\n",
    "    # Computes entropy of 0-1 vector.\n",
    "    n_labels = len(labels)\n",
    "    \n",
    "    if n_labels <= 1:\n",
    "        return 0\n",
    "    \n",
    "    counts = np.bincount(labels)\n",
    "    probs = counts[np.nonzero(counts)] / n_labels   # nonzero : 0아닌 bin들의 index List를 출력\n",
    "    \n",
    "    n_classes = len(probs)\n",
    "    \n",
    "    if n_classes <= 1:\n",
    "        return 0\n",
    "    return -np.sum(probs * np.log(probs)) / np.log(n_classes)"
   ]
  },
  {
   "cell_type": "code",
   "execution_count": 113,
   "metadata": {},
   "outputs": [
    {
     "data": {
      "text/plain": [
       "0.9182958340544894"
      ]
     },
     "execution_count": 113,
     "metadata": {},
     "output_type": "execute_result"
    }
   ],
   "source": [
    "entropy(model1.labels_)"
   ]
  },
  {
   "cell_type": "markdown",
   "metadata": {},
   "source": [
    "## 3.5. 군집 비교"
   ]
  },
  {
   "cell_type": "markdown",
   "metadata": {},
   "source": [
    "### 3.5.1. Cohesion and Separation 군집 비교"
   ]
  },
  {
   "attachments": {},
   "cell_type": "markdown",
   "metadata": {},
   "source": [
    "<img src=\"img/19.png\" width=\"70%\">"
   ]
  },
  {
   "cell_type": "markdown",
   "metadata": {},
   "source": [
    "### 3.5.2. 군집 비교 - 유사도 매트릭스"
   ]
  },
  {
   "attachments": {},
   "cell_type": "markdown",
   "metadata": {},
   "source": [
    "<img src=\"img/20.png\" width=\"70%\">"
   ]
  },
  {
   "cell_type": "markdown",
   "metadata": {},
   "source": [
    "### 3.5.3. 군집 비교 - 엔트로피"
   ]
  },
  {
   "cell_type": "markdown",
   "metadata": {},
   "source": [
    "<img src=\"img/21.png\" width=\"70%\">"
   ]
  },
  {
   "cell_type": "markdown",
   "metadata": {},
   "source": [
    "## 3.6. PYTHON 실습3. 군집평가 비교"
   ]
  },
  {
   "cell_type": "code",
   "execution_count": 175,
   "metadata": {},
   "outputs": [
    {
     "data": {
      "text/plain": [
       "(array([2.5, 0. ]), array([16.,  0.]))"
      ]
     },
     "execution_count": 175,
     "metadata": {},
     "output_type": "execute_result"
    }
   ],
   "source": [
    "# k-means 1회차\n",
    "model1 = KMeans(n_clusters = 2, init = np.array([[3, 0], [4, 0]]), n_init = 1, max_iter = 1, random_state = 1).fit(X)\n",
    "c0, c1 = model1.cluster_centers_\n",
    "c0, c1"
   ]
  },
  {
   "cell_type": "code",
   "execution_count": 176,
   "metadata": {},
   "outputs": [
    {
     "data": {
      "text/plain": [
       "(array([7., 0.]), array([25.,  0.]))"
      ]
     },
     "execution_count": 176,
     "metadata": {},
     "output_type": "execute_result"
    }
   ],
   "source": [
    "# k-means 10회차\n",
    "model10 = KMeans(n_clusters = 2, init = np.array([[3, 0], [4, 0]]), n_init = 1, max_iter = 10, random_state = 1).fit(X)\n",
    "c100, c101 = model10.cluster_centers_\n",
    "c100, c101"
   ]
  },
  {
   "cell_type": "code",
   "execution_count": 177,
   "metadata": {},
   "outputs": [
    {
     "data": {
      "text/plain": [
       "(-372.75, -150.0)"
      ]
     },
     "execution_count": 177,
     "metadata": {},
     "output_type": "execute_result"
    }
   ],
   "source": [
    "# 1. SSE 측정\n",
    "model1.score(X), model10.score(X)"
   ]
  },
  {
   "cell_type": "code",
   "execution_count": 178,
   "metadata": {},
   "outputs": [
    {
     "data": {
      "text/plain": [
       "array([2, 2, 2, 3, 3, 3, 3, 3, 3])"
      ]
     },
     "execution_count": 178,
     "metadata": {},
     "output_type": "execute_result"
    }
   ],
   "source": [
    "X[model1.labels_, 0]"
   ]
  },
  {
   "cell_type": "code",
   "execution_count": 179,
   "metadata": {},
   "outputs": [
    {
     "name": "stdout",
     "output_type": "stream",
     "text": [
      "----- model1 -----\n",
      "전체 평균 : 13.0\n",
      "군집1 평균 : 3.0 , 군집1 원소 수 : 3\n",
      "군집2 평균 : 18.0 , 군집2 원소 수 : 6\n"
     ]
    }
   ],
   "source": [
    "print(\"----- model1 -----\")\n",
    "print('전체 평균 :',np.mean(X[:,0]))\n",
    "print('군집1 평균 :',np.mean(X[model1.labels_ == 0, 0]), ', 군집1 원소 수 :', np.count_nonzero(X[model1.labels_, 0] == 2))\n",
    "print('군집2 평균 :',np.mean(X[model1.labels_ == 1, 0]), ', 군집2 원소 수 :', np.count_nonzero(X[model1.labels_, 0] == 3))"
   ]
  },
  {
   "cell_type": "code",
   "execution_count": 180,
   "metadata": {},
   "outputs": [
    {
     "name": "stdout",
     "output_type": "stream",
     "text": [
      "----- model10 -----\n",
      "전체 평균 : 13.0\n",
      "군집1 평균 : 7.0 , 군집1 원소 수 : 6\n",
      "군집2 평균 : 25.0 , 군집2 원소 수 : 3\n"
     ]
    }
   ],
   "source": [
    "print(\"----- model10 -----\")\n",
    "print('전체 평균 :',np.mean(X[:,0]))\n",
    "print('군집1 평균 :',np.mean(X[model10.labels_ == 0, 0]), ', 군집1 원소 수 :', np.count_nonzero(X[model10.labels_, 0] == 2))\n",
    "print('군집2 평균 :',np.mean(X[model10.labels_ == 1, 0]), ', 군집2 원소 수 :', np.count_nonzero(X[model10.labels_, 0] == 3))"
   ]
  },
  {
   "cell_type": "code",
   "execution_count": 187,
   "metadata": {},
   "outputs": [],
   "source": [
    "# 2. Cohesion 측정"
   ]
  },
  {
   "cell_type": "code",
   "execution_count": 202,
   "metadata": {},
   "outputs": [
    {
     "name": "stdout",
     "output_type": "stream",
     "text": [
      "1회차 분리도\n",
      "450.0\n",
      "----------------------\n",
      "10회차 분리도\n",
      "648.0\n"
     ]
    }
   ],
   "source": [
    "print('1회차 분리도')\n",
    "k_cohesion(model1, c0, c1)\n",
    "print('----------------------')\n",
    "print('10회차 분리도')\n",
    "k_cohesion(model10, c100, c101)"
   ]
  },
  {
   "cell_type": "code",
   "execution_count": 183,
   "metadata": {},
   "outputs": [
    {
     "data": {
      "text/plain": [
       "(array([11.,  0.]), array([3., 0.]), array([25.,  0.]))"
      ]
     },
     "execution_count": 183,
     "metadata": {},
     "output_type": "execute_result"
    }
   ],
   "source": [
    "# 비교군집 10회차 + 3클러스터\n",
    "model3 = KMeans(n_clusters = 3, init = 'random', n_init = 100, max_iter = 100, random_state = 1).fit(X)\n",
    "c30, c31, c32 = model3.cluster_centers_\n",
    "c30, c31, c32"
   ]
  },
  {
   "cell_type": "code",
   "execution_count": 184,
   "metadata": {},
   "outputs": [],
   "source": [
    "# 3. 유사성 매트릭스 평가"
   ]
  },
  {
   "cell_type": "code",
   "execution_count": 185,
   "metadata": {},
   "outputs": [
    {
     "data": {
      "text/plain": [
       "9"
      ]
     },
     "execution_count": 185,
     "metadata": {},
     "output_type": "execute_result"
    }
   ],
   "source": [
    "list1 = []\n",
    "list1.clear()\n",
    "np.count_nonzero(X)"
   ]
  },
  {
   "cell_type": "code",
   "execution_count": 161,
   "metadata": {},
   "outputs": [
    {
     "data": {
      "text/plain": [
       "[[1, 1, 1, 0, 0, 0, 0, 0, 0],\n",
       " [1, 1, 1, 0, 0, 0, 0, 0, 0],\n",
       " [1, 1, 1, 0, 0, 0, 0, 0, 0],\n",
       " [0, 0, 0, 1, 1, 1, 1, 1, 1],\n",
       " [0, 0, 0, 1, 1, 1, 1, 1, 1],\n",
       " [0, 0, 0, 1, 1, 1, 1, 1, 1],\n",
       " [0, 0, 0, 1, 1, 1, 1, 1, 1],\n",
       " [0, 0, 0, 1, 1, 1, 1, 1, 1],\n",
       " [0, 0, 0, 1, 1, 1, 1, 1, 1]]"
      ]
     },
     "execution_count": 161,
     "metadata": {},
     "output_type": "execute_result"
    }
   ],
   "source": [
    "s_matrix(model1)\n",
    "list1"
   ]
  },
  {
   "cell_type": "code",
   "execution_count": 162,
   "metadata": {},
   "outputs": [
    {
     "data": {
      "text/plain": [
       "[[1, 1, 1, 0, 0, 0, 0, 0, 0],\n",
       " [1, 1, 1, 0, 0, 0, 0, 0, 0],\n",
       " [1, 1, 1, 0, 0, 0, 0, 0, 0],\n",
       " [0, 0, 0, 1, 1, 1, 0, 0, 0],\n",
       " [0, 0, 0, 1, 1, 1, 0, 0, 0],\n",
       " [0, 0, 0, 1, 1, 1, 0, 0, 0],\n",
       " [0, 0, 0, 0, 0, 0, 1, 1, 1],\n",
       " [0, 0, 0, 0, 0, 0, 1, 1, 1],\n",
       " [0, 0, 0, 0, 0, 0, 1, 1, 1]]"
      ]
     },
     "execution_count": 162,
     "metadata": {},
     "output_type": "execute_result"
    }
   ],
   "source": [
    "list1.clear()\n",
    "s_matrix(model3)\n",
    "list1"
   ]
  },
  {
   "cell_type": "code",
   "execution_count": 164,
   "metadata": {},
   "outputs": [],
   "source": [
    "# 4. Entropy 평가"
   ]
  },
  {
   "cell_type": "code",
   "execution_count": 167,
   "metadata": {},
   "outputs": [
    {
     "data": {
      "text/plain": [
       "(array([3., 0.]), array([18.,  0.]))"
      ]
     },
     "execution_count": 167,
     "metadata": {},
     "output_type": "execute_result"
    }
   ],
   "source": [
    "# k-means 2회차 비교군집\n",
    "model2 = KMeans(n_clusters = 2, init = np.array([[3, 0], [4, 0]]), n_init = 1, max_iter = 2, random_state = 1).fit(X)\n",
    "c20, c21 = model1.cluster_centers_\n",
    "c20, c21"
   ]
  },
  {
   "cell_type": "code",
   "execution_count": 168,
   "metadata": {},
   "outputs": [
    {
     "data": {
      "image/png": "[encoded data removed]",
      "text/plain": [
       "<Figure size 432x288 with 1 Axes>"
      ]
     },
     "metadata": {
      "needs_background": "light"
     },
     "output_type": "display_data"
    }
   ],
   "source": [
    "plot_cluster(model2, c20, c21)"
   ]
  },
  {
   "cell_type": "code",
   "execution_count": 195,
   "metadata": {},
   "outputs": [
    {
     "name": "stdout",
     "output_type": "stream",
     "text": [
      "1회차 : 0.9182958340544894\n",
      "2회차 : 0.9910760598382222\n",
      "클러스터3 : 0.9999999999999998\n"
     ]
    }
   ],
   "source": [
    "# 1에 가까울 수록 좋다.\n",
    "\n",
    "print('1회차 :',entropy(model1.labels_))\n",
    "print('2회차 :',entropy(model2.labels_))\n",
    "print('클러스터3 :',entropy(model3.labels_))"
   ]
  },
  {
   "cell_type": "markdown",
   "metadata": {},
   "source": [
    "# 4. Internal Measures: SSE"
   ]
  },
  {
   "cell_type": "markdown",
   "metadata": {},
   "source": [
    "- 클러스터링 방법이나 외부조건과 관계없이 분석 결과 자체 정보만으로 클러스터의 우수성을 평가할 수 있음\n",
    "- 두 개 이상의 클러스터링 분석 결과를 비교하거나 다른 클러스터링 방법의 결과를 서로 비교하는데 좋은 기준이 됨\n",
    "- 좋은 군집의 수 k를 찾는 방법으로 사용 가능함"
   ]
  },
  {
   "cell_type": "markdown",
   "metadata": {},
   "source": [
    "## 4.1.  PYTHON 실습4. SSE 기반의 k 탐색 실습"
   ]
  },
  {
   "cell_type": "code",
   "execution_count": 172,
   "metadata": {},
   "outputs": [
    {
     "data": {
      "text/plain": [
       "[798.0, 150.0, 54.0, 16.5, 4.0, 2.5, 1.0, 0.5, 0.0]"
      ]
     },
     "execution_count": 172,
     "metadata": {},
     "output_type": "execute_result"
    }
   ],
   "source": [
    "ks = range(1, 10)\n",
    "inertias = []\n",
    "\n",
    "for k in ks :\n",
    "    model = KMeans(n_clusters = k)\n",
    "    model.fit(X)\n",
    "    inertias.append(model.inertia_)\n",
    "\n",
    "inertias  # SSE값(응집도)"
   ]
  },
  {
   "cell_type": "code",
   "execution_count": 171,
   "metadata": {},
   "outputs": [
    {
     "data": {
      "image/png": "[encoded data removed]",
      "text/plain": [
       "<Figure size 432x288 with 1 Axes>"
      ]
     },
     "metadata": {
      "needs_background": "light"
     },
     "output_type": "display_data"
    }
   ],
   "source": [
    "# Plot ks vs inertias\n",
    "plt.plot(ks, inertias, '-o')\n",
    "plt.xlabel('number of clusters, k')\n",
    "plt.ylabel('SSE')\n",
    "plt.xticks(ks)\n",
    "plt.show()"
   ]
  },
  {
   "cell_type": "markdown",
   "metadata": {},
   "source": [
    "## 4.2. PYTHON 실습5. K-means 2차원 데이터"
   ]
  },
  {
   "cell_type": "code",
   "execution_count": null,
   "metadata": {},
   "outputs": [],
   "source": []
  },
  {
   "cell_type": "code",
   "execution_count": null,
   "metadata": {},
   "outputs": [],
   "source": []
  },
  {
   "cell_type": "code",
   "execution_count": null,
   "metadata": {},
   "outputs": [],
   "source": []
  },
  {
   "cell_type": "code",
   "execution_count": null,
   "metadata": {},
   "outputs": [],
   "source": []
  },
  {
   "cell_type": "code",
   "execution_count": null,
   "metadata": {},
   "outputs": [],
   "source": []
  },
  {
   "cell_type": "code",
   "execution_count": null,
   "metadata": {},
   "outputs": [],
   "source": []
  },
  {
   "cell_type": "code",
   "execution_count": null,
   "metadata": {},
   "outputs": [],
   "source": []
  },
  {
   "cell_type": "code",
   "execution_count": null,
   "metadata": {},
   "outputs": [],
   "source": []
  },
  {
   "cell_type": "markdown",
   "metadata": {},
   "source": [
    "# 5. K-Means 기법의 특징"
   ]
  },
  {
   "cell_type": "markdown",
   "metadata": {},
   "source": [
    "- 장점\n",
    "    - 상대적 효율성: O(tkn), where n is # objects, k is # clusters,\n",
    "      and t is # iterations. Normally, k, t << n.\n",
    "    - 주로 **local optimum** 클러스터 군집을 찾음. The global optimum 군집의 경우, 다수의 초기 seed 선택,\n",
    "      진화적 seed 선택 등의 개선된 기법들이 필요함\n",
    "\n",
    "\n",
    "- 단점\n",
    "    - 중심값을 구할 수 있는 경우에 적용가능함. 아이템 형식의 데이터를 대상으로 적용하기 어려움\n",
    "    - k, **the number of clusters**가 적절히 정의되어야 함\n",
    "    - 잡음 데이터나 이상치 데이터에 영향을 받음\n",
    "    - 임의 모양의 클러스터 군집을 찾는데 적합하지 않음 "
   ]
  },
  {
   "cell_type": "markdown",
   "metadata": {},
   "source": [
    "- 한계점\n",
    "    - K-means 는 군집들이 다양성을 가질때 효율적이지 못함\n",
    "        - 군집의 크기\n",
    "        <img src=\"img/22.png\" width=\"70%\">\n",
    "        - 군집의 밀도\n",
    "        <img src=\"img/23.png\" width=\"70%\">\n",
    "        - 비원형 형태의 군집\n",
    "        <img src=\"img/24.png\" width=\"70%\">\n",
    "    - K-means 이상치를 포함한 데이터 처리에 부적합함"
   ]
  },
  {
   "cell_type": "code",
   "execution_count": 1,
   "metadata": {},
   "outputs": [
    {
     "data": {
      "application/javascript": [
       "$.getScript('https://kmahelona.github.io/ipython_notebook_goodies/ipython_notebook_toc.js')\n"
      ],
      "text/plain": [
       "<IPython.core.display.Javascript object>"
      ]
     },
     "metadata": {},
     "output_type": "display_data"
    }
   ],
   "source": [
    "%%javascript\n",
    "$.getScript('https://kmahelona.github.io/ipython_notebook_goodies/ipython_notebook_toc.js')"
   ]
  }
 ],
 "metadata": {
  "kernelspec": {
   "display_name": "Python 3.8.3 64-bit",
   "language": "python",
   "name": "python38364bitc7d172dfbcaf4c84b1b0b3dca7174a39"
  },
  "language_info": {
   "codemirror_mode": {
    "name": "ipython",
    "version": 3
   },
   "file_extension": ".py",
   "mimetype": "text/x-python",
   "name": "python",
   "nbconvert_exporter": "python",
   "pygments_lexer": "ipython3",
   "version": "3.8.3"
  }
 },
 "nbformat": 4,
 "nbformat_minor": 4
}
