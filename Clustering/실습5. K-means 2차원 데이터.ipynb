{
 "cells": [
  {
   "cell_type": "code",
   "execution_count": 6,
   "metadata": {},
   "outputs": [
    {
     "data": {
      "image/png": "[encoded data removed]",
      "text/plain": [
       "<Figure size 432x288 with 1 Axes>"
      ]
     },
     "metadata": {},
     "output_type": "display_data"
    }
   ],
   "source": [
    "from __future__ import print_function\n",
    "\n",
    "from sklearn.datasets import make_blobs\n",
    "from sklearn.cluster import KMeans\n",
    "from sklearn.metrics import silhouette_samples, silhouette_score\n",
    "\n",
    "import matplotlib.pyplot as plt\n",
    "import matplotlib.cm as cm\n",
    "import numpy as np\n",
    "import pandas as pd\n",
    "\n",
    "X = np.array([[7, 5], [5, 7], [7, 7], [4, 4], [4, 6], [1, 4],\n",
    "              [0, 0], [2, 2], [8, 7], [6, 8], [5, 5], [3, 7]])\n",
    "plt.scatter(X[:, 0], X[:, 1], s=100)\n",
    "plt.show()"
   ]
  },
  {
   "cell_type": "code",
   "execution_count": 3,
   "metadata": {},
   "outputs": [
    {
     "data": {
      "text/plain": [
       "(array([5.625, 6.5  ]), array([1.75, 2.5 ]))"
      ]
     },
     "execution_count": 3,
     "metadata": {},
     "output_type": "execute_result"
    }
   ],
   "source": [
    "# k=2\n",
    "\n",
    "model2 = KMeans(n_clusters=2, init=\"random\", n_init=1,\n",
    "               max_iter=100, random_state=1).fit(X)\n",
    "c0, c1 = model2.cluster_centers_\n",
    "c0, c1"
   ]
  },
  {
   "cell_type": "code",
   "execution_count": 5,
   "metadata": {},
   "outputs": [],
   "source": [
    "def plot_cluster(model, c0, c1):\n",
    "    plt.scatter(X[model.labels_ == 0, 0],\n",
    "                X[model.labels_ == 0, 1], s=100, marker='v', c='r')\n",
    "    plt.scatter(X[model.labels_ == 1, 0],\n",
    "                X[model.labels_ == 1, 1], s=100, marker='^', c='b')\n",
    "    plt.scatter(c0[0], c0[1], s=200, c=\"r\")\n",
    "    plt.scatter(c1[0], c1[1], s=200, c=\"b\")\n",
    "    plt.show()"
   ]
  },
  {
   "cell_type": "code",
   "execution_count": 7,
   "metadata": {},
   "outputs": [
    {
     "data": {
      "image/png": "[encoded data removed]",
      "text/plain": [
       "<Figure size 432x288 with 1 Axes>"
      ]
     },
     "metadata": {},
     "output_type": "display_data"
    }
   ],
   "source": [
    "plot_cluster(model2, c0, c1)"
   ]
  },
  {
   "cell_type": "code",
   "execution_count": 8,
   "metadata": {},
   "outputs": [
    {
     "data": {
      "text/plain": [
       "(array([7.  , 6.75]), array([1., 2.]), array([4.2, 5.8]))"
      ]
     },
     "execution_count": 8,
     "metadata": {},
     "output_type": "execute_result"
    }
   ],
   "source": [
    "# k=3\n",
    "\n",
    "model3 = KMeans(n_clusters=3, init=\"random\", n_init=1,\n",
    "               max_iter=100, random_state=1).fit(X)\n",
    "c30, c31, c32 = model3.cluster_centers_\n",
    "c30, c31, c32"
   ]
  },
  {
   "cell_type": "code",
   "execution_count": 9,
   "metadata": {},
   "outputs": [],
   "source": [
    "def plot_cluster3(model, c0, c1, c2):\n",
    "    plt.scatter(X[model.labels_ == 0, 0],\n",
    "                X[model.labels_ == 0, 1], s=100, marker='v', c='r')\n",
    "    plt.scatter(X[model.labels_ == 1, 0],\n",
    "                X[model.labels_ == 1, 1], s=100, marker='^', c='b')\n",
    "    plt.scatter(X[model.labels_ == 2, 0],\n",
    "                X[model.labels_ == 2, 1], s=100, marker='v', c='g')\n",
    "    plt.scatter(c0[0], c0[1], s=200, c=\"r\")\n",
    "    plt.scatter(c1[0], c1[1], s=200, c=\"b\")\n",
    "    plt.scatter(c2[0], c2[1], s=200, c=\"g\")\n",
    "    plt.show()"
   ]
  },
  {
   "cell_type": "code",
   "execution_count": 10,
   "metadata": {
    "scrolled": true
   },
   "outputs": [
    {
     "data": {
      "image/png": "[encoded data removed]",
      "text/plain": [
       "<Figure size 432x288 with 1 Axes>"
      ]
     },
     "metadata": {},
     "output_type": "display_data"
    }
   ],
   "source": [
    "plot_cluster3(model3, c30, c31, c32)"
   ]
  },
  {
   "cell_type": "code",
   "execution_count": 11,
   "metadata": {},
   "outputs": [
    {
     "data": {
      "text/plain": [
       "(array([7.  , 6.75]),\n",
       " array([1., 2.]),\n",
       " array([4.        , 6.66666667]),\n",
       " array([4.5, 4.5]))"
      ]
     },
     "execution_count": 11,
     "metadata": {},
     "output_type": "execute_result"
    }
   ],
   "source": [
    "# k=4\n",
    "\n",
    "model4 = KMeans(n_clusters=4, init=\"random\", n_init=1,\n",
    "               max_iter=100, random_state=1).fit(X)\n",
    "c40, c41, c42, c43 = model4.cluster_centers_\n",
    "c40, c41, c42, c43"
   ]
  },
  {
   "cell_type": "code",
   "execution_count": 12,
   "metadata": {},
   "outputs": [],
   "source": [
    "def plot_cluster4(model, c0, c1, c2, c3):\n",
    "    plt.scatter(X[model.labels_ == 0, 0],\n",
    "                X[model.labels_ == 0, 1], s=100, marker='v', c='r')\n",
    "    plt.scatter(X[model.labels_ == 1, 0],\n",
    "                X[model.labels_ == 1, 1], s=100, marker='^', c='b')\n",
    "    plt.scatter(X[model.labels_ == 2, 0],\n",
    "                X[model.labels_ == 2, 1], s=100, marker='v', c='g')\n",
    "    plt.scatter(X[model.labels_ == 3, 0],\n",
    "                X[model.labels_ == 3, 1], s=100, marker='^', c='y')\n",
    "    plt.scatter(c0[0], c0[1], s=200, c=\"r\")\n",
    "    plt.scatter(c1[0], c1[1], s=200, c=\"b\")\n",
    "    plt.scatter(c2[0], c2[1], s=200, c=\"g\")\n",
    "    plt.scatter(c3[0], c3[1], s=200, c=\"y\")\n",
    "    plt.show()"
   ]
  },
  {
   "cell_type": "code",
   "execution_count": 13,
   "metadata": {
    "scrolled": true
   },
   "outputs": [
    {
     "data": {
      "image/png": "[encoded data removed]",
      "text/plain": [
       "<Figure size 432x288 with 1 Axes>"
      ]
     },
     "metadata": {},
     "output_type": "display_data"
    }
   ],
   "source": [
    "plot_cluster4(model4, c40, c41, c42, c43)"
   ]
  },
  {
   "cell_type": "code",
   "execution_count": 14,
   "metadata": {},
   "outputs": [
    {
     "data": {
      "text/plain": [
       "[130.33333333333334,\n",
       " 45.77777777777777,\n",
       " 26.35,\n",
       " 18.85,\n",
       " 12.916666666666666,\n",
       " 10.416666666666666,\n",
       " 6.333333333333333,\n",
       " 3.5,\n",
       " 2.5]"
      ]
     },
     "execution_count": 14,
     "metadata": {},
     "output_type": "execute_result"
    }
   ],
   "source": [
    "ks = range(1,10)\n",
    "inertias = []\n",
    "\n",
    "for k in ks:\n",
    "    model = KMeans(n_clusters=k)\n",
    "    model.fit(X)\n",
    "    inertias.append(model.inertia_)\n",
    "    \n",
    "inertias"
   ]
  },
  {
   "cell_type": "code",
   "execution_count": 15,
   "metadata": {},
   "outputs": [
    {
     "data": {
      "image/png": "[encoded data removed]",
      "text/plain": [
       "<Figure size 432x288 with 1 Axes>"
      ]
     },
     "metadata": {},
     "output_type": "display_data"
    }
   ],
   "source": [
    "# Plot ks vs inertias\n",
    "plt.plot(ks, inertias, '-o')\n",
    "plt.xlabel('number of clusters, k')\n",
    "plt.ylabel('SSE')\n",
    "plt.xticks(ks)\n",
    "plt.show()"
   ]
  },
  {
   "cell_type": "code",
   "execution_count": 18,
   "metadata": {},
   "outputs": [
    {
     "data": {
      "text/plain": [
       "(array([0, 0, 0, 1, 0, 1, 1, 1, 0, 0, 0, 0]),\n",
       " array([0, 2, 0, 2, 2, 1, 1, 1, 0, 0, 2, 2]),\n",
       " array([0, 2, 0, 3, 2, 1, 1, 1, 0, 0, 3, 2]))"
      ]
     },
     "execution_count": 18,
     "metadata": {},
     "output_type": "execute_result"
    }
   ],
   "source": [
    "model2.labels_, model3.labels_, model4.labels_"
   ]
  },
  {
   "cell_type": "code",
   "execution_count": 23,
   "metadata": {},
   "outputs": [],
   "source": [
    "def k_cohesion2(model1):\n",
    "    total_mean=np.mean(X[:,0])\n",
    "    m1=np.mean(X[model1.labels_==0,0])\n",
    "    m2=np.mean(X[model1.labels_==1,0])\n",
    "    count1=np.count_nonzero(model1.labels_== 0)\n",
    "    count2=np.count_nonzero(model1.labels_== 1)\n",
    "    separation=count1*(total_mean-m1)**2+count2*(m2-total_mean)**2\n",
    "    #print(total_mean, m1, m2, count1, count2, separation)\n",
    "    print(separation)"
   ]
  },
  {
   "cell_type": "code",
   "execution_count": 20,
   "metadata": {},
   "outputs": [],
   "source": [
    "def k_cohesion3(model1):\n",
    "    total_mean=np.mean(X[:,0])\n",
    "    m1=np.mean(X[model1.labels_==0,0])\n",
    "    m2=np.mean(X[model1.labels_==1,0])\n",
    "    m3=np.mean(X[model1.labels_==2,0])\n",
    "    count1=np.count_nonzero(model1.labels_== 0)\n",
    "    count2=np.count_nonzero(model1.labels_== 1)\n",
    "    count3=np.count_nonzero(model1.labels_== 2)\n",
    "    separation=count1*(total_mean-m1)**2+count2*(m2-total_mean)**2+count3*(m3-total_mean)**2\n",
    "    print(separation)"
   ]
  },
  {
   "cell_type": "code",
   "execution_count": 21,
   "metadata": {},
   "outputs": [],
   "source": [
    "def k_cohesion4(model1):\n",
    "    total_mean=np.mean(X[:,0])\n",
    "    m1=np.mean(X[model1.labels_==0,0])\n",
    "    m2=np.mean(X[model1.labels_==1,0])\n",
    "    m3=np.mean(X[model1.labels_==2,0])\n",
    "    m4=np.mean(X[model1.labels_==3,0])\n",
    "    count1=np.count_nonzero(model1.labels_== 0)\n",
    "    count2=np.count_nonzero(model1.labels_== 1)\n",
    "    count3=np.count_nonzero(model1.labels_== 2)\n",
    "    count4=np.count_nonzero(model1.labels_== 3)\n",
    "    separation=count1*(total_mean-m1)**2+count2*(m2-total_mean)**2+count3*(m3-total_mean)**2+count4*(m4-total_mean)**2\n",
    "    print(separation)"
   ]
  },
  {
   "cell_type": "code",
   "execution_count": 31,
   "metadata": {
    "scrolled": false
   },
   "outputs": [
    {
     "name": "stdout",
     "output_type": "stream",
     "text": [
      "40.04166666666667\n",
      "61.86666666666667\n",
      "62.16666666666667\n"
     ]
    },
    {
     "data": {
      "text/plain": [
       "(None, None, None)"
      ]
     },
     "execution_count": 31,
     "metadata": {},
     "output_type": "execute_result"
    }
   ],
   "source": [
    "#Cohesions \n",
    "k_cohesion2(model2), k_cohesion3(model3), k_cohesion4(model4)"
   ]
  },
  {
   "cell_type": "code",
   "execution_count": 38,
   "metadata": {},
   "outputs": [
    {
     "data": {
      "text/plain": [
       "12"
      ]
     },
     "execution_count": 38,
     "metadata": {},
     "output_type": "execute_result"
    }
   ],
   "source": [
    "#3. 유사성 매트릭스 평가\n",
    "list1=[]\n",
    "list1.clear()\n",
    "len(X)"
   ]
  },
  {
   "cell_type": "code",
   "execution_count": 39,
   "metadata": {},
   "outputs": [],
   "source": [
    "def s_matrix(model1):\n",
    "    for i in range(0,len(X)):\n",
    "        list1.append([])\n",
    "        for j in range(0,len(X)):\n",
    "            if model1.labels_[i]==model1.labels_[j]:\n",
    "                list1[i].append(1)\n",
    "            else :\n",
    "                list1[i].append(0)"
   ]
  },
  {
   "cell_type": "code",
   "execution_count": 40,
   "metadata": {},
   "outputs": [
    {
     "data": {
      "text/plain": [
       "[[1, 1, 1, 0, 1, 0, 0, 0, 1, 1, 1, 1],\n",
       " [1, 1, 1, 0, 1, 0, 0, 0, 1, 1, 1, 1],\n",
       " [1, 1, 1, 0, 1, 0, 0, 0, 1, 1, 1, 1],\n",
       " [0, 0, 0, 1, 0, 1, 1, 1, 0, 0, 0, 0],\n",
       " [1, 1, 1, 0, 1, 0, 0, 0, 1, 1, 1, 1],\n",
       " [0, 0, 0, 1, 0, 1, 1, 1, 0, 0, 0, 0],\n",
       " [0, 0, 0, 1, 0, 1, 1, 1, 0, 0, 0, 0],\n",
       " [0, 0, 0, 1, 0, 1, 1, 1, 0, 0, 0, 0],\n",
       " [1, 1, 1, 0, 1, 0, 0, 0, 1, 1, 1, 1],\n",
       " [1, 1, 1, 0, 1, 0, 0, 0, 1, 1, 1, 1],\n",
       " [1, 1, 1, 0, 1, 0, 0, 0, 1, 1, 1, 1],\n",
       " [1, 1, 1, 0, 1, 0, 0, 0, 1, 1, 1, 1]]"
      ]
     },
     "execution_count": 40,
     "metadata": {},
     "output_type": "execute_result"
    }
   ],
   "source": [
    "s_matrix(model2)\n",
    "list1"
   ]
  },
  {
   "cell_type": "code",
   "execution_count": 42,
   "metadata": {},
   "outputs": [
    {
     "data": {
      "text/plain": [
       "[[1, 0, 1, 0, 0, 0, 0, 0, 1, 1, 0, 0],\n",
       " [0, 1, 0, 1, 1, 0, 0, 0, 0, 0, 1, 1],\n",
       " [1, 0, 1, 0, 0, 0, 0, 0, 1, 1, 0, 0],\n",
       " [0, 1, 0, 1, 1, 0, 0, 0, 0, 0, 1, 1],\n",
       " [0, 1, 0, 1, 1, 0, 0, 0, 0, 0, 1, 1],\n",
       " [0, 0, 0, 0, 0, 1, 1, 1, 0, 0, 0, 0],\n",
       " [0, 0, 0, 0, 0, 1, 1, 1, 0, 0, 0, 0],\n",
       " [0, 0, 0, 0, 0, 1, 1, 1, 0, 0, 0, 0],\n",
       " [1, 0, 1, 0, 0, 0, 0, 0, 1, 1, 0, 0],\n",
       " [1, 0, 1, 0, 0, 0, 0, 0, 1, 1, 0, 0],\n",
       " [0, 1, 0, 1, 1, 0, 0, 0, 0, 0, 1, 1],\n",
       " [0, 1, 0, 1, 1, 0, 0, 0, 0, 0, 1, 1]]"
      ]
     },
     "execution_count": 42,
     "metadata": {},
     "output_type": "execute_result"
    }
   ],
   "source": [
    "list1.clear()\n",
    "s_matrix(model3)\n",
    "list1"
   ]
  },
  {
   "cell_type": "code",
   "execution_count": 43,
   "metadata": {},
   "outputs": [
    {
     "data": {
      "text/plain": [
       "[[1, 0, 1, 0, 0, 0, 0, 0, 1, 1, 0, 0],\n",
       " [0, 1, 0, 0, 1, 0, 0, 0, 0, 0, 0, 1],\n",
       " [1, 0, 1, 0, 0, 0, 0, 0, 1, 1, 0, 0],\n",
       " [0, 0, 0, 1, 0, 0, 0, 0, 0, 0, 1, 0],\n",
       " [0, 1, 0, 0, 1, 0, 0, 0, 0, 0, 0, 1],\n",
       " [0, 0, 0, 0, 0, 1, 1, 1, 0, 0, 0, 0],\n",
       " [0, 0, 0, 0, 0, 1, 1, 1, 0, 0, 0, 0],\n",
       " [0, 0, 0, 0, 0, 1, 1, 1, 0, 0, 0, 0],\n",
       " [1, 0, 1, 0, 0, 0, 0, 0, 1, 1, 0, 0],\n",
       " [1, 0, 1, 0, 0, 0, 0, 0, 1, 1, 0, 0],\n",
       " [0, 0, 0, 1, 0, 0, 0, 0, 0, 0, 1, 0],\n",
       " [0, 1, 0, 0, 1, 0, 0, 0, 0, 0, 0, 1]]"
      ]
     },
     "execution_count": 43,
     "metadata": {},
     "output_type": "execute_result"
    }
   ],
   "source": [
    "list1.clear()\n",
    "s_matrix(model4)\n",
    "list1"
   ]
  },
  {
   "cell_type": "code",
   "execution_count": 44,
   "metadata": {},
   "outputs": [],
   "source": [
    "def entropy(labels):\n",
    "    \"\"\" Computes entropy of 0-1 vector. \"\"\"\n",
    "    n_labels = len(labels)\n",
    "\n",
    "    if n_labels <= 1:\n",
    "        return 0\n",
    "\n",
    "    counts = np.bincount(labels)\n",
    "    probs = counts[np.nonzero(counts)] / n_labels\n",
    "    n_classes = len(probs)\n",
    "\n",
    "    if n_classes <= 1:\n",
    "        return 0\n",
    "    return - np.sum(probs * np.log(probs)) / np.log(n_classes)"
   ]
  },
  {
   "cell_type": "code",
   "execution_count": 45,
   "metadata": {},
   "outputs": [
    {
     "data": {
      "text/plain": [
       "(0.9182958340544894, 0.9808340377961401, 0.9795739585136223)"
      ]
     },
     "execution_count": 45,
     "metadata": {},
     "output_type": "execute_result"
    }
   ],
   "source": [
    "entropy(model2.labels_),entropy(model3.labels_),entropy(model4.labels_)"
   ]
  },
  {
   "cell_type": "code",
   "execution_count": null,
   "metadata": {},
   "outputs": [],
   "source": []
  }
 ],
 "metadata": {
  "kernelspec": {
   "display_name": "Python 3",
   "language": "python",
   "name": "python3"
  },
  "language_info": {
   "codemirror_mode": {
    "name": "ipython",
    "version": 3
   },
   "file_extension": ".py",
   "mimetype": "text/x-python",
   "name": "python",
   "nbconvert_exporter": "python",
   "pygments_lexer": "ipython3",
   "version": "3.8.3"
  }
 },
 "nbformat": 4,
 "nbformat_minor": 2
}
