{
 "cells": [
  {
   "cell_type": "markdown",
   "metadata": {},
   "source": [
    "앙상블"
   ]
  },
  {
   "cell_type": "markdown",
   "metadata": {},
   "source": [
    "Contents\n",
    "<div id=\"toc\"></div>"
   ]
  },
  {
   "cell_type": "markdown",
   "metadata": {},
   "source": [
    "# 1. 앙상블 (Ensenbles)"
   ]
  },
  {
   "cell_type": "markdown",
   "metadata": {},
   "source": [
    "**결정트리의 최대단점!!**  \n",
    "<span class=\"mark\">과적합</span>(overfitting)이 너무 잘 일어난다."
   ]
  },
  {
   "cell_type": "markdown",
   "metadata": {},
   "source": [
    "$\\rightarrow$ 여러 개의 약한 분류기(Classifier)를 생성하고, 그 예측을 결합함으로써 보다 정확한 최종 예측을 도출하는 기법"
   ]
  },
  {
   "cell_type": "markdown",
   "metadata": {},
   "source": [
    "1. Voting : DT, KNN, LR, SVM, ... 등 여러 알고리즘 사용\n",
    "2. Bagging : 데이터를 쪼게 ? 동일한 알고리즘에 파라미터를 다르게?\n",
    "3. Boosting : 오답노트 -> 오답에 대해 가중치 부여하는 방법으로 모델 수정"
   ]
  },
  {
   "cell_type": "markdown",
   "metadata": {},
   "source": [
    "# 2. Voting"
   ]
  },
  {
   "cell_type": "markdown",
   "metadata": {},
   "source": [
    "- 서로 다른 ML 알고리즘으로 여러 개의 분류기를 생성하고, 투표(Vote)를 통해 최종 예측 결과를 결정하는 방식\n",
    "<img src=\"img/ch1_5.png\" width=\"40%\">  \n",
    "※ 사이킷런에서는 **VotingClassifier** 클래스로 제공됨"
   ]
  },
  {
   "cell_type": "markdown",
   "metadata": {},
   "source": [
    "## 2.1. Soft Voting"
   ]
  },
  {
   "cell_type": "markdown",
   "metadata": {},
   "source": [
    "- 모든 분류기마다 레이블 값에 대한 확률 구함. 레이블 마다 평균 확률을 구한 뒤 확률이 가장 높은 레이블 채택\\\n",
    "<img src=\"img/ch1_7.png\" width=\"50%\">  "
   ]
  },
  {
   "cell_type": "markdown",
   "metadata": {},
   "source": [
    "## 2.2. Hard"
   ]
  },
  {
   "cell_type": "markdown",
   "metadata": {},
   "source": [
    "- 다수의 분류기가 예측한 결과값을 최종 결과로 선정\n",
    "<img src=\"img/ch1_6.png\" width=\"50%\">  "
   ]
  },
  {
   "cell_type": "markdown",
   "metadata": {},
   "source": [
    "# 3. Bagging"
   ]
  },
  {
   "cell_type": "markdown",
   "metadata": {},
   "source": [
    "<img src=\"img/ch1_1.png\" width=\"60%\">"
   ]
  },
  {
   "cell_type": "markdown",
   "metadata": {},
   "source": [
    "여러 개의 분류기가 투표를 통해 최종 예측 결과를 결정\n",
    "- 분류기는 모두 같은 유형의 알고리즘 기반\n",
    "- 각각의 분류기는 서로 다른 데이터로 학습(부트스트랩)\n",
    "- 가장 대표적인 것은 RandomForest 알고리즘"
   ]
  },
  {
   "cell_type": "markdown",
   "metadata": {},
   "source": [
    "1. 데이터셋을 여러 개 만들어서(Bootstrapping)\n",
    "    - N개의 데이터 중에 N개의 데이터를 중복 허용하여 추출함. (중복을 허용하므로 서로 다른 데이터 셋이 만들어짐)\n",
    "2. 각 데이터 셋으로 결정트로 알고리즘을 수행\n",
    "    - 서로 다른 형태의 결정트리가 생성되도록 해야함 $\\rightarrow$ 트리를 확장(split)할 때, 일부의 feature만 고려하도록 하여 랜덤성을 부여함\n",
    "    - 모델들은 서로 독립임, 병렬처리가 가능해짐\n",
    "3. 만들어진 여러 결정트리의 결과를 합하여 예측\n",
    "    - Categorical Data는 투표 방식(Votinig)으로 결과를 집계하며, Continuous Data는 평균으로 집계"
   ]
  },
  {
   "cell_type": "markdown",
   "metadata": {},
   "source": [
    "<img src=\"img/ch1_3.png\" width=\"40%\">"
   ]
  },
  {
   "cell_type": "markdown",
   "metadata": {},
   "source": [
    "## 실습"
   ]
  },
  {
   "cell_type": "code",
   "execution_count": 1,
   "metadata": {},
   "outputs": [],
   "source": [
    "from sklearn.datasets import load_breast_cancer\n",
    "from sklearn.model_selection import train_test_split\n",
    "\n",
    "cancer = load_breast_cancer()\n",
    "\n",
    "X_train, X_test, y_train, y_test = train_test_split(cancer.data, cancer.target, test_size=0.3)"
   ]
  },
  {
   "cell_type": "code",
   "execution_count": 2,
   "metadata": {},
   "outputs": [],
   "source": [
    "from sklearn.ensemble import RandomForestClassifier"
   ]
  },
  {
   "cell_type": "code",
   "execution_count": 3,
   "metadata": {},
   "outputs": [
    {
     "name": "stdout",
     "output_type": "stream",
     "text": [
      "학습데이터 정확도 : 1.0\n",
      "테스트데이어 정확도 : 0.96\n"
     ]
    }
   ],
   "source": [
    "# 객체 생성\n",
    "rf_clf = RandomForestClassifier(n_estimators = 100)\n",
    "\n",
    "# 학습\n",
    "rf_clf.fit(X_train, y_train)\n",
    "\n",
    "# 평가\n",
    "print('학습데이터 정확도 :', rf_clf.score(X_train, y_train))\n",
    "print('테스트데이어 정확도 : {:.2f}'.format(rf_clf.score(X_test, y_test)))"
   ]
  },
  {
   "cell_type": "code",
   "execution_count": 4,
   "metadata": {},
   "outputs": [
    {
     "name": "stdout",
     "output_type": "stream",
     "text": [
      "학습데이터 정확도 : 0.992462311557789\n",
      "테스트데이어 정확도 : 0.95\n"
     ]
    }
   ],
   "source": [
    "from sklearn.model_selection import GridSearchCV\n",
    "\n",
    "# 객체 생성\n",
    "rf_clf = RandomForestClassifier(n_estimators = 100)\n",
    "rf_params = {\n",
    "    'n_estimators':[100, 300, 500],\n",
    "    'max_depth':[3, 5, 7],\n",
    "    'n_jobs':[-1]\n",
    "}\n",
    "\n",
    "grid_rf = GridSearchCV(rf_clf, param_grid=rf_params, cv=5)\n",
    "\n",
    "# 학습\n",
    "grid_rf.fit(X_train, y_train)\n",
    "\n",
    "# 평가\n",
    "print('학습데이터 정확도 :', grid_rf.score(X_train, y_train))\n",
    "print('테스트데이어 정확도 : {:.2f}'.format(grid_rf.score(X_test, y_test)))"
   ]
  },
  {
   "cell_type": "code",
   "execution_count": 5,
   "metadata": {},
   "outputs": [
    {
     "data": {
      "text/plain": [
       "{'max_depth': 5, 'n_estimators': 300, 'n_jobs': -1}"
      ]
     },
     "execution_count": 5,
     "metadata": {},
     "output_type": "execute_result"
    }
   ],
   "source": [
    "grid_rf.best_params_"
   ]
  },
  {
   "cell_type": "code",
   "execution_count": 6,
   "metadata": {},
   "outputs": [
    {
     "data": {
      "text/plain": [
       "RandomForestClassifier(max_depth=5, n_estimators=300, n_jobs=-1)"
      ]
     },
     "execution_count": 6,
     "metadata": {},
     "output_type": "execute_result"
    }
   ],
   "source": [
    "grid_rf.best_estimator_"
   ]
  },
  {
   "cell_type": "code",
   "execution_count": 8,
   "metadata": {},
   "outputs": [],
   "source": [
    "import pandas as pd\n",
    "\n",
    "# grid_rf 에서 찾은 최적의 Randomforest 객체의 피처중요도를 bar 그래프로 그려보기\n",
    "rf_imp = pd.Series(grid_rf.best_estimator_.feature_importances_, index=cancer.feature_names)"
   ]
  },
  {
   "cell_type": "code",
   "execution_count": 9,
   "metadata": {},
   "outputs": [
    {
     "data": {
      "text/plain": [
       "<matplotlib.axes._subplots.AxesSubplot at 0x2c3ffa97cd0>"
      ]
     },
     "execution_count": 9,
     "metadata": {},
     "output_type": "execute_result"
    },
    {
     "data": {
      "image/png": "[encoded data removed]",
      "text/plain": [
       "<Figure size 432x288 with 1 Axes>"
      ]
     },
     "metadata": {
      "needs_background": "light"
     },
     "output_type": "display_data"
    }
   ],
   "source": [
    "rf_imp.plot(kind = 'barh')"
   ]
  },
  {
   "cell_type": "code",
   "execution_count": 10,
   "metadata": {},
   "outputs": [
    {
     "data": {
      "text/plain": [
       "<matplotlib.axes._subplots.AxesSubplot at 0x2c3ffee8820>"
      ]
     },
     "execution_count": 10,
     "metadata": {},
     "output_type": "execute_result"
    },
    {
     "data": {
      "image/png": "[encoded data removed]",
      "text/plain": [
       "<Figure size 432x288 with 1 Axes>"
      ]
     },
     "metadata": {
      "needs_background": "light"
     },
     "output_type": "display_data"
    }
   ],
   "source": [
    "import seaborn as sns\n",
    "rf_imp.sort_values(ascending=False, inplace=True)\n",
    "sns.barplot(x=rf_imp, y=rf_imp.index)"
   ]
  },
  {
   "cell_type": "markdown",
   "metadata": {},
   "source": [
    "# 4. Boosting"
   ]
  },
  {
   "cell_type": "markdown",
   "metadata": {},
   "source": [
    "<img src=\"img/ch1_2.png\" width=\"70%\">"
   ]
  },
  {
   "cell_type": "markdown",
   "metadata": {},
   "source": [
    "이전 트리의 오차를 보완하는 방식으로 순차적으로 트리를 개선시키는 방식\n",
    "- 여러 개의 분류기가 순차적으로 학습을 수행\n",
    "- 이전 분류기에서 예측이 틀렸던 데이터를 올바르게 예측할 수 있도록 다음 분류기에게는 가중치(weight)를 부여하면서 학습\n",
    "- 예측 성능이 뛰어나지만 병렬 처리가 힘들어 학습 속도가 매우 느림"
   ]
  },
  {
   "cell_type": "markdown",
   "metadata": {},
   "source": [
    "Bagging에서 데이터를 단순히 샘플링해서 각 모델에 적용한다면,  \n",
    "Boosting은 이전 모델들이 예측하지 못한 Error 데이터에 가중치를 부여하여, 다음 모델이 더 잘 예측하도록 한다."
   ]
  },
  {
   "cell_type": "markdown",
   "metadata": {},
   "source": [
    "<img src=\"img/ch1_4.png\" width=\"30%\">"
   ]
  },
  {
   "cell_type": "markdown",
   "metadata": {},
   "source": [
    "알고리즘 | 특징 | 비고\n",
    ":---: | :--- | :---\n",
    "AdaBoost | - 다수결을 통한 정답 분류 및 오답에 가중치 부여 | Scikit-learn에서 제공\n",
    "GBM | - Loss Function의 gradient를 통해 오답에 가중치 부여 | \n",
    "XGBoost |- GBM 대비 성능향상<br>- 시스템 자원 효율적 활용(CPU, Mem)<br>- Kaggle을 통한 성능 검증(많은 상위 랭커가 사용) | Sciki-learn에서 제공X<br>별도의 라이브러리 설치<br>최근 가장 많이 활용되는 boosting 방법들\n",
    "Light GBM | - XGBoost 대비 성능향상 및 자원소모 최소화<br>- XGBoost가 처리하지 못하는 대용량 데이터 학습 가능<br>- Approximates the split(근사치의 분할)을 통한 성능 향상"
   ]
  },
  {
   "cell_type": "markdown",
   "metadata": {},
   "source": [
    "||Random Forest (Bagging) | GBM (Boosting)\n",
    ":---: | :--- | :---\n",
    "장점 | - 모델 성능이 뛰어남.<br>- 파라미터 최적화를 많이 하지 않아도 훌륭한 성능을 보장<br>- 병렬 처리 <br>- 데이터 스케일을 맞출 필요도 없음 | - 지도 학습에서 가장 강력하고 널리 사용되는 모델 중 하나<br>- 데이터 스케일을 맞출 필요도 없음<br>- 파라미터 최적화 시, 매우 훌륭한 성능\n",
    "단점 | - 메모리 사용량이 많음. | - 파라미터 최적화가 필수. (미 최적화 시, 성능 보장 X)<br>- 학습 시간이 김.<br>- 병렬 처리가 어려움"
   ]
  },
  {
   "cell_type": "markdown",
   "metadata": {},
   "source": [
    "## GBM"
   ]
  },
  {
   "cell_type": "code",
   "execution_count": 11,
   "metadata": {},
   "outputs": [],
   "source": [
    "from sklearn.ensemble import GradientBoostingClassifier"
   ]
  },
  {
   "cell_type": "code",
   "execution_count": 12,
   "metadata": {},
   "outputs": [
    {
     "data": {
      "text/plain": [
       "GridSearchCV(cv=5, estimator=GradientBoostingClassifier(),\n",
       "             param_grid={'learning_rate': [0.05, 0.1], 'max_depth': [3, 5],\n",
       "                         'n_estimators': [100, 300]})"
      ]
     },
     "execution_count": 12,
     "metadata": {},
     "output_type": "execute_result"
    }
   ],
   "source": [
    "gb_clf = GradientBoostingClassifier()\n",
    "gb_params = {\n",
    "    'n_estimators':[100, 300],\n",
    "    'learning_rate':[0.05, 0.1],\n",
    "    'max_depth':[3, 5]\n",
    "}\n",
    "\n",
    "grib_gb = GridSearchCV(gb_clf, param_grid = gb_params, cv =5)\n",
    "grib_gb.fit(X_train, y_train)"
   ]
  },
  {
   "cell_type": "code",
   "execution_count": 13,
   "metadata": {},
   "outputs": [
    {
     "data": {
      "text/plain": [
       "0.9532163742690059"
      ]
     },
     "execution_count": 13,
     "metadata": {},
     "output_type": "execute_result"
    }
   ],
   "source": [
    "grib_gb.score(X_test, y_test)"
   ]
  },
  {
   "cell_type": "code",
   "execution_count": 14,
   "metadata": {},
   "outputs": [
    {
     "data": {
      "text/plain": [
       "{'learning_rate': 0.05, 'max_depth': 3, 'n_estimators': 300}"
      ]
     },
     "execution_count": 14,
     "metadata": {},
     "output_type": "execute_result"
    }
   ],
   "source": [
    "grib_gb.best_params_"
   ]
  },
  {
   "cell_type": "code",
   "execution_count": 15,
   "metadata": {},
   "outputs": [
    {
     "data": {
      "text/plain": [
       "array([1.97559350e-04, 2.28178564e-02, 2.06018874e-03, 5.85370390e-02,\n",
       "       1.01715790e-03, 1.64011408e-03, 4.51088210e-03, 2.91064390e-02,\n",
       "       6.75314810e-04, 1.66563299e-04, 2.87326616e-04, 4.00174060e-03,\n",
       "       3.38500674e-04, 1.20016124e-02, 1.50928871e-03, 4.82231536e-04,\n",
       "       2.45929446e-03, 2.21340675e-04, 8.58462105e-06, 1.24586966e-03,\n",
       "       1.31739131e-01, 3.01955770e-02, 1.50820890e-01, 5.30537383e-02,\n",
       "       5.94402065e-03, 2.41946616e-04, 6.99572496e-03, 4.75551753e-01,\n",
       "       1.84650045e-03, 3.25813590e-04])"
      ]
     },
     "execution_count": 15,
     "metadata": {},
     "output_type": "execute_result"
    }
   ],
   "source": [
    "grib_gb.best_estimator_.feature_importances_"
   ]
  },
  {
   "cell_type": "code",
   "execution_count": 16,
   "metadata": {
    "scrolled": true
   },
   "outputs": [
    {
     "data": {
      "text/plain": [
       "<matplotlib.axes._subplots.AxesSubplot at 0x2c38204aa00>"
      ]
     },
     "execution_count": 16,
     "metadata": {},
     "output_type": "execute_result"
    },
    {
     "data": {
      "image/png": "[encoded data removed]",
      "text/plain": [
       "<Figure size 432x288 with 1 Axes>"
      ]
     },
     "metadata": {
      "needs_background": "light"
     },
     "output_type": "display_data"
    }
   ],
   "source": [
    "import pandas as pd\n",
    "\n",
    "gb_imp = pd.Series(grib_gb.best_estimator_.feature_importances_, index=cancer.feature_names)\n",
    "\n",
    "import seaborn as sns\n",
    "gb_imp.sort_values(ascending=False, inplace=True)\n",
    "sns.barplot(x=gb_imp, y=gb_imp.index)"
   ]
  },
  {
   "cell_type": "markdown",
   "metadata": {},
   "source": [
    "## XGBoost"
   ]
  },
  {
   "cell_type": "markdown",
   "metadata": {},
   "source": [
    "- 뛰어난 예측 성능\n",
    "    - 분류와 회귀 영역에서 뛰어난 예측 성능 발휘 \n",
    "- GBM 대비 빠른 수행 시간  \n",
    "    - 일반적인 GBM은 순차적으로 weak learne가 가중치를 증감하는 방법으로 학습하기 때문에 병렬 수행이 불가능하여 학습 속도가 느림\n",
    "    - XGBoost는 병렬 수행 및 다양한 기능으로 빠른 학습 성능 보장.  \n",
    "      (GBM 대비 빠른 것이지, 결정트리, 랜덤포레스트 등 타 ML 알고리즘에 비해서는 느림)\n",
    "- 과적합 규제 \n",
    "    - 일반적인 GBM은 과적합 규제 기능 X\n",
    "- 나무 가지치기(Tree Pruning)\n",
    "    - 일반적인 GBM은 분할 시 부정 손실이 발생하면, 분할 수행 X. \n",
    "      (부정 손실이란 트리를 분할하면 오히려 엔트로피나 지니지수와 같은 정보 이득이 줄어듬을 의미함.)\n",
    "    - XGBoost는 max_depth까지 진행한 뒤 loss function 에서의 개선이 일정 threshold에 못미칠 경우까지 역방향으로 pruning과정을 수행.\n",
    "- 자체 내장된 교차 검증  \n",
    "    - 반복 수행 시마다 내부적으로 교차검증을 수행\n",
    "    - 조기 중단 기능 있음. (지정된 반복 횟수가 아니라 교차검증을 통해 최적화되면 반복을 멈춤)\n",
    "- 결손값 자체 처리\n",
    "    - 결손값을 자체 처리할 수 있는 기능 "
   ]
  },
  {
   "cell_type": "code",
   "execution_count": 18,
   "metadata": {},
   "outputs": [],
   "source": [
    "# pip install xgboost\n",
    "# conda install -c anaconda py-xgboost\n",
    "import xgboost as xgb"
   ]
  },
  {
   "cell_type": "code",
   "execution_count": 19,
   "metadata": {},
   "outputs": [
    {
     "data": {
      "text/plain": [
       "'1.1.1'"
      ]
     },
     "execution_count": 19,
     "metadata": {},
     "output_type": "execute_result"
    }
   ],
   "source": [
    "xgb.__version__"
   ]
  },
  {
   "cell_type": "code",
   "execution_count": 20,
   "metadata": {},
   "outputs": [],
   "source": [
    "from xgboost import XGBClassifier"
   ]
  },
  {
   "cell_type": "code",
   "execution_count": 21,
   "metadata": {},
   "outputs": [],
   "source": [
    "xgb_clf = XGBClassifier()"
   ]
  },
  {
   "cell_type": "code",
   "execution_count": 22,
   "metadata": {},
   "outputs": [
    {
     "data": {
      "text/plain": [
       "XGBClassifier(base_score=None, booster=None, colsample_bylevel=None,\n",
       "              colsample_bynode=None, colsample_bytree=None, gamma=None,\n",
       "              gpu_id=None, importance_type='gain', interaction_constraints=None,\n",
       "              learning_rate=None, max_delta_step=None, max_depth=None,\n",
       "              min_child_weight=None, missing=nan, monotone_constraints=None,\n",
       "              n_estimators=100, n_jobs=None, num_parallel_tree=None,\n",
       "              random_state=None, reg_alpha=None, reg_lambda=None,\n",
       "              scale_pos_weight=None, subsample=None, tree_method=None,\n",
       "              validate_parameters=None, verbosity=None)"
      ]
     },
     "execution_count": 22,
     "metadata": {},
     "output_type": "execute_result"
    }
   ],
   "source": [
    "xgb_clf"
   ]
  },
  {
   "cell_type": "code",
   "execution_count": 24,
   "metadata": {
    "collapsed": true
   },
   "outputs": [
    {
     "name": "stdout",
     "output_type": "stream",
     "text": [
      "[0]\tvalidation_0-logloss:0.49155\n",
      "Will train until validation_0-logloss hasn't improved in 400 rounds.\n",
      "[1]\tvalidation_0-logloss:0.37137\n",
      "[2]\tvalidation_0-logloss:0.29486\n",
      "[3]\tvalidation_0-logloss:0.24182\n",
      "[4]\tvalidation_0-logloss:0.20135\n",
      "[5]\tvalidation_0-logloss:0.17230\n",
      "[6]\tvalidation_0-logloss:0.15296\n",
      "[7]\tvalidation_0-logloss:0.14182\n",
      "[8]\tvalidation_0-logloss:0.13281\n",
      "[9]\tvalidation_0-logloss:0.12558\n",
      "[10]\tvalidation_0-logloss:0.11739\n",
      "[11]\tvalidation_0-logloss:0.11263\n",
      "[12]\tvalidation_0-logloss:0.11155\n",
      "[13]\tvalidation_0-logloss:0.10390\n",
      "[14]\tvalidation_0-logloss:0.10519\n",
      "[15]\tvalidation_0-logloss:0.10294\n",
      "[16]\tvalidation_0-logloss:0.09801\n",
      "[17]\tvalidation_0-logloss:0.09824\n",
      "[18]\tvalidation_0-logloss:0.09678\n",
      "[19]\tvalidation_0-logloss:0.09812\n",
      "[20]\tvalidation_0-logloss:0.09827\n",
      "[21]\tvalidation_0-logloss:0.09751\n",
      "[22]\tvalidation_0-logloss:0.09856\n",
      "[23]\tvalidation_0-logloss:0.09589\n",
      "[24]\tvalidation_0-logloss:0.09619\n",
      "[25]\tvalidation_0-logloss:0.09595\n",
      "[26]\tvalidation_0-logloss:0.09448\n",
      "[27]\tvalidation_0-logloss:0.09483\n",
      "[28]\tvalidation_0-logloss:0.09176\n",
      "[29]\tvalidation_0-logloss:0.09228\n",
      "[30]\tvalidation_0-logloss:0.09020\n",
      "[31]\tvalidation_0-logloss:0.09122\n",
      "[32]\tvalidation_0-logloss:0.09212\n",
      "[33]\tvalidation_0-logloss:0.09136\n",
      "[34]\tvalidation_0-logloss:0.09028\n",
      "[35]\tvalidation_0-logloss:0.09085\n",
      "[36]\tvalidation_0-logloss:0.09037\n",
      "[37]\tvalidation_0-logloss:0.09137\n",
      "[38]\tvalidation_0-logloss:0.09083\n",
      "[39]\tvalidation_0-logloss:0.08930\n",
      "[40]\tvalidation_0-logloss:0.08967\n",
      "[41]\tvalidation_0-logloss:0.08903\n",
      "[42]\tvalidation_0-logloss:0.08994\n",
      "[43]\tvalidation_0-logloss:0.09017\n",
      "[44]\tvalidation_0-logloss:0.09138\n",
      "[45]\tvalidation_0-logloss:0.09076\n",
      "[46]\tvalidation_0-logloss:0.09096\n",
      "[47]\tvalidation_0-logloss:0.09053\n",
      "[48]\tvalidation_0-logloss:0.09104\n",
      "[49]\tvalidation_0-logloss:0.09194\n",
      "[50]\tvalidation_0-logloss:0.09136\n",
      "[51]\tvalidation_0-logloss:0.09119\n",
      "[52]\tvalidation_0-logloss:0.09189\n",
      "[53]\tvalidation_0-logloss:0.09269\n",
      "[54]\tvalidation_0-logloss:0.09349\n",
      "[55]\tvalidation_0-logloss:0.09295\n",
      "[56]\tvalidation_0-logloss:0.09283\n",
      "[57]\tvalidation_0-logloss:0.09231\n",
      "[58]\tvalidation_0-logloss:0.09299\n",
      "[59]\tvalidation_0-logloss:0.09269\n",
      "[60]\tvalidation_0-logloss:0.09338\n",
      "[61]\tvalidation_0-logloss:0.09233\n",
      "[62]\tvalidation_0-logloss:0.09283\n",
      "[63]\tvalidation_0-logloss:0.09210\n",
      "[64]\tvalidation_0-logloss:0.09283\n",
      "[65]\tvalidation_0-logloss:0.09356\n",
      "[66]\tvalidation_0-logloss:0.09290\n",
      "[67]\tvalidation_0-logloss:0.09265\n",
      "[68]\tvalidation_0-logloss:0.09328\n",
      "[69]\tvalidation_0-logloss:0.09397\n",
      "[70]\tvalidation_0-logloss:0.09370\n",
      "[71]\tvalidation_0-logloss:0.09270\n",
      "[72]\tvalidation_0-logloss:0.09331\n",
      "[73]\tvalidation_0-logloss:0.09264\n",
      "[74]\tvalidation_0-logloss:0.09244\n",
      "[75]\tvalidation_0-logloss:0.09314\n",
      "[76]\tvalidation_0-logloss:0.09256\n",
      "[77]\tvalidation_0-logloss:0.09325\n",
      "[78]\tvalidation_0-logloss:0.09303\n",
      "[79]\tvalidation_0-logloss:0.09244\n",
      "[80]\tvalidation_0-logloss:0.09273\n",
      "[81]\tvalidation_0-logloss:0.09339\n",
      "[82]\tvalidation_0-logloss:0.09297\n",
      "[83]\tvalidation_0-logloss:0.09361\n",
      "[84]\tvalidation_0-logloss:0.09273\n",
      "[85]\tvalidation_0-logloss:0.09338\n",
      "[86]\tvalidation_0-logloss:0.09280\n",
      "[87]\tvalidation_0-logloss:0.09258\n",
      "[88]\tvalidation_0-logloss:0.09316\n",
      "[89]\tvalidation_0-logloss:0.09279\n",
      "[90]\tvalidation_0-logloss:0.09339\n",
      "[91]\tvalidation_0-logloss:0.09398\n",
      "[92]\tvalidation_0-logloss:0.09348\n",
      "[93]\tvalidation_0-logloss:0.09331\n",
      "[94]\tvalidation_0-logloss:0.09253\n",
      "[95]\tvalidation_0-logloss:0.09310\n",
      "[96]\tvalidation_0-logloss:0.09263\n",
      "[97]\tvalidation_0-logloss:0.09320\n",
      "[98]\tvalidation_0-logloss:0.09377\n",
      "[99]\tvalidation_0-logloss:0.09342\n"
     ]
    },
    {
     "data": {
      "text/plain": [
       "XGBClassifier(base_score=0.5, booster='gbtree', colsample_bylevel=1,\n",
       "              colsample_bynode=1, colsample_bytree=1, gamma=0, gpu_id=-1,\n",
       "              importance_type='gain', interaction_constraints='',\n",
       "              learning_rate=0.300000012, max_delta_step=0, max_depth=6,\n",
       "              min_child_weight=1, missing=nan, monotone_constraints='()',\n",
       "              n_estimators=100, n_jobs=0, num_parallel_tree=1, random_state=0,\n",
       "              reg_alpha=0, reg_lambda=1, scale_pos_weight=1, subsample=1,\n",
       "              tree_method='exact', validate_parameters=1, verbosity=None)"
      ]
     },
     "execution_count": 24,
     "metadata": {},
     "output_type": "execute_result"
    }
   ],
   "source": [
    "evals = [(X_test, y_test)] # early-stopping을 위한 테스트 데이터셋\n",
    "xgb_clf.fit(X_train, y_train, early_stopping_rounds=400, eval_set = evals, eval_metric = 'logloss', verbose = True)"
   ]
  },
  {
   "cell_type": "code",
   "execution_count": 28,
   "metadata": {},
   "outputs": [],
   "source": [
    "xgb_params = {\n",
    "    'n_estimators':[100, 300], \n",
    "    'max_depth':[3, 5]\n",
    "}\n",
    "\n",
    "grid_xgb = GridSearchCV(xgb_clf, param_grid = gb_params, cv =5)"
   ]
  },
  {
   "cell_type": "code",
   "execution_count": 29,
   "metadata": {
    "collapsed": true
   },
   "outputs": [
    {
     "data": {
      "text/plain": [
       "GridSearchCV(cv=5,\n",
       "             estimator=XGBClassifier(base_score=0.5, booster='gbtree',\n",
       "                                     colsample_bylevel=1, colsample_bynode=1,\n",
       "                                     colsample_bytree=1, gamma=0, gpu_id=-1,\n",
       "                                     importance_type='gain',\n",
       "                                     interaction_constraints='',\n",
       "                                     learning_rate=0.300000012,\n",
       "                                     max_delta_step=0, max_depth=6,\n",
       "                                     min_child_weight=1, missing=nan,\n",
       "                                     monotone_constraints='()',\n",
       "                                     n_estimators=100, n_jobs=0,\n",
       "                                     num_parallel_tree=1, random_state=0,\n",
       "                                     reg_alpha=0, reg_lambda=1,\n",
       "                                     scale_pos_weight=1, subsample=1,\n",
       "                                     tree_method='exact', validate_parameters=1,\n",
       "                                     verbosity=None),\n",
       "             param_grid={'learning_rate': [0.05, 0.1], 'max_depth': [3, 5],\n",
       "                         'n_estimators': [100, 300]})"
      ]
     },
     "execution_count": 29,
     "metadata": {},
     "output_type": "execute_result"
    }
   ],
   "source": [
    "grid_xgb.fit(X_train, y_train)"
   ]
  },
  {
   "cell_type": "code",
   "execution_count": 34,
   "metadata": {},
   "outputs": [
    {
     "data": {
      "text/plain": [
       "array([0.01258363, 0.01292354, 0.01610295, 0.08547176, 0.0023722 ,\n",
       "       0.0016003 , 0.06026534, 0.01264345, 0.        , 0.00778512,\n",
       "       0.00774483, 0.        , 0.00730005, 0.00860802, 0.00622838,\n",
       "       0.00594354, 0.        , 0.00375599, 0.00257929, 0.00254508,\n",
       "       0.0578267 , 0.00940678, 0.30403915, 0.00861333, 0.01294356,\n",
       "       0.00250365, 0.00885948, 0.319093  , 0.00305862, 0.01720235],\n",
       "      dtype=float32)"
      ]
     },
     "execution_count": 34,
     "metadata": {},
     "output_type": "execute_result"
    }
   ],
   "source": [
    "xgb_clf.feature_importances_"
   ]
  },
  {
   "cell_type": "code",
   "execution_count": 31,
   "metadata": {},
   "outputs": [],
   "source": [
    "from xgboost import plot_importance"
   ]
  },
  {
   "cell_type": "code",
   "execution_count": 39,
   "metadata": {
    "scrolled": true
   },
   "outputs": [
    {
     "data": {
      "text/plain": [
       "<matplotlib.axes._subplots.AxesSubplot at 0x2c38a7f07c0>"
      ]
     },
     "execution_count": 39,
     "metadata": {},
     "output_type": "execute_result"
    },
    {
     "data": {
      "image/png": "[encoded data removed]",
      "text/plain": [
       "<Figure size 432x288 with 1 Axes>"
      ]
     },
     "metadata": {
      "needs_background": "light"
     },
     "output_type": "display_data"
    }
   ],
   "source": [
    "plot_importance(xgb_clf)"
   ]
  },
  {
   "cell_type": "markdown",
   "metadata": {},
   "source": [
    "**XGBoost의 과적합 개선 팁**   \n",
    "$\\rightarrow$학습 모델을 단순화 하는 방향으로 하이퍼 파라미터 튜닝\n",
    "- learning_rate 값은 낮춤과 함께 n_estimators는 높여줌.\n",
    "- max_depth 값을 낮춤\n",
    "- min_child_weight 값을 높임\n",
    "- min_split_loss 값을 높임\n",
    "- sub_sample 값을 줄임\n",
    "- colsample_bytree 값을 줄임"
   ]
  },
  {
   "cell_type": "code",
   "execution_count": 1,
   "metadata": {},
   "outputs": [
    {
     "data": {
      "application/javascript": [
       "$.getScript('https://seareale.github.io/ipython_notebook_goodies/ipython_notebook_toc.js')\n"
      ],
      "text/plain": [
       "<IPython.core.display.Javascript object>"
      ]
     },
     "metadata": {},
     "output_type": "display_data"
    }
   ],
   "source": [
    "%%javascript\n",
    "$.getScript('https://seareale.github.io/ipython_notebook_goodies/ipython_notebook_toc.js')"
   ]
  }
 ],
 "metadata": {
  "kernelspec": {
   "display_name": "Python 3.8.3 64-bit",
   "language": "python",
   "name": "python38364bitc7d172dfbcaf4c84b1b0b3dca7174a39"
  },
  "language_info": {
   "codemirror_mode": {
    "name": "ipython",
    "version": 3
   },
   "file_extension": ".py",
   "mimetype": "text/x-python",
   "name": "python",
   "nbconvert_exporter": "python",
   "pygments_lexer": "ipython3",
   "version": "3.8.3"
  }
 },
 "nbformat": 4,
 "nbformat_minor": 4
}
