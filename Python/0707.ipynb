{
 "cells": [
  {
   "cell_type": "code",
   "execution_count": 1,
   "metadata": {},
   "outputs": [],
   "source": [
    "#######################################################################\n",
    "#                              3장                                    #\n",
    "#######################################################################"
   ]
  },
  {
   "cell_type": "code",
   "execution_count": 2,
   "metadata": {},
   "outputs": [],
   "source": [
    "############################# LIST ####################################"
   ]
  },
  {
   "cell_type": "code",
   "execution_count": 3,
   "metadata": {},
   "outputs": [
    {
     "name": "stdout",
     "output_type": "stream",
     "text": [
      "['호피폴라', '애프터문', '루시', '모네', '퍼플레인', '피플 온 더 브릿지']\n"
     ]
    }
   ],
   "source": [
    "## List Slicing ###############################\n",
    "bands = [ '호피폴라', '애프터문', \"루시\", \"모네\", '퍼플레인', \"피플 온 더 브릿지\"]\n",
    "print(bands)"
   ]
  },
  {
   "cell_type": "code",
   "execution_count": 4,
   "metadata": {},
   "outputs": [
    {
     "data": {
      "text/plain": [
       "(['호피폴라', '루시', '퍼플레인'],\n",
       " ['호피폴라', '루시', '퍼플레인'],\n",
       " ['호피폴라', '루시', '퍼플레인'],\n",
       " ['호피폴라', '루시', '퍼플레인'])"
      ]
     },
     "execution_count": 4,
     "metadata": {},
     "output_type": "execute_result"
    }
   ],
   "source": [
    "bands[0:5:2], bands[:5:2], bands[0::2], bands[::2]"
   ]
  },
  {
   "cell_type": "code",
   "execution_count": 5,
   "metadata": {},
   "outputs": [
    {
     "data": {
      "text/plain": [
       "(['호피폴라', '애프터문', '루시', '모네', '퍼플레인'], ['호피폴라', '애프터문', '루시', '모네', '퍼플레인'])"
      ]
     },
     "execution_count": 5,
     "metadata": {},
     "output_type": "execute_result"
    }
   ],
   "source": [
    "bands[0:5], bands[:5],"
   ]
  },
  {
   "cell_type": "code",
   "execution_count": 6,
   "metadata": {},
   "outputs": [
    {
     "data": {
      "text/plain": [
       "(['호피폴라', '애프터문', '루시', '모네', '퍼플레인', '피플 온 더 브릿지'],\n",
       " ['호피폴라', '애프터문', '루시', '모네', '퍼플레인', '피플 온 더 브릿지'],\n",
       " ['호피폴라', '애프터문', '루시', '모네', '퍼플레인', '피플 온 더 브릿지'])"
      ]
     },
     "execution_count": 6,
     "metadata": {},
     "output_type": "execute_result"
    }
   ],
   "source": [
    "bands[::1], bands[::], bands[:]"
   ]
  },
  {
   "cell_type": "code",
   "execution_count": 7,
   "metadata": {},
   "outputs": [
    {
     "name": "stdout",
     "output_type": "stream",
     "text": [
      "['호피폴라', '퍼플레인', '피플 온 더 브릿지']\n"
     ]
    }
   ],
   "source": [
    "bands[1:4] = []\n",
    "print(bands)"
   ]
  },
  {
   "cell_type": "code",
   "execution_count": 8,
   "metadata": {},
   "outputs": [
    {
     "name": "stdout",
     "output_type": "stream",
     "text": [
      "['호피폴라', '퍼플레인', '피플 온 더 브릿지']\n",
      "['호피폴라', '퍼플레인', '피플 온 더 브릿지']\n"
     ]
    }
   ],
   "source": [
    "## List 할당 ###############################\n",
    "a = bands      # 변수를 그대로 assign하면 주소값\n",
    "b = bands[:]\n",
    "print(a);print(b)     # 한줄에 여러 명령문 -> ; "
   ]
  },
  {
   "cell_type": "code",
   "execution_count": 9,
   "metadata": {},
   "outputs": [
    {
     "name": "stdout",
     "output_type": "stream",
     "text": [
      "['호피폴라', '피플 온 더 브릿지']\n",
      "['호피폴라', '퍼플레인', '피플 온 더 브릿지']\n"
     ]
    }
   ],
   "source": [
    "del bands[1]\n",
    "print(a)\n",
    "print(b)"
   ]
  },
  {
   "cell_type": "code",
   "execution_count": 10,
   "metadata": {},
   "outputs": [
    {
     "data": {
      "text/plain": [
       "False"
      ]
     },
     "execution_count": 10,
     "metadata": {},
     "output_type": "execute_result"
    }
   ],
   "source": [
    "bands is a   # a가 갖는 값의 주소\n",
    "bands is b"
   ]
  },
  {
   "cell_type": "code",
   "execution_count": 11,
   "metadata": {},
   "outputs": [
    {
     "name": "stdout",
     "output_type": "stream",
     "text": [
      "2670844333056\n"
     ]
    }
   ],
   "source": [
    "bands = ['호피폴라', '애프터문', '루시']\n",
    "print(id(bands))\n",
    "bands[0] = 0; bands[1] = 1; bands[2]= 2"
   ]
  },
  {
   "cell_type": "code",
   "execution_count": 12,
   "metadata": {},
   "outputs": [
    {
     "data": {
      "text/plain": [
       "2670844333056"
      ]
     },
     "execution_count": 12,
     "metadata": {},
     "output_type": "execute_result"
    }
   ],
   "source": [
    "id(bands)"
   ]
  },
  {
   "cell_type": "code",
   "execution_count": 13,
   "metadata": {},
   "outputs": [
    {
     "data": {
      "text/plain": [
       "2670844332608"
      ]
     },
     "execution_count": 13,
     "metadata": {},
     "output_type": "execute_result"
    }
   ],
   "source": [
    "bands = ['호피폴라', '애프터문', '루시']\n",
    "id(bands)"
   ]
  },
  {
   "cell_type": "code",
   "execution_count": 14,
   "metadata": {},
   "outputs": [
    {
     "data": {
      "text/plain": [
       "2670844332608"
      ]
     },
     "execution_count": 14,
     "metadata": {},
     "output_type": "execute_result"
    }
   ],
   "source": [
    "bands[::2] = ['루시', '호피롤라']\n",
    "id(bands)"
   ]
  },
  {
   "cell_type": "code",
   "execution_count": 15,
   "metadata": {},
   "outputs": [
    {
     "name": "stdout",
     "output_type": "stream",
     "text": [
      "2670843799488\n",
      "['루시', 100, '호피폴라']\n",
      "2670843799488\n"
     ]
    }
   ],
   "source": [
    "s_bands = ['호피폴라', '애프터문', '루시']; print(id(s_bands))\n",
    "s_bands[:] = ['루시', 100, '호피폴라']\n",
    "print(s_bands); print(id(s_bands))"
   ]
  },
  {
   "cell_type": "code",
   "execution_count": 16,
   "metadata": {},
   "outputs": [
    {
     "data": {
      "text/plain": [
       "['루시', '호피폴라', '애프터문', '루시', '모네']"
      ]
     },
     "execution_count": 16,
     "metadata": {},
     "output_type": "execute_result"
    }
   ],
   "source": [
    "## List Item 추가 ###############################\n",
    "# + 연산자로 item 추가\n",
    "new_list = [ '루시', '호피폴라', '애프터문', '루시' ]\n",
    "new_list = new_list + [ '모네' ]\n",
    "new_list"
   ]
  },
  {
   "cell_type": "code",
   "execution_count": 17,
   "metadata": {},
   "outputs": [
    {
     "name": "stdout",
     "output_type": "stream",
     "text": [
      "None\n",
      "['루시', '호피폴라', '애프터문', '루시', '모네', '퍼플레인']\n"
     ]
    }
   ],
   "source": [
    "# append() 함수로 item 추가\n",
    "print(new_list.append('퍼플레인'))   # .append() - function call\n",
    "print(new_list)"
   ]
  },
  {
   "cell_type": "code",
   "execution_count": 18,
   "metadata": {},
   "outputs": [],
   "source": [
    "# 내장함수 = Built-in 함수\n",
    "# print(), input() 등\n",
    "\n",
    "# 작업대상 함수 : method\n",
    "# X.append(), X.split() 등"
   ]
  },
  {
   "cell_type": "code",
   "execution_count": 19,
   "metadata": {},
   "outputs": [
    {
     "name": "stdout",
     "output_type": "stream",
     "text": [
      "2670844592960\n"
     ]
    },
    {
     "data": {
      "text/plain": [
       "([3, 5, 100, 200], 2670844592960)"
      ]
     },
     "execution_count": 19,
     "metadata": {},
     "output_type": "execute_result"
    }
   ],
   "source": [
    "n = [3, 5] ; n2 = [100, 200]\n",
    "print(id(n))\n",
    "n.extend(n2)\n",
    "n, id(n)"
   ]
  },
  {
   "cell_type": "code",
   "execution_count": 20,
   "metadata": {},
   "outputs": [
    {
     "name": "stdout",
     "output_type": "stream",
     "text": [
      "2670844594240\n",
      "[3, 5, 100, 200] 2670844590656 2670844593472\n",
      "[3, 5, 100, 200] 2670844594240\n"
     ]
    }
   ],
   "source": [
    "n = [3, 5]\n",
    "print(id(n))\n",
    "print(n+n2, id(n+n2), id(n2))   # n + n2 -> 새로운 리스트 생성(새로운 주소값)\n",
    "n += n2\n",
    "print(n, id(n))"
   ]
  },
  {
   "cell_type": "code",
   "execution_count": 21,
   "metadata": {},
   "outputs": [
    {
     "data": {
      "text/plain": [
       "[['이름', '국어', '수학'], ['홍길동', 70, 80], ['김돌쇠', 50, 50], ['강철수', 90, 100]]"
      ]
     },
     "execution_count": 21,
     "metadata": {},
     "output_type": "execute_result"
    }
   ],
   "source": [
    "## List 2차원 Table 만들기 ###############################\n",
    "l1 = [ '이름', '국어', '수학' ]\n",
    "l2 = [ '홍길동', 70, 80 ]\n",
    "l3 = [ '김돌쇠', 50, 50 ]\n",
    "l4 = [ '강철수', 90, 100 ]\n",
    "s = [ l1, l2, l3, l4 ]\n",
    "s\n",
    "# l1, l2, l3, l4 는 메모리에 다 따로 만들어짐\n",
    "# s는 각 원소의 주소값이 저장됨"
   ]
  },
  {
   "cell_type": "code",
   "execution_count": 22,
   "metadata": {},
   "outputs": [
    {
     "data": {
      "text/plain": [
       "(['김돌쇠', 50, 50], 100)"
      ]
     },
     "execution_count": 22,
     "metadata": {},
     "output_type": "execute_result"
    }
   ],
   "source": [
    "s[2], s[3][2]"
   ]
  },
  {
   "cell_type": "code",
   "execution_count": 23,
   "metadata": {},
   "outputs": [],
   "source": [
    "# s에 주소값들 말고 l1부터 l4의 값만 복사해올려면 어떻게 하나요?"
   ]
  },
  {
   "cell_type": "code",
   "execution_count": 24,
   "metadata": {},
   "outputs": [
    {
     "data": {
      "text/plain": [
       "[['이름', '국어', '수학'], ['홍길동', 70, 80], ['김돌쇠', 50, 50], ['강철수', 90, 100]]"
      ]
     },
     "execution_count": 24,
     "metadata": {},
     "output_type": "execute_result"
    }
   ],
   "source": [
    "# 직접 슬라이싱해서 가져오기\n",
    "s=[l1[:],l2[:],l3[:],l4[:] ]\n",
    "s"
   ]
  },
  {
   "cell_type": "code",
   "execution_count": 25,
   "metadata": {},
   "outputs": [
    {
     "name": "stdout",
     "output_type": "stream",
     "text": [
      "['강철수', 90, 100]\n",
      "[['이름', '국어', '수학'], ['홍길동', 70, 80], ['김돌쇠', 50, 50]]\n"
     ]
    }
   ],
   "source": [
    "## List Item 제거, 삳입 ###############################\n",
    "temp = s[:]\n",
    "print(temp.pop())\n",
    "# .pop(\"index 번호\") : 인덱스에 해당하는 값을 리스트에서 제거하고 해당 값을 리턴함\n",
    "print(temp)"
   ]
  },
  {
   "cell_type": "code",
   "execution_count": 26,
   "metadata": {},
   "outputs": [
    {
     "name": "stdout",
     "output_type": "stream",
     "text": [
      "[['이름', '국어', '수학'], ['홍길동', 70, 80], ['김돌쇠', 50, 50], 'today']\n"
     ]
    },
    {
     "data": {
      "text/plain": [
       "[['이름', '국어', '수학'], ['홍길동', 70, 80], ['김돌쇠', 50, 50], 'today', 'happy']"
      ]
     },
     "execution_count": 26,
     "metadata": {},
     "output_type": "execute_result"
    }
   ],
   "source": [
    "bands3 = temp[ : ]\n",
    "bands3.insert(3, \"today\")\n",
    "print(bands3)\n",
    "bands3.insert(8, \"happy\")\n",
    "bands3"
   ]
  },
  {
   "cell_type": "code",
   "execution_count": 27,
   "metadata": {},
   "outputs": [
    {
     "name": "stdout",
     "output_type": "stream",
     "text": [
      "[['이름', '국어', '수학'], ['홍길동', 70, 80], ['김돌쇠', 50, 50]]\n",
      "[['김돌쇠', 50, 50], ['이름', '국어', '수학'], ['홍길동', 70, 80]]\n",
      "[['홍길동', 70, 80], ['이름', '국어', '수학'], ['김돌쇠', 50, 50]]\n"
     ]
    }
   ],
   "source": [
    "## List item 정렬  ###############################\n",
    "bands4 = temp[:]\n",
    "print(bands4)\n",
    "bands4.sort()  # 오름차순\n",
    "print(bands4)\n",
    "bands4.sort(reverse = True)  # 내림차순\n",
    "print(bands4)"
   ]
  },
  {
   "cell_type": "code",
   "execution_count": 28,
   "metadata": {},
   "outputs": [
    {
     "data": {
      "text/plain": [
       "(0, 2)"
      ]
     },
     "execution_count": 28,
     "metadata": {},
     "output_type": "execute_result"
    }
   ],
   "source": [
    "# 원소 Index 찾기\n",
    "bands5 = l4[:]\n",
    "bands5.index('강철수'), bands5.index(100)"
   ]
  },
  {
   "cell_type": "code",
   "execution_count": 29,
   "metadata": {},
   "outputs": [
    {
     "ename": "ValueError",
     "evalue": "'김돌쇠' is not in list",
     "output_type": "error",
     "traceback": [
      "\u001b[1;31m---------------------------------------------------------------------------\u001b[0m",
      "\u001b[1;31mValueError\u001b[0m                                Traceback (most recent call last)",
      "\u001b[1;32m<ipython-input-29-0a619120e847>\u001b[0m in \u001b[0;36m<module>\u001b[1;34m\u001b[0m\n\u001b[1;32m----> 1\u001b[1;33m \u001b[0mbands5\u001b[0m\u001b[1;33m.\u001b[0m\u001b[0mindex\u001b[0m\u001b[1;33m(\u001b[0m\u001b[1;34m'김돌쇠'\u001b[0m\u001b[1;33m)\u001b[0m\u001b[1;33m\u001b[0m\u001b[1;33m\u001b[0m\u001b[0m\n\u001b[0m",
      "\u001b[1;31mValueError\u001b[0m: '김돌쇠' is not in list"
     ]
    }
   ],
   "source": [
    "bands5.index('김돌쇠')"
   ]
  },
  {
   "cell_type": "code",
   "execution_count": 30,
   "metadata": {},
   "outputs": [],
   "source": [
    "## List item 제거(특정값)  ###############################\n",
    "bands6 = ['호피폴라', '애프터문', '모네', '퍼플레인', '피플 온 더 브릿지', '모네']"
   ]
  },
  {
   "cell_type": "code",
   "execution_count": 31,
   "metadata": {},
   "outputs": [
    {
     "data": {
      "text/plain": [
       "['호피폴라', '애프터문', '퍼플레인', '피플 온 더 브릿지', '모네']"
      ]
     },
     "execution_count": 31,
     "metadata": {},
     "output_type": "execute_result"
    }
   ],
   "source": [
    "bands6.remove('모네')\n",
    "bands6"
   ]
  },
  {
   "cell_type": "code",
   "execution_count": 32,
   "metadata": {},
   "outputs": [
    {
     "ename": "ValueError",
     "evalue": "list.remove(x): x not in list",
     "output_type": "error",
     "traceback": [
      "\u001b[1;31m---------------------------------------------------------------------------\u001b[0m",
      "\u001b[1;31mValueError\u001b[0m                                Traceback (most recent call last)",
      "\u001b[1;32m<ipython-input-32-f60c1965e19d>\u001b[0m in \u001b[0;36m<module>\u001b[1;34m\u001b[0m\n\u001b[1;32m----> 1\u001b[1;33m \u001b[0mbands6\u001b[0m\u001b[1;33m.\u001b[0m\u001b[0mremove\u001b[0m\u001b[1;33m(\u001b[0m\u001b[1;34m'라포엠'\u001b[0m\u001b[1;33m)\u001b[0m\u001b[1;33m\u001b[0m\u001b[1;33m\u001b[0m\u001b[0m\n\u001b[0m",
      "\u001b[1;31mValueError\u001b[0m: list.remove(x): x not in list"
     ]
    }
   ],
   "source": [
    "bands6.remove('라포엠')"
   ]
  },
  {
   "cell_type": "code",
   "execution_count": 33,
   "metadata": {},
   "outputs": [
    {
     "data": {
      "text/plain": [
       "5"
      ]
     },
     "execution_count": 33,
     "metadata": {},
     "output_type": "execute_result"
    }
   ],
   "source": [
    "len(bands6) # built-in 함수 : len() 원소의 개수 반환"
   ]
  },
  {
   "cell_type": "code",
   "execution_count": 34,
   "metadata": {},
   "outputs": [],
   "source": [
    "############################# Tuple ####################################"
   ]
  },
  {
   "cell_type": "code",
   "execution_count": 35,
   "metadata": {},
   "outputs": [],
   "source": [
    "# list -> []\n",
    "# tuple -> ()    할당할 때 괄호 없어도된다.\n",
    "# 주요 특징 : 원소 추가, 삭제, 값 변형도 안됨, 그대로 사용\n",
    "# slicing 가능, + * 연산 가능"
   ]
  },
  {
   "cell_type": "code",
   "execution_count": 36,
   "metadata": {},
   "outputs": [
    {
     "name": "stdout",
     "output_type": "stream",
     "text": [
      "180 (180,)\n"
     ]
    }
   ],
   "source": [
    "# 주의\n",
    "t = (180) # 수식이 되어버림\n",
    "t1 = (180,)  # or t1 = 180,\n",
    "print(t, t1)"
   ]
  },
  {
   "cell_type": "code",
   "execution_count": 37,
   "metadata": {},
   "outputs": [],
   "source": [
    "## Tuple 할당 ###############################\n",
    "width , height , length = 20, 5, 5"
   ]
  },
  {
   "cell_type": "code",
   "execution_count": 38,
   "metadata": {},
   "outputs": [],
   "source": [
    "width , height , length = length, width, height  # 오른 쪽 변수에 해당하는 값을 할당"
   ]
  },
  {
   "cell_type": "code",
   "execution_count": 39,
   "metadata": {},
   "outputs": [],
   "source": [
    "############################# Dictionary ####################################"
   ]
  },
  {
   "cell_type": "code",
   "execution_count": 40,
   "metadata": {},
   "outputs": [],
   "source": [
    "# list -> []\n",
    "# tuple -> () \n",
    "# dict -> {}\n",
    "# x = dixt()     원소없는 dict 만들기\n",
    "# 순서가 없음, Key와 Value의 일관된 관계(key를 알면 value에 접근 가능)"
   ]
  },
  {
   "cell_type": "code",
   "execution_count": 41,
   "metadata": {},
   "outputs": [
    {
     "data": {
      "text/plain": [
       "{'이름': '김광석', '출생년도': 1980, '데뷔곡': '너에게'}"
      ]
     },
     "execution_count": 41,
     "metadata": {},
     "output_type": "execute_result"
    }
   ],
   "source": [
    "# dictionary = { key : value, ...}\n",
    "# key값에는 변경할 수 없는 값만 올 수 있다. -> tuple을 key값 가능\n",
    "\n",
    "dict1 = { \"이름\":\"김광석\", \"출생년도\":1980, \"데뷔곡\":\"너에게\"}\n",
    "dict1"
   ]
  },
  {
   "cell_type": "code",
   "execution_count": 42,
   "metadata": {},
   "outputs": [
    {
     "data": {
      "text/plain": [
       "{'이름': '김광석', '출생년도': 1980, '데뷔곡': '너에게', '데청캠': 2020}"
      ]
     },
     "execution_count": 42,
     "metadata": {},
     "output_type": "execute_result"
    }
   ],
   "source": [
    "# dictionary item 추가는 method가 아닌 할당문을 사용, 같은 방식으로 value 값도 변경 가능\n",
    "dict1[\"데청캠\"] = 2020\n",
    "dict1"
   ]
  },
  {
   "cell_type": "code",
   "execution_count": 43,
   "metadata": {},
   "outputs": [
    {
     "data": {
      "text/plain": [
       "(2020, '김광석')"
      ]
     },
     "execution_count": 43,
     "metadata": {},
     "output_type": "execute_result"
    }
   ],
   "source": [
    "# key 값으로 indexing, 해당 key 값이 없으면 에러\n",
    "dict1[\"데청캠\"], dict1[\"이름\"]"
   ]
  },
  {
   "cell_type": "code",
   "execution_count": 44,
   "metadata": {},
   "outputs": [
    {
     "data": {
      "text/plain": [
       "{'이름': '김광석', '출생년도': 1980, '데뷔곡': '너에게'}"
      ]
     },
     "execution_count": 44,
     "metadata": {},
     "output_type": "execute_result"
    }
   ],
   "source": [
    "# 해당 key값에 대응되는 value도 같이 삭제\n",
    "# 없는 경우 Error\n",
    "\n",
    "del dict1[\"데청캠\"]\n",
    "dict1"
   ]
  },
  {
   "cell_type": "code",
   "execution_count": 45,
   "metadata": {},
   "outputs": [
    {
     "data": {
      "text/plain": [
       "(3, dict_items([('이름', '김광석'), ('출생년도', 1980), ('데뷔곡', '너에게')]))"
      ]
     },
     "execution_count": 45,
     "metadata": {},
     "output_type": "execute_result"
    }
   ],
   "source": [
    "len(dict1), dict1.items()"
   ]
  },
  {
   "cell_type": "code",
   "execution_count": 46,
   "metadata": {},
   "outputs": [
    {
     "data": {
      "text/plain": [
       "(dict_keys(['이름', '출생년도', '데뷔곡']), dict_values(['김광석', 1980, '너에게']))"
      ]
     },
     "execution_count": 46,
     "metadata": {},
     "output_type": "execute_result"
    }
   ],
   "source": [
    "# dict_keys, dict_values 테이터 타입 - list의 메소드를 쓸 수 없다.\n",
    "dict1.keys(), dict1.values()"
   ]
  },
  {
   "cell_type": "code",
   "execution_count": 47,
   "metadata": {},
   "outputs": [
    {
     "name": "stdout",
     "output_type": "stream",
     "text": [
      "['이름', '출생년도', '데뷔곡']\n",
      "['김광석', 1980, '너에게']\n"
     ]
    }
   ],
   "source": [
    "# list() 를 사용하여 list로 변환하여 method 사용 가능\n",
    "print(list(dict1.keys())); print(list(dict1.values()))"
   ]
  },
  {
   "cell_type": "code",
   "execution_count": 48,
   "metadata": {},
   "outputs": [
    {
     "data": {
      "text/plain": [
       "(True, False)"
      ]
     },
     "execution_count": 48,
     "metadata": {},
     "output_type": "execute_result"
    }
   ],
   "source": [
    "## in 연산자 ###############################\n",
    "# list, tuple, dict, set, str 모두에 사용 가능\n",
    "\n",
    "'이름' in dict1, 1964 in dict1 # key에서만 찾는다"
   ]
  },
  {
   "cell_type": "code",
   "execution_count": 49,
   "metadata": {},
   "outputs": [],
   "source": [
    "## Tuple\n",
    "#     – tuple 만들기\n",
    "#     – indexing\n",
    "#     – slicing\n",
    "#     – +, * 연산\n",
    "\n",
    "## Dict\n",
    "#     – dict 만들기 ( key, value, item )\n",
    "#     – item 추가 / value 변경\n",
    "#     – indexing\n",
    "#     – item 제거\n",
    "#     – dict 함수 - keys(), values(), items()\n",
    "#     – in 연산자\n",
    "#     – key 제한사항"
   ]
  },
  {
   "cell_type": "code",
   "execution_count": 50,
   "metadata": {},
   "outputs": [],
   "source": [
    "############################# Set ####################################"
   ]
  },
  {
   "cell_type": "code",
   "execution_count": 51,
   "metadata": {},
   "outputs": [
    {
     "data": {
      "text/plain": [
       "set()"
      ]
     },
     "execution_count": 51,
     "metadata": {},
     "output_type": "execute_result"
    }
   ],
   "source": [
    "nums2 = set() # empty set 만들기\n",
    "nums2"
   ]
  },
  {
   "cell_type": "code",
   "execution_count": 52,
   "metadata": {},
   "outputs": [
    {
     "data": {
      "text/plain": [
       "({1, 2, 3}, set)"
      ]
     },
     "execution_count": 52,
     "metadata": {},
     "output_type": "execute_result"
    }
   ],
   "source": [
    "nums = { 1, 2, 3 }   # {} 사용\n",
    "nums, type(nums)"
   ]
  },
  {
   "cell_type": "code",
   "execution_count": 53,
   "metadata": {},
   "outputs": [
    {
     "name": "stdout",
     "output_type": "stream",
     "text": [
      "{'Sun', 'Wed', 'Mon', 'Tues', 'Fri', 'Thr', 'Sat'}\n",
      "{1, 2, 3}\n",
      "{'p', 'n', 'H', 'e', 'l', 't', 'h', 'o', ' ', 'y'}\n"
     ]
    }
   ],
   "source": [
    "days_tuple = ( 'Sun', 'Mon', 'Tues', 'Wed', 'Thr', 'Fri', 'Sat')\n",
    "days_set = set(days_tuple)\n",
    "print(days_set)\n",
    "\n",
    "num_set = set([ 1, 2, 2, 2, 3])\n",
    "print(num_set)\n",
    "\n",
    "string_set = set(\"Hello python\")\n",
    "print(string_set)\n",
    "\n",
    "# set에는 순서가 없다.\n",
    "# 원소 중복이 안된다.\n",
    "# 특정 원소 접근(indexing)이 불가능  -> type 변경 후 가능\n",
    "# 원소 추가 삭제는 가능  -> add(), remove(), pop()"
   ]
  },
  {
   "cell_type": "code",
   "execution_count": 54,
   "metadata": {},
   "outputs": [
    {
     "name": "stdout",
     "output_type": "stream",
     "text": [
      "{3, 4}\n",
      "{3, 4}\n",
      "{1, 2, 3, 4, 5, 6}\n",
      "{1, 2, 3, 4, 5, 6}\n",
      "{1, 2}\n",
      "{1, 2}\n",
      "{1, 2, 5, 6}\n",
      "{1, 2, 5, 6}\n"
     ]
    }
   ],
   "source": [
    "# set 함수\n",
    "a=set([1, 2, 3, 4])\n",
    "b=set([3, 4, 5, 6])\n",
    "\n",
    "# 교집합\n",
    "print(a & b)            \n",
    "print(a.intersection(b))\n",
    "\n",
    "# 합집합\n",
    "print(a | b)\n",
    "print(a.union(b))\n",
    "\n",
    "# 차집합\n",
    "print(a - b)\n",
    "print(a.difference(b))\n",
    "\n",
    "# 대칭차집합\n",
    "print(a^b)\n",
    "print(a.symmetric_difference(b))"
   ]
  },
  {
   "cell_type": "code",
   "execution_count": 55,
   "metadata": {},
   "outputs": [],
   "source": [
    "## Set\n",
    "#     – unordered, not duplicated\n",
    "#     – indexing 불가\n",
    "#     – item 추가, 삭제 set 함수\n",
    "#     – set 연산"
   ]
  },
  {
   "cell_type": "code",
   "execution_count": 56,
   "metadata": {},
   "outputs": [],
   "source": [
    "#######################################################################\n",
    "#                              4장                                    #\n",
    "#######################################################################"
   ]
  },
  {
   "cell_type": "code",
   "execution_count": 57,
   "metadata": {},
   "outputs": [],
   "source": [
    "## 제어문 ####################################\n",
    "# 프로그램은 명령문들의 모임\n",
    "# 명령문들은 순차적으로 실행(top-down order)\n",
    "# 제어문 - 명령문 실행순서를 바꾸는 문장\n",
    "#       - 제어문은 하나의 문장이 위치할 수 있는 곳 어디나 작성 가능\n",
    "\n",
    "# if / else / elif\n",
    "# while\n",
    "# for\n",
    "# break\n",
    "# continue"
   ]
  },
  {
   "cell_type": "code",
   "execution_count": 58,
   "metadata": {},
   "outputs": [],
   "source": [
    "## if문(조건문) ####################################\n",
    "# 조건-수식이 True인 경우, if-blcok 실행, 아니면 else-block 실행\n",
    "# else 부분은 optinal\n",
    "\n",
    "# Block(일련의 명령문들)은 동일한 들여쓰기(indentation) 되어야 함\n",
    "# if 조건-수식:\n",
    "#     명령문 1-1\n",
    "#     명령문 1-2\n",
    "#     명령문 1-3\n",
    "# else :\n",
    "#     명령문 2-1\n",
    "#     명령문 2-2\n",
    "#     명령문 2-3"
   ]
  },
  {
   "cell_type": "code",
   "execution_count": 59,
   "metadata": {},
   "outputs": [],
   "source": [
    "# eval() vs int() / str() / float()\n",
    "\n",
    "# if-else문 안의 if-else문"
   ]
  },
  {
   "cell_type": "code",
   "execution_count": 89,
   "metadata": {},
   "outputs": [
    {
     "name": "stdout",
     "output_type": "stream",
     "text": [
      "수학, 영어: 90, 90\n",
      "PASS\n"
     ]
    }
   ],
   "source": [
    "math, eng = eval( input(\"수학, 영어: \") )\n",
    "if math >= 90 and eng >= 90 :\n",
    "    w = 'PASS'\n",
    "else:\n",
    "    w = 'FAIL'\n",
    "print( w ) "
   ]
  },
  {
   "cell_type": "code",
   "execution_count": 91,
   "metadata": {},
   "outputs": [
    {
     "name": "stdout",
     "output_type": "stream",
     "text": [
      "Enter Score: 90\n",
      "Grade =>  A\n"
     ]
    }
   ],
   "source": [
    "score = int(input(\"Enter Score: \"))\n",
    "if score >= 90:\n",
    "    grade = 'A'\n",
    "else :\n",
    "    if score >= 90:\n",
    "        grade ='B'\n",
    "    else :\n",
    "        if score >= 70:\n",
    "            grade = 'C'\n",
    "        else :\n",
    "            if score >= 60:\n",
    "                grade = 'D'\n",
    "            else :\n",
    "                grade = 'F'\n",
    "print('Grade => ', grade)"
   ]
  },
  {
   "cell_type": "code",
   "execution_count": 92,
   "metadata": {},
   "outputs": [
    {
     "name": "stdout",
     "output_type": "stream",
     "text": [
      "Enter Score: 80\n",
      "Grade =>  C\n"
     ]
    }
   ],
   "source": [
    "score = int(input(\"Enter Score: \"))\n",
    "if score >= 90:\n",
    "    grade = 'A'\n",
    "elif score >= 90:\n",
    "    grade ='B'\n",
    "elif score >= 70:\n",
    "    grade = 'C'\n",
    "elif score >= 60:\n",
    "    grade = 'D'\n",
    "else :\n",
    "    grade = 'F'\n",
    "print('Grade => ', grade)"
   ]
  },
  {
   "cell_type": "code",
   "execution_count": 86,
   "metadata": {},
   "outputs": [
    {
     "data": {
      "text/plain": [
       "(True, False)"
      ]
     },
     "execution_count": 86,
     "metadata": {},
     "output_type": "execute_result"
    }
   ],
   "source": [
    "# tuple은 key 값만\n",
    "1 in {2:'Tue', 1:'Mon'}, 'Mon' in {2:'Tue', 1:'Mon'}  "
   ]
  },
  {
   "cell_type": "code",
   "execution_count": 87,
   "metadata": {},
   "outputs": [
    {
     "name": "stdout",
     "output_type": "stream",
     "text": [
      "점수 list: [30, 20 , 50, 90, 60]\n"
     ]
    }
   ],
   "source": [
    "## While문(반복문) ####################################\n",
    "# break문으로 반복이 중단된 경우, else-block 실행 x \n",
    "scores = eval(input(\"점수 list: \") )"
   ]
  },
  {
   "cell_type": "code",
   "execution_count": 88,
   "metadata": {},
   "outputs": [
    {
     "name": "stdout",
     "output_type": "stream",
     "text": [
      "30 100*20 100*50 100*90 100*60 100*\n",
      "줄바꿈 확인*"
     ]
    }
   ],
   "source": [
    "i = 0\n",
    "while i < len(scores) :\n",
    "    print(scores[i], 100, end='*')\n",
    "    i += 1\n",
    "print()\n",
    "print('줄바꿈 확인',end='*')"
   ]
  },
  {
   "cell_type": "code",
   "execution_count": 85,
   "metadata": {},
   "outputs": [
    {
     "name": "stdout",
     "output_type": "stream",
     "text": [
      "수학, 영어: 90, 90\n",
      "PASS\n",
      "수학, 영어: 90, 80\n",
      "FAIL\n",
      "수학, 영어: 0, 0\n",
      "FAIL\n",
      "Done\n"
     ]
    }
   ],
   "source": [
    "running = True\n",
    "while running :\n",
    "    math, eng = eval( input(\"수학, 영어: \") )\n",
    "    if (math, eng) == (0, 0) :\n",
    "            running = False\n",
    "    if math >= 90 and eng >= 90 :\n",
    "        w = 'PASS'\n",
    "    else:\n",
    "        w = 'FAIL'\n",
    "    print( w )\n",
    "else:\n",
    "    print( 'Done' )"
   ]
  },
  {
   "cell_type": "code",
   "execution_count": 84,
   "metadata": {},
   "outputs": [
    {
     "name": "stdout",
     "output_type": "stream",
     "text": [
      "수학, 영어: 90, 90\n",
      "PASS\n",
      "수학, 영어: 90, 80\n",
      "FAIL\n",
      "수학, 영어: 0, 0\n",
      "FAIL\n",
      "Done\n"
     ]
    }
   ],
   "source": [
    "# if문에서 w 할당 안해서 에러남\n",
    "running = True\n",
    "while running :\n",
    "    math, eng = eval( input(\"수학, 영어: \") )\n",
    "    if (math, eng) == (0,0) :\n",
    "        running = False\n",
    "    elif math >= 90 and eng >= 90:\n",
    "        w = 'PASS'\n",
    "    else:\n",
    "        w = 'FAIL'\n",
    "    print(w)\n",
    "else:   \n",
    "    print( 'Done' )"
   ]
  },
  {
   "cell_type": "code",
   "execution_count": 83,
   "metadata": {},
   "outputs": [
    {
     "name": "stdout",
     "output_type": "stream",
     "text": [
      "수학, 영어: 90, 90\n",
      "PASS\n",
      "수학, 영어: 90, 80\n",
      "FAIL\n",
      "수학, 영어: 0, 0\n",
      "Done\n"
     ]
    }
   ],
   "source": [
    "running = True\n",
    "while running :\n",
    "    math, eng = eval( input(\"수학, 영어: \") )\n",
    "    if (math, eng) == (0,0) :\n",
    "        running = False\n",
    "    elif math >= 90 and eng >= 90:\n",
    "        w = 'PASS'\n",
    "        print(w)\n",
    "    else:\n",
    "        w = 'FAIL'\n",
    "        print(w)\n",
    "else:\n",
    "    print( 'Done' )"
   ]
  },
  {
   "cell_type": "code",
   "execution_count": 80,
   "metadata": {},
   "outputs": [
    {
     "name": "stdout",
     "output_type": "stream",
     "text": [
      "점수 list: [30, 20 , 50, 90, 60]\n",
      "90 60 \n"
     ]
    }
   ],
   "source": [
    "# break\n",
    "scores = eval(input('점수 list: ') )\n",
    "scores.sort( reverse=True )\n",
    "i = 0\n",
    "while i < len(scores) :\n",
    "    if scores[i] <= 50:\n",
    "        break\n",
    "    print(scores[i], end= ' ')   \n",
    "    i += 1\n",
    "print()     # <- break 후 이동 위치"
   ]
  },
  {
   "cell_type": "code",
   "execution_count": 70,
   "metadata": {},
   "outputs": [
    {
     "name": "stdout",
     "output_type": "stream",
     "text": [
      "195 21\n"
     ]
    }
   ],
   "source": [
    "# continue\n",
    "sum = num = 0\n",
    "while num <= 20 :   # <- continue 후 이동 위치\n",
    "    num += 1\n",
    "    if num % 6 == 0 :\n",
    "        continue\n",
    "    sum += num\n",
    "print(sum, num)"
   ]
  },
  {
   "cell_type": "code",
   "execution_count": 71,
   "metadata": {},
   "outputs": [],
   "source": [
    "## for문(반복문) ####################################\n",
    "# break문으로 반복이 중단된 경우, else-block 실행 x\n",
    "# index를 따로 할당해줄 필요가 없어짐"
   ]
  },
  {
   "cell_type": "code",
   "execution_count": 79,
   "metadata": {},
   "outputs": [
    {
     "name": "stdout",
     "output_type": "stream",
     "text": [
      "점수 list: [30, 20 , 50, 90, 60]\n",
      "90 60 \n"
     ]
    }
   ],
   "source": [
    "scores = eval(input('점수 list: '))\n",
    "scores.sort( reverse=True )\n",
    "for s in scores :\n",
    "    if s <= 50:\n",
    "        break\n",
    "    print(s , end= ' ')\n",
    "print()"
   ]
  },
  {
   "cell_type": "code",
   "execution_count": 73,
   "metadata": {},
   "outputs": [
    {
     "name": "stdout",
     "output_type": "stream",
     "text": [
      "0\n",
      "1\n",
      "2\n",
      "3\n",
      "4\n"
     ]
    }
   ],
   "source": [
    "for a in range(5) :\n",
    "    print(a)"
   ]
  },
  {
   "cell_type": "code",
   "execution_count": 74,
   "metadata": {},
   "outputs": [],
   "source": [
    "## Range\n",
    "# slicing과 유사, list type이 아님!!!\n",
    "# list(range()) 를 해야 list method 사용 가능\n",
    "\n",
    "# range(stop), range(start, stop), range(start, stop, step)\n",
    "\n",
    "# range(3)        : 0, 1, 2\n",
    "# range(5, 10)    : 5, 6, 7, 8, 9\n",
    "# range(0, 10, 2) : 0, 2, 4, 6, 8\n",
    "# range(2, 10, 3) : 2, 5, 8"
   ]
  },
  {
   "cell_type": "code",
   "execution_count": 75,
   "metadata": {},
   "outputs": [
    {
     "name": "stdout",
     "output_type": "stream",
     "text": [
      "2 4 6 8 10 12 14 16 18 20 \n",
      "22 24 26 28 30 32 34 36 38 40 \n",
      "42 44 46 48 50 \n"
     ]
    }
   ],
   "source": [
    "# 중간 문제\n",
    "for x in range(1,51):\n",
    "    if x % 2 != 0:\n",
    "        continue\n",
    "    else :\n",
    "        print(x, end=' ')\n",
    "        if x % (2 * 10) == 0:\n",
    "            print()        \n",
    "print()"
   ]
  },
  {
   "cell_type": "code",
   "execution_count": 76,
   "metadata": {},
   "outputs": [
    {
     "name": "stdout",
     "output_type": "stream",
     "text": [
      "2 4 6 8 10 12 14 16 18 20 \n",
      "22 24 26 28 30 32 34 36 38 40 \n",
      "42 44 46 48 50 \n"
     ]
    }
   ],
   "source": [
    "count = 0;\n",
    "for x in range(2,51,2):\n",
    "    count += 1\n",
    "    print(x, end=' ')\n",
    "    if count % 10 == 0:\n",
    "        print()        \n",
    "print()"
   ]
  },
  {
   "cell_type": "code",
   "execution_count": 77,
   "metadata": {},
   "outputs": [
    {
     "name": "stdout",
     "output_type": "stream",
     "text": [
      "2 4 6 8 10 12 14 16 18 20 \n",
      "22 24 26 28 30 32 34 36 38 40 \n",
      "42 44 46 48 50 \n"
     ]
    }
   ],
   "source": [
    "for x in range(2,51,2):\n",
    "    print(x, end=' ')\n",
    "    if x % (2 * 10) == 0:\n",
    "        print()        \n",
    "print()"
   ]
  }
 ],
 "metadata": {
  "kernelspec": {
   "display_name": "Python 3.8.3 64-bit",
   "language": "python",
   "name": "python38364bitc7d172dfbcaf4c84b1b0b3dca7174a39"
  },
  "language_info": {
   "codemirror_mode": {
    "name": "ipython",
    "version": 3
   },
   "file_extension": ".py",
   "mimetype": "text/x-python",
   "name": "python",
   "nbconvert_exporter": "python",
   "pygments_lexer": "ipython3",
   "version": "3.8.3"
  }
 },
 "nbformat": 4,
 "nbformat_minor": 4
}
