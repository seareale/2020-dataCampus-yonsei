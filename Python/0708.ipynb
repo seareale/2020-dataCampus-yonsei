{
 "cells": [
  {
   "cell_type": "code",
   "execution_count": 1,
   "metadata": {},
   "outputs": [],
   "source": [
    "#######################################################################\n",
    "#                              4장                                    #\n",
    "#######################################################################"
   ]
  },
  {
   "cell_type": "code",
   "execution_count": 2,
   "metadata": {},
   "outputs": [
    {
     "name": "stdout",
     "output_type": "stream",
     "text": [
      "00 01 02 \n",
      "10 11 12 \n",
      "20 21 22 \n"
     ]
    }
   ],
   "source": [
    "# 중첩 반복문(Nested Loop) : 반복문의 Block 안의 명령문으로 반복문 작성\n",
    "\n",
    "nested_loop = [['00', '01', '02'], ['10', '11', '12'], ['20', '21', '22']]\n",
    "\n",
    "for i in range(len(nested_loop)):\n",
    "    for j in range(len(nested_loop[i])):\n",
    "        print(nested_loop[i][j], end = ' ')\n",
    "    print()"
   ]
  },
  {
   "cell_type": "code",
   "execution_count": 9,
   "metadata": {},
   "outputs": [
    {
     "name": "stdout",
     "output_type": "stream",
     "text": [
      "0,0\t0,1\t0,2\t\n",
      "1,0\t1,1\t1,2\t\n",
      "2,0\t2,1\t2,2\t\n"
     ]
    }
   ],
   "source": [
    "for i in range(3):\n",
    "    for j in range(3):\n",
    "        print ( str(i) + \",\" + str(j), end='\\t')\n",
    "    print() "
   ]
  },
  {
   "cell_type": "code",
   "execution_count": 13,
   "metadata": {},
   "outputs": [
    {
     "name": "stdout",
     "output_type": "stream",
     "text": [
      "Pattern A\n",
      "1 \n",
      "1 2 \n",
      "1 2 3 \n",
      "1 2 3 4 \n",
      "1 2 3 4 5 \n",
      "1 2 3 4 5 6 \n",
      "\n",
      "\n",
      "Pattern B\n",
      "1 2 3 4 5 6 \n",
      "1 2 3 4 5 \n",
      "1 2 3 4 \n",
      "1 2 3 \n",
      "1 2 \n",
      "1 \n"
     ]
    }
   ],
   "source": [
    "print(\"Pattern A\")\n",
    "for i in range(1,7):\n",
    "    for j in range(1,i+1):\n",
    "        print(j, end = ' ')\n",
    "    print()\n",
    "    \n",
    "print(\"\\n\\nPattern B\")\n",
    "for i in range(6,0,-1):\n",
    "    for j in range(1, i+1):\n",
    "        print(j, end = ' ')\n",
    "    print()"
   ]
  },
  {
   "cell_type": "code",
   "execution_count": 26,
   "metadata": {},
   "outputs": [
    {
     "name": "stdout",
     "output_type": "stream",
     "text": [
      "['00', '01', '02'] ['10', '11', '12'] ['20', '21', '22'] \n",
      "\n",
      "00 01 02 \n",
      "10 11 12 \n",
      "20 21 22 \n"
     ]
    }
   ],
   "source": [
    "for row in nested_loop:\n",
    "    print(row, end = ' ')\n",
    "print('\\n')\n",
    "\n",
    "for row in nested_loop:\n",
    "    for cell in row:\n",
    "        print(cell, end = ' ')\n",
    "    print()"
   ]
  },
  {
   "cell_type": "code",
   "execution_count": 21,
   "metadata": {},
   "outputs": [
    {
     "name": "stdout",
     "output_type": "stream",
     "text": [
      "교통수단 walking입니다\n",
      "교통수단 bus입니다\n",
      "교통수단 taxi입니다\n",
      "교통수단 car입니다\n",
      "교통수단 trains입니다\n"
     ]
    }
   ],
   "source": [
    "# list, tuple을 for-in 다음에 사용하면 item을 차례대로 변수에 할당\n",
    "\n",
    "trans = ['walking', 'bus', 'taxi', 'car', 'trains']\n",
    "for t in trans :\n",
    "    print (\"교통수단 {0}입니다\".format(t))  # str 함수 format() : 인자값이 문자열 내의 {}대신함 "
   ]
  },
  {
   "cell_type": "code",
   "execution_count": 22,
   "metadata": {},
   "outputs": [
    {
     "name": "stdout",
     "output_type": "stream",
     "text": [
      "교통수단 walking입니다\n",
      "교통수단 bus입니다\n",
      "교통수단 taxi입니다\n",
      "교통수단 car입니다\n",
      "교통수단 trains입니다\n"
     ]
    }
   ],
   "source": [
    "trans = ('walking', 'bus', 'taxi', 'car', 'trains')\n",
    "for t in trans :\n",
    "    print (\"교통수단 {0}입니다\".format(t))"
   ]
  },
  {
   "cell_type": "code",
   "execution_count": 30,
   "metadata": {},
   "outputs": [
    {
     "name": "stdout",
     "output_type": "stream",
     "text": [
      "교통수단 walking(0)\n",
      "교통수단 bus(1000)\n",
      "교통수단 taxi(3000)\n",
      "교통수단 car(4000)\n",
      "교통수단 trains(6000)\n"
     ]
    }
   ],
   "source": [
    "# dictionary가 in 다음에 오면 key 값만 가져옴\n",
    "\n",
    "cost ={'walking': 0, 'bus': 1000, 'taxi': 3000, 'car':4000, 'trains':6000}\n",
    "for key, value in cost.items() :\n",
    "    print (\"교통수단 {0}({1})\".format(key, value))\n",
    "    \n",
    "for k in cost.keys() :\n",
    "    pass    # 문장을 꼭 쓸게 없는데 조건이 생기는 경우"
   ]
  },
  {
   "cell_type": "code",
   "execution_count": 27,
   "metadata": {},
   "outputs": [],
   "source": [
    "## 제어문 요약\n",
    "\n",
    "#     if / if-else / if-elif- …-else\n",
    "#     while\n",
    "#     for\n",
    "#     break\n",
    "#     continue\n",
    "#     조건-수식 표현\n",
    "#     in, not in\n",
    "#     for ~ range( )\n",
    "#     중첩 반복문\n",
    "#     list, tuple, dict에 for문 사용"
   ]
  },
  {
   "cell_type": "code",
   "execution_count": 34,
   "metadata": {},
   "outputs": [
    {
     "name": "stdout",
     "output_type": "stream",
     "text": [
      "정수 입력: 5\n",
      "[]\n",
      "[5]\n"
     ]
    }
   ],
   "source": [
    "# PREWSWOT 문제\n",
    "\n",
    "# 1\n",
    "even_list = []\n",
    "odd_list = []\n",
    "\n",
    "num = int(input('정수 입력: '))\n",
    "if num % 2 == 0:\n",
    "    even_list.append(num)\n",
    "else:\n",
    "    odd_list.append(num)\n",
    "    \n",
    "print(even_list)\n",
    "print(odd_list)"
   ]
  },
  {
   "cell_type": "code",
   "execution_count": 39,
   "metadata": {},
   "outputs": [
    {
     "name": "stdout",
     "output_type": "stream",
     "text": [
      "25\n"
     ]
    }
   ],
   "source": [
    "# 2\n",
    "n = 1\n",
    "while n**3 <= 15000:\n",
    "    n += 1\n",
    "print(n)"
   ]
  },
  {
   "cell_type": "code",
   "execution_count": 40,
   "metadata": {},
   "outputs": [
    {
     "name": "stdout",
     "output_type": "stream",
     "text": [
      "리스트 입력:[1, 2, 5, -1, 44, 99, 1001, 102, 199, 100, 200, 0, 130]\n",
      "431\n"
     ]
    }
   ],
   "source": [
    "# 3\n",
    "num_list = eval(input('리스트 입력:'))\n",
    "result = 0\n",
    "for x in num_list:\n",
    "    if 100 < x < 200:\n",
    "        result += x\n",
    "    else:\n",
    "        pass\n",
    "print(result)"
   ]
  },
  {
   "cell_type": "code",
   "execution_count": 41,
   "metadata": {},
   "outputs": [
    {
     "name": "stdout",
     "output_type": "stream",
     "text": [
      "list입력: [5, 100, 202, 4, 5, 99, 8, 7]\n",
      "[100, 202, 4, 8]\n",
      "[5, 5, 99, 7]\n"
     ]
    }
   ],
   "source": [
    "# 4\n",
    "list_even = []\n",
    "list_odd = []\n",
    "\n",
    "num_list = eval(input('list입력: '))\n",
    "for x in num_list:\n",
    "    if x % 2 == 0:\n",
    "        list_even.append(x)\n",
    "    else:\n",
    "        list_odd.append(x)\n",
    "        \n",
    "print(list_even)\n",
    "print(list_odd)"
   ]
  },
  {
   "cell_type": "code",
   "execution_count": 55,
   "metadata": {},
   "outputs": [
    {
     "name": "stdout",
     "output_type": "stream",
     "text": [
      "       1\n",
      "      12\n",
      "     123\n",
      "    1234\n",
      "   12345\n",
      "  123456\n",
      " 1234567\n",
      "12345678\n",
      "\n",
      "\n",
      "\n",
      "              1 \n",
      "            1 2 \n",
      "          1 2 3 \n",
      "        1 2 3 4 \n",
      "      1 2 3 4 5 \n",
      "    1 2 3 4 5 6 \n",
      "  1 2 3 4 5 6 7 \n",
      "1 2 3 4 5 6 7 8 \n"
     ]
    }
   ],
   "source": [
    "# 5\n",
    "n = 9\n",
    "for i in range(1,n):\n",
    "    for j in range(1,n-i):\n",
    "        print(\" \", end='')\n",
    "    for j in range(1,i+1):\n",
    "        print(j,  end='')\n",
    "    print()\n",
    "\n",
    "print('\\n\\n')\n",
    "    \n",
    "n = 9\n",
    "for i in range(1,n):\n",
    "    print('  '*(n-i-1), end = '')\n",
    "    for j in range(1,i+1):\n",
    "        print(j,  end=' ')\n",
    "    print()    "
   ]
  },
  {
   "cell_type": "code",
   "execution_count": 63,
   "metadata": {},
   "outputs": [
    {
     "name": "stdout",
     "output_type": "stream",
     "text": [
      "[ kim kim ]\n",
      "[ park sung ]\n",
      "[ kim ]\n"
     ]
    }
   ],
   "source": [
    "# 6\n",
    "t = [ ['kim', 'lee', 'kim'], ['park', 'cho', 'sung'], ['kim', 'cho', 'lee', 'gang'] ]\n",
    "ex = [ 'lee', 'cho', 'gang']\n",
    "\n",
    "for x in t:\n",
    "    print('[ ', end='')\n",
    "    for y in x:\n",
    "        if y in ex:\n",
    "            pass\n",
    "        else :\n",
    "            print(y, end=' ')\n",
    "    print(']')"
   ]
  },
  {
   "cell_type": "code",
   "execution_count": 74,
   "metadata": {},
   "outputs": [
    {
     "name": "stdout",
     "output_type": "stream",
     "text": [
      "    *\n",
      "   ***\n",
      "  *****\n",
      " *******\n",
      "*********\n"
     ]
    }
   ],
   "source": [
    "# 7\n",
    "line_num = 5\n",
    "for i in range(1,line_num+1):\n",
    "    print(' '*(line_num-i)+'*'*(i*2-1))"
   ]
  },
  {
   "cell_type": "code",
   "execution_count": 89,
   "metadata": {},
   "outputs": [
    {
     "name": "stdout",
     "output_type": "stream",
     "text": [
      "['kimseung', 'bumsoo', 'hwan', 'kin']\n",
      "['kimseung', 'bumsoo', 'hwan', 'kin']\n"
     ]
    }
   ],
   "source": [
    "# 8\n",
    "\n",
    "# name_list = eval(input('리스트 입력: '))\n",
    "\n",
    "name_list =[ 'kin', 'kimseung', 'hwan', 'bumsoo' ]\n",
    "\n",
    "name_list.sort(key=len, reverse=True)\n",
    "print(name_list)\n",
    "\n",
    "######################################################\n",
    "\n",
    "name_list =[ 'kin', 'kimseung', 'hwan', 'bumsoo' ]\n",
    "\n",
    "result =[]\n",
    "for x in name_list:\n",
    "    result.append((len(x), x)) \n",
    "# print(result)\n",
    "result.sort(reverse=True)\n",
    "# print(result)\n",
    "\n",
    "# result2 = []\n",
    "# for x in result:\n",
    "#     result2.append(x[1])\n",
    "# print(result2)\n",
    "\n",
    "result2 = []\n",
    "for x, y in result:  # Tuple형태로 변수에 바로 값 넣기 \n",
    "    result2.append(y)\n",
    "print(result2)"
   ]
  },
  {
   "cell_type": "code",
   "execution_count": 104,
   "metadata": {},
   "outputs": [
    {
     "name": "stdout",
     "output_type": "stream",
     "text": [
      "Enter a list of numbers: [99, 2, 100, 30, -1, 0, 1, 22, 35, 77, 12, 20, 30, 45, 20]\n",
      "multiplies of 2 : [2, 12, 20, 22, 30, 100]\n",
      "multiplies of 5 : [20, 30, 35, 45, 100]\n",
      "multiplies of 3 : [12, 30, 45, 99]\n",
      "multiplies of 7 : [35, 77]\n",
      "Enter a list of numbers: [99, 2, 100, 30, -1, 0, 1, 22, 35, 77, 12, 20, 30, 45, 20]\n",
      "multiplies of 2 : [2, 12, 20, 22, 30]\n",
      "multiplies of 3 : [99, 12, 45, 30]\n",
      "multiplies of 5 : [35, 45, 20, 30]\n",
      "multiplies of 7 : [35, 77]\n"
     ]
    }
   ],
   "source": [
    "# 9\n",
    "\n",
    "mul_2 = []\n",
    "mul_5 = []\n",
    "mul_3 = []\n",
    "mul_7 = []\n",
    "\n",
    "num_list = eval(input('Enter a list of numbers: '))\n",
    "num_set = set(num_list)            #  list(set(num))\n",
    "for x in num_set:\n",
    "    if 1 <= x <= 100:\n",
    "        if x % 2 == 0:\n",
    "            mul_2.append(x)\n",
    "        if x % 5 == 0:\n",
    "            mul_5.append(x)\n",
    "        if x % 3 == 0:\n",
    "            mul_3.append(x)\n",
    "        if x % 7 == 0:\n",
    "            mul_7.append(x)\n",
    "    else :\n",
    "        pass\n",
    "    \n",
    "mul_2.sort()\n",
    "mul_5.sort()\n",
    "mul_3.sort()\n",
    "mul_7.sort()\n",
    "    \n",
    "print('multiplies of 2 :', mul_2)\n",
    "print('multiplies of 5 :', mul_5)\n",
    "print('multiplies of 3 :', mul_3)\n",
    "print('multiplies of 7 :', mul_7)\n",
    "\n",
    "#########################################################\n",
    "\n",
    "t = (2,3,5,7)\n",
    "d = {}\n",
    "for x in t:\n",
    "    d[x] = [ ]\n",
    "\n",
    "num_list = eval(input('Enter a list of numbers: '))\n",
    "num_list = list(set(num_list))\n",
    "for x in num_list:\n",
    "    if x < 1 or x >= 100:\n",
    "        continue\n",
    "    for i in d:\n",
    "        if x % i == 0:\n",
    "            d[i].append(x)\n",
    "for x in d:\n",
    "    print(\"multiplies of {} : {}\".format(x, d[x]))\n",
    "\n"
   ]
  },
  {
   "cell_type": "code",
   "execution_count": 28,
   "metadata": {},
   "outputs": [],
   "source": [
    "#######################################################################\n",
    "#                              5장                                    #\n",
    "#######################################################################"
   ]
  },
  {
   "cell_type": "code",
   "execution_count": 29,
   "metadata": {},
   "outputs": [],
   "source": [
    "## str(string) : 문자열 ###############################################\n",
    "\n",
    "# 문자열 - 문자(character)들의 모임\n",
    "# 문자 - 영문자 : a~z, A~Z, 그 외 문자들\n",
    "#        특수문자 : !@#$.,\n",
    "#        공백문자(whitespace character) : tab, enter(newline, 줄바꿈문자), space(공백문자)"
   ]
  },
  {
   "cell_type": "code",
   "execution_count": 31,
   "metadata": {},
   "outputs": [],
   "source": [
    "# 문자열 표현\n",
    "# \"\"   '' \n",
    "#  a = 'Py'\"thon\"   -> 하나의 문자열임\n",
    "# \"doesn't\"   ->  하나의 따옴표는 문자열에 포함\n",
    "# '\"Yes\", he said'  ->  쌍따옴표 쌍은 문자열에 포함\n",
    "# \\n -> 줄바꿈 문자, \"\"\" ->  줄바꿈 문자 포함"
   ]
  },
  {
   "cell_type": "code",
   "execution_count": 105,
   "metadata": {},
   "outputs": [
    {
     "name": "stdout",
     "output_type": "stream",
     "text": [
      "Life is too short\n",
      "You need python\n"
     ]
    }
   ],
   "source": [
    "multiline = \"\"\"Life is too short\n",
    "You need python\"\"\"\n",
    "print(multiline)"
   ]
  },
  {
   "cell_type": "code",
   "execution_count": 106,
   "metadata": {},
   "outputs": [],
   "source": [
    "## Escape code ###############################################\n",
    "\n",
    "#     \\n 줄바꿈(=개행)\n",
    "#     \\t 수평 탭문자(8칸)\n",
    "#     \\\\ 문자 \"\\\"\n",
    "#     \\' 작은따옴표(')\n",
    "#     \\\" 큰따옴표(\")\n",
    "#     \\r 캐리지 리턴\n",
    "#     \\f 폼 피드\n",
    "#     \\a 벨 소리\n",
    "#     \\b 백 스페이스\n",
    "#     \\000 널문자"
   ]
  },
  {
   "cell_type": "code",
   "execution_count": 107,
   "metadata": {},
   "outputs": [],
   "source": [
    "# 문자열 연산자 : + *"
   ]
  },
  {
   "cell_type": "code",
   "execution_count": 117,
   "metadata": {},
   "outputs": [
    {
     "data": {
      "text/plain": [
       "'python'"
      ]
     },
     "execution_count": 117,
     "metadata": {},
     "output_type": "execute_result"
    }
   ],
   "source": [
    "# Error 주의\n",
    "\n",
    "# 연속문자열에서 괄호와 상수 연속 사용 불가 -> + 사용\n",
    "('un'*3)+'ium'\n",
    "\n",
    "# 변수와 상수는 연속 사용 불가  -> + 사용\n",
    "prefix = 'py'         \n",
    "prefix +'thon' "
   ]
  },
  {
   "cell_type": "code",
   "execution_count": 121,
   "metadata": {},
   "outputs": [
    {
     "data": {
      "text/plain": [
       "('e',\n",
       " 't',\n",
       " 'L',\n",
       " 'Life',\n",
       " 'Life',\n",
       " 'Life',\n",
       " 'is too short',\n",
       " 'Life is too short',\n",
       " 'shor')"
      ]
     },
     "execution_count": 121,
     "metadata": {},
     "output_type": "execute_result"
    }
   ],
   "source": [
    "## 문자열 내의 문자 Indexing ###############################################\n",
    "s = \"Life is too short\"\n",
    "\n",
    "s[3], s[-1], s[-17], s[0]+s[1]+s[2]+s[3], s[0:4], s[:4], s[5:], s[:], s[12:-1]"
   ]
  },
  {
   "cell_type": "code",
   "execution_count": 122,
   "metadata": {},
   "outputs": [
    {
     "ename": "TypeError",
     "evalue": "'str' object does not support item assignment",
     "output_type": "error",
     "traceback": [
      "\u001b[1;31m---------------------------------------------------------------------------\u001b[0m",
      "\u001b[1;31mTypeError\u001b[0m                                 Traceback (most recent call last)",
      "\u001b[1;32m<ipython-input-122-385b5de8b5bb>\u001b[0m in \u001b[0;36m<module>\u001b[1;34m\u001b[0m\n\u001b[0;32m      1\u001b[0m \u001b[1;31m# 문자열 내 문자를 수정, 변경을 할 수 없음\u001b[0m\u001b[1;33m\u001b[0m\u001b[1;33m\u001b[0m\u001b[1;33m\u001b[0m\u001b[0m\n\u001b[0;32m      2\u001b[0m \u001b[0mw\u001b[0m \u001b[1;33m=\u001b[0m \u001b[1;34m\"20010331Rainy\"\u001b[0m\u001b[1;33m\u001b[0m\u001b[1;33m\u001b[0m\u001b[0m\n\u001b[1;32m----> 3\u001b[1;33m \u001b[0mw\u001b[0m\u001b[1;33m[\u001b[0m\u001b[1;36m4\u001b[0m\u001b[1;33m:\u001b[0m\u001b[1;36m6\u001b[0m\u001b[1;33m]\u001b[0m\u001b[1;33m=\u001b[0m\u001b[1;34m'05'\u001b[0m\u001b[1;33m\u001b[0m\u001b[1;33m\u001b[0m\u001b[0m\n\u001b[0m",
      "\u001b[1;31mTypeError\u001b[0m: 'str' object does not support item assignment"
     ]
    }
   ],
   "source": [
    "# 문자열 내 문자를 수정, 변경을 할 수 없음\n",
    "w = \"20010331Rainy\"\n",
    "w[4:6]='05'"
   ]
  },
  {
   "cell_type": "code",
   "execution_count": 124,
   "metadata": {},
   "outputs": [
    {
     "data": {
      "text/plain": [
       "'20010531Rainy'"
      ]
     },
     "execution_count": 124,
     "metadata": {},
     "output_type": "execute_result"
    }
   ],
   "source": [
    "w= w[:4]+'05'+w[6:]\n",
    "w"
   ]
  },
  {
   "cell_type": "code",
   "execution_count": null,
   "metadata": {},
   "outputs": [],
   "source": [
    "## str 함수들 ###############################################\n",
    "\n",
    ".count('x')   # x의 개수\n",
    ".find('x')    # x의 index  ->  없으면 -1\n",
    ".index('x')   # x의 index  ->  없으면 error\n",
    "y.join('x')   # x 문자열 사이마다 y 넣어 문자열 만들기\n",
    ".upper()      # 문자열 내 모든 문자를 대문자로 만들어 결과값 반환\n",
    ".lower()      # 문자열 내 모든 문자를 소문자로 만들어 결과값 반환\n",
    "\n",
    ".lstrip()     # 왼쪽/오른쪽 공백을 제거한 문자열 반환  or 지정한 파라미터 제거\n",
    ".rstrip()\n",
    ".strip()      # 양쪽 공백을 제거한 문자열 반환 or 지정한 파라미터 제거\n",
    ".replace('x','y') # x 문자열을, y문자열로 치환 후 반환\n",
    ".split()      # 공백(or 파라미터) 기준으로 문자열을 나눈 문자열들의 List를 반환"
   ]
  },
  {
   "cell_type": "code",
   "execution_count": null,
   "metadata": {},
   "outputs": [],
   "source": [
    "\" {}  {}  ...   \".format(x1, x2, ... )    ->    x1 x2 ....\n",
    "\" {1}  {0}  ...   \".format(x1, x2, ... )    ->   x2 x1 ....\n",
    "\" {title}  {wind}  ...   \".format(wind = x1, titile = x2, ... )    ->   x2 x1 ....\n",
    "# 숫자, 문자열, 변수 -> 지정 인덱스 / 라벨\n",
    "# 혼용 가능\n",
    "\n",
    "# {index : 정렬 칸수}\n",
    "# { 라벨 : 정렬 칸수}\n",
    "\"{0:10}\".format(\"hello\")    -> 'hello     '     \n",
    "\"{0:<10}\".format(\"hello\")    -> 'hello     ' # 왼쪽 정렬\n",
    "\"{0:>10}\".format(\"hello\")    -> '     hello' # 오른쪽 정렬\n",
    "\"{0:^10}\".format(\"hello\")    -> '  hello   ' # 가운데 정렬\n",
    "\n",
    "# {index : 채우기문자 정렬 칸수}\n",
    "# { 라벨 : 채우기문자 정렬 칸수}\n",
    "\"{0:=<10}\".format(\"hello\")    -> 'hello=====' # 왼쪽 정렬, = 문자로 빈공간 채우기\n",
    "\"{0:*^10}\".format(\"hello\")    -> '**hello***' # 가운데 정렬, * 문자로 빈공간 채우기\n",
    "\"{0:$>10}\".format(\"hello\")    -> '$$$$$hello' # 오른쪽 정렬, $ 문자로 빈공간 채우기\n",
    "\n",
    "\n",
    "# 숫자 서식\n",
    "\"{0:,}\".format(123456.789)   # 정수 부분에 ',' 삽입\n",
    "\"{0:15}\".format(123456.789)  # 오른쪽 정렬, 소수점 포함 15칸 \n",
    "\"{0:15.4}\".format(123456.789)  # 오른쪽 정렬, 실수는 기본이 지수형 표현, .4는 유효숫자 길이\n",
    "\"{0:15.4f}\".format(123456.789)  # 오른쪽 정렬, 소수점 포함 15칸, 소수점 아래 4자리  /  f:소수점 실수 표현, d: 정수, e:지수"
   ]
  },
  {
   "cell_type": "code",
   "execution_count": 127,
   "metadata": {},
   "outputs": [
    {
     "data": {
      "text/plain": [
       "('   123,456.7890', '===123,456.7890', '{hello}')"
      ]
     },
     "execution_count": 127,
     "metadata": {},
     "output_type": "execute_result"
    }
   ],
   "source": [
    "# 숫자 서식 예제\n",
    "\"{0:15,.4f}\".format(123456.789), \"{0:=>15,.4f}\".format(123456.789),  \"{{hello}}\".format()"
   ]
  },
  {
   "cell_type": "code",
   "execution_count": 128,
   "metadata": {},
   "outputs": [],
   "source": [
    "## str(string) : 문자열\n",
    "\n",
    "#     문자열 : 변경 불가\n",
    "#     문자열 표현법\n",
    "#     탈출문자(Escape character)\n",
    "#     indexing ( list, tuple과 동일 )\n",
    "#     slicing ( list, tuple과 동일 )\n",
    "#     str 함수\n",
    "#     format() 함수 이용한 문자열 formatting"
   ]
  },
  {
   "cell_type": "code",
   "execution_count": 131,
   "metadata": {},
   "outputs": [
    {
     "name": "stdout",
     "output_type": "stream",
     "text": [
      "주민등록번호 입력: 950123-1234567\n",
      "Year : 95\n",
      "Month : 01\n",
      "Day : 23\n",
      "Gender : Male\n"
     ]
    }
   ],
   "source": [
    "# 문제 풀기\n",
    "\n",
    "# 1\n",
    "num = input('주민등록번호 입력: ')\n",
    "\n",
    "print('Year :',num[0:2])\n",
    "print('Month :',num[2:4])\n",
    "print('Day :',num[4:6])\n",
    "# print('Year : {}'.format(num[0:2]))    \n",
    "# print('Month : {}'.format(num[2:4]))\n",
    "# print('Day : {}'.format(num[4:6]))\n",
    "\n",
    "gender = ''\n",
    "if num[7] == '1' or num[7] == '3':\n",
    "    gender = \"Male\"\n",
    "elif num[7] == '2' or num[7] == '4':\n",
    "    gender = \"Female\"\n",
    "else:\n",
    "    gender = \"Unknown\"\n",
    "print('Gender :',gender)"
   ]
  },
  {
   "cell_type": "code",
   "execution_count": 134,
   "metadata": {},
   "outputs": [
    {
     "data": {
      "text/plain": [
       "(1, 5, 'GOOD MORNING! HOW ARE YOU?', 'good morning! how are you')"
      ]
     },
     "execution_count": 134,
     "metadata": {},
     "output_type": "execute_result"
    }
   ],
   "source": [
    "# 2\n",
    "s = \"good morning! how are you?\"\n",
    "s.find(\"o\"), s.count(\"o\"), s.upper(), s.strip(\"?\")"
   ]
  },
  {
   "cell_type": "code",
   "execution_count": 141,
   "metadata": {},
   "outputs": [
    {
     "data": {
      "text/plain": [
       "'a,b,c,d'"
      ]
     },
     "execution_count": 141,
     "metadata": {},
     "output_type": "execute_result"
    }
   ],
   "source": [
    "# 3\n",
    "s='a:b:c:d'\n",
    "\n",
    "#s = s.replace(':',',')  \n",
    "s = ','.join(s.split(':'))\n",
    "s"
   ]
  },
  {
   "cell_type": "code",
   "execution_count": 143,
   "metadata": {},
   "outputs": [
    {
     "name": "stdout",
     "output_type": "stream",
     "text": [
      "이름 입력: 홍길동\n",
      "점수 입력(실수): 57.5\n",
      "****홍길동****님은 57.50점을 받았습니다.\n",
      "불합격하였습니다. 2.50점이 부족합니다.\n"
     ]
    }
   ],
   "source": [
    "# 4\n",
    "\n",
    "name = input('이름 입력: ')\n",
    "score = eval(input('점수 입력(실수): '))\n",
    "\n",
    "print(\"{0:*^11}님은 {1:.2f}점을 받았습니다.\".format(name, score))      # .2f !!!!!!!!!!!!!!!!!!\n",
    "if score >= 60 :\n",
    "    print(\"합격입니다.\")\n",
    "else : \n",
    "    tmp = 60 - score\n",
    "    print(\"불합격하였습니다. {0:.2f}점이 부족합니다.\".format(tmp))"
   ]
  },
  {
   "cell_type": "code",
   "execution_count": 144,
   "metadata": {},
   "outputs": [],
   "source": [
    "#######################################################################\n",
    "#                              6장                                    #\n",
    "#######################################################################"
   ]
  },
  {
   "cell_type": "code",
   "execution_count": 145,
   "metadata": {},
   "outputs": [],
   "source": [
    "## 함수호출(Function call) ############################################\n",
    "\n",
    "# 작업대상 함수(method) 호출 : 작업대상.함수명(인자값)\n",
    "# Built-in 함수 호출 : 함수명(인자값)\n",
    "\n",
    "# 함수이름 - 소문자,대문자, 숫자, _ / 첫글자는 숫자X / 대소문자 구분 / Keyword X / 다른 함수, type 이름 X\n",
    "# 인자값(Parameter, optional)\n",
    "# 반환값 - return 사용\n",
    "# 명령문 - 들여쓰기 필수"
   ]
  },
  {
   "cell_type": "code",
   "execution_count": 147,
   "metadata": {},
   "outputs": [
    {
     "name": "stdout",
     "output_type": "stream",
     "text": [
      "Hello\n",
      "WowWowWowWowWow\n"
     ]
    }
   ],
   "source": [
    "# 파라미터 기본 인자값\n",
    "def say (message, times = 1):\n",
    "    print(message * times)\n",
    "say('Hello')    # say('Hello', 1) 과 동일한 문장\n",
    "say('Wow', 5)\n",
    "\n",
    "# 기본인자값 지정하는 Parameter는 뒤로 배치"
   ]
  },
  {
   "cell_type": "code",
   "execution_count": 149,
   "metadata": {},
   "outputs": [
    {
     "name": "stdout",
     "output_type": "stream",
     "text": [
      "25\n",
      "25\n",
      "25\n"
     ]
    }
   ],
   "source": [
    "# 인자 지정 호출\n",
    "def fun ( num, p ) :\n",
    "    return num ** p\n",
    "print( fun( p = 2, num = 5 ) )\n",
    "print( fun( 5, p = 2, ) )     # fun(p=2,5) 는 syntax error\n",
    "print( fun( num = 5, p = 2 ) )\n",
    "\n",
    "# 키워드 인자 : \"parameter이름 = 인자값\"으로 함수 호출"
   ]
  },
  {
   "cell_type": "code",
   "execution_count": 151,
   "metadata": {},
   "outputs": [
    {
     "name": "stdout",
     "output_type": "stream",
     "text": [
      "14\n",
      "22\n",
      "2\n",
      "0\n"
     ]
    }
   ],
   "source": [
    "# 가변 인자 개수 - 인자의 개수가 가변\n",
    "\n",
    "def test ( *x ) :   # 파라미터 앞 * 의미 : 임의의 개수의 인자값을 받아 Tuple로 저장\n",
    "    print( sum(x) )\n",
    "\n",
    "test( 3, 5, 6 )\n",
    "test( 3, 1, 8, 10 )\n",
    "test( 2 )\n",
    "test( )      # 빈 tuple, ( ) 이 Parameter가 됨"
   ]
  },
  {
   "cell_type": "code",
   "execution_count": 155,
   "metadata": {},
   "outputs": [
    {
     "name": "stdout",
     "output_type": "stream",
     "text": [
      "graph 는  1000 원\n",
      "apple 는  700 원\n",
      "orange 는  600 원\n",
      "{'graph': 1000, 'apple': 700, 'orange': 600}\n"
     ]
    }
   ],
   "source": [
    "# 함수 호출 인자 정보로 Dictionary\n",
    "\n",
    "def price(**fruit) :     # 파라미터 앞 ** 의미 : 파라미터를 Dictionary 형태로 저장\n",
    "    for x in fruit :\n",
    "        print( x, '는 ', fruit[x], '원')\n",
    "    print( fruit )\n",
    "\n",
    "price(graph = 1000, apple = 700, orange = 600)  # key값에 해당되는 부분에 Quatation 붙이기 X\n",
    "\n",
    "# 시간마다 달라지는 값들? - 계절 과일 가격"
   ]
  },
  {
   "cell_type": "code",
   "execution_count": 158,
   "metadata": {},
   "outputs": [
    {
     "name": "stdout",
     "output_type": "stream",
     "text": [
      "graph 2 개 apple 3 개 orange 1 개  ==>  4700\n"
     ]
    }
   ],
   "source": [
    "# *, ** 같이 사용\n",
    "\n",
    "def totalcost(*count, **fruit) :\n",
    "    sum = 0\n",
    "    i = 0\n",
    "    for x in fruit :\n",
    "        sum += fruit[x]*count[i]\n",
    "        print( x, count[i], \"개\", end = ' ' )\n",
    "        i += 1\n",
    "    print( \" ==> \", sum )\n",
    "    \n",
    "totalcost( 2, 3, 1, graph = 1000, apple = 700, orange = 600)"
   ]
  },
  {
   "cell_type": "code",
   "execution_count": 159,
   "metadata": {},
   "outputs": [
    {
     "name": "stdout",
     "output_type": "stream",
     "text": [
      "(0, 10)\n",
      "<class 'tuple'>\n"
     ]
    }
   ],
   "source": [
    "# 함수 결과값으로 여러개 값 반환\n",
    "def min_max( t ) :\n",
    "    return min(t), max(t)   # data structure를 만들어서 반환 (여기에선 tuple)\n",
    "\n",
    "x = min_max( (3,5,2,1,9,10,0,6) )\n",
    "print( x )\n",
    "print( type( x ) )"
   ]
  },
  {
   "cell_type": "code",
   "execution_count": 160,
   "metadata": {},
   "outputs": [
    {
     "ename": "TypeError",
     "evalue": "min_max() takes 1 positional argument but 8 were given",
     "output_type": "error",
     "traceback": [
      "\u001b[1;31m---------------------------------------------------------------------------\u001b[0m",
      "\u001b[1;31mTypeError\u001b[0m                                 Traceback (most recent call last)",
      "\u001b[1;32m<ipython-input-160-cfed344b5bda>\u001b[0m in \u001b[0;36m<module>\u001b[1;34m\u001b[0m\n\u001b[1;32m----> 1\u001b[1;33m \u001b[0mprint\u001b[0m\u001b[1;33m(\u001b[0m \u001b[0mmin_max\u001b[0m\u001b[1;33m(\u001b[0m \u001b[1;36m3\u001b[0m\u001b[1;33m,\u001b[0m\u001b[1;36m5\u001b[0m\u001b[1;33m,\u001b[0m\u001b[1;36m2\u001b[0m\u001b[1;33m,\u001b[0m\u001b[1;36m1\u001b[0m\u001b[1;33m,\u001b[0m\u001b[1;36m9\u001b[0m\u001b[1;33m,\u001b[0m\u001b[1;36m10\u001b[0m\u001b[1;33m,\u001b[0m\u001b[1;36m0\u001b[0m\u001b[1;33m,\u001b[0m\u001b[1;36m6\u001b[0m \u001b[1;33m)\u001b[0m \u001b[1;33m)\u001b[0m\u001b[1;33m\u001b[0m\u001b[1;33m\u001b[0m\u001b[0m\n\u001b[0m",
      "\u001b[1;31mTypeError\u001b[0m: min_max() takes 1 positional argument but 8 were given"
     ]
    }
   ],
   "source": [
    "print( min_max( 3,5,2,1,9,10,0,6 ) )\n",
    "# def min_max( *t ):  가 아님"
   ]
  },
  {
   "cell_type": "code",
   "execution_count": 161,
   "metadata": {},
   "outputs": [],
   "source": [
    "## 변수의 유효범위\n",
    "#     변수를 만든 위치에 따라 변수를 사용 가능한 문장의 범위가 결정됨\n",
    "#     함수 안에서 변수를 만들면, 해당 함수 안에서만 사용 가능"
   ]
  },
  {
   "cell_type": "code",
   "execution_count": 162,
   "metadata": {},
   "outputs": [
    {
     "name": "stdout",
     "output_type": "stream",
     "text": [
      "x is 50\n",
      "Changed global x to 2\n",
      "Value of x is 2\n"
     ]
    }
   ],
   "source": [
    "# global 문장\n",
    "\n",
    "# 메모리가 비어져있다는 가정 하에 실행\n",
    "\n",
    "x = 50\n",
    "def func():\n",
    "    global x    # 함수 바깥에서 만든 x사용\n",
    "    \n",
    "    print('x is', x)\n",
    "    x = 2\n",
    "    print('Changed global x to', x)\n",
    "    \n",
    "func()\n",
    "print('Value of x is',x)"
   ]
  },
  {
   "cell_type": "code",
   "execution_count": 163,
   "metadata": {},
   "outputs": [],
   "source": [
    "# Module - 유용한 function들의 정의(def)를 모아 놓은 것\n",
    "# Library - 모듈들의 모임\n",
    "# 표준 Library - Python이 기본적으로 제공하는 Library\n",
    "\n",
    "# 나만의 module -> 내가 만든 function정의들을 하나의 .py파일에 모아놓으면 module"
   ]
  },
  {
   "cell_type": "code",
   "execution_count": 166,
   "metadata": {},
   "outputs": [
    {
     "data": {
      "text/plain": [
       "5.0"
      ]
     },
     "execution_count": 166,
     "metadata": {},
     "output_type": "execute_result"
    }
   ],
   "source": [
    "import math   # import 'module 명'\n",
    "math.sqrt(25)  # 'module명'.함수명(인자값)\n",
    "\n",
    "# module명 대신 library명 사용해도됨"
   ]
  },
  {
   "cell_type": "code",
   "execution_count": 165,
   "metadata": {},
   "outputs": [],
   "source": [
    "## 함수(Function)\n",
    "#\n",
    "#     함수 만들기\n",
    "#         – 기본 인자값\n",
    "#         – 인자 지정 호출\n",
    "#         – 가변 인자 개수\n",
    "#     함수 parameter\n",
    "#     return 문장\n",
    "#         – 여러 개 값 반환\n",
    "#     함수 내 변수의 유효범위\n",
    "#         – global 문장\n",
    "#     Module\n",
    "#     표준 library        -> import 필요\n",
    "#     함수 호출 방법들"
   ]
  }
 ],
 "metadata": {
  "kernelspec": {
   "display_name": "Python 3.8.3 64-bit",
   "language": "python",
   "name": "python38364bitc7d172dfbcaf4c84b1b0b3dca7174a39"
  },
  "language_info": {
   "codemirror_mode": {
    "name": "ipython",
    "version": 3
   },
   "file_extension": ".py",
   "mimetype": "text/x-python",
   "name": "python",
   "nbconvert_exporter": "python",
   "pygments_lexer": "ipython3",
   "version": "3.8.3"
  }
 },
 "nbformat": 4,
 "nbformat_minor": 4
}
