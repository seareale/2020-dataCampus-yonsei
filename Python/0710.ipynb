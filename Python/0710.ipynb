{
 "cells": [
  {
   "cell_type": "code",
   "execution_count": 1,
   "metadata": {},
   "outputs": [],
   "source": [
    "# PRESWOT 7장\n",
    "\n",
    "# 1\n",
    "f = open(\"score.txt\")\n",
    "f2 = open(\"result.txt\", \"w\")\n",
    "\n",
    "sum_score = 0\n",
    "lines = f.readlines()\n",
    "for line in lines:\n",
    "    sum_score += int(line)\n",
    "f.close()\n",
    "    \n",
    "f2.write(\"sum : {}\\n\".format(sum_score))\n",
    "f2.write(\"average : {}\\n\".format(sum_score/len(lines)))\n",
    "\n",
    "f2.close()"
   ]
  },
  {
   "cell_type": "code",
   "execution_count": 4,
   "metadata": {},
   "outputs": [],
   "source": [
    "with open(\"score.txt\") as opn:\n",
    "#     tot = count = 0\n",
    "#     while True:\n",
    "#         data = opn.readline()\n",
    "#         if not data:\n",
    "#             break\n",
    "#         tot += int(data)\n",
    "#         count += 1\n",
    "    #######\n",
    "    lines = opn.readlines()\n",
    "    num = [int(x) for x in lines]\n",
    "    sum_num = sum(num)\n",
    "        \n",
    "with open(\"result.txt\", \"w\") as fin:\n",
    "#     fin.write(\"sum : {}\\n\".format(tot))\n",
    "#     fin.write(\"average : {}\\n\".format(tot/count)) \n",
    "    #######\n",
    "    fin.write(\"sum : {}\\n\".format(sum_num))\n",
    "    fin.write(\"average : {}\\n\".format(sum_num/len(num)))    "
   ]
  },
  {
   "cell_type": "code",
   "execution_count": null,
   "metadata": {},
   "outputs": [],
   "source": [
    "# 2\n",
    "\n",
    "# 다음과 같은 프로그램에서 빈 칸에 들어갈 구문을 완성하세요.\n",
    "\n",
    "import csv\n",
    "with open('input.csv', 'w', newline='') as a:\n",
    "    #b = csv.writer(a, delimiter=',')#\n",
    "    b.writerow([75, 56, 38, 98, 62, 3, 81, 17, 52, 43])"
   ]
  },
  {
   "cell_type": "code",
   "execution_count": 5,
   "metadata": {},
   "outputs": [],
   "source": [
    "#######################################################################\n",
    "#                              10장                                   #\n",
    "#######################################################################"
   ]
  },
  {
   "cell_type": "code",
   "execution_count": 6,
   "metadata": {},
   "outputs": [],
   "source": [
    "# 예외 발생\n",
    "#-> 읽기:파일이 없는 경우, 0으로 나눈 경우, 범위 밖 인덱스 조회, ...\n",
    "\n",
    "# 예외 처리 방법\n",
    "# try:\n",
    "# ...\n",
    "# except [예외명 [\"as\" 대체변수]]:      #  [] 생략 가능\n",
    "# ...\n",
    "\n",
    "# 예외명 : FileNotFoundError, ZeroDivisionError, IndexError, ..."
   ]
  },
  {
   "cell_type": "code",
   "execution_count": 9,
   "metadata": {},
   "outputs": [
    {
     "name": "stdout",
     "output_type": "stream",
     "text": [
      "step 1\n",
      "step 2\n",
      "step 4\n",
      "예외 발생!\n",
      "step 5\n",
      "step 6\n"
     ]
    }
   ],
   "source": [
    "print('step 1')\n",
    "try:\n",
    "    print('step 2')\n",
    "    f = open(\"finename.txt\")\n",
    "    print('step 3')\n",
    "except :\n",
    "    print('step 4')\n",
    "    print(\"예외 발생!\")\n",
    "    print('step 5')\n",
    "print('step 6')"
   ]
  },
  {
   "cell_type": "code",
   "execution_count": 10,
   "metadata": {},
   "outputs": [
    {
     "name": "stdout",
     "output_type": "stream",
     "text": [
      "FileNotFoundError\n"
     ]
    }
   ],
   "source": [
    "# 다중 예외 처리\n",
    "\n",
    "try:\n",
    "    f = open(\"finename.txt\")\n",
    "    4 / 0\n",
    "    [1, 2, 3][4]\n",
    "except FileNotFoundError:\n",
    "    print(\"FileNotFoundError\")\n",
    "except ZeroDivisionError:\n",
    "    print(\" ZeroDivisionError \")\n",
    "except IndexError:\n",
    "    print(\" IndexError \")"
   ]
  },
  {
   "cell_type": "code",
   "execution_count": 11,
   "metadata": {},
   "outputs": [
    {
     "name": "stdout",
     "output_type": "stream",
     "text": [
      "[Errno 2] No such file or directory: 'finename.txt'\n"
     ]
    }
   ],
   "source": [
    "# 예외 확인\n",
    "\n",
    "try:\n",
    "    f = open(\"finename.txt\")\n",
    "except FileNotFoundError as fs:\n",
    "    print(fs)"
   ]
  },
  {
   "cell_type": "code",
   "execution_count": 15,
   "metadata": {},
   "outputs": [
    {
     "name": "stdout",
     "output_type": "stream",
     "text": [
      "[Errno 2] No such file or directory: 'numbers.txt'\n"
     ]
    }
   ],
   "source": [
    "try:\n",
    "    f = open(\"numbers.txt\")\n",
    "except FileNotFoundError as fs:\n",
    "    print(fs)"
   ]
  },
  {
   "cell_type": "code",
   "execution_count": 28,
   "metadata": {},
   "outputs": [
    {
     "name": "stdout",
     "output_type": "stream",
     "text": [
      "10 / 5 = 2\n",
      "9 / 4 = 2\n",
      "90 / 10 = 9\n",
      "두번째 숫자가 0입니다.\n"
     ]
    }
   ],
   "source": [
    "try:\n",
    "    f = open(\"numbers.txt\")\n",
    "    lines = f.readlines()\n",
    "    for line in lines:\n",
    "        tmp = [ int(x) for x in line.split(\" \")]\n",
    "#         x,y = line.split()\n",
    "#         x,y = int(x), int(y)\n",
    "        print(\"{} / {} = {}\".format(tmp[0], tmp[1], tmp[0]//tmp[1]))\n",
    "#         print(\"{} / {} = {}\".format(x, y, x//y))\n",
    "except ZeroDivisionError:\n",
    "    print(\"두번째 숫자가 0입니다.\")"
   ]
  },
  {
   "cell_type": "code",
   "execution_count": 1,
   "metadata": {},
   "outputs": [
    {
     "name": "stdout",
     "output_type": "stream",
     "text": [
      "[Errno 2] No such file or directory: 'numbers.txt'\n"
     ]
    }
   ],
   "source": [
    "try:\n",
    "    f = open(\"numbers.txt\")\n",
    "    lines = f.readlines()\n",
    "    for line in lines:\n",
    "        tmp = [ int(x) for x in line.split(\" \")]\n",
    "        print(\"{} / {} = {}\".format(tmp[0], tmp[1], tmp[0]//tmp[1]))\n",
    "except FileNotFoundError as fs:\n",
    "    print(fs)\n",
    "except ZeroDivisionError:\n",
    "    print(\"두번째 숫자가 0입니다.\")\n",
    "    f.close() ## 파일 마무리!!!!!!!!!!!!!!"
   ]
  },
  {
   "cell_type": "code",
   "execution_count": 2,
   "metadata": {},
   "outputs": [],
   "source": [
    "# PRESWOT 문제"
   ]
  },
  {
   "cell_type": "code",
   "execution_count": 22,
   "metadata": {},
   "outputs": [],
   "source": [
    "# 1 \n",
    "# 연안정점 별 기온 평균을 구해 file “연안정점기온평균..txt” 에 써서 저장하십시오.\n",
    "\n",
    "import csv\n",
    "\n",
    "try:\n",
    "    with open('연안정지 관측자료.csv', 'r', encoding='utf-8-sig') as f :\n",
    "        reader = csv.reader(f)\n",
    "        tmp = {}\n",
    "        next(reader)\n",
    "        for row in reader:\n",
    "\n",
    "        #     if row[5]:\n",
    "        #         val = float(row[5])\n",
    "        #     else:\n",
    "        #         val = None\n",
    "    \n",
    "        #     if val != None:\n",
    "        #         if row[1] no in d:\n",
    "        #             d[row[1]] = [val,1]\n",
    "        #         else :\n",
    "        #             d[row[1]][0] += val\n",
    "        #             d[row[1]][1] += 1\n",
    "\n",
    "            if row[5] == '' or row[5] == '0':   #-> 정보가 있으면 float 바꾸기 / 없으면 None \n",
    "                continue\n",
    "            if row[1] not in tmp.keys():\n",
    "                tmp[row[1]] = [float(row[5])]\n",
    "            else :\n",
    "                tmp[row[1]].append(float(row[5]))\n",
    "\n",
    "    temp = {}\n",
    "    for key in tmp.keys():\n",
    "        temp[key] = sum(tmp[key])/len(tmp[key])\n",
    "\n",
    "    with open('연안정점기온평균..txt', 'w') as f :\n",
    "        for key in temp.keys():\n",
    "            f.write(\"{} : {}\\n\".format(key, temp[key]))\n",
    "\n",
    "    # with open(\"연안정점기온평균.csv\", \"w\", encoding= 'utf-8', newline='') as out:\n",
    "    #     writer = csv.writer(out, delimeter=',')\n",
    "    #     for x in temp:\n",
    "    #         r = [x, temp[x]]\n",
    "    #         writer.writer(r)\n",
    "        \n",
    "except FileNotFoundError as fs:\n",
    "    print(fs)\n",
    "except IndexError as fs:\n",
    "    print(fs)\n",
    "except :\n",
    "    print(\"Something Wrong!\")"
   ]
  }
 ],
 "metadata": {
  "kernelspec": {
   "display_name": "Python 3.8.3 64-bit",
   "language": "python",
   "name": "python38364bitc7d172dfbcaf4c84b1b0b3dca7174a39"
  },
  "language_info": {
   "codemirror_mode": {
    "name": "ipython",
    "version": 3
   },
   "file_extension": ".py",
   "mimetype": "text/x-python",
   "name": "python",
   "nbconvert_exporter": "python",
   "pygments_lexer": "ipython3",
   "version": "3.8.3"
  }
 },
 "nbformat": 4,
 "nbformat_minor": 4
}
