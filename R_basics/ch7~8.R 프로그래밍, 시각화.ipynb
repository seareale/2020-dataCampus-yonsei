{
 "cells": [
  {
   "cell_type": "markdown",
   "metadata": {},
   "source": [
    "# ch7. 프로그래밍"
   ]
  },
  {
   "cell_type": "markdown",
   "metadata": {},
   "source": [
    "## 1. IF문"
   ]
  },
  {
   "cell_type": "markdown",
   "metadata": {},
   "source": [
    "```{.r}\n",
    "if (logical expression) {  \n",
    "    statements  \n",
    "} else {  \n",
    "    alternative statements  \n",
    "}\n",
    "```\n",
    "**else 는 앞의 } 와 같은 줄에 있어야함**"
   ]
  },
  {
   "cell_type": "code",
   "execution_count": 11,
   "metadata": {},
   "outputs": [
    {
     "name": "stdout",
     "output_type": "stream",
     "text": [
      "[1] 10\n"
     ]
    }
   ],
   "source": [
    "a <- 10\n",
    "if (a>5){\n",
    "  print (a)\n",
    "} else {\n",
    "  print (a*10)\n",
    "  print (a/10)\n",
    "}\n"
   ]
  },
  {
   "cell_type": "code",
   "execution_count": 13,
   "metadata": {},
   "outputs": [
    {
     "data": {
      "text/html": [
       "20"
      ],
      "text/latex": [
       "20"
      ],
      "text/markdown": [
       "20"
      ],
      "text/plain": [
       "[1] 20"
      ]
     },
     "metadata": {},
     "output_type": "display_data"
    }
   ],
   "source": [
    "a <- 10\n",
    "b <- 20\n",
    "ifelse (a>b, c<-a, c<-b)\n",
    "\n",
    "# ifelse(조건, 참, 거짓)\n",
    "#     if (a > b) {\n",
    "#        c <- a\n",
    "#     } else {\n",
    "#        c <- b  \n",
    "#     } "
   ]
  },
  {
   "cell_type": "markdown",
   "metadata": {},
   "source": [
    "## 2. 반복문:for"
   ]
  },
  {
   "cell_type": "code",
   "execution_count": 17,
   "metadata": {},
   "outputs": [
    {
     "name": "stdout",
     "output_type": "stream",
     "text": [
      "[1] 5050\n"
     ]
    }
   ],
   "source": [
    "sum <- 0\n",
    "for(i in 1:100) {\n",
    "  sum <- sum + i\n",
    "}\n",
    "print(sum)\n"
   ]
  },
  {
   "cell_type": "markdown",
   "metadata": {},
   "source": [
    "## 3. 반복문:while"
   ]
  },
  {
   "cell_type": "code",
   "execution_count": 18,
   "metadata": {},
   "outputs": [
    {
     "name": "stdout",
     "output_type": "stream",
     "text": [
      "[1] 1\n",
      "[1] 2\n",
      "[1] 3\n",
      "[1] 4\n",
      "[1] 5\n",
      "[1] 6\n",
      "[1] 7\n",
      "[1] 8\n",
      "[1] 9\n",
      "[1] 10\n"
     ]
    }
   ],
   "source": [
    "i<-1\n",
    "while(i <= 10) {\n",
    "   print(i)\n",
    "   i <- i+1\n",
    "}"
   ]
  },
  {
   "cell_type": "markdown",
   "metadata": {},
   "source": [
    "iris 데이터셋에서 Sepal.Length 가 5.0~6.0 사이인 행들만 골라서 Sepal.Length, Sepal.Width 의 값을 보이시오"
   ]
  },
  {
   "cell_type": "code",
   "execution_count": 19,
   "metadata": {
    "scrolled": true
   },
   "outputs": [
    {
     "data": {
      "text/html": [
       "<table>\n",
       "<caption>A data.frame: 67 × 2</caption>\n",
       "<thead>\n",
       "\t<tr><th></th><th scope=col>Sepal.Length</th><th scope=col>Sepal.Width</th></tr>\n",
       "\t<tr><th></th><th scope=col>&lt;dbl&gt;</th><th scope=col>&lt;dbl&gt;</th></tr>\n",
       "</thead>\n",
       "<tbody>\n",
       "\t<tr><th scope=row>1</th><td>5.1</td><td>3.5</td></tr>\n",
       "\t<tr><th scope=row>5</th><td>5.0</td><td>3.6</td></tr>\n",
       "\t<tr><th scope=row>6</th><td>5.4</td><td>3.9</td></tr>\n",
       "\t<tr><th scope=row>8</th><td>5.0</td><td>3.4</td></tr>\n",
       "\t<tr><th scope=row>11</th><td>5.4</td><td>3.7</td></tr>\n",
       "\t<tr><th scope=row>15</th><td>5.8</td><td>4.0</td></tr>\n",
       "\t<tr><th scope=row>16</th><td>5.7</td><td>4.4</td></tr>\n",
       "\t<tr><th scope=row>17</th><td>5.4</td><td>3.9</td></tr>\n",
       "\t<tr><th scope=row>18</th><td>5.1</td><td>3.5</td></tr>\n",
       "\t<tr><th scope=row>19</th><td>5.7</td><td>3.8</td></tr>\n",
       "\t<tr><th scope=row>20</th><td>5.1</td><td>3.8</td></tr>\n",
       "\t<tr><th scope=row>21</th><td>5.4</td><td>3.4</td></tr>\n",
       "\t<tr><th scope=row>22</th><td>5.1</td><td>3.7</td></tr>\n",
       "\t<tr><th scope=row>24</th><td>5.1</td><td>3.3</td></tr>\n",
       "\t<tr><th scope=row>26</th><td>5.0</td><td>3.0</td></tr>\n",
       "\t<tr><th scope=row>27</th><td>5.0</td><td>3.4</td></tr>\n",
       "\t<tr><th scope=row>28</th><td>5.2</td><td>3.5</td></tr>\n",
       "\t<tr><th scope=row>29</th><td>5.2</td><td>3.4</td></tr>\n",
       "\t<tr><th scope=row>32</th><td>5.4</td><td>3.4</td></tr>\n",
       "\t<tr><th scope=row>33</th><td>5.2</td><td>4.1</td></tr>\n",
       "\t<tr><th scope=row>34</th><td>5.5</td><td>4.2</td></tr>\n",
       "\t<tr><th scope=row>36</th><td>5.0</td><td>3.2</td></tr>\n",
       "\t<tr><th scope=row>37</th><td>5.5</td><td>3.5</td></tr>\n",
       "\t<tr><th scope=row>40</th><td>5.1</td><td>3.4</td></tr>\n",
       "\t<tr><th scope=row>41</th><td>5.0</td><td>3.5</td></tr>\n",
       "\t<tr><th scope=row>44</th><td>5.0</td><td>3.5</td></tr>\n",
       "\t<tr><th scope=row>45</th><td>5.1</td><td>3.8</td></tr>\n",
       "\t<tr><th scope=row>47</th><td>5.1</td><td>3.8</td></tr>\n",
       "\t<tr><th scope=row>49</th><td>5.3</td><td>3.7</td></tr>\n",
       "\t<tr><th scope=row>50</th><td>5.0</td><td>3.3</td></tr>\n",
       "\t<tr><th scope=row>...</th><td>...</td><td>...</td></tr>\n",
       "\t<tr><th scope=row>67</th><td>5.6</td><td>3.0</td></tr>\n",
       "\t<tr><th scope=row>68</th><td>5.8</td><td>2.7</td></tr>\n",
       "\t<tr><th scope=row>70</th><td>5.6</td><td>2.5</td></tr>\n",
       "\t<tr><th scope=row>71</th><td>5.9</td><td>3.2</td></tr>\n",
       "\t<tr><th scope=row>79</th><td>6.0</td><td>2.9</td></tr>\n",
       "\t<tr><th scope=row>80</th><td>5.7</td><td>2.6</td></tr>\n",
       "\t<tr><th scope=row>81</th><td>5.5</td><td>2.4</td></tr>\n",
       "\t<tr><th scope=row>82</th><td>5.5</td><td>2.4</td></tr>\n",
       "\t<tr><th scope=row>83</th><td>5.8</td><td>2.7</td></tr>\n",
       "\t<tr><th scope=row>84</th><td>6.0</td><td>2.7</td></tr>\n",
       "\t<tr><th scope=row>85</th><td>5.4</td><td>3.0</td></tr>\n",
       "\t<tr><th scope=row>86</th><td>6.0</td><td>3.4</td></tr>\n",
       "\t<tr><th scope=row>89</th><td>5.6</td><td>3.0</td></tr>\n",
       "\t<tr><th scope=row>90</th><td>5.5</td><td>2.5</td></tr>\n",
       "\t<tr><th scope=row>91</th><td>5.5</td><td>2.6</td></tr>\n",
       "\t<tr><th scope=row>93</th><td>5.8</td><td>2.6</td></tr>\n",
       "\t<tr><th scope=row>94</th><td>5.0</td><td>2.3</td></tr>\n",
       "\t<tr><th scope=row>95</th><td>5.6</td><td>2.7</td></tr>\n",
       "\t<tr><th scope=row>96</th><td>5.7</td><td>3.0</td></tr>\n",
       "\t<tr><th scope=row>97</th><td>5.7</td><td>2.9</td></tr>\n",
       "\t<tr><th scope=row>99</th><td>5.1</td><td>2.5</td></tr>\n",
       "\t<tr><th scope=row>100</th><td>5.7</td><td>2.8</td></tr>\n",
       "\t<tr><th scope=row>102</th><td>5.8</td><td>2.7</td></tr>\n",
       "\t<tr><th scope=row>114</th><td>5.7</td><td>2.5</td></tr>\n",
       "\t<tr><th scope=row>115</th><td>5.8</td><td>2.8</td></tr>\n",
       "\t<tr><th scope=row>120</th><td>6.0</td><td>2.2</td></tr>\n",
       "\t<tr><th scope=row>122</th><td>5.6</td><td>2.8</td></tr>\n",
       "\t<tr><th scope=row>139</th><td>6.0</td><td>3.0</td></tr>\n",
       "\t<tr><th scope=row>143</th><td>5.8</td><td>2.7</td></tr>\n",
       "\t<tr><th scope=row>150</th><td>5.9</td><td>3.0</td></tr>\n",
       "</tbody>\n",
       "</table>\n"
      ],
      "text/latex": [
       "A data.frame: 67 × 2\n",
       "\\begin{tabular}{r|ll}\n",
       "  & Sepal.Length & Sepal.Width\\\\\n",
       "  & <dbl> & <dbl>\\\\\n",
       "\\hline\n",
       "\t1 & 5.1 & 3.5\\\\\n",
       "\t5 & 5.0 & 3.6\\\\\n",
       "\t6 & 5.4 & 3.9\\\\\n",
       "\t8 & 5.0 & 3.4\\\\\n",
       "\t11 & 5.4 & 3.7\\\\\n",
       "\t15 & 5.8 & 4.0\\\\\n",
       "\t16 & 5.7 & 4.4\\\\\n",
       "\t17 & 5.4 & 3.9\\\\\n",
       "\t18 & 5.1 & 3.5\\\\\n",
       "\t19 & 5.7 & 3.8\\\\\n",
       "\t20 & 5.1 & 3.8\\\\\n",
       "\t21 & 5.4 & 3.4\\\\\n",
       "\t22 & 5.1 & 3.7\\\\\n",
       "\t24 & 5.1 & 3.3\\\\\n",
       "\t26 & 5.0 & 3.0\\\\\n",
       "\t27 & 5.0 & 3.4\\\\\n",
       "\t28 & 5.2 & 3.5\\\\\n",
       "\t29 & 5.2 & 3.4\\\\\n",
       "\t32 & 5.4 & 3.4\\\\\n",
       "\t33 & 5.2 & 4.1\\\\\n",
       "\t34 & 5.5 & 4.2\\\\\n",
       "\t36 & 5.0 & 3.2\\\\\n",
       "\t37 & 5.5 & 3.5\\\\\n",
       "\t40 & 5.1 & 3.4\\\\\n",
       "\t41 & 5.0 & 3.5\\\\\n",
       "\t44 & 5.0 & 3.5\\\\\n",
       "\t45 & 5.1 & 3.8\\\\\n",
       "\t47 & 5.1 & 3.8\\\\\n",
       "\t49 & 5.3 & 3.7\\\\\n",
       "\t50 & 5.0 & 3.3\\\\\n",
       "\t... & ... & ...\\\\\n",
       "\t67 & 5.6 & 3.0\\\\\n",
       "\t68 & 5.8 & 2.7\\\\\n",
       "\t70 & 5.6 & 2.5\\\\\n",
       "\t71 & 5.9 & 3.2\\\\\n",
       "\t79 & 6.0 & 2.9\\\\\n",
       "\t80 & 5.7 & 2.6\\\\\n",
       "\t81 & 5.5 & 2.4\\\\\n",
       "\t82 & 5.5 & 2.4\\\\\n",
       "\t83 & 5.8 & 2.7\\\\\n",
       "\t84 & 6.0 & 2.7\\\\\n",
       "\t85 & 5.4 & 3.0\\\\\n",
       "\t86 & 6.0 & 3.4\\\\\n",
       "\t89 & 5.6 & 3.0\\\\\n",
       "\t90 & 5.5 & 2.5\\\\\n",
       "\t91 & 5.5 & 2.6\\\\\n",
       "\t93 & 5.8 & 2.6\\\\\n",
       "\t94 & 5.0 & 2.3\\\\\n",
       "\t95 & 5.6 & 2.7\\\\\n",
       "\t96 & 5.7 & 3.0\\\\\n",
       "\t97 & 5.7 & 2.9\\\\\n",
       "\t99 & 5.1 & 2.5\\\\\n",
       "\t100 & 5.7 & 2.8\\\\\n",
       "\t102 & 5.8 & 2.7\\\\\n",
       "\t114 & 5.7 & 2.5\\\\\n",
       "\t115 & 5.8 & 2.8\\\\\n",
       "\t120 & 6.0 & 2.2\\\\\n",
       "\t122 & 5.6 & 2.8\\\\\n",
       "\t139 & 6.0 & 3.0\\\\\n",
       "\t143 & 5.8 & 2.7\\\\\n",
       "\t150 & 5.9 & 3.0\\\\\n",
       "\\end{tabular}\n"
      ],
      "text/markdown": [
       "\n",
       "A data.frame: 67 × 2\n",
       "\n",
       "| <!--/--> | Sepal.Length &lt;dbl&gt; | Sepal.Width &lt;dbl&gt; |\n",
       "|---|---|---|\n",
       "| 1 | 5.1 | 3.5 |\n",
       "| 5 | 5.0 | 3.6 |\n",
       "| 6 | 5.4 | 3.9 |\n",
       "| 8 | 5.0 | 3.4 |\n",
       "| 11 | 5.4 | 3.7 |\n",
       "| 15 | 5.8 | 4.0 |\n",
       "| 16 | 5.7 | 4.4 |\n",
       "| 17 | 5.4 | 3.9 |\n",
       "| 18 | 5.1 | 3.5 |\n",
       "| 19 | 5.7 | 3.8 |\n",
       "| 20 | 5.1 | 3.8 |\n",
       "| 21 | 5.4 | 3.4 |\n",
       "| 22 | 5.1 | 3.7 |\n",
       "| 24 | 5.1 | 3.3 |\n",
       "| 26 | 5.0 | 3.0 |\n",
       "| 27 | 5.0 | 3.4 |\n",
       "| 28 | 5.2 | 3.5 |\n",
       "| 29 | 5.2 | 3.4 |\n",
       "| 32 | 5.4 | 3.4 |\n",
       "| 33 | 5.2 | 4.1 |\n",
       "| 34 | 5.5 | 4.2 |\n",
       "| 36 | 5.0 | 3.2 |\n",
       "| 37 | 5.5 | 3.5 |\n",
       "| 40 | 5.1 | 3.4 |\n",
       "| 41 | 5.0 | 3.5 |\n",
       "| 44 | 5.0 | 3.5 |\n",
       "| 45 | 5.1 | 3.8 |\n",
       "| 47 | 5.1 | 3.8 |\n",
       "| 49 | 5.3 | 3.7 |\n",
       "| 50 | 5.0 | 3.3 |\n",
       "| ... | ... | ... |\n",
       "| 67 | 5.6 | 3.0 |\n",
       "| 68 | 5.8 | 2.7 |\n",
       "| 70 | 5.6 | 2.5 |\n",
       "| 71 | 5.9 | 3.2 |\n",
       "| 79 | 6.0 | 2.9 |\n",
       "| 80 | 5.7 | 2.6 |\n",
       "| 81 | 5.5 | 2.4 |\n",
       "| 82 | 5.5 | 2.4 |\n",
       "| 83 | 5.8 | 2.7 |\n",
       "| 84 | 6.0 | 2.7 |\n",
       "| 85 | 5.4 | 3.0 |\n",
       "| 86 | 6.0 | 3.4 |\n",
       "| 89 | 5.6 | 3.0 |\n",
       "| 90 | 5.5 | 2.5 |\n",
       "| 91 | 5.5 | 2.6 |\n",
       "| 93 | 5.8 | 2.6 |\n",
       "| 94 | 5.0 | 2.3 |\n",
       "| 95 | 5.6 | 2.7 |\n",
       "| 96 | 5.7 | 3.0 |\n",
       "| 97 | 5.7 | 2.9 |\n",
       "| 99 | 5.1 | 2.5 |\n",
       "| 100 | 5.7 | 2.8 |\n",
       "| 102 | 5.8 | 2.7 |\n",
       "| 114 | 5.7 | 2.5 |\n",
       "| 115 | 5.8 | 2.8 |\n",
       "| 120 | 6.0 | 2.2 |\n",
       "| 122 | 5.6 | 2.8 |\n",
       "| 139 | 6.0 | 3.0 |\n",
       "| 143 | 5.8 | 2.7 |\n",
       "| 150 | 5.9 | 3.0 |\n",
       "\n"
      ],
      "text/plain": [
       "    Sepal.Length Sepal.Width\n",
       "1   5.1          3.5        \n",
       "5   5.0          3.6        \n",
       "6   5.4          3.9        \n",
       "8   5.0          3.4        \n",
       "11  5.4          3.7        \n",
       "15  5.8          4.0        \n",
       "16  5.7          4.4        \n",
       "17  5.4          3.9        \n",
       "18  5.1          3.5        \n",
       "19  5.7          3.8        \n",
       "20  5.1          3.8        \n",
       "21  5.4          3.4        \n",
       "22  5.1          3.7        \n",
       "24  5.1          3.3        \n",
       "26  5.0          3.0        \n",
       "27  5.0          3.4        \n",
       "28  5.2          3.5        \n",
       "29  5.2          3.4        \n",
       "32  5.4          3.4        \n",
       "33  5.2          4.1        \n",
       "34  5.5          4.2        \n",
       "36  5.0          3.2        \n",
       "37  5.5          3.5        \n",
       "40  5.1          3.4        \n",
       "41  5.0          3.5        \n",
       "44  5.0          3.5        \n",
       "45  5.1          3.8        \n",
       "47  5.1          3.8        \n",
       "49  5.3          3.7        \n",
       "50  5.0          3.3        \n",
       "... ...          ...        \n",
       "67  5.6          3.0        \n",
       "68  5.8          2.7        \n",
       "70  5.6          2.5        \n",
       "71  5.9          3.2        \n",
       "79  6.0          2.9        \n",
       "80  5.7          2.6        \n",
       "81  5.5          2.4        \n",
       "82  5.5          2.4        \n",
       "83  5.8          2.7        \n",
       "84  6.0          2.7        \n",
       "85  5.4          3.0        \n",
       "86  6.0          3.4        \n",
       "89  5.6          3.0        \n",
       "90  5.5          2.5        \n",
       "91  5.5          2.6        \n",
       "93  5.8          2.6        \n",
       "94  5.0          2.3        \n",
       "95  5.6          2.7        \n",
       "96  5.7          3.0        \n",
       "97  5.7          2.9        \n",
       "99  5.1          2.5        \n",
       "100 5.7          2.8        \n",
       "102 5.8          2.7        \n",
       "114 5.7          2.5        \n",
       "115 5.8          2.8        \n",
       "120 6.0          2.2        \n",
       "122 5.6          2.8        \n",
       "139 6.0          3.0        \n",
       "143 5.8          2.7        \n",
       "150 5.9          3.0        "
      ]
     },
     "metadata": {},
     "output_type": "display_data"
    }
   ],
   "source": [
    "subset(iris, Sepal.Length >= 5.0 & Sepal.Length <= 6.0)[,1:2]"
   ]
  },
  {
   "cell_type": "code",
   "execution_count": 21,
   "metadata": {
    "scrolled": true
   },
   "outputs": [
    {
     "name": "stdout",
     "output_type": "stream",
     "text": [
      " [1]   1   5   6   8  11  15  16  17  18  19  20  21  22  24  26  27  28  29  32\n",
      "[20]  33  34  36  37  40  41  44  45  47  49  50  54  56  60  61  62  63  65  67\n",
      "[39]  68  70  71  79  80  81  82  83  84  85  86  89  90  91  93  94  95  96  97\n",
      "[58]  99 100 102 114 115 120 122 139 143 150\n"
     ]
    },
    {
     "data": {
      "text/html": [
       "<table>\n",
       "<caption>A data.frame: 67 × 2</caption>\n",
       "<thead>\n",
       "\t<tr><th></th><th scope=col>Sepal.Length</th><th scope=col>Sepal.Width</th></tr>\n",
       "\t<tr><th></th><th scope=col>&lt;dbl&gt;</th><th scope=col>&lt;dbl&gt;</th></tr>\n",
       "</thead>\n",
       "<tbody>\n",
       "\t<tr><th scope=row>1</th><td>5.1</td><td>3.5</td></tr>\n",
       "\t<tr><th scope=row>5</th><td>5.0</td><td>3.6</td></tr>\n",
       "\t<tr><th scope=row>6</th><td>5.4</td><td>3.9</td></tr>\n",
       "\t<tr><th scope=row>8</th><td>5.0</td><td>3.4</td></tr>\n",
       "\t<tr><th scope=row>11</th><td>5.4</td><td>3.7</td></tr>\n",
       "\t<tr><th scope=row>15</th><td>5.8</td><td>4.0</td></tr>\n",
       "\t<tr><th scope=row>16</th><td>5.7</td><td>4.4</td></tr>\n",
       "\t<tr><th scope=row>17</th><td>5.4</td><td>3.9</td></tr>\n",
       "\t<tr><th scope=row>18</th><td>5.1</td><td>3.5</td></tr>\n",
       "\t<tr><th scope=row>19</th><td>5.7</td><td>3.8</td></tr>\n",
       "\t<tr><th scope=row>20</th><td>5.1</td><td>3.8</td></tr>\n",
       "\t<tr><th scope=row>21</th><td>5.4</td><td>3.4</td></tr>\n",
       "\t<tr><th scope=row>22</th><td>5.1</td><td>3.7</td></tr>\n",
       "\t<tr><th scope=row>24</th><td>5.1</td><td>3.3</td></tr>\n",
       "\t<tr><th scope=row>26</th><td>5.0</td><td>3.0</td></tr>\n",
       "\t<tr><th scope=row>27</th><td>5.0</td><td>3.4</td></tr>\n",
       "\t<tr><th scope=row>28</th><td>5.2</td><td>3.5</td></tr>\n",
       "\t<tr><th scope=row>29</th><td>5.2</td><td>3.4</td></tr>\n",
       "\t<tr><th scope=row>32</th><td>5.4</td><td>3.4</td></tr>\n",
       "\t<tr><th scope=row>33</th><td>5.2</td><td>4.1</td></tr>\n",
       "\t<tr><th scope=row>34</th><td>5.5</td><td>4.2</td></tr>\n",
       "\t<tr><th scope=row>36</th><td>5.0</td><td>3.2</td></tr>\n",
       "\t<tr><th scope=row>37</th><td>5.5</td><td>3.5</td></tr>\n",
       "\t<tr><th scope=row>40</th><td>5.1</td><td>3.4</td></tr>\n",
       "\t<tr><th scope=row>41</th><td>5.0</td><td>3.5</td></tr>\n",
       "\t<tr><th scope=row>44</th><td>5.0</td><td>3.5</td></tr>\n",
       "\t<tr><th scope=row>45</th><td>5.1</td><td>3.8</td></tr>\n",
       "\t<tr><th scope=row>47</th><td>5.1</td><td>3.8</td></tr>\n",
       "\t<tr><th scope=row>49</th><td>5.3</td><td>3.7</td></tr>\n",
       "\t<tr><th scope=row>50</th><td>5.0</td><td>3.3</td></tr>\n",
       "\t<tr><th scope=row>...</th><td>...</td><td>...</td></tr>\n",
       "\t<tr><th scope=row>67</th><td>5.6</td><td>3.0</td></tr>\n",
       "\t<tr><th scope=row>68</th><td>5.8</td><td>2.7</td></tr>\n",
       "\t<tr><th scope=row>70</th><td>5.6</td><td>2.5</td></tr>\n",
       "\t<tr><th scope=row>71</th><td>5.9</td><td>3.2</td></tr>\n",
       "\t<tr><th scope=row>79</th><td>6.0</td><td>2.9</td></tr>\n",
       "\t<tr><th scope=row>80</th><td>5.7</td><td>2.6</td></tr>\n",
       "\t<tr><th scope=row>81</th><td>5.5</td><td>2.4</td></tr>\n",
       "\t<tr><th scope=row>82</th><td>5.5</td><td>2.4</td></tr>\n",
       "\t<tr><th scope=row>83</th><td>5.8</td><td>2.7</td></tr>\n",
       "\t<tr><th scope=row>84</th><td>6.0</td><td>2.7</td></tr>\n",
       "\t<tr><th scope=row>85</th><td>5.4</td><td>3.0</td></tr>\n",
       "\t<tr><th scope=row>86</th><td>6.0</td><td>3.4</td></tr>\n",
       "\t<tr><th scope=row>89</th><td>5.6</td><td>3.0</td></tr>\n",
       "\t<tr><th scope=row>90</th><td>5.5</td><td>2.5</td></tr>\n",
       "\t<tr><th scope=row>91</th><td>5.5</td><td>2.6</td></tr>\n",
       "\t<tr><th scope=row>93</th><td>5.8</td><td>2.6</td></tr>\n",
       "\t<tr><th scope=row>94</th><td>5.0</td><td>2.3</td></tr>\n",
       "\t<tr><th scope=row>95</th><td>5.6</td><td>2.7</td></tr>\n",
       "\t<tr><th scope=row>96</th><td>5.7</td><td>3.0</td></tr>\n",
       "\t<tr><th scope=row>97</th><td>5.7</td><td>2.9</td></tr>\n",
       "\t<tr><th scope=row>99</th><td>5.1</td><td>2.5</td></tr>\n",
       "\t<tr><th scope=row>100</th><td>5.7</td><td>2.8</td></tr>\n",
       "\t<tr><th scope=row>102</th><td>5.8</td><td>2.7</td></tr>\n",
       "\t<tr><th scope=row>114</th><td>5.7</td><td>2.5</td></tr>\n",
       "\t<tr><th scope=row>115</th><td>5.8</td><td>2.8</td></tr>\n",
       "\t<tr><th scope=row>120</th><td>6.0</td><td>2.2</td></tr>\n",
       "\t<tr><th scope=row>122</th><td>5.6</td><td>2.8</td></tr>\n",
       "\t<tr><th scope=row>139</th><td>6.0</td><td>3.0</td></tr>\n",
       "\t<tr><th scope=row>143</th><td>5.8</td><td>2.7</td></tr>\n",
       "\t<tr><th scope=row>150</th><td>5.9</td><td>3.0</td></tr>\n",
       "</tbody>\n",
       "</table>\n"
      ],
      "text/latex": [
       "A data.frame: 67 × 2\n",
       "\\begin{tabular}{r|ll}\n",
       "  & Sepal.Length & Sepal.Width\\\\\n",
       "  & <dbl> & <dbl>\\\\\n",
       "\\hline\n",
       "\t1 & 5.1 & 3.5\\\\\n",
       "\t5 & 5.0 & 3.6\\\\\n",
       "\t6 & 5.4 & 3.9\\\\\n",
       "\t8 & 5.0 & 3.4\\\\\n",
       "\t11 & 5.4 & 3.7\\\\\n",
       "\t15 & 5.8 & 4.0\\\\\n",
       "\t16 & 5.7 & 4.4\\\\\n",
       "\t17 & 5.4 & 3.9\\\\\n",
       "\t18 & 5.1 & 3.5\\\\\n",
       "\t19 & 5.7 & 3.8\\\\\n",
       "\t20 & 5.1 & 3.8\\\\\n",
       "\t21 & 5.4 & 3.4\\\\\n",
       "\t22 & 5.1 & 3.7\\\\\n",
       "\t24 & 5.1 & 3.3\\\\\n",
       "\t26 & 5.0 & 3.0\\\\\n",
       "\t27 & 5.0 & 3.4\\\\\n",
       "\t28 & 5.2 & 3.5\\\\\n",
       "\t29 & 5.2 & 3.4\\\\\n",
       "\t32 & 5.4 & 3.4\\\\\n",
       "\t33 & 5.2 & 4.1\\\\\n",
       "\t34 & 5.5 & 4.2\\\\\n",
       "\t36 & 5.0 & 3.2\\\\\n",
       "\t37 & 5.5 & 3.5\\\\\n",
       "\t40 & 5.1 & 3.4\\\\\n",
       "\t41 & 5.0 & 3.5\\\\\n",
       "\t44 & 5.0 & 3.5\\\\\n",
       "\t45 & 5.1 & 3.8\\\\\n",
       "\t47 & 5.1 & 3.8\\\\\n",
       "\t49 & 5.3 & 3.7\\\\\n",
       "\t50 & 5.0 & 3.3\\\\\n",
       "\t... & ... & ...\\\\\n",
       "\t67 & 5.6 & 3.0\\\\\n",
       "\t68 & 5.8 & 2.7\\\\\n",
       "\t70 & 5.6 & 2.5\\\\\n",
       "\t71 & 5.9 & 3.2\\\\\n",
       "\t79 & 6.0 & 2.9\\\\\n",
       "\t80 & 5.7 & 2.6\\\\\n",
       "\t81 & 5.5 & 2.4\\\\\n",
       "\t82 & 5.5 & 2.4\\\\\n",
       "\t83 & 5.8 & 2.7\\\\\n",
       "\t84 & 6.0 & 2.7\\\\\n",
       "\t85 & 5.4 & 3.0\\\\\n",
       "\t86 & 6.0 & 3.4\\\\\n",
       "\t89 & 5.6 & 3.0\\\\\n",
       "\t90 & 5.5 & 2.5\\\\\n",
       "\t91 & 5.5 & 2.6\\\\\n",
       "\t93 & 5.8 & 2.6\\\\\n",
       "\t94 & 5.0 & 2.3\\\\\n",
       "\t95 & 5.6 & 2.7\\\\\n",
       "\t96 & 5.7 & 3.0\\\\\n",
       "\t97 & 5.7 & 2.9\\\\\n",
       "\t99 & 5.1 & 2.5\\\\\n",
       "\t100 & 5.7 & 2.8\\\\\n",
       "\t102 & 5.8 & 2.7\\\\\n",
       "\t114 & 5.7 & 2.5\\\\\n",
       "\t115 & 5.8 & 2.8\\\\\n",
       "\t120 & 6.0 & 2.2\\\\\n",
       "\t122 & 5.6 & 2.8\\\\\n",
       "\t139 & 6.0 & 3.0\\\\\n",
       "\t143 & 5.8 & 2.7\\\\\n",
       "\t150 & 5.9 & 3.0\\\\\n",
       "\\end{tabular}\n"
      ],
      "text/markdown": [
       "\n",
       "A data.frame: 67 × 2\n",
       "\n",
       "| <!--/--> | Sepal.Length &lt;dbl&gt; | Sepal.Width &lt;dbl&gt; |\n",
       "|---|---|---|\n",
       "| 1 | 5.1 | 3.5 |\n",
       "| 5 | 5.0 | 3.6 |\n",
       "| 6 | 5.4 | 3.9 |\n",
       "| 8 | 5.0 | 3.4 |\n",
       "| 11 | 5.4 | 3.7 |\n",
       "| 15 | 5.8 | 4.0 |\n",
       "| 16 | 5.7 | 4.4 |\n",
       "| 17 | 5.4 | 3.9 |\n",
       "| 18 | 5.1 | 3.5 |\n",
       "| 19 | 5.7 | 3.8 |\n",
       "| 20 | 5.1 | 3.8 |\n",
       "| 21 | 5.4 | 3.4 |\n",
       "| 22 | 5.1 | 3.7 |\n",
       "| 24 | 5.1 | 3.3 |\n",
       "| 26 | 5.0 | 3.0 |\n",
       "| 27 | 5.0 | 3.4 |\n",
       "| 28 | 5.2 | 3.5 |\n",
       "| 29 | 5.2 | 3.4 |\n",
       "| 32 | 5.4 | 3.4 |\n",
       "| 33 | 5.2 | 4.1 |\n",
       "| 34 | 5.5 | 4.2 |\n",
       "| 36 | 5.0 | 3.2 |\n",
       "| 37 | 5.5 | 3.5 |\n",
       "| 40 | 5.1 | 3.4 |\n",
       "| 41 | 5.0 | 3.5 |\n",
       "| 44 | 5.0 | 3.5 |\n",
       "| 45 | 5.1 | 3.8 |\n",
       "| 47 | 5.1 | 3.8 |\n",
       "| 49 | 5.3 | 3.7 |\n",
       "| 50 | 5.0 | 3.3 |\n",
       "| ... | ... | ... |\n",
       "| 67 | 5.6 | 3.0 |\n",
       "| 68 | 5.8 | 2.7 |\n",
       "| 70 | 5.6 | 2.5 |\n",
       "| 71 | 5.9 | 3.2 |\n",
       "| 79 | 6.0 | 2.9 |\n",
       "| 80 | 5.7 | 2.6 |\n",
       "| 81 | 5.5 | 2.4 |\n",
       "| 82 | 5.5 | 2.4 |\n",
       "| 83 | 5.8 | 2.7 |\n",
       "| 84 | 6.0 | 2.7 |\n",
       "| 85 | 5.4 | 3.0 |\n",
       "| 86 | 6.0 | 3.4 |\n",
       "| 89 | 5.6 | 3.0 |\n",
       "| 90 | 5.5 | 2.5 |\n",
       "| 91 | 5.5 | 2.6 |\n",
       "| 93 | 5.8 | 2.6 |\n",
       "| 94 | 5.0 | 2.3 |\n",
       "| 95 | 5.6 | 2.7 |\n",
       "| 96 | 5.7 | 3.0 |\n",
       "| 97 | 5.7 | 2.9 |\n",
       "| 99 | 5.1 | 2.5 |\n",
       "| 100 | 5.7 | 2.8 |\n",
       "| 102 | 5.8 | 2.7 |\n",
       "| 114 | 5.7 | 2.5 |\n",
       "| 115 | 5.8 | 2.8 |\n",
       "| 120 | 6.0 | 2.2 |\n",
       "| 122 | 5.6 | 2.8 |\n",
       "| 139 | 6.0 | 3.0 |\n",
       "| 143 | 5.8 | 2.7 |\n",
       "| 150 | 5.9 | 3.0 |\n",
       "\n"
      ],
      "text/plain": [
       "    Sepal.Length Sepal.Width\n",
       "1   5.1          3.5        \n",
       "5   5.0          3.6        \n",
       "6   5.4          3.9        \n",
       "8   5.0          3.4        \n",
       "11  5.4          3.7        \n",
       "15  5.8          4.0        \n",
       "16  5.7          4.4        \n",
       "17  5.4          3.9        \n",
       "18  5.1          3.5        \n",
       "19  5.7          3.8        \n",
       "20  5.1          3.8        \n",
       "21  5.4          3.4        \n",
       "22  5.1          3.7        \n",
       "24  5.1          3.3        \n",
       "26  5.0          3.0        \n",
       "27  5.0          3.4        \n",
       "28  5.2          3.5        \n",
       "29  5.2          3.4        \n",
       "32  5.4          3.4        \n",
       "33  5.2          4.1        \n",
       "34  5.5          4.2        \n",
       "36  5.0          3.2        \n",
       "37  5.5          3.5        \n",
       "40  5.1          3.4        \n",
       "41  5.0          3.5        \n",
       "44  5.0          3.5        \n",
       "45  5.1          3.8        \n",
       "47  5.1          3.8        \n",
       "49  5.3          3.7        \n",
       "50  5.0          3.3        \n",
       "... ...          ...        \n",
       "67  5.6          3.0        \n",
       "68  5.8          2.7        \n",
       "70  5.6          2.5        \n",
       "71  5.9          3.2        \n",
       "79  6.0          2.9        \n",
       "80  5.7          2.6        \n",
       "81  5.5          2.4        \n",
       "82  5.5          2.4        \n",
       "83  5.8          2.7        \n",
       "84  6.0          2.7        \n",
       "85  5.4          3.0        \n",
       "86  6.0          3.4        \n",
       "89  5.6          3.0        \n",
       "90  5.5          2.5        \n",
       "91  5.5          2.6        \n",
       "93  5.8          2.6        \n",
       "94  5.0          2.3        \n",
       "95  5.6          2.7        \n",
       "96  5.7          3.0        \n",
       "97  5.7          2.9        \n",
       "99  5.1          2.5        \n",
       "100 5.7          2.8        \n",
       "102 5.8          2.7        \n",
       "114 5.7          2.5        \n",
       "115 5.8          2.8        \n",
       "120 6.0          2.2        \n",
       "122 5.6          2.8        \n",
       "139 6.0          3.0        \n",
       "143 5.8          2.7        \n",
       "150 5.9          3.0        "
      ]
     },
     "metadata": {},
     "output_type": "display_data"
    }
   ],
   "source": [
    "# 위결과와 동일\n",
    "idx <- c()\n",
    "for (i in 1:nrow(iris)){\n",
    "    if (iris[i, \"Sepal.Length\"] >= 5.0 & \n",
    "        iris[i, \"Sepal.Length\"] <= 6.0) {\n",
    "        idx <- c(idx, i)\n",
    "    }\n",
    "}\n",
    "print(idx)\n",
    "iris[idx, c(\"Sepal.Length\", \"Sepal.Width\")]"
   ]
  },
  {
   "cell_type": "markdown",
   "metadata": {},
   "source": [
    "## 4. 사용자정의 함수 만들기"
   ]
  },
  {
   "cell_type": "code",
   "execution_count": 22,
   "metadata": {},
   "outputs": [
    {
     "data": {
      "text/html": [
       "15"
      ],
      "text/latex": [
       "15"
      ],
      "text/markdown": [
       "15"
      ],
      "text/plain": [
       "[1] 15"
      ]
     },
     "metadata": {},
     "output_type": "display_data"
    },
    {
     "data": {
      "text/html": [
       "20"
      ],
      "text/latex": [
       "20"
      ],
      "text/markdown": [
       "20"
      ],
      "text/plain": [
       "[1] 20"
      ]
     },
     "metadata": {},
     "output_type": "display_data"
    }
   ],
   "source": [
    "mymax <- function(x,y) {\n",
    "  num.max <- x\n",
    "  if (y > x) {\n",
    "    num.max <- y\n",
    "  }\n",
    "  return(num.max) \n",
    "}\n",
    "\n",
    "mymax(10,15)\n",
    "mymax(20,15)"
   ]
  },
  {
   "cell_type": "markdown",
   "metadata": {},
   "source": [
    "- Default value"
   ]
  },
  {
   "cell_type": "code",
   "execution_count": 23,
   "metadata": {},
   "outputs": [
    {
     "data": {
      "text/html": [
       "3.33333333333333"
      ],
      "text/latex": [
       "3.33333333333333"
      ],
      "text/markdown": [
       "3.33333333333333"
      ],
      "text/plain": [
       "[1] 3.333333"
      ]
     },
     "metadata": {},
     "output_type": "display_data"
    },
    {
     "data": {
      "text/html": [
       "3.33333333333333"
      ],
      "text/latex": [
       "3.33333333333333"
      ],
      "text/markdown": [
       "3.33333333333333"
      ],
      "text/plain": [
       "[1] 3.333333"
      ]
     },
     "metadata": {},
     "output_type": "display_data"
    },
    {
     "data": {
      "text/html": [
       "5"
      ],
      "text/latex": [
       "5"
      ],
      "text/markdown": [
       "5"
      ],
      "text/plain": [
       "[1] 5"
      ]
     },
     "metadata": {},
     "output_type": "display_data"
    }
   ],
   "source": [
    "mydiv <- function(x,y=2) {\n",
    "  result <- x/y\n",
    "  return(result) \n",
    "}\n",
    "\n",
    "mydiv(x=10,y=3) \n",
    "mydiv(10,3)\n",
    "mydiv(10)\n"
   ]
  },
  {
   "cell_type": "markdown",
   "metadata": {},
   "source": [
    "- Return 해야 할 값이 하나가 아니고 여러 개 일 때"
   ]
  },
  {
   "cell_type": "code",
   "execution_count": 24,
   "metadata": {},
   "outputs": [
    {
     "data": {
      "text/html": [
       "13"
      ],
      "text/latex": [
       "13"
      ],
      "text/markdown": [
       "13"
      ],
      "text/plain": [
       "[1] 13"
      ]
     },
     "metadata": {},
     "output_type": "display_data"
    },
    {
     "data": {
      "text/html": [
       "40"
      ],
      "text/latex": [
       "40"
      ],
      "text/markdown": [
       "40"
      ],
      "text/plain": [
       "[1] 40"
      ]
     },
     "metadata": {},
     "output_type": "display_data"
    }
   ],
   "source": [
    "myfunc <- function(x,y) {\n",
    "  val.sum <- x+y\n",
    "  val.mul <- x*y \n",
    "  return(list(sum=val.sum, mul=val.mul)) \n",
    "}\n",
    "\n",
    "result <- myfunc(5,8) \n",
    "result$sum\n",
    "result$mul"
   ]
  },
  {
   "cell_type": "markdown",
   "metadata": {},
   "source": [
    "- 내가 정의한 함수가 저장된 파일 사용하기"
   ]
  },
  {
   "cell_type": "code",
   "execution_count": 31,
   "metadata": {},
   "outputs": [
    {
     "data": {
      "text/html": [
       "12.5"
      ],
      "text/latex": [
       "12.5"
      ],
      "text/markdown": [
       "12.5"
      ],
      "text/plain": [
       "[1] 12.5"
      ]
     },
     "metadata": {},
     "output_type": "display_data"
    },
    {
     "data": {
      "text/html": [
       "2"
      ],
      "text/latex": [
       "2"
      ],
      "text/markdown": [
       "2"
      ],
      "text/plain": [
       "[1] 2"
      ]
     },
     "metadata": {},
     "output_type": "display_data"
    }
   ],
   "source": [
    "getwd()\n",
    "setwd(\"./Rworks\")   # myfunc.R 이 저장된 폴더\n",
    "source(\"myfunc.R\")   # myfunc.R 의 명령어 실행\n",
    "# 함수 사용\n",
    "a <- mydiv(20,4)\n",
    "b <- mydiv(30,4)\n",
    "a+b\n",
    "mydiv(mydiv(20,2),5)"
   ]
  },
  {
   "cell_type": "markdown",
   "metadata": {},
   "source": [
    "## 5. apply 함수"
   ]
  },
  {
   "cell_type": "markdown",
   "metadata": {},
   "source": [
    "- R 프로그래밍에서는 for 나 while 을 사용하지 않는 것이 바람직하다. (처리속도 향상을 위하여)\n",
    "- 대신 R 에서 제공하는 apply 계열 함수를 이용하면 다양한 반복문을 작성할 수 있다.\n",
    "    - matrix, data frame, list 등에 있는 데이터에 대해 반복문을 적용해야 하는 경우는 대부분 apply 함수로 대체 가능   \n"
   ]
  },
  {
   "cell_type": "markdown",
   "metadata": {},
   "source": [
    "apply() \n",
    "- matrix, data frame 에서 행단위, 열단위의 작업을 쉽게 할 수 있게 한다\n",
    "- 결과는 vector"
   ]
  },
  {
   "cell_type": "code",
   "execution_count": 32,
   "metadata": {},
   "outputs": [],
   "source": [
    "for (i in 1:4) {\n",
    "  mean(iris[,i])\n",
    "}"
   ]
  },
  {
   "cell_type": "code",
   "execution_count": 33,
   "metadata": {
    "collapsed": true
   },
   "outputs": [
    {
     "data": {
      "text/html": [
       "<style>\n",
       ".dl-inline {width: auto; margin:0; padding: 0}\n",
       ".dl-inline>dt, .dl-inline>dd {float: none; width: auto; display: inline-block}\n",
       ".dl-inline>dt::after {content: \":\\0020\"; padding-right: .5ex}\n",
       ".dl-inline>dt:not(:first-of-type) {padding-left: .5ex}\n",
       "</style><dl class=dl-inline><dt>Sepal.Length</dt><dd>5.84333333333333</dd><dt>Sepal.Width</dt><dd>3.05733333333333</dd><dt>Petal.Length</dt><dd>3.758</dd><dt>Petal.Width</dt><dd>1.19933333333333</dd></dl>\n"
      ],
      "text/latex": [
       "\\begin{description*}\n",
       "\\item[Sepal.Length] 5.84333333333333\n",
       "\\item[Sepal.Width] 3.05733333333333\n",
       "\\item[Petal.Length] 3.758\n",
       "\\item[Petal.Width] 1.19933333333333\n",
       "\\end{description*}\n"
      ],
      "text/markdown": [
       "Sepal.Length\n",
       ":   5.84333333333333Sepal.Width\n",
       ":   3.05733333333333Petal.Length\n",
       ":   3.758Petal.Width\n",
       ":   1.19933333333333\n",
       "\n"
      ],
      "text/plain": [
       "Sepal.Length  Sepal.Width Petal.Length  Petal.Width \n",
       "    5.843333     3.057333     3.758000     1.199333 "
      ]
     },
     "metadata": {},
     "output_type": "display_data"
    }
   ],
   "source": [
    "apply(iris[,1:4], 2, mean)    # col 방향으로 함수적용"
   ]
  },
  {
   "cell_type": "code",
   "execution_count": 34,
   "metadata": {
    "collapsed": true
   },
   "outputs": [
    {
     "data": {
      "text/html": [
       "<style>\n",
       ".list-inline {list-style: none; margin:0; padding: 0}\n",
       ".list-inline>li {display: inline-block}\n",
       ".list-inline>li:not(:last-child)::after {content: \"\\00b7\"; padding: 0 .5ex}\n",
       "</style>\n",
       "<ol class=list-inline><li>2.55</li><li>2.375</li><li>2.35</li><li>2.35</li><li>2.55</li><li>2.85</li><li>2.425</li><li>2.525</li><li>2.225</li><li>2.4</li><li>2.7</li><li>2.5</li><li>2.325</li><li>2.125</li><li>2.8</li><li>3</li><li>2.75</li><li>2.575</li><li>2.875</li><li>2.675</li><li>2.675</li><li>2.675</li><li>2.35</li><li>2.65</li><li>2.575</li><li>2.45</li><li>2.6</li><li>2.6</li><li>2.55</li><li>2.425</li><li>2.425</li><li>2.675</li><li>2.725</li><li>2.825</li><li>2.425</li><li>2.4</li><li>2.625</li><li>2.5</li><li>2.225</li><li>2.55</li><li>2.525</li><li>2.1</li><li>2.275</li><li>2.675</li><li>2.8</li><li>2.375</li><li>2.675</li><li>2.35</li><li>2.675</li><li>2.475</li><li>4.075</li><li>3.9</li><li>4.1</li><li>3.275</li><li>3.85</li><li>3.575</li><li>3.975</li><li>2.9</li><li>3.85</li><li>3.3</li><li>2.875</li><li>3.65</li><li>3.3</li><li>3.775</li><li>3.35</li><li>3.9</li><li>3.65</li><li>3.4</li><li>3.6</li><li>3.275</li><li>3.925</li><li>3.55</li><li>3.8</li><li>3.7</li><li>3.725</li><li>3.85</li><li>3.95</li><li>4.1</li><li>3.725</li><li>3.2</li><li>3.2</li><li>3.15</li><li>3.4</li><li>3.85</li><li>3.6</li><li>3.875</li><li>4</li><li>3.575</li><li>3.5</li><li>3.325</li><li>3.425</li><li>3.775</li><li>3.4</li><li>2.9</li><li>3.45</li><li>3.525</li><li>3.525</li><li>3.675</li><li>2.925</li><li>3.475</li><li>4.525</li><li>3.875</li><li>4.525</li><li>4.15</li><li>4.375</li><li>4.825</li><li>3.4</li><li>4.575</li><li>4.2</li><li>4.85</li><li>4.2</li><li>4.075</li><li>4.35</li><li>3.8</li><li>4.025</li><li>4.3</li><li>4.2</li><li>5.1</li><li>4.875</li><li>3.675</li><li>4.525</li><li>3.825</li><li>4.8</li><li>3.925</li><li>4.45</li><li>4.55</li><li>3.9</li><li>3.95</li><li>4.225</li><li>4.4</li><li>4.55</li><li>5.025</li><li>4.25</li><li>3.925</li><li>3.925</li><li>4.775</li><li>4.425</li><li>4.2</li><li>3.9</li><li>4.375</li><li>4.45</li><li>4.35</li><li>3.875</li><li>4.55</li><li>4.55</li><li>4.3</li><li>3.925</li><li>4.175</li><li>4.325</li><li>3.95</li></ol>\n"
      ],
      "text/latex": [
       "\\begin{enumerate*}\n",
       "\\item 2.55\n",
       "\\item 2.375\n",
       "\\item 2.35\n",
       "\\item 2.35\n",
       "\\item 2.55\n",
       "\\item 2.85\n",
       "\\item 2.425\n",
       "\\item 2.525\n",
       "\\item 2.225\n",
       "\\item 2.4\n",
       "\\item 2.7\n",
       "\\item 2.5\n",
       "\\item 2.325\n",
       "\\item 2.125\n",
       "\\item 2.8\n",
       "\\item 3\n",
       "\\item 2.75\n",
       "\\item 2.575\n",
       "\\item 2.875\n",
       "\\item 2.675\n",
       "\\item 2.675\n",
       "\\item 2.675\n",
       "\\item 2.35\n",
       "\\item 2.65\n",
       "\\item 2.575\n",
       "\\item 2.45\n",
       "\\item 2.6\n",
       "\\item 2.6\n",
       "\\item 2.55\n",
       "\\item 2.425\n",
       "\\item 2.425\n",
       "\\item 2.675\n",
       "\\item 2.725\n",
       "\\item 2.825\n",
       "\\item 2.425\n",
       "\\item 2.4\n",
       "\\item 2.625\n",
       "\\item 2.5\n",
       "\\item 2.225\n",
       "\\item 2.55\n",
       "\\item 2.525\n",
       "\\item 2.1\n",
       "\\item 2.275\n",
       "\\item 2.675\n",
       "\\item 2.8\n",
       "\\item 2.375\n",
       "\\item 2.675\n",
       "\\item 2.35\n",
       "\\item 2.675\n",
       "\\item 2.475\n",
       "\\item 4.075\n",
       "\\item 3.9\n",
       "\\item 4.1\n",
       "\\item 3.275\n",
       "\\item 3.85\n",
       "\\item 3.575\n",
       "\\item 3.975\n",
       "\\item 2.9\n",
       "\\item 3.85\n",
       "\\item 3.3\n",
       "\\item 2.875\n",
       "\\item 3.65\n",
       "\\item 3.3\n",
       "\\item 3.775\n",
       "\\item 3.35\n",
       "\\item 3.9\n",
       "\\item 3.65\n",
       "\\item 3.4\n",
       "\\item 3.6\n",
       "\\item 3.275\n",
       "\\item 3.925\n",
       "\\item 3.55\n",
       "\\item 3.8\n",
       "\\item 3.7\n",
       "\\item 3.725\n",
       "\\item 3.85\n",
       "\\item 3.95\n",
       "\\item 4.1\n",
       "\\item 3.725\n",
       "\\item 3.2\n",
       "\\item 3.2\n",
       "\\item 3.15\n",
       "\\item 3.4\n",
       "\\item 3.85\n",
       "\\item 3.6\n",
       "\\item 3.875\n",
       "\\item 4\n",
       "\\item 3.575\n",
       "\\item 3.5\n",
       "\\item 3.325\n",
       "\\item 3.425\n",
       "\\item 3.775\n",
       "\\item 3.4\n",
       "\\item 2.9\n",
       "\\item 3.45\n",
       "\\item 3.525\n",
       "\\item 3.525\n",
       "\\item 3.675\n",
       "\\item 2.925\n",
       "\\item 3.475\n",
       "\\item 4.525\n",
       "\\item 3.875\n",
       "\\item 4.525\n",
       "\\item 4.15\n",
       "\\item 4.375\n",
       "\\item 4.825\n",
       "\\item 3.4\n",
       "\\item 4.575\n",
       "\\item 4.2\n",
       "\\item 4.85\n",
       "\\item 4.2\n",
       "\\item 4.075\n",
       "\\item 4.35\n",
       "\\item 3.8\n",
       "\\item 4.025\n",
       "\\item 4.3\n",
       "\\item 4.2\n",
       "\\item 5.1\n",
       "\\item 4.875\n",
       "\\item 3.675\n",
       "\\item 4.525\n",
       "\\item 3.825\n",
       "\\item 4.8\n",
       "\\item 3.925\n",
       "\\item 4.45\n",
       "\\item 4.55\n",
       "\\item 3.9\n",
       "\\item 3.95\n",
       "\\item 4.225\n",
       "\\item 4.4\n",
       "\\item 4.55\n",
       "\\item 5.025\n",
       "\\item 4.25\n",
       "\\item 3.925\n",
       "\\item 3.925\n",
       "\\item 4.775\n",
       "\\item 4.425\n",
       "\\item 4.2\n",
       "\\item 3.9\n",
       "\\item 4.375\n",
       "\\item 4.45\n",
       "\\item 4.35\n",
       "\\item 3.875\n",
       "\\item 4.55\n",
       "\\item 4.55\n",
       "\\item 4.3\n",
       "\\item 3.925\n",
       "\\item 4.175\n",
       "\\item 4.325\n",
       "\\item 3.95\n",
       "\\end{enumerate*}\n"
      ],
      "text/markdown": [
       "1. 2.55\n",
       "2. 2.375\n",
       "3. 2.35\n",
       "4. 2.35\n",
       "5. 2.55\n",
       "6. 2.85\n",
       "7. 2.425\n",
       "8. 2.525\n",
       "9. 2.225\n",
       "10. 2.4\n",
       "11. 2.7\n",
       "12. 2.5\n",
       "13. 2.325\n",
       "14. 2.125\n",
       "15. 2.8\n",
       "16. 3\n",
       "17. 2.75\n",
       "18. 2.575\n",
       "19. 2.875\n",
       "20. 2.675\n",
       "21. 2.675\n",
       "22. 2.675\n",
       "23. 2.35\n",
       "24. 2.65\n",
       "25. 2.575\n",
       "26. 2.45\n",
       "27. 2.6\n",
       "28. 2.6\n",
       "29. 2.55\n",
       "30. 2.425\n",
       "31. 2.425\n",
       "32. 2.675\n",
       "33. 2.725\n",
       "34. 2.825\n",
       "35. 2.425\n",
       "36. 2.4\n",
       "37. 2.625\n",
       "38. 2.5\n",
       "39. 2.225\n",
       "40. 2.55\n",
       "41. 2.525\n",
       "42. 2.1\n",
       "43. 2.275\n",
       "44. 2.675\n",
       "45. 2.8\n",
       "46. 2.375\n",
       "47. 2.675\n",
       "48. 2.35\n",
       "49. 2.675\n",
       "50. 2.475\n",
       "51. 4.075\n",
       "52. 3.9\n",
       "53. 4.1\n",
       "54. 3.275\n",
       "55. 3.85\n",
       "56. 3.575\n",
       "57. 3.975\n",
       "58. 2.9\n",
       "59. 3.85\n",
       "60. 3.3\n",
       "61. 2.875\n",
       "62. 3.65\n",
       "63. 3.3\n",
       "64. 3.775\n",
       "65. 3.35\n",
       "66. 3.9\n",
       "67. 3.65\n",
       "68. 3.4\n",
       "69. 3.6\n",
       "70. 3.275\n",
       "71. 3.925\n",
       "72. 3.55\n",
       "73. 3.8\n",
       "74. 3.7\n",
       "75. 3.725\n",
       "76. 3.85\n",
       "77. 3.95\n",
       "78. 4.1\n",
       "79. 3.725\n",
       "80. 3.2\n",
       "81. 3.2\n",
       "82. 3.15\n",
       "83. 3.4\n",
       "84. 3.85\n",
       "85. 3.6\n",
       "86. 3.875\n",
       "87. 4\n",
       "88. 3.575\n",
       "89. 3.5\n",
       "90. 3.325\n",
       "91. 3.425\n",
       "92. 3.775\n",
       "93. 3.4\n",
       "94. 2.9\n",
       "95. 3.45\n",
       "96. 3.525\n",
       "97. 3.525\n",
       "98. 3.675\n",
       "99. 2.925\n",
       "100. 3.475\n",
       "101. 4.525\n",
       "102. 3.875\n",
       "103. 4.525\n",
       "104. 4.15\n",
       "105. 4.375\n",
       "106. 4.825\n",
       "107. 3.4\n",
       "108. 4.575\n",
       "109. 4.2\n",
       "110. 4.85\n",
       "111. 4.2\n",
       "112. 4.075\n",
       "113. 4.35\n",
       "114. 3.8\n",
       "115. 4.025\n",
       "116. 4.3\n",
       "117. 4.2\n",
       "118. 5.1\n",
       "119. 4.875\n",
       "120. 3.675\n",
       "121. 4.525\n",
       "122. 3.825\n",
       "123. 4.8\n",
       "124. 3.925\n",
       "125. 4.45\n",
       "126. 4.55\n",
       "127. 3.9\n",
       "128. 3.95\n",
       "129. 4.225\n",
       "130. 4.4\n",
       "131. 4.55\n",
       "132. 5.025\n",
       "133. 4.25\n",
       "134. 3.925\n",
       "135. 3.925\n",
       "136. 4.775\n",
       "137. 4.425\n",
       "138. 4.2\n",
       "139. 3.9\n",
       "140. 4.375\n",
       "141. 4.45\n",
       "142. 4.35\n",
       "143. 3.875\n",
       "144. 4.55\n",
       "145. 4.55\n",
       "146. 4.3\n",
       "147. 3.925\n",
       "148. 4.175\n",
       "149. 4.325\n",
       "150. 3.95\n",
       "\n",
       "\n"
      ],
      "text/plain": [
       "  [1] 2.550 2.375 2.350 2.350 2.550 2.850 2.425 2.525 2.225 2.400 2.700 2.500\n",
       " [13] 2.325 2.125 2.800 3.000 2.750 2.575 2.875 2.675 2.675 2.675 2.350 2.650\n",
       " [25] 2.575 2.450 2.600 2.600 2.550 2.425 2.425 2.675 2.725 2.825 2.425 2.400\n",
       " [37] 2.625 2.500 2.225 2.550 2.525 2.100 2.275 2.675 2.800 2.375 2.675 2.350\n",
       " [49] 2.675 2.475 4.075 3.900 4.100 3.275 3.850 3.575 3.975 2.900 3.850 3.300\n",
       " [61] 2.875 3.650 3.300 3.775 3.350 3.900 3.650 3.400 3.600 3.275 3.925 3.550\n",
       " [73] 3.800 3.700 3.725 3.850 3.950 4.100 3.725 3.200 3.200 3.150 3.400 3.850\n",
       " [85] 3.600 3.875 4.000 3.575 3.500 3.325 3.425 3.775 3.400 2.900 3.450 3.525\n",
       " [97] 3.525 3.675 2.925 3.475 4.525 3.875 4.525 4.150 4.375 4.825 3.400 4.575\n",
       "[109] 4.200 4.850 4.200 4.075 4.350 3.800 4.025 4.300 4.200 5.100 4.875 3.675\n",
       "[121] 4.525 3.825 4.800 3.925 4.450 4.550 3.900 3.950 4.225 4.400 4.550 5.025\n",
       "[133] 4.250 3.925 3.925 4.775 4.425 4.200 3.900 4.375 4.450 4.350 3.875 4.550\n",
       "[145] 4.550 4.300 3.925 4.175 4.325 3.950"
      ]
     },
     "metadata": {},
     "output_type": "display_data"
    }
   ],
   "source": [
    "apply(iris[,1:4], 1, mean)    # row 방향으로 함수적용"
   ]
  },
  {
   "cell_type": "markdown",
   "metadata": {},
   "source": [
    "**사용자 정의 함수도 적용할 수 있다!**"
   ]
  },
  {
   "cell_type": "markdown",
   "metadata": {},
   "source": [
    "lapply()\n",
    "- apply() 와 유사하나 결과가 list format 이다\n"
   ]
  },
  {
   "cell_type": "code",
   "execution_count": 35,
   "metadata": {
    "collapsed": true
   },
   "outputs": [
    {
     "data": {
      "text/html": [
       "<dl>\n",
       "\t<dt>$Sepal.Length</dt>\n",
       "\t\t<dd>5.84333333333333</dd>\n",
       "\t<dt>$Sepal.Width</dt>\n",
       "\t\t<dd>3.05733333333333</dd>\n",
       "\t<dt>$Petal.Length</dt>\n",
       "\t\t<dd>3.758</dd>\n",
       "\t<dt>$Petal.Width</dt>\n",
       "\t\t<dd>1.19933333333333</dd>\n",
       "</dl>\n"
      ],
      "text/latex": [
       "\\begin{description}\n",
       "\\item[\\$Sepal.Length] 5.84333333333333\n",
       "\\item[\\$Sepal.Width] 3.05733333333333\n",
       "\\item[\\$Petal.Length] 3.758\n",
       "\\item[\\$Petal.Width] 1.19933333333333\n",
       "\\end{description}\n"
      ],
      "text/markdown": [
       "$Sepal.Length\n",
       ":   5.84333333333333\n",
       "$Sepal.Width\n",
       ":   3.05733333333333\n",
       "$Petal.Length\n",
       ":   3.758\n",
       "$Petal.Width\n",
       ":   1.19933333333333\n",
       "\n",
       "\n"
      ],
      "text/plain": [
       "$Sepal.Length\n",
       "[1] 5.843333\n",
       "\n",
       "$Sepal.Width\n",
       "[1] 3.057333\n",
       "\n",
       "$Petal.Length\n",
       "[1] 3.758\n",
       "\n",
       "$Petal.Width\n",
       "[1] 1.199333\n"
      ]
     },
     "metadata": {},
     "output_type": "display_data"
    }
   ],
   "source": [
    "lapply(iris[,1:4], mean)    # col 방향으로 함수적용됨"
   ]
  },
  {
   "cell_type": "markdown",
   "metadata": {},
   "source": [
    "## 6. 사용자 입력"
   ]
  },
  {
   "cell_type": "code",
   "execution_count": 36,
   "metadata": {},
   "outputs": [
    {
     "name": "stdout",
     "output_type": "stream",
     "text": [
      "숫자를 입력하세요: 123\n",
      "입력한 숫자는 123 입니다. \n"
     ]
    }
   ],
   "source": [
    "n <- readline(prompt=\"숫자를 입력하세요: \")\n",
    "cat(\"입력한 숫자는\", n, \"입니다. \\n\")"
   ]
  },
  {
   "cell_type": "code",
   "execution_count": 40,
   "metadata": {},
   "outputs": [
    {
     "data": {
      "text/html": [
       "17"
      ],
      "text/latex": [
       "17"
      ],
      "text/markdown": [
       "17"
      ],
      "text/plain": [
       "[1] 17"
      ]
     },
     "metadata": {},
     "output_type": "display_data"
    }
   ],
   "source": [
    "# 랜덤 숫자\n",
    "# round() : 반올림\n",
    "# runif(N) : N개의 난수 생성\n",
    "num <- round(runif(1) * 100, digits = 0)\n",
    "num"
   ]
  },
  {
   "cell_type": "code",
   "execution_count": 39,
   "metadata": {},
   "outputs": [
    {
     "data": {
      "text/html": [
       "123"
      ],
      "text/latex": [
       "123"
      ],
      "text/markdown": [
       "123"
      ],
      "text/plain": [
       "[1] 123"
      ]
     },
     "metadata": {},
     "output_type": "display_data"
    }
   ],
   "source": [
    "# 문자열을 정수로\n",
    "as.integer(\"123\")"
   ]
  },
  {
   "cell_type": "markdown",
   "metadata": {},
   "source": [
    "# ch8 시각화"
   ]
  },
  {
   "cell_type": "markdown",
   "metadata": {},
   "source": [
    "## 1.나무지도"
   ]
  },
  {
   "cell_type": "markdown",
   "metadata": {},
   "source": [
    "- 나무지도는 데이터가 갖는 계층구조를 타일 모양으로 표현한 것\n",
    "- 타일은 계층적 속성을 가지며, 계층은 컬러로 표현된다\n",
    "\n",
    "```\n",
    "install.packages(\"treemap\")\n",
    "```\n",
    "\n",
    "- 실습에 사용할 데이터셋\n",
    "    - GNI2014 (treemap) \n",
    "    - 208개 국가의 1인당 총소득(gross national income) 데이터\n",
    "    - 국가는 대륙(continent)으로 그룹핑되고 국가명은 국제표준(iso3)으로 지칭된다. \n",
    "    - 국가정보는 population(인구)과 GNI(1인당 국민소득)이다"
   ]
  },
  {
   "cell_type": "code",
   "execution_count": 41,
   "metadata": {},
   "outputs": [
    {
     "name": "stdout",
     "output_type": "stream",
     "text": [
      "'data.frame':\t188 obs. of  5 variables:\n",
      " $ iso3      : chr  \"BMU\" \"NOR\" \"QAT\" \"CHE\" ...\n",
      " $ country   : chr  \"Bermuda\" \"Norway\" \"Qatar\" \"Switzerland\" ...\n",
      " $ continent : Factor w/ 8 levels \"Africa\",\"Antarctica\",..: 5 4 3 4 3 4 6 4 4 5 ...\n",
      " $ population: num  67837 4676305 833285 7604467 559846 ...\n",
      " $ GNI       : int  106140 103630 92200 88120 76270 75990 64540 61610 61310 55200 ...\n"
     ]
    },
    {
     "name": "stderr",
     "output_type": "stream",
     "text": [
      "Warning message in if (class(try(col2rgb(bg.labels), silent = TRUE)) == \"try-error\") stop(\"Invalid bg.labels\"):\n",
      "\"length > 1 이라는 조건이 있고, 첫번째 요소만이 사용될 것입니다\"\n"
     ]
    },
    {
     "data": {
      "image/png": "[encoded data removed]",
      "text/plain": [
       "plot without title"
      ]
     },
     "metadata": {
      "image/png": {
       "height": 420,
       "width": 420
      },
      "text/plain": {
       "height": 420,
       "width": 420
      }
     },
     "output_type": "display_data"
    }
   ],
   "source": [
    "library(treemap)\n",
    "data(GNI2014)                # 데이터 불러오기 \n",
    "str(GNI2014)                 # 데이터 내용보기 \n",
    "treemap(GNI2014,\n",
    "        index=c(\"continent\",\"iso3\"),\n",
    "        vSize=\"population\",  # 타일의 크기\n",
    "        vColor=\"GNI\",        # 타일의 컬러\n",
    "        type=\"value\",        # 타일 컬러링 방법\n",
    "        bg.labels=\"yellow\")  # 레이블의 배경색 "
   ]
  },
  {
   "cell_type": "markdown",
   "metadata": {},
   "source": [
    "        타일의 크기 : 국토면적  \n",
    "        타일의 색 : 국민소득"
   ]
  },
  {
   "cell_type": "markdown",
   "metadata": {},
   "source": [
    "- index=c(\"continent\",\"iso3\")  \n",
    ": 개체의 단위를 지정하는데 계층적 구조를 갖는 경우 상위 층을 먼저 넣는다. 대륙을 먼저 표현하고 그 안에 국가를 넣으라는 의미\n",
    "- type=\"value\"  \n",
    ": vColor 에서 지정한 값에 의해서 타일의 컬러가 결정됨"
   ]
  },
  {
   "cell_type": "code",
   "execution_count": 43,
   "metadata": {},
   "outputs": [
    {
     "data": {
      "text/html": [
       "<table>\n",
       "<caption>A data.frame: 6 × 6</caption>\n",
       "<thead>\n",
       "\t<tr><th></th><th scope=col>iso3</th><th scope=col>country</th><th scope=col>continent</th><th scope=col>population</th><th scope=col>GNI</th><th scope=col>GNI.total</th></tr>\n",
       "\t<tr><th></th><th scope=col>&lt;chr&gt;</th><th scope=col>&lt;chr&gt;</th><th scope=col>&lt;fct&gt;</th><th scope=col>&lt;dbl&gt;</th><th scope=col>&lt;int&gt;</th><th scope=col>&lt;dbl&gt;</th></tr>\n",
       "</thead>\n",
       "<tbody>\n",
       "\t<tr><th scope=row>3</th><td>BMU</td><td>Bermuda         </td><td>North America</td><td>  67837</td><td>106140</td><td>  7200219180</td></tr>\n",
       "\t<tr><th scope=row>4</th><td>NOR</td><td>Norway          </td><td>Europe       </td><td>4676305</td><td>103630</td><td>484605487150</td></tr>\n",
       "\t<tr><th scope=row>5</th><td>QAT</td><td>Qatar           </td><td>Asia         </td><td> 833285</td><td> 92200</td><td> 76828877000</td></tr>\n",
       "\t<tr><th scope=row>6</th><td>CHE</td><td>Switzerland     </td><td>Europe       </td><td>7604467</td><td> 88120</td><td>670105632040</td></tr>\n",
       "\t<tr><th scope=row>7</th><td>MAC</td><td>Macao SAR, China</td><td>Asia         </td><td> 559846</td><td> 76270</td><td> 42699454420</td></tr>\n",
       "\t<tr><th scope=row>8</th><td>LUX</td><td>Luxembourg      </td><td>Europe       </td><td> 491775</td><td> 75990</td><td> 37369982250</td></tr>\n",
       "</tbody>\n",
       "</table>\n"
      ],
      "text/latex": [
       "A data.frame: 6 × 6\n",
       "\\begin{tabular}{r|llllll}\n",
       "  & iso3 & country & continent & population & GNI & GNI.total\\\\\n",
       "  & <chr> & <chr> & <fct> & <dbl> & <int> & <dbl>\\\\\n",
       "\\hline\n",
       "\t3 & BMU & Bermuda          & North America &   67837 & 106140 &   7200219180\\\\\n",
       "\t4 & NOR & Norway           & Europe        & 4676305 & 103630 & 484605487150\\\\\n",
       "\t5 & QAT & Qatar            & Asia          &  833285 &  92200 &  76828877000\\\\\n",
       "\t6 & CHE & Switzerland      & Europe        & 7604467 &  88120 & 670105632040\\\\\n",
       "\t7 & MAC & Macao SAR, China & Asia          &  559846 &  76270 &  42699454420\\\\\n",
       "\t8 & LUX & Luxembourg       & Europe        &  491775 &  75990 &  37369982250\\\\\n",
       "\\end{tabular}\n"
      ],
      "text/markdown": [
       "\n",
       "A data.frame: 6 × 6\n",
       "\n",
       "| <!--/--> | iso3 &lt;chr&gt; | country &lt;chr&gt; | continent &lt;fct&gt; | population &lt;dbl&gt; | GNI &lt;int&gt; | GNI.total &lt;dbl&gt; |\n",
       "|---|---|---|---|---|---|---|\n",
       "| 3 | BMU | Bermuda          | North America |   67837 | 106140 |   7200219180 |\n",
       "| 4 | NOR | Norway           | Europe        | 4676305 | 103630 | 484605487150 |\n",
       "| 5 | QAT | Qatar            | Asia          |  833285 |  92200 |  76828877000 |\n",
       "| 6 | CHE | Switzerland      | Europe        | 7604467 |  88120 | 670105632040 |\n",
       "| 7 | MAC | Macao SAR, China | Asia          |  559846 |  76270 |  42699454420 |\n",
       "| 8 | LUX | Luxembourg       | Europe        |  491775 |  75990 |  37369982250 |\n",
       "\n"
      ],
      "text/plain": [
       "  iso3 country          continent     population GNI    GNI.total   \n",
       "3 BMU  Bermuda          North America   67837    106140   7200219180\n",
       "4 NOR  Norway           Europe        4676305    103630 484605487150\n",
       "5 QAT  Qatar            Asia           833285     92200  76828877000\n",
       "6 CHE  Switzerland      Europe        7604467     88120 670105632040\n",
       "7 MAC  Macao SAR, China Asia           559846     76270  42699454420\n",
       "8 LUX  Luxembourg       Europe         491775     75990  37369982250"
      ]
     },
     "metadata": {},
     "output_type": "display_data"
    },
    {
     "name": "stderr",
     "output_type": "stream",
     "text": [
      "Warning message in if (class(try(col2rgb(bg.labels), silent = TRUE)) == \"try-error\") stop(\"Invalid bg.labels\"):\n",
      "\"length > 1 이라는 조건이 있고, 첫번째 요소만이 사용될 것입니다\"\n"
     ]
    },
    {
     "data": {
      "image/png": "[encoded data removed]",
      "text/plain": [
       "plot without title"
      ]
     },
     "metadata": {
      "image/png": {
       "height": 420,
       "width": 420
      },
      "text/plain": {
       "height": 420,
       "width": 420
      }
     },
     "output_type": "display_data"
    }
   ],
   "source": [
    "# 대륙별 인구, 소득 \n",
    "# 국가별 국민 총소득을 계산해서 GNI.total 컬럼에 저장\n",
    "GNI2014$GNI.total <-  \n",
    "    GNI2014$population*GNI2014$GNI \n",
    "head(GNI2014)\n",
    "# 국가별 국민 총소득을 대륙별로 합계내서 GNI2014.a 에 저장 \n",
    "GNI2014.a <- aggregate(GNI2014[,4:6],\n",
    "              by=list(GNI2014$continent),sum)\n",
    "# 대륙별 합계를 대륙 인구수로 나누어 GNI.percap 컬럼에 저장\n",
    "GNI2014.a$GNI.percap <- \n",
    "    GNI2014.a$GNI.total/GNI2014.a$population\n",
    "\n",
    "treemap(GNI2014.a,\n",
    "        index=c(\"Group.1\"),\n",
    "        vSize=\"population\",\n",
    "        vColor=\"GNI.percap\",\n",
    "        type=\"value\",\n",
    "        bg.labels=\"yellow\")"
   ]
  },
  {
   "cell_type": "markdown",
   "metadata": {},
   "source": [
    "#### 연습문제"
   ]
  },
  {
   "cell_type": "markdown",
   "metadata": {},
   "source": [
    "\"국회의원_선거구_유권자수.csv\" 파일의 내용을 가지고 다음과 같은 treemap 을 작성"
   ]
  },
  {
   "cell_type": "code",
   "execution_count": 6,
   "metadata": {},
   "outputs": [
    {
     "name": "stderr",
     "output_type": "stream",
     "text": [
      "Warning message in if (class(try(col2rgb(bg.labels), silent = TRUE)) == \"try-error\") stop(\"Invalid bg.labels\"):\n",
      "\"length > 1 이라는 조건이 있고, 첫번째 요소만이 사용될 것입니다\"\n"
     ]
    },
    {
     "data": {
      "image/png": "[encoded data removed]",
      "text/plain": [
       "plot without title"
      ]
     },
     "metadata": {
      "image/png": {
       "height": 420,
       "width": 420
      },
      "text/plain": {
       "height": 420,
       "width": 420
      }
     },
     "output_type": "display_data"
    }
   ],
   "source": [
    "#library(treemap)\n",
    "#getwd()\n",
    "#setwd(\"./Rworks\")\n",
    "\n",
    "ds = read.csv(\"국회의원_선거구_유권자수.csv\")\n",
    "treemap(ds,\n",
    "        index=c(\"시도\",\"선거구명\"),\n",
    "        vSize=\"선거인.수\",\n",
    "        vColor=\"선거인.수\",\n",
    "        type=\"value\",\n",
    "        bg.labels=\"yellow\")"
   ]
  },
  {
   "cell_type": "markdown",
   "metadata": {},
   "source": [
    "시도별 선거인수를 집계(합계계산)하여 다음과 같은 treemap 을 작성"
   ]
  },
  {
   "cell_type": "code",
   "execution_count": 7,
   "metadata": {},
   "outputs": [
    {
     "name": "stderr",
     "output_type": "stream",
     "text": [
      "Warning message in if (class(try(col2rgb(bg.labels), silent = TRUE)) == \"try-error\") stop(\"Invalid bg.labels\"):\n",
      "\"length > 1 이라는 조건이 있고, 첫번째 요소만이 사용될 것입니다\"\n"
     ]
    },
    {
     "data": {
      "image/png": "[encoded data removed]",
      "text/plain": [
       "plot without title"
      ]
     },
     "metadata": {
      "image/png": {
       "height": 420,
       "width": 420
      },
      "text/plain": {
       "height": 420,
       "width": 420
      }
     },
     "output_type": "display_data"
    }
   ],
   "source": [
    "ds.2 = aggregate(ds[,5], by=list(ds$시도),sum)\n",
    "\n",
    "treemap(ds.2,\n",
    "        index=c(\"Group.1\"),\n",
    "        vSize=\"x\",\n",
    "        vColor=\"x\",\n",
    "        type=\"value\",\n",
    "        bg.labels=\"yellow\")"
   ]
  },
  {
   "cell_type": "markdown",
   "metadata": {},
   "source": [
    "## 2. 버블차트"
   ]
  },
  {
   "attachments": {},
   "cell_type": "markdown",
   "metadata": {},
   "source": [
    "- 산점도는 두개의 변수간 상관 관계를 표시한다. \n",
    "- 버블 차트는 산점도에 제3의 변수를 크기에 비례하는 버블(원)으로 표현한 그림이다.\n",
    "- 설치가 필요한 패키지\n",
    "```\n",
    "install.packages(\"MASS\")\n",
    "```\n",
    "\n",
    "- 실습에 사용할 데이터셋\n",
    "    - UScrime (MASS)\n",
    "    - Pop : 인구수, U2 : 실업률(35~39세), y : 범죄율"
   ]
  },
  {
   "cell_type": "code",
   "execution_count": 8,
   "metadata": {},
   "outputs": [
    {
     "data": {
      "text/html": [
       "<table>\n",
       "<caption>A data.frame: 6 × 16</caption>\n",
       "<thead>\n",
       "\t<tr><th></th><th scope=col>M</th><th scope=col>So</th><th scope=col>Ed</th><th scope=col>Po1</th><th scope=col>Po2</th><th scope=col>LF</th><th scope=col>M.F</th><th scope=col>Pop</th><th scope=col>NW</th><th scope=col>U1</th><th scope=col>U2</th><th scope=col>GDP</th><th scope=col>Ineq</th><th scope=col>Prob</th><th scope=col>Time</th><th scope=col>y</th></tr>\n",
       "\t<tr><th></th><th scope=col>&lt;int&gt;</th><th scope=col>&lt;int&gt;</th><th scope=col>&lt;int&gt;</th><th scope=col>&lt;int&gt;</th><th scope=col>&lt;int&gt;</th><th scope=col>&lt;int&gt;</th><th scope=col>&lt;int&gt;</th><th scope=col>&lt;int&gt;</th><th scope=col>&lt;int&gt;</th><th scope=col>&lt;int&gt;</th><th scope=col>&lt;int&gt;</th><th scope=col>&lt;int&gt;</th><th scope=col>&lt;int&gt;</th><th scope=col>&lt;dbl&gt;</th><th scope=col>&lt;dbl&gt;</th><th scope=col>&lt;int&gt;</th></tr>\n",
       "</thead>\n",
       "<tbody>\n",
       "\t<tr><th scope=row>1</th><td>151</td><td>1</td><td> 91</td><td> 58</td><td> 56</td><td>510</td><td> 950</td><td> 33</td><td>301</td><td>108</td><td>41</td><td>394</td><td>261</td><td>0.084602</td><td>26.2011</td><td> 791</td></tr>\n",
       "\t<tr><th scope=row>2</th><td>143</td><td>0</td><td>113</td><td>103</td><td> 95</td><td>583</td><td>1012</td><td> 13</td><td>102</td><td> 96</td><td>36</td><td>557</td><td>194</td><td>0.029599</td><td>25.2999</td><td>1635</td></tr>\n",
       "\t<tr><th scope=row>3</th><td>142</td><td>1</td><td> 89</td><td> 45</td><td> 44</td><td>533</td><td> 969</td><td> 18</td><td>219</td><td> 94</td><td>33</td><td>318</td><td>250</td><td>0.083401</td><td>24.3006</td><td> 578</td></tr>\n",
       "\t<tr><th scope=row>4</th><td>136</td><td>0</td><td>121</td><td>149</td><td>141</td><td>577</td><td> 994</td><td>157</td><td> 80</td><td>102</td><td>39</td><td>673</td><td>167</td><td>0.015801</td><td>29.9012</td><td>1969</td></tr>\n",
       "\t<tr><th scope=row>5</th><td>141</td><td>0</td><td>121</td><td>109</td><td>101</td><td>591</td><td> 985</td><td> 18</td><td> 30</td><td> 91</td><td>20</td><td>578</td><td>174</td><td>0.041399</td><td>21.2998</td><td>1234</td></tr>\n",
       "\t<tr><th scope=row>6</th><td>121</td><td>0</td><td>110</td><td>118</td><td>115</td><td>547</td><td> 964</td><td> 25</td><td> 44</td><td> 84</td><td>29</td><td>689</td><td>126</td><td>0.034201</td><td>20.9995</td><td> 682</td></tr>\n",
       "</tbody>\n",
       "</table>\n"
      ],
      "text/latex": [
       "A data.frame: 6 × 16\n",
       "\\begin{tabular}{r|llllllllllllllll}\n",
       "  & M & So & Ed & Po1 & Po2 & LF & M.F & Pop & NW & U1 & U2 & GDP & Ineq & Prob & Time & y\\\\\n",
       "  & <int> & <int> & <int> & <int> & <int> & <int> & <int> & <int> & <int> & <int> & <int> & <int> & <int> & <dbl> & <dbl> & <int>\\\\\n",
       "\\hline\n",
       "\t1 & 151 & 1 &  91 &  58 &  56 & 510 &  950 &  33 & 301 & 108 & 41 & 394 & 261 & 0.084602 & 26.2011 &  791\\\\\n",
       "\t2 & 143 & 0 & 113 & 103 &  95 & 583 & 1012 &  13 & 102 &  96 & 36 & 557 & 194 & 0.029599 & 25.2999 & 1635\\\\\n",
       "\t3 & 142 & 1 &  89 &  45 &  44 & 533 &  969 &  18 & 219 &  94 & 33 & 318 & 250 & 0.083401 & 24.3006 &  578\\\\\n",
       "\t4 & 136 & 0 & 121 & 149 & 141 & 577 &  994 & 157 &  80 & 102 & 39 & 673 & 167 & 0.015801 & 29.9012 & 1969\\\\\n",
       "\t5 & 141 & 0 & 121 & 109 & 101 & 591 &  985 &  18 &  30 &  91 & 20 & 578 & 174 & 0.041399 & 21.2998 & 1234\\\\\n",
       "\t6 & 121 & 0 & 110 & 118 & 115 & 547 &  964 &  25 &  44 &  84 & 29 & 689 & 126 & 0.034201 & 20.9995 &  682\\\\\n",
       "\\end{tabular}\n"
      ],
      "text/markdown": [
       "\n",
       "A data.frame: 6 × 16\n",
       "\n",
       "| <!--/--> | M &lt;int&gt; | So &lt;int&gt; | Ed &lt;int&gt; | Po1 &lt;int&gt; | Po2 &lt;int&gt; | LF &lt;int&gt; | M.F &lt;int&gt; | Pop &lt;int&gt; | NW &lt;int&gt; | U1 &lt;int&gt; | U2 &lt;int&gt; | GDP &lt;int&gt; | Ineq &lt;int&gt; | Prob &lt;dbl&gt; | Time &lt;dbl&gt; | y &lt;int&gt; |\n",
       "|---|---|---|---|---|---|---|---|---|---|---|---|---|---|---|---|---|\n",
       "| 1 | 151 | 1 |  91 |  58 |  56 | 510 |  950 |  33 | 301 | 108 | 41 | 394 | 261 | 0.084602 | 26.2011 |  791 |\n",
       "| 2 | 143 | 0 | 113 | 103 |  95 | 583 | 1012 |  13 | 102 |  96 | 36 | 557 | 194 | 0.029599 | 25.2999 | 1635 |\n",
       "| 3 | 142 | 1 |  89 |  45 |  44 | 533 |  969 |  18 | 219 |  94 | 33 | 318 | 250 | 0.083401 | 24.3006 |  578 |\n",
       "| 4 | 136 | 0 | 121 | 149 | 141 | 577 |  994 | 157 |  80 | 102 | 39 | 673 | 167 | 0.015801 | 29.9012 | 1969 |\n",
       "| 5 | 141 | 0 | 121 | 109 | 101 | 591 |  985 |  18 |  30 |  91 | 20 | 578 | 174 | 0.041399 | 21.2998 | 1234 |\n",
       "| 6 | 121 | 0 | 110 | 118 | 115 | 547 |  964 |  25 |  44 |  84 | 29 | 689 | 126 | 0.034201 | 20.9995 |  682 |\n",
       "\n"
      ],
      "text/plain": [
       "  M   So Ed  Po1 Po2 LF  M.F  Pop NW  U1  U2 GDP Ineq Prob     Time    y   \n",
       "1 151 1   91  58  56 510  950  33 301 108 41 394 261  0.084602 26.2011  791\n",
       "2 143 0  113 103  95 583 1012  13 102  96 36 557 194  0.029599 25.2999 1635\n",
       "3 142 1   89  45  44 533  969  18 219  94 33 318 250  0.083401 24.3006  578\n",
       "4 136 0  121 149 141 577  994 157  80 102 39 673 167  0.015801 29.9012 1969\n",
       "5 141 0  121 109 101 591  985  18  30  91 20 578 174  0.041399 21.2998 1234\n",
       "6 121 0  110 118 115 547  964  25  44  84 29 689 126  0.034201 20.9995  682"
      ]
     },
     "metadata": {},
     "output_type": "display_data"
    },
    {
     "data": {
      "image/png": "[encoded data removed]",
      "text/plain": [
       "Plot with title \"UScrime Data\""
      ]
     },
     "metadata": {
      "image/png": {
       "height": 420,
       "width": 420
      },
      "text/plain": {
       "height": 420,
       "width": 420
      }
     },
     "output_type": "display_data"
    }
   ],
   "source": [
    "library(MASS)\n",
    "\n",
    "head(UScrime)\n",
    "\n",
    "radius <- sqrt(UScrime$Pop) # 원의 반지름(값이커서 줄임)\n",
    "\n",
    "symbols(UScrime$U2, UScrime$y, # 원의 x,y 좌표값 \n",
    "    circles=radius,         # 원의 반지름값 \n",
    "    inches=0.4,             # 원의 크기 조절값\n",
    "    fg=\"white\",             # 원의 테두리 색 \n",
    "    bg=\"lightgray\",         # 원의 바탕색\n",
    "    lwd=1.5,                # 원의 테두리선 두께\n",
    "    xlab=\"unemployment 35-39 males\", \n",
    "    ylab=\"crime rate\",\n",
    "    main=\"UScrime Data\")\n",
    "\n",
    "text(UScrime$U2, UScrime$y,  # 텍스트가 출력될 x,y좌표\n",
    "    1:nrow(UScrime),         # 출력할 텍스트\n",
    "    cex=0.8,                 # 폰트 크기\n",
    "    col=\"brown\")             # 폰트 color"
   ]
  },
  {
   "cell_type": "markdown",
   "metadata": {},
   "source": [
    "#### 연습문제"
   ]
  },
  {
   "attachments": {},
   "cell_type": "markdown",
   "metadata": {},
   "source": [
    "- state.x77 데이터로 부터 다음과 같은 버블차트를 작성하시오\n",
    "    - st <- data.frame(state.x77) 과 같이 matrix를 data frame 으로 변환하여 사용\n",
    "    - 원의 크기는 인구(Population) 수를 의미"
   ]
  },
  {
   "cell_type": "code",
   "execution_count": 9,
   "metadata": {},
   "outputs": [
    {
     "data": {
      "image/png": "[encoded data removed]",
      "text/plain": [
       "Plot with title \"US State data\""
      ]
     },
     "metadata": {
      "image/png": {
       "height": 420,
       "width": 420
      },
      "text/plain": {
       "height": 420,
       "width": 420
      }
     },
     "output_type": "display_data"
    }
   ],
   "source": [
    "st <-data.frame(state.x77) \n",
    "\n",
    "symbols(st$Income, st$Illiteracy, # x,y 좌표값 \n",
    "    circles=st$Population,        # 원의 반지름값 \n",
    "    inches=0.6,             # 원의 크기 조절값\n",
    "    fg=\"white\",             # 원의 테두리 색 \n",
    "    bg=\"green\",             # 원의 바탕색\n",
    "    lwd=1.5,                # 원의 테두리선 두께\n",
    "    xlab=\"Income\", \n",
    "    ylab=\"Illiteracy\",\n",
    "    main=\"US State data\")\n",
    "\n",
    "text(st$Income, st$Illiteracy,  # 텍스트가 출력될 x,y좌표\n",
    "    c(rownames(st)),         # 출력할 텍스트\n",
    "    cex=0.8,                 # 폰트 크기\n",
    "    col=\"black\")             # 폰트 color"
   ]
  },
  {
   "cell_type": "markdown",
   "metadata": {},
   "source": [
    "## 3. 다중 상자그림 (Boxplot)"
   ]
  },
  {
   "attachments": {},
   "cell_type": "markdown",
   "metadata": {},
   "source": [
    "- 상자그림(box plot)은 일변량 연속형 자료를 상자와 선, 그리고 점으로 표현한 그림\n",
    "- 다중 상자 그림은 총 자료가 여러 개의 자료 묶음(data batch) 또는 그룹으로 구성되어 있는 경우 그룹 간 비교에 있어 시각적 효과가 탁월하다\n",
    "- 실습에 사용할 데이터셋 (2017년 서울 일별 평균기온) \n",
    "    - Seoul_temp_2017.csv\n"
   ]
  },
  {
   "cell_type": "code",
   "execution_count": 11,
   "metadata": {},
   "outputs": [
    {
     "data": {
      "text/html": [
       "<table>\n",
       "<caption>A data.frame: 6 × 3</caption>\n",
       "<thead>\n",
       "\t<tr><th></th><th scope=col>date</th><th scope=col>month</th><th scope=col>avg_temp</th></tr>\n",
       "\t<tr><th></th><th scope=col>&lt;chr&gt;</th><th scope=col>&lt;int&gt;</th><th scope=col>&lt;dbl&gt;</th></tr>\n",
       "</thead>\n",
       "<tbody>\n",
       "\t<tr><th scope=row>1</th><td>2017-01-01</td><td>1</td><td>2.7</td></tr>\n",
       "\t<tr><th scope=row>2</th><td>2017-01-02</td><td>1</td><td>5.0</td></tr>\n",
       "\t<tr><th scope=row>3</th><td>2017-01-03</td><td>1</td><td>2.0</td></tr>\n",
       "\t<tr><th scope=row>4</th><td>2017-01-04</td><td>1</td><td>3.9</td></tr>\n",
       "\t<tr><th scope=row>5</th><td>2017-01-05</td><td>1</td><td>3.8</td></tr>\n",
       "\t<tr><th scope=row>6</th><td>2017-01-06</td><td>1</td><td>5.4</td></tr>\n",
       "</tbody>\n",
       "</table>\n"
      ],
      "text/latex": [
       "A data.frame: 6 × 3\n",
       "\\begin{tabular}{r|lll}\n",
       "  & date & month & avg\\_temp\\\\\n",
       "  & <chr> & <int> & <dbl>\\\\\n",
       "\\hline\n",
       "\t1 & 2017-01-01 & 1 & 2.7\\\\\n",
       "\t2 & 2017-01-02 & 1 & 5.0\\\\\n",
       "\t3 & 2017-01-03 & 1 & 2.0\\\\\n",
       "\t4 & 2017-01-04 & 1 & 3.9\\\\\n",
       "\t5 & 2017-01-05 & 1 & 3.8\\\\\n",
       "\t6 & 2017-01-06 & 1 & 5.4\\\\\n",
       "\\end{tabular}\n"
      ],
      "text/markdown": [
       "\n",
       "A data.frame: 6 × 3\n",
       "\n",
       "| <!--/--> | date &lt;chr&gt; | month &lt;int&gt; | avg_temp &lt;dbl&gt; |\n",
       "|---|---|---|---|\n",
       "| 1 | 2017-01-01 | 1 | 2.7 |\n",
       "| 2 | 2017-01-02 | 1 | 5.0 |\n",
       "| 3 | 2017-01-03 | 1 | 2.0 |\n",
       "| 4 | 2017-01-04 | 1 | 3.9 |\n",
       "| 5 | 2017-01-05 | 1 | 3.8 |\n",
       "| 6 | 2017-01-06 | 1 | 5.4 |\n",
       "\n"
      ],
      "text/plain": [
       "  date       month avg_temp\n",
       "1 2017-01-01 1     2.7     \n",
       "2 2017-01-02 1     5.0     \n",
       "3 2017-01-03 1     2.0     \n",
       "4 2017-01-04 1     3.9     \n",
       "5 2017-01-05 1     3.8     \n",
       "6 2017-01-06 1     5.4     "
      ]
     },
     "metadata": {},
     "output_type": "display_data"
    },
    {
     "data": {
      "text/plain": [
       "   Min. 1st Qu.  Median    Mean 3rd Qu.    Max. \n",
       "  -9.40    3.00   15.10   13.07   22.60   31.40 "
      ]
     },
     "metadata": {},
     "output_type": "display_data"
    },
    {
     "data": {
      "image/png": "[encoded data removed]",
      "text/plain": [
       "plot without title"
      ]
     },
     "metadata": {
      "image/png": {
       "height": 420,
       "width": 420
      },
      "text/plain": {
       "height": 420,
       "width": 420
      }
     },
     "output_type": "display_data"
    }
   ],
   "source": [
    "#setwd(\"./Rworks\")\n",
    "\n",
    "ds <- read.csv(\"seoul_temp_2017.csv\")\n",
    "\n",
    "head(ds)\n",
    "\n",
    "summary(ds$avg_temp)\n",
    "\n",
    "# 서울 1년 기온 분포 \n",
    "boxplot(ds$avg_temp, \n",
    "        col=\"yellow\", \n",
    "        ylim=c(-20,40), \n",
    "        xlab=\"서울1년기온\",\n",
    "        ylab=\"기온\")"
   ]
  },
  {
   "cell_type": "code",
   "execution_count": 12,
   "metadata": {},
   "outputs": [
    {
     "data": {
      "image/png": "[encoded data removed]",
      "text/plain": [
       "Plot with title \"서울 월별기온분포 (2017)\""
      ]
     },
     "metadata": {
      "image/png": {
       "height": 420,
       "width": 420
      },
      "text/plain": {
       "height": 420,
       "width": 420
      }
     },
     "output_type": "display_data"
    }
   ],
   "source": [
    "# 월별 평균기온계산 \n",
    "month.avg <- aggregate(ds$avg_temp, \n",
    "                       by=list(ds$month),median)[2]\n",
    "\n",
    "# 평균기온 순위 계산 (내림차순) \n",
    "odr <- rank(-month.avg)\n",
    "\n",
    "# 월별 기온분포 \n",
    "boxplot(avg_temp~month, data=ds,  \n",
    "           col=heat.colors(12)[odr], # 상자의 색을 지정 \n",
    "           ylim=c(-20,40), \n",
    "           ylab=\"기온\",\n",
    "           xlab=\"월\",\n",
    "           main=\"서울 월별기온분포 (2017)\")"
   ]
  },
  {
   "attachments": {},
   "cell_type": "markdown",
   "metadata": {},
   "source": [
    "**col=heat.colors(12)[odr]**  \n",
    "- 각 box 의 색을 heat.colors 에서 12개의 색을 취하여 그린다.  \n",
    "- 어느값을 취할지는 odr 에 따른다.\n"
   ]
  },
  {
   "cell_type": "markdown",
   "metadata": {},
   "source": [
    "#### 연습문제"
   ]
  },
  {
   "attachments": {},
   "cell_type": "markdown",
   "metadata": {},
   "source": [
    "R 에서 제공하는 airquality 데이터셋을 이용하여 다음 문제를 해결하시오"
   ]
  },
  {
   "attachments": {},
   "cell_type": "markdown",
   "metadata": {},
   "source": [
    "1. 월별(Month) 기온(Temp)을 boxplot 으로 작성하시오"
   ]
  },
  {
   "cell_type": "code",
   "execution_count": 13,
   "metadata": {},
   "outputs": [
    {
     "data": {
      "image/png": "[encoded data removed]",
      "text/plain": [
       "Plot with title \"Different boxplots for each month\""
      ]
     },
     "metadata": {
      "image/png": {
       "height": 420,
       "width": 420
      },
      "text/plain": {
       "height": 420,
       "width": 420
      }
     },
     "output_type": "display_data"
    }
   ],
   "source": [
    "boxplot(Temp~Month,\n",
    "  data=airquality,\n",
    "  main=\"Different boxplots for each month\",\n",
    "  xlab=\"Month Number\",\n",
    "  ylab=\"Temp\",\n",
    "  col=\"orange\",\n",
    "  border=\"brown\"\n",
    ")"
   ]
  },
  {
   "attachments": {},
   "cell_type": "markdown",
   "metadata": {},
   "source": [
    "2. 월별(Month) 풍속(Wind)을 boxplot 으로 작성하시오"
   ]
  },
  {
   "cell_type": "code",
   "execution_count": 14,
   "metadata": {},
   "outputs": [
    {
     "data": {
      "image/png": "[encoded data removed]",
      "text/plain": [
       "Plot with title \"Different boxplots for each month\""
      ]
     },
     "metadata": {
      "image/png": {
       "height": 420,
       "width": 420
      },
      "text/plain": {
       "height": 420,
       "width": 420
      }
     },
     "output_type": "display_data"
    }
   ],
   "source": [
    "boxplot(Wind~Month,\n",
    "  data=airquality,\n",
    "  main=\"Different boxplots for each month\",\n",
    "  xlab=\"Month Number\",\n",
    "  ylab=\"Wind\",\n",
    "  col=\"yellow\",\n",
    "  border=\"brown\"\n",
    ")"
   ]
  },
  {
   "attachments": {},
   "cell_type": "markdown",
   "metadata": {},
   "source": [
    "3. 월별(Month) 오존농도(Ozone)을 boxplot 으로 작성하시오"
   ]
  },
  {
   "cell_type": "code",
   "execution_count": 15,
   "metadata": {},
   "outputs": [
    {
     "data": {
      "image/png": "[encoded data removed]",
      "text/plain": [
       "Plot with title \"Different boxplots for each month\""
      ]
     },
     "metadata": {
      "image/png": {
       "height": 420,
       "width": 420
      },
      "text/plain": {
       "height": 420,
       "width": 420
      }
     },
     "output_type": "display_data"
    }
   ],
   "source": [
    "boxplot(Ozone~Month,\n",
    "  data=airquality,\n",
    "  main=\"Different boxplots for each month\",\n",
    "  xlab=\"Month Number\",\n",
    "  ylab=\"Ozone\",\n",
    "  col=\"gray\",\n",
    "  border=\"black\"\n",
    ")"
   ]
  },
  {
   "cell_type": "markdown",
   "metadata": {},
   "source": [
    "## 4. 모자이크 플롯 (mosaic plot)"
   ]
  },
  {
   "attachments": {},
   "cell_type": "markdown",
   "metadata": {},
   "source": [
    "모자이크 플롯(mosaic plot)은 2원 3원 교차표의 시각화이다. 전체 정사각 도형을 교차표의 행 빈도에 비례하는 직사각 도형으로 나누고 다시 각 도형을 행 내 열의 빈도에 해당하는 직사각 도형으로 나눈다.\n",
    "\n",
    "- 실습용 데이터셋\n",
    "    - mtcars\n",
    "    - Titnic"
   ]
  },
  {
   "cell_type": "code",
   "execution_count": 21,
   "metadata": {},
   "outputs": [
    {
     "data": {
      "text/html": [
       "'C:/Users/ryzen/Desktop/coding/anaconda/2020데이터청년캠퍼스/R/Rworks'"
      ],
      "text/latex": [
       "'C:/Users/ryzen/Desktop/coding/anaconda/2020데이터청년캠퍼스/R/Rworks'"
      ],
      "text/markdown": [
       "'C:/Users/ryzen/Desktop/coding/anaconda/2020데이터청년캠퍼스/R/Rworks'"
      ],
      "text/plain": [
       "[1] \"C:/Users/ryzen/Desktop/coding/anaconda/2020데이터청년캠퍼스/R/Rworks\""
      ]
     },
     "metadata": {},
     "output_type": "display_data"
    },
    {
     "data": {
      "text/html": [
       "<table>\n",
       "<caption>A data.frame: 6 × 2</caption>\n",
       "<thead>\n",
       "\t<tr><th></th><th scope=col>freq</th><th scope=col>stay</th></tr>\n",
       "\t<tr><th></th><th scope=col>&lt;chr&gt;</th><th scope=col>&lt;chr&gt;</th></tr>\n",
       "</thead>\n",
       "<tbody>\n",
       "\t<tr><th scope=row>1</th><td>(3)Regular</td><td>(1)2-9</td></tr>\n",
       "\t<tr><th scope=row>2</th><td>(3)Regular</td><td>(1)2-9</td></tr>\n",
       "\t<tr><th scope=row>3</th><td>(3)Regular</td><td>(1)2-9</td></tr>\n",
       "\t<tr><th scope=row>4</th><td>(3)Regular</td><td>(1)2-9</td></tr>\n",
       "\t<tr><th scope=row>5</th><td>(3)Regular</td><td>(1)2-9</td></tr>\n",
       "\t<tr><th scope=row>6</th><td>(3)Regular</td><td>(1)2-9</td></tr>\n",
       "</tbody>\n",
       "</table>\n"
      ],
      "text/latex": [
       "A data.frame: 6 × 2\n",
       "\\begin{tabular}{r|ll}\n",
       "  & freq & stay\\\\\n",
       "  & <chr> & <chr>\\\\\n",
       "\\hline\n",
       "\t1 & (3)Regular & (1)2-9\\\\\n",
       "\t2 & (3)Regular & (1)2-9\\\\\n",
       "\t3 & (3)Regular & (1)2-9\\\\\n",
       "\t4 & (3)Regular & (1)2-9\\\\\n",
       "\t5 & (3)Regular & (1)2-9\\\\\n",
       "\t6 & (3)Regular & (1)2-9\\\\\n",
       "\\end{tabular}\n"
      ],
      "text/markdown": [
       "\n",
       "A data.frame: 6 × 2\n",
       "\n",
       "| <!--/--> | freq &lt;chr&gt; | stay &lt;chr&gt; |\n",
       "|---|---|---|\n",
       "| 1 | (3)Regular | (1)2-9 |\n",
       "| 2 | (3)Regular | (1)2-9 |\n",
       "| 3 | (3)Regular | (1)2-9 |\n",
       "| 4 | (3)Regular | (1)2-9 |\n",
       "| 5 | (3)Regular | (1)2-9 |\n",
       "| 6 | (3)Regular | (1)2-9 |\n",
       "\n"
      ],
      "text/plain": [
       "  freq       stay  \n",
       "1 (3)Regular (1)2-9\n",
       "2 (3)Regular (1)2-9\n",
       "3 (3)Regular (1)2-9\n",
       "4 (3)Regular (1)2-9\n",
       "5 (3)Regular (1)2-9\n",
       "6 (3)Regular (1)2-9"
      ]
     },
     "metadata": {},
     "output_type": "display_data"
    },
    {
     "data": {
      "text/plain": [
       "                      stay\n",
       "freq                   (1)2-9 (2)10-19 (3)20+\n",
       "  (1)Never                  9       18     16\n",
       "  (2)Less than monthly      6       11     10\n",
       "  (3)Regular               43       16      3"
      ]
     },
     "metadata": {},
     "output_type": "display_data"
    },
    {
     "data": {
      "image/png": "[encoded data removed]",
      "text/plain": [
       "Plot with title \"병원내원빈도vs치료기간\""
      ]
     },
     "metadata": {
      "image/png": {
       "height": 420,
       "width": 420
      },
      "text/plain": {
       "height": 420,
       "width": 420
      }
     },
     "output_type": "display_data"
    }
   ],
   "source": [
    "#getwd()\n",
    "#setwd(\"./Rworks\")\n",
    "\n",
    "# matrix 형태로 데이터가 존재하는 경우\n",
    "hospital <- read.csv(\"hospital.csv\")    \n",
    "head(hospital)\n",
    "table(hospital)\n",
    "mosaicplot(~freq+stay, \n",
    "           data = hospital, \n",
    "           color=TRUE,\n",
    "           main =\"병원내원빈도vs치료기간\")"
   ]
  },
  {
   "cell_type": "code",
   "execution_count": 22,
   "metadata": {},
   "outputs": [
    {
     "data": {
      "image/png": "[encoded data removed]",
      "text/plain": [
       "Plot with title \"병원내원빈도vs치료기간\""
      ]
     },
     "metadata": {
      "image/png": {
       "height": 420,
       "width": 420
      },
      "text/plain": {
       "height": 420,
       "width": 420
      }
     },
     "output_type": "display_data"
    }
   ],
   "source": [
    "mosaicplot (~freq+stay, \n",
    "            data = hospital, \n",
    "            color =  c(\"green\",\"blue\",\"red\"),\n",
    "            main =\"병원내원빈도vs치료기간\")"
   ]
  },
  {
   "cell_type": "code",
   "execution_count": 23,
   "metadata": {},
   "outputs": [
    {
     "data": {
      "text/plain": [
       ", , Age = Child, Survived = No\n",
       "\n",
       "      Sex\n",
       "Class  Male Female\n",
       "  1st     0      0\n",
       "  2nd     0      0\n",
       "  3rd    35     17\n",
       "  Crew    0      0\n",
       "\n",
       ", , Age = Adult, Survived = No\n",
       "\n",
       "      Sex\n",
       "Class  Male Female\n",
       "  1st   118      4\n",
       "  2nd   154     13\n",
       "  3rd   387     89\n",
       "  Crew  670      3\n",
       "\n",
       ", , Age = Child, Survived = Yes\n",
       "\n",
       "      Sex\n",
       "Class  Male Female\n",
       "  1st     5      1\n",
       "  2nd    11     13\n",
       "  3rd    13     14\n",
       "  Crew    0      0\n",
       "\n",
       ", , Age = Adult, Survived = Yes\n",
       "\n",
       "      Sex\n",
       "Class  Male Female\n",
       "  1st    57    140\n",
       "  2nd    14     80\n",
       "  3rd    75     76\n",
       "  Crew  192     20\n"
      ]
     },
     "metadata": {},
     "output_type": "display_data"
    },
    {
     "data": {
      "image/png": "[encoded data removed]",
      "text/plain": [
       "Plot with title \"Titanic\""
      ]
     },
     "metadata": {
      "image/png": {
       "height": 420,
       "width": 420
      },
      "text/plain": {
       "height": 420,
       "width": 420
      }
     },
     "output_type": "display_data"
    }
   ],
   "source": [
    "# 3차원 교차표 형태로 데이터가 존재하는 경우\n",
    "Titanic\n",
    "mosaicplot(Titanic, color = TRUE, off=5)\n",
    "\n",
    "# off : Block 간격 조절"
   ]
  },
  {
   "cell_type": "code",
   "execution_count": 24,
   "metadata": {},
   "outputs": [
    {
     "data": {
      "image/png": "[encoded data removed]",
      "text/plain": [
       "Plot with title \"Survival on the Titanic\""
      ]
     },
     "metadata": {
      "image/png": {
       "height": 420,
       "width": 420
      },
      "text/plain": {
       "height": 420,
       "width": 420
      }
     },
     "output_type": "display_data"
    }
   ],
   "source": [
    " mosaicplot(Titanic, \n",
    "            main = \"Survival on the Titanic\", \n",
    "            color = c(\"red\",\"green\"), \n",
    "            off=1) "
   ]
  },
  {
   "cell_type": "markdown",
   "metadata": {},
   "source": [
    "#### 연습문제"
   ]
  },
  {
   "attachments": {},
   "cell_type": "markdown",
   "metadata": {},
   "source": [
    "HairEyeColor 데이터셋에 대해 모자이크 플롯을 작성하시오."
   ]
  },
  {
   "cell_type": "code",
   "execution_count": 28,
   "metadata": {},
   "outputs": [
    {
     "data": {
      "image/png": "[encoded data removed]",
      "text/plain": [
       "Plot with title \"HairEyeColor\""
      ]
     },
     "metadata": {
      "image/png": {
       "height": 420,
       "width": 420
      },
      "text/plain": {
       "height": 420,
       "width": 420
      }
     },
     "output_type": "display_data"
    }
   ],
   "source": [
    " mosaicplot(HairEyeColor, \n",
    "            main = \"HairEyeColor\", \n",
    "            color = TRUE, \n",
    "            off=1) "
   ]
  },
  {
   "attachments": {},
   "cell_type": "markdown",
   "metadata": {},
   "source": [
    "다음의 santa data 에 대해 모자이크 플롯을 작성하시오\n",
    "- belief : 산타를 믿는지여부, sibling: 손위 형제가 있는지 여부 \n"
   ]
  },
  {
   "cell_type": "code",
   "execution_count": 36,
   "metadata": {},
   "outputs": [
    {
     "data": {
      "text/html": [
       "<table>\n",
       "<caption>A data.frame: 16 × 2</caption>\n",
       "<thead>\n",
       "\t<tr><th scope=col>belief</th><th scope=col>sibling</th></tr>\n",
       "\t<tr><th scope=col>&lt;chr&gt;</th><th scope=col>&lt;chr&gt;</th></tr>\n",
       "</thead>\n",
       "<tbody>\n",
       "\t<tr><td>no belief</td><td>older brother   </td></tr>\n",
       "\t<tr><td>no belief</td><td>older brother   </td></tr>\n",
       "\t<tr><td>no belief</td><td>older brother   </td></tr>\n",
       "\t<tr><td>no belief</td><td>older sister    </td></tr>\n",
       "\t<tr><td>belief   </td><td>no older sibling</td></tr>\n",
       "\t<tr><td>belief   </td><td>no older sibling</td></tr>\n",
       "\t<tr><td>belief   </td><td>no older sibling</td></tr>\n",
       "\t<tr><td>belief   </td><td>older sister    </td></tr>\n",
       "\t<tr><td>belief   </td><td>older brother   </td></tr>\n",
       "\t<tr><td>belief   </td><td>older sister    </td></tr>\n",
       "\t<tr><td>no belief</td><td>older brother   </td></tr>\n",
       "\t<tr><td>no belief</td><td>older sister    </td></tr>\n",
       "\t<tr><td>belief   </td><td>no older sibling</td></tr>\n",
       "\t<tr><td>belief   </td><td>older sister    </td></tr>\n",
       "\t<tr><td>no belief</td><td>older brother   </td></tr>\n",
       "\t<tr><td>no belief</td><td>no older sibling</td></tr>\n",
       "</tbody>\n",
       "</table>\n"
      ],
      "text/latex": [
       "A data.frame: 16 × 2\n",
       "\\begin{tabular}{ll}\n",
       " belief & sibling\\\\\n",
       " <chr> & <chr>\\\\\n",
       "\\hline\n",
       "\t no belief & older brother   \\\\\n",
       "\t no belief & older brother   \\\\\n",
       "\t no belief & older brother   \\\\\n",
       "\t no belief & older sister    \\\\\n",
       "\t belief    & no older sibling\\\\\n",
       "\t belief    & no older sibling\\\\\n",
       "\t belief    & no older sibling\\\\\n",
       "\t belief    & older sister    \\\\\n",
       "\t belief    & older brother   \\\\\n",
       "\t belief    & older sister    \\\\\n",
       "\t no belief & older brother   \\\\\n",
       "\t no belief & older sister    \\\\\n",
       "\t belief    & no older sibling\\\\\n",
       "\t belief    & older sister    \\\\\n",
       "\t no belief & older brother   \\\\\n",
       "\t no belief & no older sibling\\\\\n",
       "\\end{tabular}\n"
      ],
      "text/markdown": [
       "\n",
       "A data.frame: 16 × 2\n",
       "\n",
       "| belief &lt;chr&gt; | sibling &lt;chr&gt; |\n",
       "|---|---|\n",
       "| no belief | older brother    |\n",
       "| no belief | older brother    |\n",
       "| no belief | older brother    |\n",
       "| no belief | older sister     |\n",
       "| belief    | no older sibling |\n",
       "| belief    | no older sibling |\n",
       "| belief    | no older sibling |\n",
       "| belief    | older sister     |\n",
       "| belief    | older brother    |\n",
       "| belief    | older sister     |\n",
       "| no belief | older brother    |\n",
       "| no belief | older sister     |\n",
       "| belief    | no older sibling |\n",
       "| belief    | older sister     |\n",
       "| no belief | older brother    |\n",
       "| no belief | no older sibling |\n",
       "\n"
      ],
      "text/plain": [
       "   belief    sibling         \n",
       "1  no belief older brother   \n",
       "2  no belief older brother   \n",
       "3  no belief older brother   \n",
       "4  no belief older sister    \n",
       "5  belief    no older sibling\n",
       "6  belief    no older sibling\n",
       "7  belief    no older sibling\n",
       "8  belief    older sister    \n",
       "9  belief    older brother   \n",
       "10 belief    older sister    \n",
       "11 no belief older brother   \n",
       "12 no belief older sister    \n",
       "13 belief    no older sibling\n",
       "14 belief    older sister    \n",
       "15 no belief older brother   \n",
       "16 no belief no older sibling"
      ]
     },
     "metadata": {},
     "output_type": "display_data"
    }
   ],
   "source": [
    "santa <- data.frame(belief=c('no belief','no belief','no belief','no belief',\n",
    "                               'belief','belief','belief','belief',\n",
    "                               'belief','belief','no belief','no belief',\n",
    "                               'belief','belief','no belief','no belief'),\n",
    "                      sibling=c('older brother','older brother','older brother','older sister',\n",
    "                                'no older sibling','no older sibling','no older sibling','older sister',\n",
    "                                'older brother','older sister','older brother','older sister',\n",
    "                                'no older sibling','older sister','older brother','no older sibling')\n",
    "                      )\n",
    "tasanta"
   ]
  },
  {
   "cell_type": "code",
   "execution_count": 44,
   "metadata": {},
   "outputs": [
    {
     "data": {
      "text/plain": [
       "           sibling\n",
       "belief      no older sibling older brother older sister\n",
       "  belief                   4             1            3\n",
       "  no belief                1             5            2"
      ]
     },
     "metadata": {},
     "output_type": "display_data"
    },
    {
     "data": {
      "image/png": "[encoded data removed]",
      "text/plain": [
       "Plot with title \"santa data\""
      ]
     },
     "metadata": {
      "image/png": {
       "height": 420,
       "width": 420
      },
      "text/plain": {
       "height": 420,
       "width": 420
      }
     },
     "output_type": "display_data"
    }
   ],
   "source": [
    "table(santa)\n",
    "\n",
    "mosaicplot(~belief+sibling,\n",
    "           data = santa,\n",
    "            main = \"santa data\", \n",
    "            color = TRUE, \n",
    "            off=1) "
   ]
  }
 ],
 "metadata": {
  "kernelspec": {
   "display_name": "R",
   "language": "R",
   "name": "ir"
  },
  "language_info": {
   "codemirror_mode": "r",
   "file_extension": ".r",
   "mimetype": "text/x-r-source",
   "name": "R",
   "pygments_lexer": "r",
   "version": "4.0.2"
  }
 },
 "nbformat": 4,
 "nbformat_minor": 4
}
