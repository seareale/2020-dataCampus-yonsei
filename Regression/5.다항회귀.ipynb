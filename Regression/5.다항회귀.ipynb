{
 "cells": [
  {
   "cell_type": "markdown",
   "metadata": {},
   "source": [
    "5.다항회귀"
   ]
  },
  {
   "cell_type": "markdown",
   "metadata": {},
   "source": [
    "Contents\n",
    "<div id=\"toc\"></div>"
   ]
  },
  {
   "cell_type": "markdown",
   "metadata": {},
   "source": [
    "# 1. 다항회귀"
   ]
  },
  {
   "cell_type": "markdown",
   "metadata": {},
   "source": [
    "다항 회귀 (Polynomial Regression)\n",
    "- 독립변수와 종속변수들 간의 관계를 다차 다항식으로 표현하는 회귀 방식\n",
    "- 예를 들어, 2개의 독립변수 X1, X2와 종속변수 Y의 관계를  \n",
    "   Y = w0 + w1X1 + w2X2 + w3X1X2 + w4X1^2 + w5X2^2  \n",
    "    형태의 다항식으로 표현할 수 있다.\n",
    "    ![image.png](./img/ch5_1.png)"
   ]
  },
  {
   "cell_type": "markdown",
   "metadata": {},
   "source": [
    "- 회귀식의 형태가 **독립변수의 선형이 아니기 때문에 비선형 회귀라고 오해**할 수 있으나, 다항 회귀는 **선형 회귀**에 해당한다.\n",
    "- 선형 회귀와 비선형 회귀를 구분하는 기준은 **회귀 계수들의 형태가 선형인가 비선형인가**의 여부이다. (독립변수의 형태와는 상관 없다.)\n",
    "- 보다 엄밀하게, 다항 회귀를 선형화 할 수 있는(linearizable) 회귀라고 명명하기도 한다.\n"
   ]
  },
  {
   "cell_type": "markdown",
   "metadata": {},
   "source": [
    "- 회귀식의 독립변수들을 각각 새로운 변수로 치환해서 1차 방정식으로 표현할 수 있다.\n",
    "![image.png](./img/ch5_2.png)\n",
    "- 따라서 다항 회귀는 다중 선형 회귀와 동일한 절차를 통해서 분석을 수행할 수 있다.\n",
    "- 단, 비선형 함수를 선형적으로 적용시키는 과정이 선행되어야 한다."
   ]
  },
  {
   "cell_type": "markdown",
   "metadata": {},
   "source": [
    "## 1.1. 사이킷런에서 다항식 특성으로의 변환 수행"
   ]
  },
  {
   "cell_type": "markdown",
   "metadata": {},
   "source": [
    "1. **preprocessing** 모듈에 있는 **PolynomialFeatures**를 이용하여 특성들을 다항식 형태로 변환하는 객체를 생성한다.\n",
    "    - 매개변수 degree는 변환하려는 다항식의 차수이며, 기본값은 2이다."
   ]
  },
  {
   "cell_type": "code",
   "execution_count": 3,
   "metadata": {},
   "outputs": [],
   "source": [
    "import sklearn.preprocessing as pp\n",
    "\n",
    "# degree = 2 : 2차 다항식   ->   default\n",
    "poly = pp.PolynomialFeatures(degree=2)"
   ]
  },
  {
   "cell_type": "markdown",
   "metadata": {},
   "source": [
    "* 원본 특성 데이터는 아래와 같이 [[0, 1] [2, 3]] 배열이다"
   ]
  },
  {
   "cell_type": "code",
   "execution_count": 4,
   "metadata": {},
   "outputs": [],
   "source": [
    "import numpy as np\n",
    "\n",
    "X = np.arange(4).reshape(2, 2)   # [0, 1, 2, 3]   -> [ [0, 1], [2, 3] ]"
   ]
  },
  {
   "cell_type": "markdown",
   "metadata": {},
   "source": [
    "2. 객체에 대해서 **fit_transform** 메소드를 이용하여 변환한다.\n",
    "    - 매개변수는 원본 특성 집합이다.\n",
    "    - 반환 결과는 다항식 형태로 변환된 특성 집합이다."
   ]
  },
  {
   "cell_type": "code",
   "execution_count": 100,
   "metadata": {
    "scrolled": true
   },
   "outputs": [],
   "source": [
    "X_poly = poly.fit_transform(X)\n",
    "# print(X_poly) "
   ]
  },
  {
   "cell_type": "markdown",
   "metadata": {},
   "source": [
    "0   1   2    3   \n",
    "00  01  02   03   \n",
    "11  12  13   \n",
    "22  23   \n",
    "33    "
   ]
  },
  {
   "cell_type": "markdown",
   "metadata": {},
   "source": [
    "- fit 및 transform을 각각 순서대로 호출해도 무방하다."
   ]
  },
  {
   "cell_type": "code",
   "execution_count": 6,
   "metadata": {},
   "outputs": [
    {
     "name": "stdout",
     "output_type": "stream",
     "text": [
      "[[1. 0. 1. 0. 0. 1.]\n",
      " [1. 2. 3. 4. 6. 9.]]\n"
     ]
    }
   ],
   "source": [
    "poly.fit(X)\n",
    "X_poly = poly.transform(X)\n",
    "print(X_poly)"
   ]
  },
  {
   "cell_type": "markdown",
   "metadata": {},
   "source": [
    "- 2차 다항식으로 변환된 결과는 원본 특성에 대해서 0차식, 1차식, 2차식을 순서대로 나열한 것이다.\n",
    "\n",
    "\n",
    "- 원래의 특성을 2차 다항식으로 변환하는 경우\n",
    "![image.png](./img/ch5_3.png)"
   ]
  },
  {
   "cell_type": "markdown",
   "metadata": {},
   "source": [
    "- 데이터를 생성하여 확인한다."
   ]
  },
  {
   "cell_type": "code",
   "execution_count": 23,
   "metadata": {},
   "outputs": [
    {
     "data": {
      "text/plain": [
       "<matplotlib.collections.PathCollection at 0x1ba97f01f40>"
      ]
     },
     "execution_count": 23,
     "metadata": {},
     "output_type": "execute_result"
    },
    {
     "data": {
      "image/png": "[encoded data removed]",
      "text/plain": [
       "<Figure size 504x360 with 1 Axes>"
      ]
     },
     "metadata": {
      "needs_background": "light"
     },
     "output_type": "display_data"
    }
   ],
   "source": [
    "import numpy as np\n",
    "import matplotlib.pyplot as plt\n",
    "\n",
    "X = 6 * np.random.rand(100, 1) - 3\n",
    "y = 0.5 * X ** 2 + X + 2 + np.random.randn(100,1)\n",
    "# np.random.randn(100,1) : 데이터에 노이즈를 추가\n",
    "# 없으면 정직한 2차 함수가 나온다.\n",
    "\n",
    "plt.figure(figsize=(7, 5))\n",
    "plt.scatter(X,y,color=\"blue\")"
   ]
  },
  {
   "cell_type": "markdown",
   "metadata": {},
   "source": []
  },
  {
   "cell_type": "markdown",
   "metadata": {},
   "source": [
    "- 비교를 위해 단순 선형 회귀를 실행한다."
   ]
  },
  {
   "cell_type": "code",
   "execution_count": 24,
   "metadata": {},
   "outputs": [
    {
     "data": {
      "text/plain": [
       "[<matplotlib.lines.Line2D at 0x1ba97f8fa00>]"
      ]
     },
     "execution_count": 24,
     "metadata": {},
     "output_type": "execute_result"
    },
    {
     "data": {
      "image/png": "[encoded data removed]",
      "text/plain": [
       "<Figure size 432x288 with 1 Axes>"
      ]
     },
     "metadata": {
      "needs_background": "light"
     },
     "output_type": "display_data"
    }
   ],
   "source": [
    "import sklearn.linear_model as lm\n",
    "\n",
    "X_test = np.arange(-3,3,0.01)[:, np.newaxis]\n",
    "\n",
    "X1_train = X\n",
    "y_train = y\n",
    "\n",
    "# 추정된 회귀모형 반환\n",
    "reg1 = lm.LinearRegression().fit(X1_train, y_train)\n",
    "\n",
    "X1_test = X_test\n",
    "y1_pred = reg1.predict(X1_test)\n",
    "\n",
    "plt.plot(X_test, y1_pred, color='red', linestyle='--')"
   ]
  },
  {
   "cell_type": "markdown",
   "metadata": {},
   "source": [
    "- 2차항 형태로 다항 회귀를 실행해 본다."
   ]
  },
  {
   "cell_type": "code",
   "execution_count": 25,
   "metadata": {},
   "outputs": [
    {
     "data": {
      "text/plain": [
       "[<matplotlib.lines.Line2D at 0x1ba984b3760>]"
      ]
     },
     "execution_count": 25,
     "metadata": {},
     "output_type": "execute_result"
    },
    {
     "data": {
      "image/png": "[encoded data removed]",
      "text/plain": [
       "<Figure size 432x288 with 1 Axes>"
      ]
     },
     "metadata": {
      "needs_background": "light"
     },
     "output_type": "display_data"
    }
   ],
   "source": [
    "import sklearn.linear_model as lm\n",
    "import sklearn.preprocessing as pp\n",
    "\n",
    "X_test = np.arange(-3,3,0.01)[:,np.newaxis]\n",
    "\n",
    "poly = pp.PolynomialFeatures(degree = 2)\n",
    "X2_train = poly.fit_transform(X)\n",
    "y_train = y\n",
    "\n",
    "reg2 = lm.LinearRegression().fit(X2_train, y_train)\n",
    "\n",
    "X2_test = poly.fit_transform(X_test)\n",
    "y2_pred = reg2.predict(X2_test)\n",
    "\n",
    "plt.plot(X_test, y2_pred, color = \"green\")"
   ]
  },
  {
   "cell_type": "code",
   "execution_count": 26,
   "metadata": {},
   "outputs": [
    {
     "data": {
      "text/plain": [
       "[<matplotlib.lines.Line2D at 0x1ba97ffefa0>]"
      ]
     },
     "execution_count": 26,
     "metadata": {},
     "output_type": "execute_result"
    },
    {
     "data": {
      "image/png": "[encoded data removed]",
      "text/plain": [
       "<Figure size 432x288 with 1 Axes>"
      ]
     },
     "metadata": {
      "needs_background": "light"
     },
     "output_type": "display_data"
    }
   ],
   "source": [
    "import sklearn.linear_model as lm\n",
    "import sklearn.preprocessing as pp\n",
    "\n",
    "X_test = np.arange(-3,3,0.01)[:,np.newaxis]\n",
    "\n",
    "poly = pp.PolynomialFeatures(degree = 7)\n",
    "X7_train = poly.fit_transform(X)\n",
    "y_train = y\n",
    "\n",
    "reg7 = lm.LinearRegression().fit(X7_train, y_train)\n",
    "\n",
    "X7_test = poly.fit_transform(X_test)\n",
    "y7_pred = reg7.predict(X7_test)\n",
    "\n",
    "plt.plot(X_test, y7_pred, color = \"magenta\", linestyle = \":\")"
   ]
  },
  {
   "cell_type": "markdown",
   "metadata": {},
   "source": [
    "- 전체적인 결과를 확인한다."
   ]
  },
  {
   "cell_type": "code",
   "execution_count": 27,
   "metadata": {},
   "outputs": [
    {
     "data": {
      "text/plain": [
       "[<matplotlib.lines.Line2D at 0x1ba983cb160>]"
      ]
     },
     "execution_count": 27,
     "metadata": {},
     "output_type": "execute_result"
    },
    {
     "data": {
      "image/png": "[encoded data removed]",
      "text/plain": [
       "<Figure size 432x288 with 1 Axes>"
      ]
     },
     "metadata": {
      "needs_background": "light"
     },
     "output_type": "display_data"
    }
   ],
   "source": [
    "plt.scatter(X,y,color=\"blue\")\n",
    "plt.plot(X_test, y1_pred, color='red', linestyle='--')\n",
    "plt.plot(X_test, y2_pred, color = \"green\")\n",
    "plt.plot(X_test, y7_pred, color = \"magenta\", linestyle = \":\")"
   ]
  },
  {
   "cell_type": "markdown",
   "metadata": {},
   "source": [
    "**차수가 높다고 무조건 정확한 예측값이 나오는 것이 아니다**"
   ]
  },
  {
   "cell_type": "code",
   "execution_count": null,
   "metadata": {},
   "outputs": [],
   "source": []
  },
  {
   "cell_type": "markdown",
   "metadata": {},
   "source": [
    "# 2. 실습"
   ]
  },
  {
   "cell_type": "code",
   "execution_count": 60,
   "metadata": {},
   "outputs": [],
   "source": [
    "import sklearn.datasets as d\n",
    "import sklearn.model_selection as ms\n",
    "import sklearn.linear_model as lm\n",
    "import sklearn.metrics as mt\n",
    "import sklearn.preprocessing as pp\n",
    "import pandas as pd\n",
    "import numpy as np\n",
    "import matplotlib.pyplot as plt\n",
    "%matplotlib inline"
   ]
  },
  {
   "cell_type": "markdown",
   "metadata": {},
   "source": [
    "## 2.1. 자료 생성"
   ]
  },
  {
   "cell_type": "code",
   "execution_count": 94,
   "metadata": {},
   "outputs": [],
   "source": [
    "# load -> boston과 diabetes가 회귀에 적합함 \n",
    "boston = d.load_boston()"
   ]
  },
  {
   "cell_type": "code",
   "execution_count": 96,
   "metadata": {
    "scrolled": true
   },
   "outputs": [
    {
     "name": "stdout",
     "output_type": "stream",
     "text": [
      ".. _boston_dataset:\n",
      "\n",
      "Boston house prices dataset\n",
      "---------------------------\n",
      "\n",
      "**Data Set Characteristics:**  \n",
      "\n",
      "    :Number of Instances: 506 \n",
      "\n",
      "    :Number of Attributes: 13 numeric/categorical predictive. Median Value (attribute 14) is usually the target.\n",
      "\n",
      "    :Attribute Information (in order):\n",
      "        - CRIM     per capita crime rate by town\n",
      "        - ZN       proportion of residential land zoned for lots over 25,000 sq.ft.\n",
      "        - INDUS    proportion of non-retail business acres per town\n",
      "        - CHAS     Charles River dummy variable (= 1 if tract bounds river; 0 otherwise)\n",
      "        - NOX      nitric oxides concentration (parts per 10 million)\n",
      "        - RM       average number of rooms per dwelling\n",
      "        - AGE      proportion of owner-occupied units built prior to 1940\n",
      "        - DIS      weighted distances to five Boston employment centres\n",
      "        - RAD      index of accessibility to radial highways\n",
      "        - TAX      full-value property-tax rate per $10,000\n",
      "        - PTRATIO  pupil-teacher ratio by town\n",
      "        - B        1000(Bk - 0.63)^2 where Bk is the proportion of blacks by town\n",
      "        - LSTAT    % lower status of the population\n",
      "        - MEDV     Median value of owner-occupied homes in $1000's\n",
      "\n",
      "    :Missing Attribute Values: None\n",
      "\n",
      "    :Creator: Harrison, D. and Rubinfeld, D.L.\n",
      "\n",
      "This is a copy of UCI ML housing dataset.\n",
      "https://archive.ics.uci.edu/ml/machine-learning-databases/housing/\n",
      "\n",
      "\n",
      "This dataset was taken from the StatLib library which is maintained at Carnegie Mellon University.\n",
      "\n",
      "The Boston house-price data of Harrison, D. and Rubinfeld, D.L. 'Hedonic\n",
      "prices and the demand for clean air', J. Environ. Economics & Management,\n",
      "vol.5, 81-102, 1978.   Used in Belsley, Kuh & Welsch, 'Regression diagnostics\n",
      "...', Wiley, 1980.   N.B. Various transformations are used in the table on\n",
      "pages 244-261 of the latter.\n",
      "\n",
      "The Boston house-price data has been used in many machine learning papers that address regression\n",
      "problems.   \n",
      "     \n",
      ".. topic:: References\n",
      "\n",
      "   - Belsley, Kuh & Welsch, 'Regression diagnostics: Identifying Influential Data and Sources of Collinearity', Wiley, 1980. 244-261.\n",
      "   - Quinlan,R. (1993). Combining Instance-Based and Model-Based Learning. In Proceedings on the Tenth International Conference of Machine Learning, 236-243, University of Massachusetts, Amherst. Morgan Kaufmann.\n",
      "\n"
     ]
    }
   ],
   "source": [
    "print(boston.DESCR)"
   ]
  },
  {
   "cell_type": "code",
   "execution_count": 62,
   "metadata": {},
   "outputs": [],
   "source": [
    "X = boston.data[:, 5][:, np.newaxis]\n",
    "y = boston.target"
   ]
  },
  {
   "cell_type": "code",
   "execution_count": 63,
   "metadata": {},
   "outputs": [],
   "source": [
    "X_train, X_test, y_train, y_test = ms.train_test_split(X, y, test_size = 0.3, random_state = 1)"
   ]
  },
  {
   "cell_type": "code",
   "execution_count": 64,
   "metadata": {},
   "outputs": [
    {
     "data": {
      "text/plain": [
       "array([2.561     , 2.70832653, 2.85565306, 3.00297959, 3.15030612,\n",
       "       3.29763265, 3.44495918, 3.59228571, 3.73961224, 3.88693878,\n",
       "       4.03426531, 4.18159184, 4.32891837, 4.4762449 , 4.62357143,\n",
       "       4.77089796, 4.91822449, 5.06555102, 5.21287755, 5.36020408,\n",
       "       5.50753061, 5.65485714, 5.80218367, 5.9495102 , 6.09683673,\n",
       "       6.24416327, 6.3914898 , 6.53881633, 6.68614286, 6.83346939,\n",
       "       6.98079592, 7.12812245, 7.27544898, 7.42277551, 7.57010204,\n",
       "       7.71742857, 7.8647551 , 8.01208163, 8.15940816, 8.30673469,\n",
       "       8.45406122, 8.60138776, 8.74871429, 8.89604082, 9.04336735,\n",
       "       9.19069388, 9.33802041, 9.48534694, 9.63267347, 9.78      ])"
      ]
     },
     "execution_count": 64,
     "metadata": {},
     "output_type": "execute_result"
    }
   ],
   "source": [
    "# X좌표값 생성\n",
    "\n",
    "# xx = np.linspace(min, max)\n",
    "# X.max(), X.min()\n",
    "# numpy.linspace(시작점, 끝점, 개수(default : 50)) : linear space를 만드는 함수\n",
    "xx = np.linspace(X.min()-1 , X.max()+1)   # 전체를 커버하기 위해 +1\n",
    "xx\n",
    "# Python 배열은 homogeneous"
   ]
  },
  {
   "cell_type": "code",
   "execution_count": 65,
   "metadata": {},
   "outputs": [],
   "source": [
    "xx = np.linspace(X.min()-1 , X.max()+1)[:, np.newaxis]  # 50행 1열 짜리 배열"
   ]
  },
  {
   "cell_type": "code",
   "execution_count": 66,
   "metadata": {},
   "outputs": [],
   "source": [
    "# 선형모델 생성\n",
    "lr = lm.LinearRegression()"
   ]
  },
  {
   "cell_type": "markdown",
   "metadata": {},
   "source": [
    "## 2.2. 단순 선형 회귀"
   ]
  },
  {
   "cell_type": "code",
   "execution_count": 67,
   "metadata": {},
   "outputs": [],
   "source": [
    "# 1. 단순 선형 회귀\n",
    "reg1 = lr.fit(X_train, y_train)\n",
    "y_pred1 = reg1.predict(X_test)\n",
    "\n",
    "r2_score1 = mt.r2_score(y_test, y_pred1)\n",
    "\n",
    "yy1 = reg1.predict(xx)\n",
    "\n",
    "#plt.plot(xx, yy1)"
   ]
  },
  {
   "cell_type": "markdown",
   "metadata": {},
   "source": [
    "## 2.3. 2차 다항 회귀"
   ]
  },
  {
   "cell_type": "code",
   "execution_count": 68,
   "metadata": {},
   "outputs": [],
   "source": [
    "# 2. 2차 다항 회귀\n",
    "# 전처리를 통해 특성을 부풀릴 필요가 있음\n",
    "\n",
    "###\n",
    "quad = pp.PolynomialFeatures(degree = 2)  # degree default = 2\n",
    "X_train2 = quad.fit_transform(X_train)\n",
    "###\n",
    "\n",
    "reg2 = lr.fit(X_train2, y_train)\n",
    "\n",
    "###\n",
    "X_test2 = quad.fit_transform(X_test)\n",
    "###\n",
    "\n",
    "y_pred2 = reg2.predict(X_test2)\n",
    "\n",
    "r2_score2 = mt.r2_score(y_test, y_pred2)\n",
    "\n",
    "###\n",
    "xx2 = quad.fit_transform(xx)\n",
    "###\n",
    "\n",
    "yy2 = reg1.predict(xx2)"
   ]
  },
  {
   "cell_type": "markdown",
   "metadata": {},
   "source": [
    "## 2.4. 3차 다항 회귀"
   ]
  },
  {
   "cell_type": "code",
   "execution_count": 69,
   "metadata": {},
   "outputs": [],
   "source": [
    "# 3. 3차 다항 회귀\n",
    "\n",
    "###\n",
    "cubic = pp.PolynomialFeatures(degree = 3)\n",
    "X_train3 = cubic.fit_transform(X_train)\n",
    "###\n",
    "\n",
    "reg3 = lr.fit(X_train3, y_train)\n",
    "\n",
    "###\n",
    "X_test3 = cubic.fit_transform(X_test)\n",
    "###\n",
    "\n",
    "y_pred3 = reg3.predict(X_test3)\n",
    "\n",
    "r2_score3 = mt.r2_score(y_test, y_pred3)\n",
    "\n",
    "###\n",
    "xx3 = cubic.fit_transform(xx)\n",
    "###\n",
    "\n",
    "yy3 = reg1.predict(xx3)"
   ]
  },
  {
   "cell_type": "markdown",
   "metadata": {},
   "source": [
    "## 2.5. 결정계수 비교"
   ]
  },
  {
   "cell_type": "code",
   "execution_count": 98,
   "metadata": {
    "scrolled": true
   },
   "outputs": [
    {
     "name": "stdout",
     "output_type": "stream",
     "text": [
      "단순 선형 회귀 : 0.6015774471545621\n",
      " 2차 선형 회귀 : 0.6670629868010137\n",
      " 3차 선형 회귀 : 0.6667764542233331\n"
     ]
    }
   ],
   "source": [
    "print(\"단순 선형 회귀 :\",r2_score1)\n",
    "print(\" 2차 선형 회귀 :\",r2_score2)\n",
    "print(\" 3차 선형 회귀 :\",r2_score3)"
   ]
  },
  {
   "cell_type": "markdown",
   "metadata": {},
   "source": [
    "## 2.6. 결과"
   ]
  },
  {
   "cell_type": "code",
   "execution_count": 91,
   "metadata": {},
   "outputs": [
    {
     "data": {
      "text/plain": [
       "<matplotlib.legend.Legend at 0x1ba9a6533d0>"
      ]
     },
     "execution_count": 91,
     "metadata": {},
     "output_type": "execute_result"
    },
    {
     "data": {
      "image/png": "[encoded data removed]",
      "text/plain": [
       "<Figure size 432x288 with 1 Axes>"
      ]
     },
     "metadata": {
      "needs_background": "light"
     },
     "output_type": "display_data"
    }
   ],
   "source": [
    "# Y축 - 집 가격\n",
    "# X축 - 방의 수\n",
    "\n",
    "plt.scatter(X, y, label = 'data')\n",
    "plt.plot(xx, yy1, color = 'red', linestyle='--', label = 'linear')\n",
    "plt.plot(xx, yy2, color = 'green', label = 'quad')\n",
    "plt.plot(xx, yy3, color = 'magenta', linestyle = ':', label = 'cubic')\n",
    "plt.legend()"
   ]
  },
  {
   "cell_type": "markdown",
   "metadata": {},
   "source": [
    "- **1차는 분산된 데이터를 커버를 하지 못한다.**   \n",
    "- **결정계수에 따르면 2차가 3차보다 좋다**"
   ]
  },
  {
   "cell_type": "code",
   "execution_count": 1,
   "metadata": {},
   "outputs": [
    {
     "data": {
      "application/javascript": [
       "$.getScript('https://kmahelona.github.io/ipython_notebook_goodies/ipython_notebook_toc.js')\n"
      ],
      "text/plain": [
       "<IPython.core.display.Javascript object>"
      ]
     },
     "metadata": {},
     "output_type": "display_data"
    }
   ],
   "source": [
    "%%javascript\n",
    "$.getScript('https://kmahelona.github.io/ipython_notebook_goodies/ipython_notebook_toc.js')"
   ]
  }
 ],
 "metadata": {
  "kernelspec": {
   "display_name": "Python 3.8.3 64-bit",
   "language": "python",
   "name": "python38364bitc7d172dfbcaf4c84b1b0b3dca7174a39"
  },
  "language_info": {
   "codemirror_mode": {
    "name": "ipython",
    "version": 3
   },
   "file_extension": ".py",
   "mimetype": "text/x-python",
   "name": "python",
   "nbconvert_exporter": "python",
   "pygments_lexer": "ipython3",
   "version": "3.8.3"
  }
 },
 "nbformat": 4,
 "nbformat_minor": 4
}
