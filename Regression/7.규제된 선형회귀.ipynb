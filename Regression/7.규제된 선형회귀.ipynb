{
 "cells": [
  {
   "cell_type": "markdown",
   "metadata": {},
   "source": [
    "7.규제된 선형회귀"
   ]
  },
  {
   "cell_type": "markdown",
   "metadata": {},
   "source": [
    "Contents\n",
    "<div id=\"toc\"></div>"
   ]
  },
  {
   "cell_type": "markdown",
   "metadata": {},
   "source": [
    "# 1. Review"
   ]
  },
  {
   "cell_type": "markdown",
   "metadata": {},
   "source": [
    "## 1.1. 교차검증"
   ]
  },
  {
   "cell_type": "code",
   "execution_count": 2,
   "metadata": {},
   "outputs": [],
   "source": [
    "import sklearn.datasets as d\n",
    "import sklearn.preprocessing as pp\n",
    "import sklearn.model_selection as ms\n",
    "import sklearn.linear_model as lm\n",
    "import sklearn.metrics as mt\n",
    "import pandas as pd\n",
    "import numpy as np"
   ]
  },
  {
   "cell_type": "code",
   "execution_count": 3,
   "metadata": {},
   "outputs": [
    {
     "name": "stdout",
     "output_type": "stream",
     "text": [
      "[0.66875949 0.7342547  0.70986601 0.77595168 0.68727731]\n"
     ]
    }
   ],
   "source": [
    "boston = d.load_boston()\n",
    "\n",
    "X = boston.data\n",
    "y = boston.target\n",
    "\n",
    "lr = lm.LinearRegression()\n",
    "\n",
    "k = ms.KFold(5, shuffle = True, random_state = 42)\n",
    "r2_scores= ms.cross_val_score(lr, X, y, cv = k)\n",
    "\n",
    "print(r2_scores)"
   ]
  },
  {
   "cell_type": "markdown",
   "metadata": {},
   "source": [
    "# 2. 규제 선형 회귀"
   ]
  },
  {
   "cell_type": "markdown",
   "metadata": {},
   "source": [
    "- **회귀 모형과 회귀 계수**\n",
    "    - 지금까지의 선형 회귀 모형은 비용 함수 RSS를 최소화 하는 데에 초점을 맞추었다.\n",
    "    - 이에 따라서 훈련 데이터에는 지나치게 잘 맞고 회귀 계수가 커지게 되어, <br>검증 데이터에서는 올바르게 예측을 하지 못할 수 있다. (과대적합)\n",
    "    - 따라서 비용 함수는 RSS를 최소화 하면서도 **회귀 계수 값이 너무 커지지 않도록** 균형을 이룰 필요가 있다.\n",
    "    - 즉, 비용 함수의 목표는 다음과 같이 수정된다.   \n",
    "\n",
    "      ![image.png](img/ch7_0.png)                          \n",
    "                      -> RSS : OLS, SGD  \n",
    "                      -> (1-a) * RSS + a * f(w) (0 < a < 1)  \n",
    "    (이 때, f(w)는 회귀 계수에 대한 함수, 즉 추가 제약 조건이고,<br>α는 RSS(w)와 f(w)의 비중을 조정하는 매개변수이다.)"
   ]
  },
  {
   "attachments": {},
   "cell_type": "markdown",
   "metadata": {},
   "source": [
    "- 매개변수 **α의 값에 따라서** 잔차제곱합 RSS와 회귀 계수에 대한 추가 제약 조건 f(w)의 비중이 달라진다.\n",
    "    ![image.png](img/ch7_0.png)\n",
    "\n",
    "\n",
    "- <span class=\"mark\">α가 0이라면</span>, 비용 함수는 기존과 동일하게 RSS 값으로 적용된다. 이 때의 목표는 결국 <span class=\"mark\">RSS 값을 최소화</span> 시키는 것이다.\n",
    "- <span class=\"mark\">α가 매우 큰 값이라면</span>, 상대적으로 RSS 값은 의미가 없고 f(w)의 값이 비용 함수의 대부분을 차지한다. 이 때의 목표는 이 <span class=\"mark\">f(w)의 값을 최소화</span> 시키는 것이다.\n"
   ]
  },
  {
   "cell_type": "markdown",
   "metadata": {},
   "source": [
    "## 2.1. 규제 (Regularization)"
   ]
  },
  {
   "cell_type": "markdown",
   "metadata": {},
   "source": [
    "- 결과적으로, α의 값을 0부터 차츰 증가시키면 회귀 계수 w값의 크기를 감소시킬 수 있다.\n",
    "- 이렇게 회귀 계수 값의 크기를 감소시켜서 과대적합 문제를 개선하여 학습하는 것을 규제라고 하며, 크게 L1 규제와 L2 규제로 구분한다.\n",
    "    - L1 규제 : f(w)가 회귀 계수 w들의 절대값들의 합이다.\n",
    "    - L2 규제 : f(w)가 회귀 계수 w들의 제곱합이다."
   ]
  },
  {
   "cell_type": "markdown",
   "metadata": {},
   "source": [
    "## 2.2. 릿지 회귀 (Ridge Regression)"
   ]
  },
  {
   "attachments": {},
   "cell_type": "markdown",
   "metadata": {},
   "source": [
    "- L2 규제를 적용한 회귀를 릿지 회귀라고 한다.\n",
    "\n",
    "![image.png](img/ch7_1.png)\n",
    "\n",
    "- α가 0이라면, 비용 함수는 기존과 동일하게 RSS 값으로 적용된다. 따라서 기본적인 선형 회귀와 같아진다.\n",
    "- α가 매우 큰 값이라면, 회귀 계수들의 제곱합이 최소화되어야 하므로 회귀 계수들이 거의 0에 근접한다. <br>따라서 회귀 모형은 데이터의 평균을 지나가는 수평선이 된다."
   ]
  },
  {
   "cell_type": "markdown",
   "metadata": {},
   "source": [
    "### 2.2.1. 사이킷런으로 릿지 회귀 수행"
   ]
  },
  {
   "cell_type": "markdown",
   "metadata": {},
   "source": [
    "1. linear_model 모듈에 있는 Ridge를 이용하여 릿지 회귀를 수행한다.\n",
    "    - 매개변수 alpha는 L2 규제 계수인 α 값이다.\n",
    "    ```python\n",
    "    import sklearn.linear_model as lm\n",
    "\n",
    "    ridge = lm.Ridge(alpha = 0.01)\n",
    "    reg = ridge.fit(X_train, y_train)\n",
    "    ```\n",
    "    \n",
    "    - alpha를 0으로 지정해서 수행하면, LinearRegression 을 이용한 일반적인 선형 회귀와 동일한 결과가 나오는 것을 확인할 수 있다.\n",
    "    - alpha를 증가시키면, 회귀 계수의 값들이 점차 작아져서 0에 가까워지는 것을 확인할 수 있다."
   ]
  },
  {
   "cell_type": "markdown",
   "metadata": {},
   "source": [
    "2. 당뇨병 진단 데이터에 대해 alpha를 0.01로 설정한 경우\n",
    "\n",
    "    ```python\n",
    "        diab = d.load_diabetes()\n",
    "        X_train, X_test, y_train, y_test = \\\n",
    "        ms.train_test_split(diab.data, diab.target, \\\n",
    "                            test_size=0.3, random_state=78)\n",
    "        \n",
    "        ridge = lm.Ridge(alpha = 0.01)\n",
    "        reg = ridge.fit(X_train, y_train)\n",
    "\n",
    "        y_pred = reg.predict(X_test)\n",
    "    ```"
   ]
  },
  {
   "cell_type": "markdown",
   "metadata": {},
   "source": [
    "3. 당뇨병 진단 데이터에 대해 alpha를 0.01로 설정한 결과"
   ]
  },
  {
   "attachments": {},
   "cell_type": "markdown",
   "metadata": {},
   "source": [
    "![image.png](img/ch7_2.png)"
   ]
  },
  {
   "cell_type": "markdown",
   "metadata": {},
   "source": [
    "4. 당뇨병 진단 데이터에 대해 여러 alpha 값들로 수행한 결과 (훈련 및 검증 데이터를 분리하지 않고 원본 데이터 전체를 학습에 사용하였다.)\n"
   ]
  },
  {
   "attachments": {},
   "cell_type": "markdown",
   "metadata": {},
   "source": [
    "![image.png](img/ch7_3.png)"
   ]
  },
  {
   "cell_type": "code",
   "execution_count": 5,
   "metadata": {},
   "outputs": [],
   "source": [
    "import sklearn.datasets as d\n",
    "import sklearn.preprocessing as pp\n",
    "import sklearn.model_selection as ms\n",
    "import sklearn.linear_model as lm\n",
    "import sklearn.metrics as mt\n",
    "import pandas as pd\n",
    "import numpy as np\n",
    "import matplotlib.pyplot as plt"
   ]
  },
  {
   "cell_type": "code",
   "execution_count": 6,
   "metadata": {},
   "outputs": [],
   "source": [
    "diab = d.load_diabetes()\n",
    "X_train, X_test, y_train, y_test = \\\n",
    "ms.train_test_split(diab.data, diab.target, \\\n",
    "                 test_size=0.3, random_state=78)\n",
    "ridge = lm.Ridge(alpha = 0.01)\n",
    "reg = ridge.fit(X_train, y_train)\n",
    "\n",
    "y_pred = reg.predict(X_test)\n",
    "\n",
    "r2 = mt.r2_score(y_test, y_pred)"
   ]
  },
  {
   "cell_type": "code",
   "execution_count": 11,
   "metadata": {},
   "outputs": [],
   "source": [
    "n = X_train.shape[0]\n",
    "k = X_train.shape[1]\n",
    "\n",
    "adj_r2 = 1 - ((1-r2)*(n-1) / (n-k-1))"
   ]
  },
  {
   "cell_type": "code",
   "execution_count": 12,
   "metadata": {},
   "outputs": [
    {
     "name": "stdout",
     "output_type": "stream",
     "text": [
      "R2 : 0.5126648996637303\n",
      "수정R2 : 0.4963113728068085\n"
     ]
    }
   ],
   "source": [
    "print(\"R2 :\",r2)\n",
    "print(\"수정R2 :\",adj_r2)"
   ]
  },
  {
   "cell_type": "code",
   "execution_count": 13,
   "metadata": {},
   "outputs": [
    {
     "data": {
      "text/plain": [
       "s5     735.286\n",
       "bmi    450.733\n",
       "bp     367.440\n",
       "s2     239.094\n",
       "s6      60.548\n",
       "s4     -23.619\n",
       "age    -29.339\n",
       "s3     -95.215\n",
       "sex   -179.510\n",
       "s1    -436.699\n",
       "dtype: float64"
      ]
     },
     "execution_count": 13,
     "metadata": {},
     "output_type": "execute_result"
    }
   ],
   "source": [
    "coefs = pd.Series(np.round(reg.coef_,3), index = diab.feature_names)\n",
    "coefs.sort_values(ascending = False)"
   ]
  },
  {
   "cell_type": "code",
   "execution_count": 16,
   "metadata": {},
   "outputs": [
    {
     "data": {
      "text/plain": [
       "<matplotlib.collections.PathCollection at 0x2bdbbe177c0>"
      ]
     },
     "execution_count": 16,
     "metadata": {},
     "output_type": "execute_result"
    },
    {
     "data": {
      "image/png": "[encoded data removed]",
      "text/plain": [
       "<Figure size 432x288 with 1 Axes>"
      ]
     },
     "metadata": {
      "needs_background": "light"
     },
     "output_type": "display_data"
    }
   ],
   "source": [
    "#plt.figure(figsize = (4, 4))\n",
    "plt.scatter(y_test, y_pred, color = 'red')"
   ]
  },
  {
   "cell_type": "code",
   "execution_count": 19,
   "metadata": {},
   "outputs": [
    {
     "data": {
      "text/html": [
       "<div>\n",
       "<style scoped>\n",
       "    .dataframe tbody tr th:only-of-type {\n",
       "        vertical-align: middle;\n",
       "    }\n",
       "\n",
       "    .dataframe tbody tr th {\n",
       "        vertical-align: top;\n",
       "    }\n",
       "\n",
       "    .dataframe thead th {\n",
       "        text-align: right;\n",
       "    }\n",
       "</style>\n",
       "<table border=\"1\" class=\"dataframe\">\n",
       "  <thead>\n",
       "    <tr style=\"text-align: right;\">\n",
       "      <th></th>\n",
       "      <th>alpha = 0</th>\n",
       "      <th>alpha = 0.01</th>\n",
       "      <th>alpha = 1</th>\n",
       "      <th>alpha = 10</th>\n",
       "      <th>alpha = 100</th>\n",
       "    </tr>\n",
       "  </thead>\n",
       "  <tbody>\n",
       "    <tr>\n",
       "      <th>AGE</th>\n",
       "      <td>-10.012</td>\n",
       "      <td>-7.199</td>\n",
       "      <td>29.466</td>\n",
       "      <td>19.813</td>\n",
       "      <td>2.897</td>\n",
       "    </tr>\n",
       "    <tr>\n",
       "      <th>SEX</th>\n",
       "      <td>-239.819</td>\n",
       "      <td>-234.553</td>\n",
       "      <td>-83.155</td>\n",
       "      <td>-0.918</td>\n",
       "      <td>0.585</td>\n",
       "    </tr>\n",
       "    <tr>\n",
       "      <th>BMI</th>\n",
       "      <td>519.840</td>\n",
       "      <td>520.583</td>\n",
       "      <td>306.352</td>\n",
       "      <td>75.416</td>\n",
       "      <td>9.241</td>\n",
       "    </tr>\n",
       "    <tr>\n",
       "      <th>BP</th>\n",
       "      <td>324.390</td>\n",
       "      <td>320.523</td>\n",
       "      <td>201.629</td>\n",
       "      <td>55.025</td>\n",
       "      <td>6.931</td>\n",
       "    </tr>\n",
       "    <tr>\n",
       "      <th>S1</th>\n",
       "      <td>-792.184</td>\n",
       "      <td>-380.607</td>\n",
       "      <td>5.909</td>\n",
       "      <td>19.925</td>\n",
       "      <td>3.231</td>\n",
       "    </tr>\n",
       "    <tr>\n",
       "      <th>S2</th>\n",
       "      <td>476.746</td>\n",
       "      <td>150.484</td>\n",
       "      <td>-29.516</td>\n",
       "      <td>13.949</td>\n",
       "      <td>2.617</td>\n",
       "    </tr>\n",
       "    <tr>\n",
       "      <th>S3</th>\n",
       "      <td>101.045</td>\n",
       "      <td>-78.591</td>\n",
       "      <td>-152.040</td>\n",
       "      <td>-47.554</td>\n",
       "      <td>-6.175</td>\n",
       "    </tr>\n",
       "    <tr>\n",
       "      <th>S4</th>\n",
       "      <td>177.064</td>\n",
       "      <td>130.313</td>\n",
       "      <td>117.312</td>\n",
       "      <td>48.259</td>\n",
       "      <td>6.678</td>\n",
       "    </tr>\n",
       "    <tr>\n",
       "      <th>S5</th>\n",
       "      <td>751.279</td>\n",
       "      <td>592.350</td>\n",
       "      <td>262.945</td>\n",
       "      <td>70.144</td>\n",
       "      <td>8.877</td>\n",
       "    </tr>\n",
       "    <tr>\n",
       "      <th>S6</th>\n",
       "      <td>67.625</td>\n",
       "      <td>71.134</td>\n",
       "      <td>111.879</td>\n",
       "      <td>44.214</td>\n",
       "      <td>5.956</td>\n",
       "    </tr>\n",
       "    <tr>\n",
       "      <th>INTERCEPT</th>\n",
       "      <td>152.133</td>\n",
       "      <td>152.133</td>\n",
       "      <td>152.133</td>\n",
       "      <td>152.133</td>\n",
       "      <td>152.133</td>\n",
       "    </tr>\n",
       "  </tbody>\n",
       "</table>\n",
       "</div>"
      ],
      "text/plain": [
       "           alpha = 0  alpha = 0.01  alpha = 1  alpha = 10  alpha = 100\n",
       "AGE          -10.012        -7.199     29.466      19.813        2.897\n",
       "SEX         -239.819      -234.553    -83.155      -0.918        0.585\n",
       "BMI          519.840       520.583    306.352      75.416        9.241\n",
       "BP           324.390       320.523    201.629      55.025        6.931\n",
       "S1          -792.184      -380.607      5.909      19.925        3.231\n",
       "S2           476.746       150.484    -29.516      13.949        2.617\n",
       "S3           101.045       -78.591   -152.040     -47.554       -6.175\n",
       "S4           177.064       130.313    117.312      48.259        6.678\n",
       "S5           751.279       592.350    262.945      70.144        8.877\n",
       "S6            67.625        71.134    111.879      44.214        5.956\n",
       "INTERCEPT    152.133       152.133    152.133     152.133      152.133"
      ]
     },
     "execution_count": 19,
     "metadata": {},
     "output_type": "execute_result"
    }
   ],
   "source": [
    "# w의 계수가 작아짐으로 분산이 줄어들어 과대적합이 줄어듬\n",
    "# 회귀계수가 커지는 것은 좋은 것이 아니다.\n",
    "\n",
    "\n",
    "diab = d.load_diabetes()\n",
    "\n",
    "X = diab.data\n",
    "y = diab.target\n",
    "\n",
    "# 학습준비\n",
    "# 학습\n",
    "# 예측\n",
    "# 평가\n",
    "\n",
    "alphas = [0, 0.01, 1, 10, 100]\n",
    "df = pd.DataFrame()\n",
    "\n",
    "# for a in alphas:\n",
    "#     rg = lm.Ridge(alpha = a).fit(X, y)\n",
    "#     c = pd.Series(np.round(rg.coef_, 3), index = [col.upper() for col in diab.feature_names])\n",
    "#     cname = \"alpha = \" + str(a)\n",
    "#     df[cname] = c\n",
    "\n",
    "# intercept 추가\n",
    "for a in alphas:\n",
    "    rg = lm.Ridge(alpha = a).fit(X, y)\n",
    "    c = pd.Series(np.hstack((np.round(rg.coef_, 3),np.round(rg.intercept_,3))), \\\n",
    "                  index = [col.upper() for col in diab.feature_names] + [\"INTERCEPT\"])\n",
    "    cname = \"alpha = \" + str(a)\n",
    "    df[cname] = c\n",
    "    \n",
    "df"
   ]
  },
  {
   "cell_type": "markdown",
   "metadata": {},
   "source": [
    "## 2.3. 라쏘 회귀 (Lasso Regression)"
   ]
  },
  {
   "attachments": {},
   "cell_type": "markdown",
   "metadata": {},
   "source": [
    "- L1 규제를 적용한 회귀를 라쏘 회귀라고 한다.\n",
    "![image.png](img/ch7_4.png)\n",
    "\n",
    "- L1 규제는 불필요한 회귀 계수를 가급적 0으로 만들어 제거하려는 특징이 있다. 따라서 결과적으로는 적절한 특성들만 회귀 모형에 포함시키게 된다."
   ]
  },
  {
   "attachments": {},
   "cell_type": "markdown",
   "metadata": {},
   "source": [
    "### 2.3.1. 사이킷런으로 라쏘 회귀 수행"
   ]
  },
  {
   "cell_type": "markdown",
   "metadata": {},
   "source": [
    "1. linear_model 모듈에 있는 Lasso를 이용하여 라쏘 회귀를 수행한다.\n",
    "    - 매개변수 alpha는 L1 규제 계수인 α 값이다\n",
    "    \n",
    "    ```python\n",
    "    import sklearn.linear_model as lm\n",
    "    \n",
    "    lasso = lm.Lasso(alpha = 0.01)\n",
    "    reg = lasso.fit(X_train, y_train)\n",
    "    ```\n",
    "    \n",
    "    - alpha를 0으로 지정해서 수행하면, LinearRegression 을 이용한 일반적인 선형 회귀와 동일한 결과가 나오는 것을 확인할 수 있다.\n",
    "    - alpha를 증가시키면, 회귀 계수의 값들이 급격하게 0에 수렴하는 것을 확인할 수 있다"
   ]
  },
  {
   "cell_type": "markdown",
   "metadata": {},
   "source": [
    "2. 당뇨병 진단 데이터에 대해 alpha를 0.01로 설정한 경우\n",
    "\n",
    "```python\n",
    "    diab = d.load_diabetes()\n",
    "    X_train, X_test, y_train, y_test = \\\n",
    "    ms.train_test_split(diab.data, diab.target, \\\n",
    "                     test_size=0.3, random_state=78)\n",
    "\n",
    "    lasso = lm.Lasso(alpha = 0.01)\n",
    "    reg = lasso.fit(X_train, y_train)\n",
    "\n",
    "    y_pred = reg.predict(X_test)\n",
    "```"
   ]
  },
  {
   "cell_type": "markdown",
   "metadata": {},
   "source": [
    "3. 당뇨병 진단 데이터에 대해 alpha를 0.01로 설정한 결과"
   ]
  },
  {
   "attachments": {},
   "cell_type": "markdown",
   "metadata": {},
   "source": [
    "![image.png](img/ch7_5.png)"
   ]
  },
  {
   "cell_type": "markdown",
   "metadata": {},
   "source": [
    "4. 당뇨병 진단 데이터에 대해 여러 alpha 값들로 수행한 결과 (훈련 및 검증 데이터를 분리하지 않고 원본 데이터 전체를 학습에 사용하였다.)"
   ]
  },
  {
   "attachments": {},
   "cell_type": "markdown",
   "metadata": {},
   "source": [
    "![image.png](img/ch7_6.png)"
   ]
  },
  {
   "cell_type": "code",
   "execution_count": 20,
   "metadata": {},
   "outputs": [
    {
     "name": "stdout",
     "output_type": "stream",
     "text": [
      "R2 : 0.5088520367941951\n",
      "수정R2 : 0.4923705615188325\n"
     ]
    },
    {
     "data": {
      "text/plain": [
       "<matplotlib.collections.PathCollection at 0x2bdbbeac640>"
      ]
     },
     "execution_count": 20,
     "metadata": {},
     "output_type": "execute_result"
    },
    {
     "data": {
      "image/png": "[encoded data removed]",
      "text/plain": [
       "<Figure size 432x288 with 1 Axes>"
      ]
     },
     "metadata": {
      "needs_background": "light"
     },
     "output_type": "display_data"
    }
   ],
   "source": [
    "diab = d.load_diabetes()\n",
    "X_train, X_test, y_train, y_test = \\\n",
    "ms.train_test_split(diab.data, diab.target, \\\n",
    "                 test_size=0.3, random_state=78)\n",
    "lasso = lm.Lasso(alpha = 0.01)\n",
    "reg = lasso.fit(X_train, y_train)\n",
    "\n",
    "y_pred = reg.predict(X_test)\n",
    "\n",
    "r2 = mt.r2_score(y_test, y_pred)\n",
    "\n",
    "n = X_train.shape[0]\n",
    "k = X_train.shape[1]\n",
    "\n",
    "adj_r2 = 1 - ((1-r2)*(n-1) / (n-k-1))\n",
    "\n",
    "print(\"R2 :\",r2)\n",
    "print(\"수정R2 :\",adj_r2)\n",
    "\n",
    "coefs = pd.Series(np.round(reg.coef_,3), index = diab.feature_names)\n",
    "coefs.sort_values(ascending = False)\n",
    "\n",
    "#plt.figure(figsize = (4, 4))\n",
    "plt.scatter(y_test, y_pred, color = 'red')"
   ]
  },
  {
   "cell_type": "code",
   "execution_count": 22,
   "metadata": {},
   "outputs": [
    {
     "name": "stderr",
     "output_type": "stream",
     "text": [
      "<ipython-input-22-d620f14aff35>:10: UserWarning: With alpha=0, this algorithm does not converge well. You are advised to use the LinearRegression estimator\n",
      "  ls = lm.Lasso(alpha = a).fit(X, y)\n",
      "C:\\Users\\ryzen\\AppData\\Local\\Programs\\Python\\Python38\\lib\\site-packages\\sklearn\\linear_model\\_coordinate_descent.py:529: UserWarning: Coordinate descent with no regularization may lead to unexpected results and is discouraged.\n",
      "  model = cd_fast.enet_coordinate_descent(\n",
      "C:\\Users\\ryzen\\AppData\\Local\\Programs\\Python\\Python38\\lib\\site-packages\\sklearn\\linear_model\\_coordinate_descent.py:529: ConvergenceWarning: Objective did not converge. You might want to increase the number of iterations. Duality gap: 631991.5781277422, tolerance: 262.1009124434389\n",
      "  model = cd_fast.enet_coordinate_descent(\n"
     ]
    },
    {
     "data": {
      "text/html": [
       "<div>\n",
       "<style scoped>\n",
       "    .dataframe tbody tr th:only-of-type {\n",
       "        vertical-align: middle;\n",
       "    }\n",
       "\n",
       "    .dataframe tbody tr th {\n",
       "        vertical-align: top;\n",
       "    }\n",
       "\n",
       "    .dataframe thead th {\n",
       "        text-align: right;\n",
       "    }\n",
       "</style>\n",
       "<table border=\"1\" class=\"dataframe\">\n",
       "  <thead>\n",
       "    <tr style=\"text-align: right;\">\n",
       "      <th></th>\n",
       "      <th>alpha = 0</th>\n",
       "      <th>alpha = 0.01</th>\n",
       "      <th>alpha = 1</th>\n",
       "      <th>alpha = 10</th>\n",
       "      <th>alpha = 100</th>\n",
       "    </tr>\n",
       "  </thead>\n",
       "  <tbody>\n",
       "    <tr>\n",
       "      <th>AGE</th>\n",
       "      <td>-10.012</td>\n",
       "      <td>-1.307</td>\n",
       "      <td>0.000</td>\n",
       "      <td>0.000</td>\n",
       "      <td>0.000</td>\n",
       "    </tr>\n",
       "    <tr>\n",
       "      <th>SEX</th>\n",
       "      <td>-239.819</td>\n",
       "      <td>-228.822</td>\n",
       "      <td>-0.000</td>\n",
       "      <td>0.000</td>\n",
       "      <td>0.000</td>\n",
       "    </tr>\n",
       "    <tr>\n",
       "      <th>BMI</th>\n",
       "      <td>519.840</td>\n",
       "      <td>525.561</td>\n",
       "      <td>367.702</td>\n",
       "      <td>0.000</td>\n",
       "      <td>0.000</td>\n",
       "    </tr>\n",
       "    <tr>\n",
       "      <th>BP</th>\n",
       "      <td>324.390</td>\n",
       "      <td>316.175</td>\n",
       "      <td>6.302</td>\n",
       "      <td>0.000</td>\n",
       "      <td>0.000</td>\n",
       "    </tr>\n",
       "    <tr>\n",
       "      <th>S1</th>\n",
       "      <td>-792.184</td>\n",
       "      <td>-307.014</td>\n",
       "      <td>0.000</td>\n",
       "      <td>0.000</td>\n",
       "      <td>0.000</td>\n",
       "    </tr>\n",
       "    <tr>\n",
       "      <th>S2</th>\n",
       "      <td>476.746</td>\n",
       "      <td>89.322</td>\n",
       "      <td>0.000</td>\n",
       "      <td>0.000</td>\n",
       "      <td>0.000</td>\n",
       "    </tr>\n",
       "    <tr>\n",
       "      <th>S3</th>\n",
       "      <td>101.045</td>\n",
       "      <td>-105.081</td>\n",
       "      <td>-0.000</td>\n",
       "      <td>-0.000</td>\n",
       "      <td>-0.000</td>\n",
       "    </tr>\n",
       "    <tr>\n",
       "      <th>S4</th>\n",
       "      <td>177.064</td>\n",
       "      <td>119.598</td>\n",
       "      <td>0.000</td>\n",
       "      <td>0.000</td>\n",
       "      <td>0.000</td>\n",
       "    </tr>\n",
       "    <tr>\n",
       "      <th>S5</th>\n",
       "      <td>751.279</td>\n",
       "      <td>571.331</td>\n",
       "      <td>307.606</td>\n",
       "      <td>0.000</td>\n",
       "      <td>0.000</td>\n",
       "    </tr>\n",
       "    <tr>\n",
       "      <th>S6</th>\n",
       "      <td>67.625</td>\n",
       "      <td>65.007</td>\n",
       "      <td>0.000</td>\n",
       "      <td>0.000</td>\n",
       "      <td>0.000</td>\n",
       "    </tr>\n",
       "    <tr>\n",
       "      <th>INTERCEPT</th>\n",
       "      <td>152.133</td>\n",
       "      <td>152.133</td>\n",
       "      <td>152.133</td>\n",
       "      <td>152.133</td>\n",
       "      <td>152.133</td>\n",
       "    </tr>\n",
       "  </tbody>\n",
       "</table>\n",
       "</div>"
      ],
      "text/plain": [
       "           alpha = 0  alpha = 0.01  alpha = 1  alpha = 10  alpha = 100\n",
       "AGE          -10.012        -1.307      0.000       0.000        0.000\n",
       "SEX         -239.819      -228.822     -0.000       0.000        0.000\n",
       "BMI          519.840       525.561    367.702       0.000        0.000\n",
       "BP           324.390       316.175      6.302       0.000        0.000\n",
       "S1          -792.184      -307.014      0.000       0.000        0.000\n",
       "S2           476.746        89.322      0.000       0.000        0.000\n",
       "S3           101.045      -105.081     -0.000      -0.000       -0.000\n",
       "S4           177.064       119.598      0.000       0.000        0.000\n",
       "S5           751.279       571.331    307.606       0.000        0.000\n",
       "S6            67.625        65.007      0.000       0.000        0.000\n",
       "INTERCEPT    152.133       152.133    152.133     152.133      152.133"
      ]
     },
     "execution_count": 22,
     "metadata": {},
     "output_type": "execute_result"
    }
   ],
   "source": [
    "diab = d.load_diabetes()\n",
    "\n",
    "X = diab.data\n",
    "y = diab.target\n",
    "\n",
    "alphas = [0, 0.01, 1, 10, 100]\n",
    "df = pd.DataFrame()\n",
    "\n",
    "for a in alphas:\n",
    "    ls = lm.Lasso(alpha = a).fit(X, y)\n",
    "    c = pd.Series(np.hstack((np.round(ls.coef_, 3),np.round(ls.intercept_,3))), \\\n",
    "                  index = [col.upper() for col in diab.feature_names] + [\"INTERCEPT\"])\n",
    "    cname = \"alpha = \" + str(a)\n",
    "    df[cname] = c\n",
    "    \n",
    "df\n",
    "\n",
    "# alpha가 0인 경우 Warning 뜸\n",
    "# 극단적으로 값을 올리면 죽어버림"
   ]
  },
  {
   "cell_type": "markdown",
   "metadata": {},
   "source": [
    " "
   ]
  },
  {
   "cell_type": "markdown",
   "metadata": {},
   "source": [
    " "
   ]
  },
  {
   "cell_type": "markdown",
   "metadata": {},
   "source": [
    "## 2.4. 엘라스틱넷 회귀 (Elastic Net Regression)"
   ]
  },
  {
   "attachments": {},
   "cell_type": "markdown",
   "metadata": {},
   "source": [
    "- L1 규제와 L2 규제를 혼합한 회귀를 엘라스틱넷 회귀라고 한다.\n",
    "![image.png](img/ch7_7.png)\n",
    "\n",
    "- α는규제 매개변수이고 r 은 혼합 비율이다.\n",
    "- 두 종류의 규제를 혼합하여 릿지 회귀와 라쏘 회귀의 절충형태를 학습 모형으로 도출할 수 있다.\n",
    "- r이 0이라면 L2 규제와 동일하므로 릿지 회귀가 된다.\n",
    "- r이 1이라면 L1 규제와 동일하므로 라쏘 회귀가 된다."
   ]
  },
  {
   "cell_type": "markdown",
   "metadata": {},
   "source": [
    "### 2.4.1. 사이킷런으로 엘라스틱넷 회귀 수행"
   ]
  },
  {
   "cell_type": "markdown",
   "metadata": {},
   "source": [
    "1. **linear_model** 모듈에 있는 **ElasticNet**을 이용하여 엘라스틱넷 회귀를 수행한다.\n",
    "    - 매개변수 alpha는 규제 계수인 α 값이다.\n",
    "    - 매개변수 l1_ratio는 혼합 비율 r이다.\n",
    "\n",
    "```python\n",
    "import sklearn.linear_model as lm\n",
    "\n",
    "elastic = lm.ElasticNet(alpha = 0.01, l1_ratio = 0.5)\n",
    "reg = elastic.fit(X_train, y_train)\n",
    "```"
   ]
  },
  {
   "cell_type": "markdown",
   "metadata": {},
   "source": [
    "2. 당뇨병 진단 데이터에 대해 alpha를 0.01로, l1_ratio를 0.5로 설정한 경우"
   ]
  },
  {
   "cell_type": "markdown",
   "metadata": {},
   "source": [
    "```python\n",
    "diab = d.load_diabetes()\n",
    "X_train, X_test, y_train, y_test = \\\n",
    "ms.train_test_split(diab.data, diab.target, \\\n",
    "                 test_size=0.3, random_state=78)\n",
    "\n",
    "elastic = lm.ElasticNet(alpha = 0.01, l1_ratio = 0.5)\n",
    "reg = elastic.fit(X_train, y_train)\n",
    "\n",
    "y_pred = reg.predict(X_test)\n",
    "```"
   ]
  },
  {
   "attachments": {},
   "cell_type": "markdown",
   "metadata": {},
   "source": [
    "3. 당뇨병 진단 데이터에 대해 alpha를 0.01로, l1_ratio를 0.5로 설정한 결과\n",
    "![image.png](img/ch7_8.png)"
   ]
  },
  {
   "attachments": {},
   "cell_type": "markdown",
   "metadata": {},
   "source": [
    "4. 당뇨병 진단 데이터에 대해 l1_ratio 값은 0.5로 고정하고 alpha를 변경하면서 수행한 결과 (훈련 및 검증 데이터를 분리하지 않고 원본 데이터 전체를 학습에 사용하였다.)\n",
    "![image.png](img/ch7_9.png)"
   ]
  },
  {
   "attachments": {},
   "cell_type": "markdown",
   "metadata": {},
   "source": [
    "5. 당뇨병 진단 데이터에 대해 alpha 값은 0.01로 고정하고 l1_ratio를 변경하면서 수행한 결과 (훈련 및 검증 데이터를 분리하지 않고 원본 데이터 전체를 학습에 사용하였다.)\n",
    "![image.png](img/ch7_10.png)"
   ]
  },
  {
   "cell_type": "code",
   "execution_count": 25,
   "metadata": {},
   "outputs": [
    {
     "data": {
      "text/html": [
       "<div>\n",
       "<style scoped>\n",
       "    .dataframe tbody tr th:only-of-type {\n",
       "        vertical-align: middle;\n",
       "    }\n",
       "\n",
       "    .dataframe tbody tr th {\n",
       "        vertical-align: top;\n",
       "    }\n",
       "\n",
       "    .dataframe thead th {\n",
       "        text-align: right;\n",
       "    }\n",
       "</style>\n",
       "<table border=\"1\" class=\"dataframe\">\n",
       "  <thead>\n",
       "    <tr style=\"text-align: right;\">\n",
       "      <th></th>\n",
       "      <th>alpha = 0.01</th>\n",
       "      <th>alpha = 0.1</th>\n",
       "      <th>alpha = 0.5</th>\n",
       "      <th>alpha = 0.75</th>\n",
       "      <th>alpha = 1</th>\n",
       "    </tr>\n",
       "  </thead>\n",
       "  <tbody>\n",
       "    <tr>\n",
       "      <th>AGE</th>\n",
       "      <td>29.664</td>\n",
       "      <td>30.503</td>\n",
       "      <td>33.147</td>\n",
       "      <td>29.229</td>\n",
       "      <td>-1.307</td>\n",
       "    </tr>\n",
       "    <tr>\n",
       "      <th>SEX</th>\n",
       "      <td>-12.202</td>\n",
       "      <td>-14.496</td>\n",
       "      <td>-35.246</td>\n",
       "      <td>-74.199</td>\n",
       "      <td>-228.822</td>\n",
       "    </tr>\n",
       "    <tr>\n",
       "      <th>BMI</th>\n",
       "      <td>139.302</td>\n",
       "      <td>148.365</td>\n",
       "      <td>211.024</td>\n",
       "      <td>293.577</td>\n",
       "      <td>525.561</td>\n",
       "    </tr>\n",
       "    <tr>\n",
       "      <th>BP</th>\n",
       "      <td>98.763</td>\n",
       "      <td>104.729</td>\n",
       "      <td>144.560</td>\n",
       "      <td>193.700</td>\n",
       "      <td>316.175</td>\n",
       "    </tr>\n",
       "    <tr>\n",
       "      <th>S1</th>\n",
       "      <td>25.796</td>\n",
       "      <td>25.844</td>\n",
       "      <td>21.932</td>\n",
       "      <td>6.387</td>\n",
       "      <td>-307.014</td>\n",
       "    </tr>\n",
       "    <tr>\n",
       "      <th>S2</th>\n",
       "      <td>13.027</td>\n",
       "      <td>11.984</td>\n",
       "      <td>0.000</td>\n",
       "      <td>-21.861</td>\n",
       "      <td>89.322</td>\n",
       "    </tr>\n",
       "    <tr>\n",
       "      <th>S3</th>\n",
       "      <td>-82.522</td>\n",
       "      <td>-87.044</td>\n",
       "      <td>-115.620</td>\n",
       "      <td>-146.542</td>\n",
       "      <td>-105.081</td>\n",
       "    </tr>\n",
       "    <tr>\n",
       "      <th>S4</th>\n",
       "      <td>78.112</td>\n",
       "      <td>81.553</td>\n",
       "      <td>100.659</td>\n",
       "      <td>114.735</td>\n",
       "      <td>119.598</td>\n",
       "    </tr>\n",
       "    <tr>\n",
       "      <th>S5</th>\n",
       "      <td>125.787</td>\n",
       "      <td>133.448</td>\n",
       "      <td>185.326</td>\n",
       "      <td>252.765</td>\n",
       "      <td>571.331</td>\n",
       "    </tr>\n",
       "    <tr>\n",
       "      <th>S6</th>\n",
       "      <td>73.338</td>\n",
       "      <td>76.794</td>\n",
       "      <td>96.257</td>\n",
       "      <td>110.043</td>\n",
       "      <td>65.007</td>\n",
       "    </tr>\n",
       "    <tr>\n",
       "      <th>INTERCEPT</th>\n",
       "      <td>152.133</td>\n",
       "      <td>152.133</td>\n",
       "      <td>152.133</td>\n",
       "      <td>152.133</td>\n",
       "      <td>152.133</td>\n",
       "    </tr>\n",
       "  </tbody>\n",
       "</table>\n",
       "</div>"
      ],
      "text/plain": [
       "           alpha = 0.01  alpha = 0.1  alpha = 0.5  alpha = 0.75  alpha = 1\n",
       "AGE              29.664       30.503       33.147        29.229     -1.307\n",
       "SEX             -12.202      -14.496      -35.246       -74.199   -228.822\n",
       "BMI             139.302      148.365      211.024       293.577    525.561\n",
       "BP               98.763      104.729      144.560       193.700    316.175\n",
       "S1               25.796       25.844       21.932         6.387   -307.014\n",
       "S2               13.027       11.984        0.000       -21.861     89.322\n",
       "S3              -82.522      -87.044     -115.620      -146.542   -105.081\n",
       "S4               78.112       81.553      100.659       114.735    119.598\n",
       "S5              125.787      133.448      185.326       252.765    571.331\n",
       "S6               73.338       76.794       96.257       110.043     65.007\n",
       "INTERCEPT       152.133      152.133      152.133       152.133    152.133"
      ]
     },
     "execution_count": 25,
     "metadata": {},
     "output_type": "execute_result"
    }
   ],
   "source": [
    "diab = d.load_diabetes()\n",
    "\n",
    "X = diab.data\n",
    "y = diab.target\n",
    "\n",
    "ratios = [0.01, 0.1, 0.5, 0.75, 1]\n",
    "df = pd.DataFrame()\n",
    "\n",
    "\n",
    "# l1_latio를 1로 두면 Lasso와 같은 결과가 나옴(Lasso 자체를 호출)\n",
    "# 0으로 두면 Ridge와 같은 결과가 나오지 않음 \n",
    "# -> Ridge 자체를 호출하지 않음. 데이터 사이즈가 매우크면 값이 같을 수 있음.\n",
    "for r in ratios:\n",
    "    en = lm.ElasticNet(alpha = 0.01, l1_ratio = r).fit(X, y)\n",
    "    c = pd.Series(np.hstack((np.round(en.coef_, 3),np.round(en.intercept_,3))), \\\n",
    "                  index = [col.upper() for col in diab.feature_names] + [\"INTERCEPT\"])\n",
    "    cname = \"alpha = \" + str(r)\n",
    "    df[cname] = c\n",
    "    \n",
    "df"
   ]
  },
  {
   "cell_type": "markdown",
   "metadata": {},
   "source": [
    "   \n",
    "    \n",
    "   \n",
    "  \n",
    "   \n",
    "   \n",
    "   \n",
    " "
   ]
  },
  {
   "cell_type": "markdown",
   "metadata": {},
   "source": [
    " "
   ]
  },
  {
   "cell_type": "markdown",
   "metadata": {},
   "source": [
    " "
   ]
  },
  {
   "cell_type": "markdown",
   "metadata": {},
   "source": [
    " "
   ]
  },
  {
   "cell_type": "markdown",
   "metadata": {},
   "source": [
    "# 3. 회귀 모형의 선택"
   ]
  },
  {
   "cell_type": "markdown",
   "metadata": {},
   "source": [
    "- 기본적인 선형 회귀, 릿지, 라쏘, 엘라스틱넷 중 어떤 것이 가장 좋은 모형을 도출하는지는 상황에 따라 달라진다.\n",
    "- 각 기법 별로 매개변수들을 변경해 가면서 학습하여 최적의 성능 지표를 나타내는 모형을 선택해야 한다.\n",
    "- 다만, 다음과 같은 가이드를 참고하면 도움이 될 수 있다.\n",
    "    - <span class=\"mark\">규제가 없는 기본 선형 회귀를 수행하면서 과대적합이 확실시 되면 릿지 회귀로 전환한다.\n",
    "    - <span class=\"mark\">전체 특성들 중 일부만 의미가 있다고 유추할 수 있거나 관찰되었다면 라쏘 또는 엘라스틱넷 회귀를 시도한다.</span>\n",
    "    - <span class=\"mark\">특성들 간의 관련성이 높으면 (즉, 상관 계수가 높으면) 엘라스틱넷 회귀를 적용하는 것이 바람직하다.</span></span>\n",
    "    \n",
    " \n",
    " - ratio를 0에서 1까지 일정간격으로 엘라스틱넷 회귀를 하여 가장 설명력이 높은 모델 선택?\n",
    " - alpha가 달라진다면? -> 해당 ratio가 가장 좋다는 보장이 없음"
   ]
  },
  {
   "cell_type": "code",
   "execution_count": 26,
   "metadata": {},
   "outputs": [
    {
     "data": {
      "application/javascript": [
       "$.getScript('https://kmahelona.github.io/ipython_notebook_goodies/ipython_notebook_toc.js')\n"
      ],
      "text/plain": [
       "<IPython.core.display.Javascript object>"
      ]
     },
     "metadata": {},
     "output_type": "display_data"
    }
   ],
   "source": [
    "%%javascript\n",
    "$.getScript('https://kmahelona.github.io/ipython_notebook_goodies/ipython_notebook_toc.js')"
   ]
  }
 ],
 "metadata": {
  "kernelspec": {
   "display_name": "Python 3.8.3 64-bit",
   "language": "python",
   "name": "python38364bitc7d172dfbcaf4c84b1b0b3dca7174a39"
  },
  "language_info": {
   "codemirror_mode": {
    "name": "ipython",
    "version": 3
   },
   "file_extension": ".py",
   "mimetype": "text/x-python",
   "name": "python",
   "nbconvert_exporter": "python",
   "pygments_lexer": "ipython3",
   "version": "3.8.3"
  }
 },
 "nbformat": 4,
 "nbformat_minor": 4
}
