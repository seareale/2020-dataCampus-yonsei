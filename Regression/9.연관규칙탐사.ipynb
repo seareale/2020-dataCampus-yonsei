{
 "cells": [
  {
   "cell_type": "markdown",
   "metadata": {},
   "source": [
    "9.연관규칙탐사"
   ]
  },
  {
   "cell_type": "markdown",
   "metadata": {},
   "source": [
    "Contents\n",
    "<div id=\"toc\"></div>"
   ]
  },
  {
   "cell_type": "markdown",
   "metadata": {},
   "source": [
    "# 1. 데이터 마이닝"
   ]
  },
  {
   "attachments": {},
   "cell_type": "markdown",
   "metadata": {},
   "source": [
    "## 1.1. 데이터 마이닝 (Data Mining)"
   ]
  },
  {
   "cell_type": "markdown",
   "metadata": {},
   "source": [
    "- 대용량의 데이터로부터 그들 사이의 관계, 패턴, 규칙을 탐사하여 **숨겨져 있던 유용한** 지식을 추출하는 과정\n",
    "![image.png](img/ch9_1.png)"
   ]
  },
  {
   "cell_type": "markdown",
   "metadata": {},
   "source": [
    "## 1.2. 데이터 마이닝의 연관성 탐사"
   ]
  },
  {
   "cell_type": "markdown",
   "metadata": {},
   "source": [
    "**데이터 마이닝의 지식 탐사**\n",
    "- 확실한 사실이나 명백한 관계를 알아내는 것이 아니다.\n",
    "- 일반적인 질의를 통해 확인하기 어려운 패턴을 찾는 것이다.\n",
    "- 숨겨져 있고(hidden) 의미가 있는(significant) 정보를 발견하는 것으로, 대개의 경우 <span class=\"mark\">비지도 학습</span>에 해당한다.\n",
    "\n",
    "**연관성 (Association) 탐사**\n",
    "- 서로 다른 항목(item)들 간의 발생 관계, 즉 연관성을 발견하는 과정 및 기법\n",
    "- 장바구니 분석 (market basket analysis) : 고객의 장바구니에 들어 있는 상품들 간의 관계를 파악한다."
   ]
  },
  {
   "cell_type": "markdown",
   "metadata": {},
   "source": [
    "# 2. 연관 규칙 탐사"
   ]
  },
  {
   "cell_type": "markdown",
   "metadata": {},
   "source": [
    "## 2.1. 연관 규칙 (Association Rule)"
   ]
  },
  {
   "cell_type": "markdown",
   "metadata": {},
   "source": [
    "- 연관성 탐사를 통해서 발견되는 규칙들\n",
    "- **항목(들) X가 발생하였을 때 항목(들) Y도 같이 발생한다**는 연관성을 **X → Y** 로 표기한다.\n",
    "\n",
    "        예) “야구”→“축구” :\n",
    "           “야구”를 좋아하는 사람들은 “축구”도 좋아한다.\n",
    "        예)“맥주”→“기저귀” :\n",
    "           “맥주”를 구입한 고객이 “기저귀”도 함께 구입한다.\n",
    "        예) “빵”, “우유” →“버터” :\n",
    "           “빵”과 “우유”를 구입한 고객이 “버터”도 함께 구입한다.\n",
    "\n",
    "    - 이 때, X와 Y는 상호 배타적인 항목(item)들의 집합이다.\n",
    "    - X를 선행절(antecedent) 또는 조건절이라고 하고, Y를 후행절(consequent) 또는 결과절이라고 한다.\n",
    "\n",
    "연관 규칙 | 선행절(조건절) | 후행절(결과절)\n",
    ":---: | :---: | :---:\n",
    "야구 → 축구 | 야구 | 축구\n",
    "맥주 → 기저귀 | 맥주 | 기저귀\n",
    "빵, 우유 → 버터 | 빵, 우유 | 버터"
   ]
  },
  {
   "cell_type": "markdown",
   "metadata": {},
   "source": [
    "## 2.2. 트랜잭션 (Transaction)"
   ]
  },
  {
   "attachments": {},
   "cell_type": "markdown",
   "metadata": {},
   "source": [
    "- 데이터베이스 관리 측면에서는 원래 완결성이 있는 1회의 논리적 실행 또는 처리 단위를 뜻한다.\n",
    "- 연관 규칙 탐사에서는 1개의 거래이력 단위를 의미한다.\n",
    "![image.png](img/ch9_2.png)"
   ]
  },
  {
   "cell_type": "markdown",
   "metadata": {},
   "source": [
    "- 이 때, 트랜잭션 내에 들어있는 각각의 개별적인 자료를 항목(item)이라고 한다.\n",
    "    - 항목들 간의 순서는 고려되지 않는다."
   ]
  },
  {
   "cell_type": "markdown",
   "metadata": {},
   "source": [
    "## 2.3. 항목집합 (Itemset)"
   ]
  },
  {
   "attachments": {},
   "cell_type": "markdown",
   "metadata": {},
   "source": [
    "- 트랜잭션 내에 들어있는 항목들의 집합\n",
    "- 단일 트랜잭션 내의 항목들로부터 파생될 수 있는 조합\n",
    "    - { } 기호로 각 항목집합을 구분한다.\n",
    "    - 내부 항목들 간의 순서는 고려되지 않는다.\n",
    "![image.png](img/ch9_3.png)"
   ]
  },
  {
   "cell_type": "markdown",
   "metadata": {},
   "source": []
  },
  {
   "cell_type": "markdown",
   "metadata": {},
   "source": []
  },
  {
   "cell_type": "markdown",
   "metadata": {},
   "source": []
  },
  {
   "cell_type": "markdown",
   "metadata": {},
   "source": []
  },
  {
   "cell_type": "markdown",
   "metadata": {},
   "source": []
  },
  {
   "cell_type": "markdown",
   "metadata": {},
   "source": []
  },
  {
   "cell_type": "markdown",
   "metadata": {},
   "source": []
  },
  {
   "cell_type": "markdown",
   "metadata": {},
   "source": []
  },
  {
   "cell_type": "markdown",
   "metadata": {},
   "source": []
  },
  {
   "cell_type": "markdown",
   "metadata": {},
   "source": []
  },
  {
   "cell_type": "markdown",
   "metadata": {},
   "source": []
  },
  {
   "cell_type": "markdown",
   "metadata": {},
   "source": []
  },
  {
   "cell_type": "code",
   "execution_count": 1,
   "metadata": {},
   "outputs": [
    {
     "data": {
      "application/javascript": [
       "$.getScript('https://kmahelona.github.io/ipython_notebook_goodies/ipython_notebook_toc.js')\n"
      ],
      "text/plain": [
       "<IPython.core.display.Javascript object>"
      ]
     },
     "metadata": {},
     "output_type": "display_data"
    }
   ],
   "source": [
    "%%javascript\n",
    "$.getScript('https://kmahelona.github.io/ipython_notebook_goodies/ipython_notebook_toc.js')"
   ]
  }
 ],
 "metadata": {
  "kernelspec": {
   "display_name": "Python 3.8.3 64-bit",
   "language": "python",
   "name": "python38364bitc7d172dfbcaf4c84b1b0b3dca7174a39"
  },
  "language_info": {
   "codemirror_mode": {
    "name": "ipython",
    "version": 3
   },
   "file_extension": ".py",
   "mimetype": "text/x-python",
   "name": "python",
   "nbconvert_exporter": "python",
   "pygments_lexer": "ipython3",
   "version": "3.8.3"
  }
 },
 "nbformat": 4,
 "nbformat_minor": 4
}
