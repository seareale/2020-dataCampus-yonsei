{
 "cells": [
  {
   "cell_type": "markdown",
   "metadata": {},
   "source": [
    "9.연관규칙탐사"
   ]
  },
  {
   "cell_type": "markdown",
   "metadata": {},
   "source": [
    "Contents\n",
    "<div id=\"toc\"></div>"
   ]
  },
  {
   "cell_type": "markdown",
   "metadata": {},
   "source": [
    "# 1. 데이터 마이닝"
   ]
  },
  {
   "cell_type": "markdown",
   "metadata": {},
   "source": [
    "## 1.1. 데이터 마이닝 (Data Mining)"
   ]
  },
  {
   "cell_type": "markdown",
   "metadata": {},
   "source": [
    "- 대용량의 데이터로부터 그들 사이의 관계, 패턴, 규칙을 탐사하여 **숨겨져 있던 유용한** 지식을 추출하는 과정\n",
    "![image.png](img/ch9_1.png)\n",
    "\n",
    "**여러 비지도 학습 기법이 있음**"
   ]
  },
  {
   "cell_type": "markdown",
   "metadata": {},
   "source": [
    "## 1.2. 데이터 마이닝의 연관성 탐사"
   ]
  },
  {
   "cell_type": "markdown",
   "metadata": {},
   "source": [
    "**데이터 마이닝의 지식 탐사**\n",
    "- 확실한 사실이나 명백한 관계를 알아내는 것이 아니다.\n",
    "- 일반적인 질의를 통해 확인하기 어려운 패턴을 찾는 것이다.\n",
    "- 숨겨져 있고(hidden) 의미가 있는(significant) 정보를 발견하는 것으로, 대개의 경우 <span class=\"mark\">비지도 학습</span>에 해당한다.\n",
    "\n",
    "**연관성 (Association) 탐사**\n",
    "- 서로 다른 항목(item)들 간의 발생 관계, 즉 연관성을 발견하는 과정 및 기법\n",
    "- 장바구니 분석 (market basket analysis) : 고객의 장바구니에 들어 있는 상품들 간의 관계를 파악한다."
   ]
  },
  {
   "cell_type": "markdown",
   "metadata": {},
   "source": [
    "# 2. 연관 규칙 탐사"
   ]
  },
  {
   "cell_type": "markdown",
   "metadata": {},
   "source": [
    "## 2.1. 연관 규칙 (Association Rule)"
   ]
  },
  {
   "cell_type": "markdown",
   "metadata": {},
   "source": [
    "- 연관성 탐사를 통해서 발견되는 규칙들\n",
    "- **항목(들) X가 발생하였을 때 항목(들) Y도 같이 발생한다**는 연관성을 **X → Y** 로 표기한다.\n",
    "- Y → X될 수 도 있음, 연관 자체를 조사. \n",
    "\n",
    "        예) “야구”→“축구” :\n",
    "           “야구”를 좋아하는 사람들은 “축구”도 좋아한다.\n",
    "        예)“맥주”→“기저귀” :\n",
    "           “맥주”를 구입한 고객이 “기저귀”도 함께 구입한다.\n",
    "        예) “빵”, “우유” →“버터” :\n",
    "           “빵”과 “우유”를 구입한 고객이 “버터”도 함께 구입한다.\n",
    "\n",
    "    - 이 때, X와 Y는 상호 배타적인 항목(item)들의 집합이다.\n",
    "    - X를 선행절(antecedent) 또는 조건절이라고 하고, Y를 후행절(consequent) 또는 결과절이라고 한다.\n",
    "\n",
    "연관 규칙 | 선행절(조건절) | 후행절(결과절)\n",
    ":---: | :---: | :---:\n",
    "야구 → 축구 | 야구 | 축구\n",
    "맥주 → 기저귀 | 맥주 | 기저귀\n",
    "빵, 우유 → 버터 | 빵, 우유 | 버터"
   ]
  },
  {
   "cell_type": "markdown",
   "metadata": {},
   "source": [
    "## 2.2. 트랜잭션 (Transaction)"
   ]
  },
  {
   "cell_type": "markdown",
   "metadata": {},
   "source": [
    "- 데이터베이스 관리 측면에서는 원래 완결성이 있는 1회의 논리적 실행 또는 처리 단위를 뜻한다.\n",
    "- 연관 규칙 탐사에서는 1개의 거래이력 단위를 의미한다.\n",
    "![image.png](img/ch9_2.png)"
   ]
  },
  {
   "cell_type": "markdown",
   "metadata": {},
   "source": [
    "- 이 때, 트랜잭션 내에 들어있는 각각의 개별적인 자료를 항목(item)이라고 한다.\n",
    "    - 항목들 간의 순서는 고려되지 않는다."
   ]
  },
  {
   "cell_type": "markdown",
   "metadata": {},
   "source": [
    "## 2.3. 항목집합 (Itemset)"
   ]
  },
  {
   "cell_type": "markdown",
   "metadata": {},
   "source": [
    "- 트랜잭션 내에 들어있는 항목들의 집합 (공집합을 제외한 부분집합)\n",
    "- 단일 트랜잭션 내의 항목들로부터 파생될 수 있는 조합\n",
    "    - { } 기호로 각 항목집합을 구분한다.\n",
    "    - 내부 항목들 간의 순서는 고려되지 않는다.\n",
    "![image.png](img/ch9_3.png)"
   ]
  },
  {
   "cell_type": "markdown",
   "metadata": {},
   "source": [
    "## 2.4. 지지도 (Support)"
   ]
  },
  {
   "attachments": {},
   "cell_type": "markdown",
   "metadata": {},
   "source": [
    "- 전체 트랜잭션들에서 특정 항목집합이 포함되어 있는 확률 (즉, 발생 빈도의 비율)\n",
    "    - 항목집합 A의 지지도는 A의 출현 확률 Pr(A)이며, 흔히 S(A) 또는 sup(A) 등으로 표현한다.\n",
    "![image.png](img/ch9_4.png)"
   ]
  },
  {
   "cell_type": "markdown",
   "metadata": {},
   "source": [
    "### 2.4.1. 빈발 항목집합 (Frequent Itemset)"
   ]
  },
  {
   "attachments": {},
   "cell_type": "markdown",
   "metadata": {},
   "source": [
    "- 전체 트랜잭션들에서 지지도가 특정 임계값 이상으로 빈발하게 발생한 항목집합\n",
    "    - 이 때, 이 임계값을 **최소 지지도(minimum support)** 라고 하며 0~1 (0% ~100%) 사이의 값을 가진다\n",
    "    ![image.png](img/ch9_5.png)"
   ]
  },
  {
   "cell_type": "markdown",
   "metadata": {},
   "source": [
    "### 2.4.2. 항목집합을 이용한 연관 규칙의 발견"
   ]
  },
  {
   "attachments": {},
   "cell_type": "markdown",
   "metadata": {},
   "source": [
    "- 연관 규칙은 2개 이상의 항목들이 존재하는 항목집합의 항목들 간의 관계를 표현하는 것이다.\n",
    "- 항목집합 A = { X , Y } 에서 추론되는 연관 규칙은 X → Y 및 Y → X 이다.\n",
    "![image.png](img/ch9_6.png)"
   ]
  },
  {
   "cell_type": "markdown",
   "metadata": {},
   "source": [
    "## 2.5. 신뢰도 (Confidence)"
   ]
  },
  {
   "attachments": {},
   "cell_type": "markdown",
   "metadata": {},
   "source": [
    "- 연관 규칙의 선행절이 포함된 트랜잭션들 중 후행절의 항목집합들이 포함될 확률\n",
    "    - 연관규칙 X →Y의 신뢰도는 조건부 확률 Pr(Y|X)이며, 흔히 C(X →Y) 또는 conf(X→Y)로 표현한다.\n",
    "        ![image.png](img/ch9_7.png)\n",
    "\n",
    "    - 신뢰도는 항목집합의 지지도 이상의 값으로 계산된다\n",
    "        ![image.png](img/ch9_8.png)"
   ]
  },
  {
   "cell_type": "markdown",
   "metadata": {},
   "source": [
    "## 2.6. 연관 규칙 탐사의 최종 결과"
   ]
  },
  {
   "attachments": {},
   "cell_type": "markdown",
   "metadata": {},
   "source": [
    "- 빈발 항목집합이면서 신뢰도가 특정 임계값 이상인 연관 규칙들을 **최종적으로 의미 있는 결과**로 간주한다.\n",
    "    - 이 때, 이 임계값을 **최소 신뢰도(minimum confidence)** 라고 하며 0~1 (0% ~ 100%) 사이의 값을 가진다.\n",
    "![image.png](img/ch9_9.png)"
   ]
  },
  {
   "cell_type": "markdown",
   "metadata": {},
   "source": [
    "## 2.7. 향상도 (Lift)"
   ]
  },
  {
   "attachments": {},
   "cell_type": "markdown",
   "metadata": {},
   "source": [
    "- 연관 규칙의 선행절과 후행절이 독립적인 경우 대비, 선행절과 후행절이 함께 발생할 확률\n",
    "    - 연관규칙 X →Y의 향상도는 (X와 상관 없이) Y가 나올 확률과 비교하여 X가 있을 때 Y가 나올 확률의 증가 비율이며, 흔히 L(X→Y) 또는 lift(X →Y)로 표현한다.\n",
    "    ![image.png](img/ch9_10.png)\n",
    "\n",
    "    - 향상도가 1이면 서로 독립적인 관계이며, 1보다 크면 양(+)의 상관 관계, 1보다 작으면 음(–)의 상관 관계이다.\n",
    "    ![image.png](img/ch9_11.png)"
   ]
  },
  {
   "cell_type": "markdown",
   "metadata": {},
   "source": [
    "## 2.8. 연관 규칙 탐사의 고려 사항"
   ]
  },
  {
   "cell_type": "markdown",
   "metadata": {},
   "source": [
    "**임계값 설정**\n",
    "- 최소 지지도 및 최소 신뢰도의 수치를 어느 정도로 설정할 것인지 여러 가지를 고려하여 결정해야 한다.\n",
    "- 임계값들을 증가 또는 감소시키면서 여러 차례 탐사를 수행하여 적절한 지점을 경험적으로 찾아낸다."
   ]
  },
  {
   "cell_type": "markdown",
   "metadata": {},
   "source": [
    "**결과의 해석과 적용**\n",
    "- 임계값 이상의 결과들이 모두 의미가 있는 규칙이라고 단정할 수는 없다.\n",
    "- 발생한 항목들 간의 우연성, 현실적으로 관련된 요인 등을 검토한 뒤 의사 결정에 반영해야 한다."
   ]
  },
  {
   "cell_type": "markdown",
   "metadata": {},
   "source": [
    " "
   ]
  },
  {
   "cell_type": "markdown",
   "metadata": {},
   "source": [
    "# 3. Apriori 기법"
   ]
  },
  {
   "cell_type": "markdown",
   "metadata": {},
   "source": [
    "- 빈발 항목집합과 연관 규칙을 탐사하는 대표적인 알고리즘\n",
    "- 1개 항목을 이용하여 빈발 항목집합을 생성하고, 이들을 기반으로 2개 이상의 항목을 가지는 빈발 항목집합을 생성 하는 과정을 모든 길이의 빈발 항목집합을 생성할 때까지 반복한다."
   ]
  },
  {
   "cell_type": "markdown",
   "metadata": {},
   "source": [
    "- Apriori 외에 Eclat, FP-growth 등 수행 성능이 향상된 다양한 연관 규칙 탐사 기법들이 존재한다."
   ]
  },
  {
   "cell_type": "markdown",
   "metadata": {},
   "source": [
    "- Apriori는 아나콘다 패키지에 포함되어 있지 않기 때문에, 직접 추가 설치를 해야 사용할 수 있다.\n",
    "- Anaconda Prompt 에서 다음 명령어 중 하나를 입력하여 설치한다.\n",
    "```\n",
    "$pip install apyori\n",
    "$conda install apyo\n",
    "```"
   ]
  },
  {
   "cell_type": "markdown",
   "metadata": {},
   "source": [
    "- Apriori를 불러올 때의 모듈명은 **apyori**이다\n",
    "\n",
    "```python\n",
    "import apyori\n",
    "\n",
    "help(apyori)\n",
    "```"
   ]
  },
  {
   "cell_type": "markdown",
   "metadata": {},
   "source": [
    "1. 트랜잭션 데이터 준비하기\n",
    "    - 연관 규칙 탐사를 위한 트랜잭션 데이터는 2차원 형태의 리스트 구조여야 한다.\n",
    "        - 리스트의 각 항목은 1개의 트랜잭션에 해당한다.\n",
    "        - 각 트랜잭션의 항목들의 순서는 고려되지 않으며, 트랜잭션 내에서 항목의 중복은 무시된다"
   ]
  },
  {
   "cell_type": "code",
   "execution_count": 28,
   "metadata": {},
   "outputs": [],
   "source": [
    "tr= [['우유','계란','커피'],\n",
    "    ['빵', '우유', '버터', '휴지', '라면'],\n",
    "    ['맥주', '땅콩'],\n",
    "    ['계란', '빵', '우유', '생수'],\n",
    "    ['햇반', '커피', '간장', '계란']]"
   ]
  },
  {
   "cell_type": "markdown",
   "metadata": {},
   "source": [
    "2. 연관 규칙 탐사 수행하기\n",
    "    - 모듈 내의 함수 apriori를 이용하여 트랜잭션 데이터에 대한 연관 규칙을 탐사한다.\n",
    "        - 첫 번째 인자는 2차원 리스트인 트랜잭션 데이터이다.\n",
    "        - min_support는 최소 지지도 값이다.\n",
    "        - min_confidence는 최소 신뢰도 값이다.\n",
    "        - 반환 결과는 탐사된 연관 규칙들이다.\n"
   ]
  },
  {
   "cell_type": "code",
   "execution_count": 42,
   "metadata": {},
   "outputs": [],
   "source": [
    "import apyori as ap\n",
    "\n",
    "rules = ap.apriori(tr, min_support = 0.3, min_cofidence = 0.6)"
   ]
  },
  {
   "cell_type": "markdown",
   "metadata": {},
   "source": [
    "3. 탐사한 연관 규칙 정보 확인하기\n",
    "    - 실행 결과는 반복자 RelationRecord 객체이며, 내부에는 결과 항목집합과 연관 규칙들에 대한 정보가 들어 있다."
   ]
  },
  {
   "cell_type": "code",
   "execution_count": 40,
   "metadata": {},
   "outputs": [
    {
     "name": "stdout",
     "output_type": "stream",
     "text": [
      "RelationRecord(items=frozenset({'계란'}), support=0.6, ordered_statistics=[OrderedStatistic(items_base=frozenset(), items_add=frozenset({'계란'}), confidence=0.6, lift=1.0)])\n",
      "RelationRecord(items=frozenset({'빵'}), support=0.4, ordered_statistics=[OrderedStatistic(items_base=frozenset(), items_add=frozenset({'빵'}), confidence=0.4, lift=1.0)])\n",
      "RelationRecord(items=frozenset({'우유'}), support=0.6, ordered_statistics=[OrderedStatistic(items_base=frozenset(), items_add=frozenset({'우유'}), confidence=0.6, lift=1.0)])\n",
      "RelationRecord(items=frozenset({'커피'}), support=0.4, ordered_statistics=[OrderedStatistic(items_base=frozenset(), items_add=frozenset({'커피'}), confidence=0.4, lift=1.0)])\n",
      "RelationRecord(items=frozenset({'계란', '우유'}), support=0.4, ordered_statistics=[OrderedStatistic(items_base=frozenset(), items_add=frozenset({'계란', '우유'}), confidence=0.4, lift=1.0), OrderedStatistic(items_base=frozenset({'계란'}), items_add=frozenset({'우유'}), confidence=0.6666666666666667, lift=1.1111111111111114), OrderedStatistic(items_base=frozenset({'우유'}), items_add=frozenset({'계란'}), confidence=0.6666666666666667, lift=1.1111111111111114)])\n",
      "RelationRecord(items=frozenset({'계란', '커피'}), support=0.4, ordered_statistics=[OrderedStatistic(items_base=frozenset(), items_add=frozenset({'계란', '커피'}), confidence=0.4, lift=1.0), OrderedStatistic(items_base=frozenset({'계란'}), items_add=frozenset({'커피'}), confidence=0.6666666666666667, lift=1.6666666666666667), OrderedStatistic(items_base=frozenset({'커피'}), items_add=frozenset({'계란'}), confidence=1.0, lift=1.6666666666666667)])\n",
      "RelationRecord(items=frozenset({'우유', '빵'}), support=0.4, ordered_statistics=[OrderedStatistic(items_base=frozenset(), items_add=frozenset({'우유', '빵'}), confidence=0.4, lift=1.0), OrderedStatistic(items_base=frozenset({'빵'}), items_add=frozenset({'우유'}), confidence=1.0, lift=1.6666666666666667), OrderedStatistic(items_base=frozenset({'우유'}), items_add=frozenset({'빵'}), confidence=0.6666666666666667, lift=1.6666666666666667)])\n"
     ]
    }
   ],
   "source": [
    "for r in rules:\n",
    "    print(r)\n",
    "    \n",
    "# 반복자이기 때문에 재실행 시 결과 안나옴\n",
    "# {커피, 계란} -> '최소신뢰도' 만족 못해서 안나옴"
   ]
  },
  {
   "attachments": {},
   "cell_type": "markdown",
   "metadata": {},
   "source": [
    "- 실행 결과는 반복자 RelationRecord 객체이다.\n",
    "    - 객체의 각 항목에는 다음의 내용이 순서대로 존재한다.\n",
    "        1. 빈발 항목집합\n",
    "        2. 그 빈발 항목집합의 지지도 값\n",
    "        3. 빈발 항목집합으로부터 추론되는 연관 규칙 정보\n",
    "    - 추론되는 연관 규칙들마다 각각 다음의 내용이 순서대로 존재한다.\n",
    "        1. 연관 규칙의 선행절\n",
    "        2. 연관 규칙의 후행절\n",
    "        3. 연관 규칙의 신뢰도 값\n",
    "        4. 연관 규칙의 향상도 값\n",
    "![image.png](img/ch9_12.png)\n",
    "\n",
    "**※ 위의 예는 min_support=0.3, min_confidence=0.6으로 실행한 결과 중 일부이다.**"
   ]
  },
  {
   "cell_type": "markdown",
   "metadata": {},
   "source": [
    "- 객체의 항목마다 필요한 내용들을 원하는 형식에 맞추어 추출한다."
   ]
  },
  {
   "cell_type": "code",
   "execution_count": 43,
   "metadata": {},
   "outputs": [
    {
     "name": "stdout",
     "output_type": "stream",
     "text": [
      "set() ==> {'계란', '우유'} 0.4 0.4 1.0\n",
      "{'계란'} ==> {'우유'} 0.4 0.6666666666666667 1.1111111111111114\n",
      "{'우유'} ==> {'계란'} 0.4 0.6666666666666667 1.1111111111111114\n",
      "set() ==> {'계란', '커피'} 0.4 0.4 1.0\n",
      "{'계란'} ==> {'커피'} 0.4 0.6666666666666667 1.6666666666666667\n",
      "{'커피'} ==> {'계란'} 0.4 1.0 1.6666666666666667\n",
      "set() ==> {'우유', '빵'} 0.4 0.4 1.0\n",
      "{'빵'} ==> {'우유'} 0.4 1.0 1.6666666666666667\n",
      "{'우유'} ==> {'빵'} 0.4 0.6666666666666667 1.6666666666666667\n"
     ]
    }
   ],
   "source": [
    "for rule in list(rules):\n",
    "    support = rule[1]\n",
    "    infor = list(rule[2])\n",
    "    if len(infor) > 1:\n",
    "        for i in infor:\n",
    "            print(set(i[0]), '==>', set(i[1]), support, i[2], i[3])"
   ]
  },
  {
   "cell_type": "markdown",
   "metadata": {},
   "source": [
    "**※ 2개 이상의 항목이 있는 연관 규칙들만 출력하도록 검사한 결과이다.**"
   ]
  },
  {
   "cell_type": "markdown",
   "metadata": {},
   "source": [
    "4. 파일에서 트랜잭션 데이터를 불러오기\n",
    "    - 데이터를 파일에서 읽어올 때는 함수 **load_transactions**를 이용하여 불러온 뒤 리스트로 변환한다.\n",
    "        - 첫 번째 인자는 항목들이 트랜잭션 형태로 저장된 파일 객체이다.\n",
    "        - delimiter는 파일 내 항목들의 구분자이다.\n",
    "\n",
    "market.csv 다운로드  \n",
    "https://shorturl.at/zFMP3"
   ]
  },
  {
   "cell_type": "code",
   "execution_count": 17,
   "metadata": {},
   "outputs": [],
   "source": [
    "import apyori as ap\n",
    "\n",
    "f = open('market.csv')\n",
    "\n",
    "tr = list(ap.load_transactions(f, delimiter = ','))\n",
    "\n",
    "f.close()"
   ]
  },
  {
   "cell_type": "markdown",
   "metadata": {},
   "source": [
    "5. 연관 규칙 탐사 수행하기\n",
    "    - 정상적으로 2차원 형태의 리스트로 변환되었다면, 함수 **apriori**를 이용하여 연관 규칙 탐사를 수행할 수 있다."
   ]
  },
  {
   "cell_type": "code",
   "execution_count": 18,
   "metadata": {},
   "outputs": [
    {
     "name": "stdout",
     "output_type": "stream",
     "text": [
      "{'other vegetables'} ==> {'whole milk'} 0.07483477376715811 0.38675775091960063 1.5136340948246207\n",
      "{'whole milk'} ==> {'other vegetables'} 0.07483477376715811 0.2928770393951452 1.5136340948246205\n",
      "{'rolls/buns'} ==> {'whole milk'} 0.05663446873411286 0.30790491984521834 1.2050317893663836\n",
      "{'whole milk'} ==> {'rolls/buns'} 0.05663446873411286 0.22164743334659767 1.2050317893663836\n",
      "{'whole milk'} ==> {'yogurt'} 0.05602440264361973 0.21925984878631116 1.5717351405345263\n",
      "{'yogurt'} ==> {'whole milk'} 0.05602440264361973 0.40160349854227406 1.5717351405345266\n"
     ]
    }
   ],
   "source": [
    "rules = ap.apriori(tr, min_support=0.05, min_confidence = 0.1)\n",
    "for rule in list(rules):\n",
    "    support = rule[1]\n",
    "    infor = list(rule[2])\n",
    "    if len(infor) > 1:\n",
    "        for i in infor:\n",
    "            print(set(i[0]), '==>', set(i[1]), support, i[2], i[3])"
   ]
  },
  {
   "cell_type": "code",
   "execution_count": 1,
   "metadata": {},
   "outputs": [
    {
     "data": {
      "application/javascript": [
       "$.getScript('https://kmahelona.github.io/ipython_notebook_goodies/ipython_notebook_toc.js')\n"
      ],
      "text/plain": [
       "<IPython.core.display.Javascript object>"
      ]
     },
     "metadata": {},
     "output_type": "display_data"
    }
   ],
   "source": [
    "%%javascript\n",
    "$.getScript('https://kmahelona.github.io/ipython_notebook_goodies/ipython_notebook_toc.js')"
   ]
  }
 ],
 "metadata": {
  "kernelspec": {
   "display_name": "Python 3.8.3 64-bit",
   "language": "python",
   "name": "python38364bitc7d172dfbcaf4c84b1b0b3dca7174a39"
  },
  "language_info": {
   "codemirror_mode": {
    "name": "ipython",
    "version": 3
   },
   "file_extension": ".py",
   "mimetype": "text/x-python",
   "name": "python",
   "nbconvert_exporter": "python",
   "pygments_lexer": "ipython3",
   "version": "3.8.3"
  }
 },
 "nbformat": 4,
 "nbformat_minor": 4
}
