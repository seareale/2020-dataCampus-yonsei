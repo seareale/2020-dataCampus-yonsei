{
 "cells": [
  {
   "cell_type": "markdown",
   "metadata": {},
   "source": [
    "1.분류기법개요"
   ]
  },
  {
   "cell_type": "markdown",
   "metadata": {},
   "source": [
    "Contents\n",
    "<div id=\"toc\"></div>"
   ]
  },
  {
   "cell_type": "markdown",
   "metadata": {},
   "source": [
    "# 1. 분류기법"
   ]
  },
  {
   "cell_type": "markdown",
   "metadata": {},
   "source": [
    "## 1.1. 분류 (Classification)"
   ]
  },
  {
   "cell_type": "markdown",
   "metadata": {},
   "source": [
    "- 관측 데이터가 어떤 그룹(**레이블, 클래스**)에 속하는지 분석하는 행위\n",
    "- 이러한 분류 작업을 수행하는 기법 또는 학습 모형을 분류기(classifier)라고 한다."
   ]
  },
  {
   "cell_type": "markdown",
   "metadata": {},
   "source": [
    "- 분류를 하기 위해서는 클래스에 대한 정보가 주어져야 한다.\n",
    "- 클래스는 상호 배타적인 그룹 명칭이며, 범주형 데이터 또는 이산형 데이터여야 한다.\n",
    "<img src=\"img/ch1_1.png\" width=\"50%\">"
   ]
  },
  {
   "cell_type": "markdown",
   "metadata": {},
   "source": [
    "## 1.2. 데이터의 유형"
   ]
  },
  {
   "cell_type": "markdown",
   "metadata": {},
   "source": [
    "### 1.2.1. 범주형(Categorical) 데이터"
   ]
  },
  {
   "cell_type": "markdown",
   "metadata": {},
   "source": [
    "- 여러 개의 범주로 나뉘어져 있는 데이터\n",
    "- 정성적(질적; qualitative) 자료라고 한다.\n",
    "\n",
    "\n",
    "1. 명목형 (nominal) 데이터\n",
    "    - 순서를 매길 수 없고, 단순히 분류를 할 수 있는 데이터  \n",
    "        예) 성별, 종교, 색상, 혈액형\n",
    "\n",
    "\n",
    "2. 순서형 (ordinal) 데이터\n",
    "    - 범주 간의 순서 또는 서열이 존재하는 데이터\n",
    "    - 일반적으로 수치 연산이 무의미하거나 불가능하다.  \n",
    "        예) 등급, 학점, 선호도"
   ]
  },
  {
   "cell_type": "markdown",
   "metadata": {},
   "source": [
    "### 1.2.2. 수치형 (Numeric) 데이터"
   ]
  },
  {
   "cell_type": "markdown",
   "metadata": {},
   "source": [
    "- 수치의 형태로 표현되어 측정이 가능한 데이터\n",
    "- 정량적(양적; quantitative) 자료라고 한다.\n",
    "\n",
    "\n",
    "1. 이산형 (discrete) 데이터\n",
    "    - 정수 등 특정한 형태로 표현되어 계수할 수 있는 데이터  \n",
    "        예) 인원 수, 진료 횟수, 사고 건수\n",
    "\n",
    "\n",
    "2. 연속형 (continuous) 데이터\n",
    "    - 논리적으로 계량할 수 있는 데이터\n",
    "    - 실수의 형태로서, 수치 연산의 산술적 의미가 있다.  \n",
    "        예) 키, 몸무게, 온도, 점수"
   ]
  },
  {
   "cell_type": "markdown",
   "metadata": {},
   "source": [
    "## 1.3. 분류 기법의 형태"
   ]
  },
  {
   "cell_type": "markdown",
   "metadata": {},
   "source": [
    "### 1.3.1. 이진 분류 (Binary Classification)"
   ]
  },
  {
   "cell_type": "markdown",
   "metadata": {},
   "source": [
    "- 두 개의 클래스를 구별하는 분류 기법이다.\n",
    "- 대표적으로 로지스틱 회귀, 서포트 벡터 머신(SVM; Support Vector Machine), 인공 신경망 학습 등이 있다."
   ]
  },
  {
   "cell_type": "markdown",
   "metadata": {},
   "source": [
    "### 1.3.2. 다중 분류 (Multiclass Classification)"
   ]
  },
  {
   "cell_type": "markdown",
   "metadata": {},
   "source": [
    "- 세 개 이상의 클래스들을 구분하는 분류 기법으로서, 다항(multinomial) 분류라고도 한다.\n",
    "- 다항 로지스틱 회귀, 랜덤 포레스트, 나이브 베이즈 분류기 등이 있다.\n",
    "- 이진 분류 기법을 여러 개 조합하여 분류할 수도 있다."
   ]
  },
  {
   "cell_type": "markdown",
   "metadata": {},
   "source": [
    "# 2. 분류의 성능 평가 지표"
   ]
  },
  {
   "cell_type": "markdown",
   "metadata": {},
   "source": [
    "## 2.1. 정확도(Accuracy)"
   ]
  },
  {
   "cell_type": "markdown",
   "metadata": {},
   "source": [
    "- 말 그대로, 예측한 결과가 실제 결과와 얼마나 동일한지를 나타내는 지표\n",
    "\n",
    "$$\n",
    "정확도 = \\frac{실제 결과와 동일한 예측 결과의 수}{전체 에측 결과의 수}\n",
    "$$\n",
    "<img src = \"img/ch1_2.png\" width=\"60%\">"
   ]
  },
  {
   "cell_type": "markdown",
   "metadata": {},
   "source": [
    "## 2.2. 오차행렬(Confusion Matrix)"
   ]
  },
  {
   "cell_type": "markdown",
   "metadata": {},
   "source": [
    "- 4분면 행렬을 이용하여 실제 결과 값과 예측 결과 값이 얼마나 매칭되었는지를 표현한다.\n",
    "<img src = \"img/ch1_3.png\" width=\"60%\">       \n",
    "- TP : 실제로 Positive이고 예측도 Positive로 했다.\n",
    "- FP : 실제로 Negative인데 예측을 Positive로 했다.\n",
    "- FN : 실제로 Positive인데 예측을 Negative로 했다.\n",
    "- TN : 실제로 Negative이고 예측도 Negative로 했다.\n",
    "<img src = \"img/ch1_4.png\" width=\"60%\">   "
   ]
  },
  {
   "cell_type": "markdown",
   "metadata": {},
   "source": [
    "## 2.3. 정밀도(Precision)"
   ]
  },
  {
   "cell_type": "markdown",
   "metadata": {},
   "source": [
    "- Positive로 예측한 결과들 중 실제로 Positive인 결과들의 비율\n",
    "\n",
    "$$\n",
    "정밀도 = \\frac{True Positive}{True Positive + False Positive}\n",
    "$$\n",
    "- \"정답으로 찾아낸 결과들 중에서 실제로 정답이 얼마나 많이 있는가?\"\n",
    "<img src = \"img/ch1_5.png\" width=\"60%\">"
   ]
  },
  {
   "cell_type": "markdown",
   "metadata": {},
   "source": [
    "## 2.4. 재현율(Recall)"
   ]
  },
  {
   "cell_type": "markdown",
   "metadata": {},
   "source": [
    "- 실제로 Positive인 결과들 중 Positive로 예측한 결과들의 비율\n",
    "\n",
    "$$\n",
    "재현율 = \\frac{True Positive}{True Positive + False Negative}\n",
    "$$\n",
    "- \"원래의 정답들 중에서 실제로 정답으로 찾아낸 결과가 얼마나 많이 있는가?\"\n",
    "<img src = \"img/ch1_6.png\" width=\"60%\">"
   ]
  },
  {
   "cell_type": "markdown",
   "metadata": {},
   "source": [
    "## 2.5. F1 스코어 (F1 Score)"
   ]
  },
  {
   "cell_type": "markdown",
   "metadata": {},
   "source": [
    "- 정밀도와 재현율을 결합한 지표로서, 두 수치의 조화 평균\n",
    "\n",
    "$$\n",
    "F1 = \\frac{2}{\\frac{1}{정밀도}+\\frac{1}{재현율}} = 2\\times\\frac{정밀도\\times재현율}{정밀도+재현율}\n",
    "$$\n",
    "<img src = \"img/ch1_7.png\" width=\"60%\">"
   ]
  },
  {
   "cell_type": "markdown",
   "metadata": {},
   "source": [
    "# 3. 실습 - 사이킷런으로 성능 평가 지표 확인"
   ]
  },
  {
   "cell_type": "markdown",
   "metadata": {},
   "source": [
    "- **metrics** 모듈에 있는 함수들을 이용하여 성능 평가 지표를 도출한다.\n",
    "    - 모든 함수들의 첫 번째 매개변수는 클래스의 실제값이고, 두 번째 매개변수는 클래스 예측값이다.\n",
    "\n",
    "함수명 | 설명\n",
    ":---: | :---:\n",
    "accuracy_score | 정확도를 계산한다.\n",
    "confusion_matrix | 오차 행렬을 도출한다.\n",
    "precision_score | 정밀도를 계산한다.\n",
    "recall_score | 재현율을 계산한다.\n",
    "f1_score F1 | 스코어를 계산한다.\n",
    "classification_report | 정밀도, 재현율, F1<br> 스코어를 함께 보여준다."
   ]
  },
  {
   "cell_type": "markdown",
   "metadata": {},
   "source": [
    "---"
   ]
  },
  {
   "cell_type": "markdown",
   "metadata": {},
   "source": [
    "1. 실제값과 예측값 데이터를 준비한다.\n",
    "<img src = \"img/ch1_8.png\" width=\"60%\">"
   ]
  },
  {
   "cell_type": "code",
   "execution_count": 2,
   "metadata": {},
   "outputs": [],
   "source": [
    "# '스팸'이면 양성 (클래스 1)\n",
    "# '정상'이면 음성 (클래스 0)\n",
    "\n",
    "actual_result = [1, 0, 0, 1, 1]\n",
    "predicted_result = [0, 1, 0, 1, 0]"
   ]
  },
  {
   "cell_type": "markdown",
   "metadata": {},
   "source": [
    "2. 함수들을 호출하여 성능 평가 지표를 구한다."
   ]
  },
  {
   "cell_type": "code",
   "execution_count": 4,
   "metadata": {},
   "outputs": [],
   "source": [
    "import sklearn.metrics as mt\n",
    "\n",
    "accuracy = mt.accuracy_score(actual_result, predicted_result)\n",
    "matrix = mt.confusion_matrix(actual_result, predicted_result)\n",
    "precision = mt.precision_score(actual_result, predicted_result)\n",
    "recall = mt.recall_score(actual_result, predicted_result)\n",
    "f1score = mt.f1_score(actual_result, predicted_result)\n",
    "scores = mt.classification_report(actual_result, predicted_result)"
   ]
  },
  {
   "cell_type": "markdown",
   "metadata": {},
   "source": [
    "3. 성능 평가 지표 값들을 확인한다."
   ]
  },
  {
   "cell_type": "code",
   "execution_count": 6,
   "metadata": {},
   "outputs": [
    {
     "name": "stdout",
     "output_type": "stream",
     "text": [
      "정확도 : 0.4 \n",
      "\n",
      "오차행렬\n",
      " [[1 1]\n",
      " [2 1]] \n",
      "\n",
      "정밀도 : 0.5 \n",
      "\n",
      "재현율 : 0.333 \n",
      "\n",
      "F1스코어 : 0.4 \n",
      "\n",
      "결과\n",
      "               precision    recall  f1-score   support\n",
      "\n",
      "           0       0.33      0.50      0.40         2\n",
      "           1       0.50      0.33      0.40         3\n",
      "\n",
      "    accuracy                           0.40         5\n",
      "   macro avg       0.42      0.42      0.40         5\n",
      "weighted avg       0.43      0.40      0.40         5\n",
      " \n",
      "\n"
     ]
    }
   ],
   "source": [
    "print(\"정확도 :\", accuracy, '\\n')\n",
    "print(\"오차행렬\\n\", matrix, '\\n')\n",
    "print(\"정밀도 :\", precision, '\\n')\n",
    "print(\"재현율 :\", round(recall,3), '\\n')\n",
    "print(\"F1스코어 :\", f1score, '\\n')\n",
    "print(\"결과\\n\", scores, '\\n')"
   ]
  },
  {
   "cell_type": "code",
   "execution_count": 1,
   "metadata": {},
   "outputs": [
    {
     "data": {
      "application/javascript": [
       "$.getScript('https://kmahelona.github.io/ipython_notebook_goodies/ipython_notebook_toc.js')\n"
      ],
      "text/plain": [
       "<IPython.core.display.Javascript object>"
      ]
     },
     "metadata": {},
     "output_type": "display_data"
    }
   ],
   "source": [
    "%%javascript\n",
    "$.getScript('https://kmahelona.github.io/ipython_notebook_goodies/ipython_notebook_toc.js')"
   ]
  }
 ],
 "metadata": {
  "kernelspec": {
   "display_name": "Python 3.8.3 64-bit",
   "language": "python",
   "name": "python38364bitc7d172dfbcaf4c84b1b0b3dca7174a39"
  },
  "language_info": {
   "codemirror_mode": {
    "name": "ipython",
    "version": 3
   },
   "file_extension": ".py",
   "mimetype": "text/x-python",
   "name": "python",
   "nbconvert_exporter": "python",
   "pygments_lexer": "ipython3",
   "version": "3.8.3"
  }
 },
 "nbformat": 4,
 "nbformat_minor": 4
}
