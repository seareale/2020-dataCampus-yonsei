{
 "cells": [
  {
   "cell_type": "markdown",
   "metadata": {},
   "source": [
    "2.선형SVM_하드마진분류"
   ]
  },
  {
   "cell_type": "markdown",
   "metadata": {},
   "source": [
    "Contents\n",
    "<div id=\"toc\"></div>"
   ]
  },
  {
   "cell_type": "markdown",
   "metadata": {},
   "source": [
    "# 1. 서포트 벡터 머신"
   ]
  },
  {
   "cell_type": "markdown",
   "metadata": {},
   "source": [
    "## 1.1. 서포트 벡터 머신 (SVM; Support Vector Machine)"
   ]
  },
  {
   "cell_type": "markdown",
   "metadata": {},
   "source": [
    "- 이진 클래스에 대한 분류 기법 중 하나\n",
    "- 두 개의 클래스를 구분하는 경계(boundary)들 중 클래스들 사이의 최적의 경계를 찾는다.\n",
    "<img src=\"img/ch2_1.png\" width=\"60%\">\n",
    "- 두 개의 클래스를 구분하는 경계선은 무수히 많다. 이들 중 가장 적합한 경계선을 긋는 것이 SVM의 목표이다."
   ]
  },
  {
   "cell_type": "markdown",
   "metadata": {},
   "source": [
    "## 1.2. 마진 (margin)"
   ]
  },
  {
   "cell_type": "markdown",
   "metadata": {},
   "source": [
    "- 클래스들 사이의 간격, 즉 여백\n",
    "- 각 클래스들의 말단에 위치한 데이터들 사이의 거리에 해당한다.\n",
    "<img src=\"img/ch2_2.png\" width=\"60%\">"
   ]
  },
  {
   "cell_type": "markdown",
   "metadata": {},
   "source": [
    "## 1.3. 초평면 (hyperplane)"
   ]
  },
  {
   "cell_type": "markdown",
   "metadata": {},
   "source": [
    "- 한 영역을 두 개의 부분으로 나누는 결정 경계 (decision boundary)\n",
    "- 데이터를 분리하는 초평면은 **무한히 많이 존재**한다.\n",
    "<img src=\"img/ch2_3.png\" width=\"60%\">"
   ]
  },
  {
   "cell_type": "markdown",
   "metadata": {},
   "source": [
    "- 예를 들어, 2차원 공간 영역을 나누는 경계는 직선이고 3차원 공간을 나누는 경계는 평면이다.\n",
    "- 일반적으로 표현해서, 초평면은 N차원 공간을 (N–1)차원으로 나누는 경계를 뜻한다.\n",
    "    - 차원 수 = Feature 수"
   ]
  },
  {
   "cell_type": "markdown",
   "metadata": {},
   "source": [
    "## 1.4. 서포트 벡터 (support vector)"
   ]
  },
  {
   "cell_type": "markdown",
   "metadata": {},
   "source": [
    "- 마진에서 서로 가장 가까이 위치해 있는 데이터\n",
    "- 이 데이터들의 위치에 따라 초평면의 위치도 달라질 것이다. 즉, 이 값들은 **초평면 함수를 지지(support)** 한다.\n",
    "<img src=\"img/ch2_4.png\" width=\"60%\">\n",
    "- 마진과 초평면 위치를 결정한다."
   ]
  },
  {
   "cell_type": "markdown",
   "metadata": {},
   "source": [
    "---"
   ]
  },
  {
   "cell_type": "markdown",
   "metadata": {},
   "source": [
    "**서포트 벡터 머신의 개념 요약**\n",
    "- 데이터를 분리하는 최적의 초평면(hyperplane), 즉 최적의 결정 경계(decision boundary)를 찾는 기법\n",
    "- 결국, **최대 마진(maximum margin)** 이 되도록 클래스를 구분하는 것이 기본적인 목적이다.\n",
    "<img src=\"img/ch2_5.png\" width=\"60%\">\n",
    "\n",
    "\n",
    "\n",
    "- **마진(margin)의 크기로 분류 결과 정확도를 판단하지 않음.**(마진으로 정확도 구분할 수 없음)\n",
    "\n",
    "$$\n",
    "w_{1}x_{1}+w_{2}x_{2}\\;+\\;...\\;+\\;w_{0}\\;\\rightarrow\\;클래스 결정 값\n",
    "$$\n",
    "- $w_{1}, w_{2},\\;...$ : 회귀분석에서는 회귀계수, 분류에서는 가중치\n",
    "- $w_{0}$ : 회귀분석에서는 절편(Intercept), 분류에서는 편향"
   ]
  },
  {
   "cell_type": "markdown",
   "metadata": {},
   "source": [
    "# 2. 선형 SVM - 하드마진 분류"
   ]
  },
  {
   "cell_type": "markdown",
   "metadata": {},
   "source": [
    "## 2.1. 선형 SVM (Linear SVM)"
   ]
  },
  {
   "cell_type": "markdown",
   "metadata": {},
   "source": [
    "- **데이터를 선형으로 구분**하는 최적의 초평면을 찾는 기법\n",
    "- 선형 SVM은 두 가지 경우로 구분할 수 있다.\n",
    "    - 하드 마진 (hard margin) 분류 : 두 개의 클래스에 대해 최대 마진이 되는 초평면을 찾는다.\n",
    "    - 소프트 마진 (soft margin) 분류 : 하드 마진 분류에서 **초평면이 존재하지 않을 때**, **오분류를 허용**하여 찾는다."
   ]
  },
  {
   "cell_type": "markdown",
   "metadata": {},
   "source": [
    "## 2.2. 하드 마진 (Hard Margin) 분류"
   ]
  },
  {
   "cell_type": "markdown",
   "metadata": {},
   "source": [
    "- 두 개의 클래스에 대해 **최대 마진이 되는 초평면**을 찾는다.\n",
    "    - 이와 같이 하드 마진 분류를 수행하는 선형 SVM을 최대 마진 분류기(maximum margin classifier)라고 한다.\n",
    "- 모든 훈련 데이터들은 마진의 바깥쪽에 위치하게 된다.\n",
    "- 데이터들이 정확하게 선형적으로 구분되는 경우에만 분류가 가능하다.\n",
    "<img src=\"img/ch2_6.png\" width=\"60%\">"
   ]
  },
  {
   "cell_type": "markdown",
   "metadata": {},
   "source": [
    "## 2.3. 하드 마진 분류의 한계"
   ]
  },
  {
   "cell_type": "markdown",
   "metadata": {},
   "source": [
    "- 모든 경우에 반드시 초평면이 존재하는 것은 아니다.\n",
    "    - 데이터가 정확하게 선형적으로 구분되지 않는 경우에는 결정 경계를 찾는 것이 불가능하다.\n",
    "- 분류 모형이 일반화되기 어렵다.\n",
    "    - 이상치가 존재할 경우, 초평면이 없거나 잘 일반화되지 않는다.\n",
    "<img src=\"img/ch2_7.png\" width=\"60%\">"
   ]
  },
  {
   "cell_type": "markdown",
   "metadata": {},
   "source": [
    "## 2.4. 실습 - 사이킷런으로 선형 SVM (하드 마진) 분류 수행"
   ]
  },
  {
   "cell_type": "markdown",
   "metadata": {},
   "source": [
    "### svm 모듈 - LinearSVC"
   ]
  },
  {
   "cell_type": "markdown",
   "metadata": {},
   "source": [
    "1. **svm** 모듈에 있는 **LinearSVC**를 이용하여 선형 SVM 객체를 생성한다.\n",
    "    - 이 때 필요하다면 매개변수들을 설정할 수 있으나, 일단 처음에는 기본 상태로 적용한다."
   ]
  },
  {
   "cell_type": "code",
   "execution_count": 18,
   "metadata": {},
   "outputs": [],
   "source": [
    "import sklearn.svm as svm\n",
    "\n",
    "svm_clf = svm.LinearSVC()"
   ]
  },
  {
   "cell_type": "markdown",
   "metadata": {},
   "source": [
    "※ 학습 데이터는 연습용으로 다음과 같이 준비한다."
   ]
  },
  {
   "cell_type": "code",
   "execution_count": 19,
   "metadata": {},
   "outputs": [],
   "source": [
    "X_train = [[1,2], [5,6], [2,3], [6,7], [3,1], [7,5]]\n",
    "y_train = [0,1,0,1,0,1]"
   ]
  },
  {
   "cell_type": "markdown",
   "metadata": {},
   "source": [
    "2. 선형 SVM 객체에 대하여 **fit** 메소드를 이용하여 훈련한다."
   ]
  },
  {
   "cell_type": "code",
   "execution_count": 20,
   "metadata": {},
   "outputs": [],
   "source": [
    "clf = svm_clf.fit(X_train, y_train)"
   ]
  },
  {
   "cell_type": "markdown",
   "metadata": {},
   "source": [
    "3. 실행 객체 또는 분류 모형에 대하여 **predict** 메소드를 이용하여 예측을 수행한다."
   ]
  },
  {
   "cell_type": "code",
   "execution_count": 21,
   "metadata": {},
   "outputs": [],
   "source": [
    "X_test = [[1.5, 3.1], [4, 4.5], [6.7, 4.7]]\n",
    "y_test = [0, 0, 1]\n",
    "\n",
    "y_pred = clf.predict(X_test)"
   ]
  },
  {
   "cell_type": "code",
   "execution_count": 22,
   "metadata": {},
   "outputs": [
    {
     "name": "stdout",
     "output_type": "stream",
     "text": [
      "[0 1 1]\n"
     ]
    }
   ],
   "source": [
    "print(y_pred)"
   ]
  },
  {
   "cell_type": "markdown",
   "metadata": {},
   "source": [
    "4. 분석 결과를 평가한다.(정확도)\n",
    "    - **metrics** 모듈에 있는 **accuracy_score** 함수를 이용하여 정확도를 구한다."
   ]
  },
  {
   "cell_type": "code",
   "execution_count": 23,
   "metadata": {},
   "outputs": [
    {
     "name": "stdout",
     "output_type": "stream",
     "text": [
      "정확도 : 0.667\n"
     ]
    }
   ],
   "source": [
    "import sklearn.metrics as mt\n",
    "\n",
    "score = mt.accuracy_score(y_test, y_pred)\n",
    "print(\"정확도 : {:.3f}\".format(score))"
   ]
  },
  {
   "cell_type": "markdown",
   "metadata": {},
   "source": [
    "- 또는, 실행 객체 또는 분류 모형에 대하여 **score** 메소드를 호출하여 정확도를 구할 수도 있다.\n",
    "- 이 때 첫 번째 매개변수는 검증 데이터의 특성이고, 두번째 매개변수는 검증 데이터의 클래스이다."
   ]
  },
  {
   "cell_type": "code",
   "execution_count": 24,
   "metadata": {},
   "outputs": [
    {
     "name": "stdout",
     "output_type": "stream",
     "text": [
      "정확도 : 0.667\n"
     ]
    }
   ],
   "source": [
    "score = clf.score(X_test, y_test)\n",
    "print(\"정확도 : {:.3f}\".format(score))"
   ]
  },
  {
   "cell_type": "markdown",
   "metadata": {},
   "source": [
    "회귀.score => 결정계수$\\quad$-> 대표성을 가진 것을 출력   \n",
    "svm.score => 정확도 "
   ]
  },
  {
   "cell_type": "markdown",
   "metadata": {},
   "source": [
    "### svm 모듈 - SVC"
   ]
  },
  {
   "cell_type": "markdown",
   "metadata": {},
   "source": [
    "1. **svm** 모듈에 있는 **SVC**를 이용하여 선형 SVM 분류를 할 수 있다.\n",
    "    - 매개변수 kernel을 “linear”로 지정한다. 선형으로 분류 결정 경계를 구하겠다는 의미이다."
   ]
  },
  {
   "cell_type": "code",
   "execution_count": 25,
   "metadata": {},
   "outputs": [],
   "source": [
    "import sklearn.svm as svm\n",
    "\n",
    "svm_clf = svm.SVC(kernel = 'linear')"
   ]
  },
  {
   "cell_type": "markdown",
   "metadata": {},
   "source": [
    "※ kernel 참고"
   ]
  },
  {
   "cell_type": "markdown",
   "metadata": {},
   "source": [
    "※ 학습 데이터는 이전과 동일한 것을 이용한다."
   ]
  },
  {
   "cell_type": "code",
   "execution_count": 26,
   "metadata": {},
   "outputs": [],
   "source": [
    "X_train = [[1,2], [5,6], [2,3], [6,7], [3,1], [7,5]]\n",
    "y_train = [0,1,0,1,0,1]"
   ]
  },
  {
   "cell_type": "markdown",
   "metadata": {},
   "source": [
    "2. LinearSVC와 동일한 방식으로 **fit** 메소드를 이용하여 훈련한다."
   ]
  },
  {
   "cell_type": "code",
   "execution_count": 28,
   "metadata": {},
   "outputs": [],
   "source": [
    "clf = svm_clf.fit(X_train, y_train)"
   ]
  },
  {
   "cell_type": "markdown",
   "metadata": {},
   "source": [
    "3. 마찬가지로 **predict** 메소드를 이용하여 예측을 수행한다."
   ]
  },
  {
   "cell_type": "code",
   "execution_count": 29,
   "metadata": {},
   "outputs": [],
   "source": [
    "X_test = [[1.5, 3.1], [4, 4.5], [6.7, 4.7]]\n",
    "y_test = [0, 0, 1]\n",
    "\n",
    "y_pred = clf.predict(X_test)"
   ]
  },
  {
   "cell_type": "code",
   "execution_count": 30,
   "metadata": {},
   "outputs": [
    {
     "name": "stdout",
     "output_type": "stream",
     "text": [
      "[0 1 1]\n"
     ]
    }
   ],
   "source": [
    "print(y_pred)"
   ]
  },
  {
   "cell_type": "markdown",
   "metadata": {},
   "source": [
    "4. 마찬가지로 **accuracy_score** 함수 또는 **score** 메소드를 이용하여 정확도를 구한다."
   ]
  },
  {
   "cell_type": "code",
   "execution_count": 31,
   "metadata": {},
   "outputs": [
    {
     "name": "stdout",
     "output_type": "stream",
     "text": [
      "정확도 : 0.667\n"
     ]
    }
   ],
   "source": [
    "import sklearn.metrics as mt\n",
    "\n",
    "score = mt.accuracy_score(y_test, y_pred)\n",
    "print(\"정확도 : {:.3f}\".format(score))"
   ]
  },
  {
   "cell_type": "code",
   "execution_count": 32,
   "metadata": {},
   "outputs": [
    {
     "name": "stdout",
     "output_type": "stream",
     "text": [
      "정확도 : 0.667\n"
     ]
    }
   ],
   "source": [
    "score = clf.score(X_test, y_test)\n",
    "print(\"정확도 : {:.3f}\".format(score))"
   ]
  },
  {
   "cell_type": "markdown",
   "metadata": {},
   "source": [
    "### 2.4.1. LinearSVC와 SVC의 차이"
   ]
  },
  {
   "cell_type": "markdown",
   "metadata": {},
   "source": [
    "구분 | LinearSVC | SVC\n",
    ":---: | :--- | :--- \n",
    "용도 | 선형 SVM 분류를 수행한다. | 선형 SVM 및 <span class=\"mark\">비선형 SVM</span><br>분류를 수행할 수 있다.\n",
    "수행 기법<br>(알고리즘) | liblinear | libsvm\n",
    "특징 | <span class=\"mark\">훈련 데이터가 크거나 특성<br>수가 많아도 수행이 빠르다.</span> | 복잡하지만 규모가 크지 않은<br>데이터의 학습에 적합하다.\n",
    "커널 | 없다. (선형 분류 전용) | 여러 가지 커널 트릭을 지원한다.\n",
    "기본 손실 함수 | 제곱 힌지 손실 (squared hinge loss) | 힌지 손실 (hinge loss)"
   ]
  },
  {
   "cell_type": "markdown",
   "metadata": {},
   "source": [
    "## 2.5. SVM의 스케일링"
   ]
  },
  {
   "cell_type": "markdown",
   "metadata": {},
   "source": [
    "- SVM은 데이터 특성의 스케일에 민감하다.\n",
    "    - 아래와 같이 X축보다 Y축 값들의 스케일이 훨씬 크면 결정 경계가 거의 수평에 가깝게 된다."
   ]
  },
  {
   "cell_type": "code",
   "execution_count": 116,
   "metadata": {},
   "outputs": [],
   "source": [
    "import sklearn.svm as svm\n",
    "\n",
    "X_train = [[1,2], [5,6], [2,3], [6,7], [3,1], [7,5]]    # 원본 \n",
    "X_train = [[item[0], item[1]*10] for item in X_train]\n",
    "y_train = [0, 1, 0, 1, 0, 1]\n",
    "\n",
    "svm_clf = svm.SVC(kernel = 'linear')\n",
    "\n",
    "clf = svm_clf.fit(X_train, y_train)"
   ]
  },
  {
   "cell_type": "code",
   "execution_count": 117,
   "metadata": {},
   "outputs": [],
   "source": [
    "ary = np.array(X_train)"
   ]
  },
  {
   "cell_type": "code",
   "execution_count": 118,
   "metadata": {},
   "outputs": [],
   "source": [
    "# hyperplane\n",
    "w = clf.coef_[0]\n",
    "a = -w[0] / w[1]\n",
    "xx = np.linspace(ary[:,0].min(), ary[:,0].max())\n",
    "yy = a * xx - (clf.intercept_[0]) / w[1]"
   ]
  },
  {
   "cell_type": "code",
   "execution_count": 119,
   "metadata": {},
   "outputs": [],
   "source": [
    "# separating hyperplane that pass through the support vectors\n",
    "b = clf.support_vectors_[0]\n",
    "yy_down = a * xx + (b[1] - a * b[0])\n",
    "b = clf.support_vectors_[-1]\n",
    "yy_up = a * xx + (b[1] - a * b[0])"
   ]
  },
  {
   "cell_type": "code",
   "execution_count": 120,
   "metadata": {},
   "outputs": [
    {
     "data": {
      "text/plain": [
       "[<matplotlib.lines.Line2D at 0x15068ea4f10>]"
      ]
     },
     "execution_count": 120,
     "metadata": {},
     "output_type": "execute_result"
    },
    {
     "data": {
      "image/png": "[encoded data removed]",
      "text/plain": [
       "<Figure size 432x288 with 1 Axes>"
      ]
     },
     "metadata": {
      "needs_background": "light"
     },
     "output_type": "display_data"
    }
   ],
   "source": [
    "import matplotlib.pyplot as plt\n",
    "\n",
    "for i in range(len(y_train)):\n",
    "    if y_train[i] == 0:\n",
    "        plt.scatter(X_train[i][0], X_train[i][1], c='b')\n",
    "    else :\n",
    "        plt.scatter(X_train[i][0], X_train[i][1], c='r')\n",
    "plt.plot(xx, yy, 'k-')\n",
    "plt.plot(xx, yy_down, 'k--')\n",
    "plt.plot(xx, yy_up, 'k--')"
   ]
  },
  {
   "cell_type": "markdown",
   "metadata": {},
   "source": [
    "- <span class=\"mark\">스케일링을 통해, 보다 적합한 결정 경계를 도출할 수 있다</span>.\n",
    "    - **preprocessing** 모듈의 **StandardScaler**에서 **fit_transform** 메소드를 이용하여 표준 정규 분포로 전처리한다."
   ]
  },
  {
   "cell_type": "code",
   "execution_count": 121,
   "metadata": {},
   "outputs": [],
   "source": [
    "import sklearn.preprocessing as pp\n",
    "import sklearn.svm as svm\n",
    "\n",
    "X_train = [[1,2], [5,6], [2,3], [6,7], [3,1], [7,5]]   # 원본\n",
    "X_train = [[item[0], item[1]*10] for item in X_train]\n",
    "y_train = [0, 1, 0, 1, 0, 1]\n",
    "\n",
    "svm_clf = svm.SVC(kernel = 'linear')\n",
    "\n",
    "# 스케일링 - 표준정규분포로 전처리\n",
    "scl = pp.StandardScaler()   \n",
    "X_train = scl.fit_transform(X_train)\n",
    "\n",
    "clf = svm_clf.fit(X_train, y_train)"
   ]
  },
  {
   "cell_type": "code",
   "execution_count": 122,
   "metadata": {},
   "outputs": [],
   "source": [
    "ary = np.array(X_train)"
   ]
  },
  {
   "cell_type": "code",
   "execution_count": 123,
   "metadata": {},
   "outputs": [],
   "source": [
    "# hyperplane\n",
    "w = clf.coef_[0]\n",
    "a = -w[0] / w[1]\n",
    "xx = np.linspace(ary[:,0].min(), ary[:,1].max())\n",
    "yy = a * xx - (clf.intercept_[0]) / w[1]"
   ]
  },
  {
   "cell_type": "code",
   "execution_count": 124,
   "metadata": {},
   "outputs": [],
   "source": [
    "# separating hyperplane that pass through the support vectors\n",
    "b = clf.support_vectors_[0]\n",
    "yy_down = a * xx + (b[1] - a * b[0])\n",
    "b = clf.support_vectors_[-1]\n",
    "yy_up = a * xx + (b[1] - a * b[0])"
   ]
  },
  {
   "cell_type": "code",
   "execution_count": 125,
   "metadata": {},
   "outputs": [
    {
     "data": {
      "text/plain": [
       "[<matplotlib.lines.Line2D at 0x1506926de80>]"
      ]
     },
     "execution_count": 125,
     "metadata": {},
     "output_type": "execute_result"
    },
    {
     "data": {
      "image/png": "[encoded data removed]",
      "text/plain": [
       "<Figure size 432x288 with 1 Axes>"
      ]
     },
     "metadata": {
      "needs_background": "light"
     },
     "output_type": "display_data"
    }
   ],
   "source": [
    "import matplotlib.pyplot as plt\n",
    "\n",
    "for i in range(len(y_train)):\n",
    "    if y_train[i] == 0:\n",
    "        plt.scatter(X_train[i][0], X_train[i][1], c='b')\n",
    "    else :\n",
    "        plt.scatter(X_train[i][0], X_train[i][1], c='r')\n",
    "plt.plot(xx, yy, 'k-')\n",
    "plt.plot(xx, yy_down, 'k--')\n",
    "plt.plot(xx, yy_up, 'k--')"
   ]
  },
  {
   "cell_type": "markdown",
   "metadata": {},
   "source": [
    "# 참고 : 2차원 데이터 분류에서의 결정 경계"
   ]
  },
  {
   "cell_type": "markdown",
   "metadata": {},
   "source": [
    "- 선형 SVM 분류의 초평면 (결정 경계)\n",
    "    - 2차원 데이터에 대한 결정 경계 식은 다음과 같이 쓸 수 있다.\n",
    "$$\n",
    "w_{0}+w_{1}*X+w_{2}*Y = 0\\\\\n",
    "(이 때, 각 w_{i}는 계수와 절편이다.)\\\\\n",
    "$$\n",
    "    - 이 식을 y에 대해서 정리하면 다음과 같다.\n",
    "$$\n",
    "y = - \\frac{w_{1}}{w_{2}}*X+\\frac{w_{0}}{w_{2}}\n",
    "$$"
   ]
  },
  {
   "cell_type": "markdown",
   "metadata": {},
   "source": [
    "## 사이킷런의 실행 결과"
   ]
  },
  {
   "cell_type": "markdown",
   "metadata": {},
   "source": [
    "- 분류 모형의 결과로 계수와 절편 값이 들어 있으며, 계수는 **coef_** 속성, 절편은 **intercept_** 속성에 값이 할당되어 있다.\n",
    "- 이 값들을 이용하여 결정 경계 식을 표현한다.\n",
    "$$\n",
    "y = - \\frac{w_{1}}{w_{2}}*X+\\frac{w_{0}}{w_{2}}\n",
    "$$"
   ]
  },
  {
   "cell_type": "code",
   "execution_count": 142,
   "metadata": {},
   "outputs": [],
   "source": [
    "import numpy as np\n",
    "\n",
    "xx = np.linspace(1, 7)\n",
    "\n",
    "yy = -(clf.coef_[0][0] / clf.coef_[0][1]) * xx - clf.intercept_ / clf.coef_[0][1]"
   ]
  },
  {
   "cell_type": "markdown",
   "metadata": {},
   "source": [
    "※ 클래스가 2종류일 때 coef_ 속성은 1행, 2열 형태인 2차원 ndarray이다."
   ]
  },
  {
   "cell_type": "markdown",
   "metadata": {},
   "source": [
    "- 데이터 산점도 및 결정 경계 플롯"
   ]
  },
  {
   "cell_type": "code",
   "execution_count": 169,
   "metadata": {},
   "outputs": [
    {
     "data": {
      "image/png": "[encoded data removed]",
      "text/plain": [
       "<Figure size 504x288 with 1 Axes>"
      ]
     },
     "metadata": {
      "needs_background": "light"
     },
     "output_type": "display_data"
    }
   ],
   "source": [
    "import sklearn.svm as svm\n",
    "\n",
    "X_train = [[1,2], [5,6], [2,3], [6,7], [3,1], [7,5]] \n",
    "y_train = [0, 1, 0, 1, 0, 1]\n",
    "\n",
    "svm_clf = svm.SVC(kernel = 'linear')\n",
    "\n",
    "clf = svm_clf.fit(X_train, y_train)\n",
    "\n",
    "############################################\n",
    "\n",
    "import matplotlib.pyplot as plt\n",
    "\n",
    "plt.figure(figsize = (7,4))\n",
    "\n",
    "c_set = ['blue', 'red']\n",
    "m_set = ['o', '^']\n",
    "l_set = ['class0', 'class1']\n",
    "\n",
    "for t in set(y_train):\n",
    "    X_pts = [X_train[i][0] for i in range(len(X_train)) if y_train[i] == t]\n",
    "    Y_pts = [X_train[i][1] for i in range(len(X_train)) if y_train[i] == t]\n",
    "    plt.scatter(X_pts, Y_pts, color = c_set[t], marker = m_set[t], label = l_set[t])\n",
    "\n",
    "############################################\n",
    "\n",
    "X_test = [[1.5, 3.1], [4, 4.5], [6.7, 4.7]]\n",
    "y_test = [0, 0, 1]\n",
    "\n",
    "y_pred = clf.predict(X_test)\n",
    "\n",
    "############################################\n",
    "\n",
    "l_set = ['class0_test', 'class1_test']\n",
    "\n",
    "for t in set(y_test):\n",
    "    X_pts = [X_test[i][0] for i in range(len(X_test)) if y_test[i] == t]\n",
    "    Y_pts = [X_test[i][1] for i in range(len(X_test)) if y_test[i] == t]\n",
    "    plt.scatter(X_pts, Y_pts, facecolors='none', color = c_set[t], marker = m_set[t], label = l_set[t])\n",
    "\n",
    "\n",
    "l_set = ['class0_pred', 'class1_pred']\n",
    "\n",
    "for t in set(y_pred):\n",
    "    X_pts = [X_test[i][0] for i in range(len(X_test)) if y_pred[i] == t]\n",
    "    Y_pts = [X_test[i][1] for i in range(len(X_test)) if y_pred[i] == t]\n",
    "    plt.scatter(X_pts, Y_pts, s = 150, facecolors='none', edgecolor = 'black', marker = m_set[t], label = l_set[t])\n",
    "\n",
    "############################################\n",
    "\n",
    "plt.plot(xx,yy, linestyle = '--', color ='green')\n",
    "plt.title(\"Linear SVM (Hard Margin)\", fontsize = 20)\n",
    "plt.text(2.2, 6, 'Y = (-0.95)X + (-7.15)', fontsize = 12)\n",
    "plt.legend(loc = 'lower right')\n",
    "plt.show()"
   ]
  },
  {
   "cell_type": "markdown",
   "metadata": {},
   "source": [
    "# 참고 : 힌지 손실 함수와 초평면 상의 값"
   ]
  },
  {
   "cell_type": "markdown",
   "metadata": {},
   "source": [
    "- 초평면과 결정 경계에 따른 값의 분포\n",
    "    - 양성 초평면 : 결과 값이 +1 이상이 되는 초평면 영역이다.\n",
    "    - 음성 초평면 : 결과 값이 –1 이하가 되는 초평면 영역이다.\n",
    "    - 결정 경계 : 이 경계 상에 있는 데이터의 결과 값은 0이다.\n",
    "        - 데이터의 결과 값이 0 이상이면 클래스 1로 분류된다.\n",
    "        - 데이터의 결과 값이 0 미만이면 클래스 0으로 분류된다.\n",
    "<img src=\"img/ch2_8.png\" width=\"60%\">"
   ]
  },
  {
   "cell_type": "markdown",
   "metadata": {},
   "source": [
    "## 힌지 손실 함수 (Hinge Loss Function)"
   ]
  },
  {
   "cell_type": "markdown",
   "metadata": {},
   "source": [
    "<img src=\"img/ch2_9.png\" width=\"60%\">\n",
    "\n",
    "- t가 1 이상이면 함수 결과 값은 0이다.\n",
    "- t가 1 미만이면 함수 결과 값은 1–t이다.\n",
    "- 실제 클래스 집합이 +1 및 -1인 이진 분류 문제에서 t는 (실제값)×(예측값)으로 정의한다."
   ]
  },
  {
   "cell_type": "markdown",
   "metadata": {},
   "source": [
    "**힌지 손실 함수와 손실 값**\n",
    "- 양성 초평면 상에 있는 데이터들의 실제값들은 +1이고, 예측값들은 +1 이상이다.\n",
    "- 음성 초평면 상에 있는 데이터들의 실제값들은 –1이고, 예측값들은 –1 이하이다.\n",
    "\n",
    "\n",
    "- 따라서, t = (실제값)×(예측값)은 1 이상이다.\n",
    "- 즉, 힌지 손실 값은 max(0, 0 이하의 값) = 0이다."
   ]
  },
  {
   "cell_type": "markdown",
   "metadata": {},
   "source": [
    "<img src=\"img/ch2_10.png\" width=\"80%\">\n",
    "\n",
    "- 결정 경계와 초평면 사이에 있는 (즉, 마진 내의 영역에 존재하는) 데이터에 대한 t의 값은 1 미만이다.\n",
    "- 이 때의 힌지 손실 값은 1 미만의 값(= 1–t)이다.\n",
    "- 분류 자체가 올바르다고 할지라도, 예측값과 실제값의 차이가 발생하면 그만큼의 손실을 고려한다."
   ]
  },
  {
   "cell_type": "markdown",
   "metadata": {},
   "source": [
    "<img src=\"img/ch2_11.png\" width=\"80%\">\n",
    "\n",
    "- 예측값과 실제값의 부호가 다르면 (즉, 분류 자체가 잘못 되었으면) 그 데이터에 대한 t의 값은 음수이다.\n",
    "- 이 때의 힌지 손실 값은 1–(음수)이므로 1을 초과하는 값이다.\n",
    "- 예측값과 실제값의 차이가 클수록 손실을 크게 간주한다."
   ]
  },
  {
   "cell_type": "code",
   "execution_count": 2,
   "metadata": {},
   "outputs": [
    {
     "data": {
      "application/javascript": [
       "$.getScript('https://kmahelona.github.io/ipython_notebook_goodies/ipython_notebook_toc.js')\n"
      ],
      "text/plain": [
       "<IPython.core.display.Javascript object>"
      ]
     },
     "metadata": {},
     "output_type": "display_data"
    }
   ],
   "source": [
    "%%javascript\n",
    "$.getScript('https://kmahelona.github.io/ipython_notebook_goodies/ipython_notebook_toc.js')"
   ]
  }
 ],
 "metadata": {
  "kernelspec": {
   "display_name": "Python 3.8.3 64-bit",
   "language": "python",
   "name": "python38364bitc7d172dfbcaf4c84b1b0b3dca7174a39"
  },
  "language_info": {
   "codemirror_mode": {
    "name": "ipython",
    "version": 3
   },
   "file_extension": ".py",
   "mimetype": "text/x-python",
   "name": "python",
   "nbconvert_exporter": "python",
   "pygments_lexer": "ipython3",
   "version": "3.8.3"
  }
 },
 "nbformat": 4,
 "nbformat_minor": 4
}
