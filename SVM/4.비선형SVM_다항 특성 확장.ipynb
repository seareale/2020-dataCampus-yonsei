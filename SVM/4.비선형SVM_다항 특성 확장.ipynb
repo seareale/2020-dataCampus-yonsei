{
 "cells": [
  {
   "cell_type": "markdown",
   "metadata": {},
   "source": [
    "4.비선형SVM_다항 특성 확장"
   ]
  },
  {
   "cell_type": "markdown",
   "metadata": {},
   "source": [
    "Contents\n",
    "<div id=\"toc\"></div>"
   ]
  },
  {
   "cell_type": "markdown",
   "metadata": {},
   "source": [
    "# 1. 비선형 SVM"
   ]
  },
  {
   "cell_type": "markdown",
   "metadata": {},
   "source": [
    "## 1.1. 선형 SVM 분류의 한계"
   ]
  },
  {
   "cell_type": "markdown",
   "metadata": {},
   "source": [
    "- 모든 데이터들을 선형적으로 분류할 수 있는 것은 아니다."
   ]
  },
  {
   "cell_type": "code",
   "execution_count": 11,
   "metadata": {},
   "outputs": [],
   "source": [
    "import numpy as np\n",
    "\n",
    "X = np.linspace(-4, 4, 9).reshape(-1, 1)  # -1 : 자동 계산\n",
    "y = np.array([0,0,1,1,1,1,1,0,0])"
   ]
  },
  {
   "cell_type": "markdown",
   "metadata": {},
   "source": [
    "<img src=\"img/ch4_1.png\" width=\"50%\">"
   ]
  },
  {
   "cell_type": "markdown",
   "metadata": {},
   "source": [
    "## 1.2. 비선형 데이터의 특성 확장"
   ]
  },
  {
   "cell_type": "markdown",
   "metadata": {},
   "source": [
    "- 비선형 데이터의 특성을 다항식 형태로 변환하면 선형적으로 구분이 가능하게 될 수 있다."
   ]
  },
  {
   "cell_type": "code",
   "execution_count": 12,
   "metadata": {},
   "outputs": [],
   "source": [
    "import numpy as np\n",
    "import sklearn.preprocessing as pp\n",
    "\n",
    "X = np.linspace(-4, 4, 9).reshape(-1, 1)\n",
    "y = np.array([0,0,1,1,1,1,1,0,0])\n",
    "\n",
    "poly = pp.PolynomialFeatures(degree=2)\n",
    "X_poly = poly.fit_transform(X)"
   ]
  },
  {
   "cell_type": "code",
   "execution_count": 13,
   "metadata": {},
   "outputs": [
    {
     "name": "stdout",
     "output_type": "stream",
     "text": [
      "[[ 1. -4. 16.]\n",
      " [ 1. -3.  9.]\n",
      " [ 1. -2.  4.]\n",
      " [ 1. -1.  1.]\n",
      " [ 1.  0.  0.]\n",
      " [ 1.  1.  1.]\n",
      " [ 1.  2.  4.]\n",
      " [ 1.  3.  9.]\n",
      " [ 1.  4. 16.]]\n"
     ]
    }
   ],
   "source": [
    "print(X_poly)"
   ]
  },
  {
   "cell_type": "code",
   "execution_count": 16,
   "metadata": {},
   "outputs": [
    {
     "data": {
      "image/png": "[encoded data removed]",
      "text/plain": [
       "<Figure size 432x288 with 1 Axes>"
      ]
     },
     "metadata": {
      "needs_background": "light"
     },
     "output_type": "display_data"
    }
   ],
   "source": [
    "import matplotlib.pyplot as plt\n",
    "\n",
    "c_set = ['b', 'r']\n",
    "\n",
    "for i in range(len(y)):\n",
    "    plt.scatter(X_poly[i,1],X_poly[i,2], c=c_set[y[i]])"
   ]
  },
  {
   "cell_type": "markdown",
   "metadata": {},
   "source": [
    "### 1.2.1 실습 - 비선형 데이터의 특성 확장 후 선형 SVM 분류"
   ]
  },
  {
   "cell_type": "markdown",
   "metadata": {},
   "source": [
    "- 다음과 같은 비선형 데이터에 대해서 선형 SVM을 수행한다."
   ]
  },
  {
   "cell_type": "code",
   "execution_count": 17,
   "metadata": {},
   "outputs": [],
   "source": [
    "import sklearn.datasets as d\n",
    "\n",
    "X, y = d.make_moons(n_samples=100, noise=0.15, random_state=42)"
   ]
  },
  {
   "cell_type": "code",
   "execution_count": 18,
   "metadata": {},
   "outputs": [
    {
     "data": {
      "image/png": "[encoded data removed]",
      "text/plain": [
       "<Figure size 432x288 with 1 Axes>"
      ]
     },
     "metadata": {
      "needs_background": "light"
     },
     "output_type": "display_data"
    }
   ],
   "source": [
    "c_set = ['b', 'r']\n",
    "l_set = ['class0', 'class1']\n",
    "\n",
    "for t in set(y):\n",
    "    X_pts = [X[i,0] for i in range(len(y)) if y[i] == t]\n",
    "    y_pts = [X[i,1] for i in range(len(y)) if y[i] == t]\n",
    "\n",
    "    plt.scatter(X_pts,y_pts, c=c_set[t], label=l_set[t])\n",
    "    \n",
    "plt.legend()\n",
    "plt.show()"
   ]
  },
  {
   "cell_type": "markdown",
   "metadata": {},
   "source": [
    "- 비선형 데이터를 그대로 이용하여 분류한 결과는 좋지 않다."
   ]
  },
  {
   "cell_type": "code",
   "execution_count": null,
   "metadata": {},
   "outputs": [],
   "source": []
  },
  {
   "cell_type": "code",
   "execution_count": 24,
   "metadata": {},
   "outputs": [],
   "source": [
    "import sklearn.svm as svm\n",
    "\n",
    "clf = svm.SVC(C=10, kernel='linear').fit(X,y)"
   ]
  },
  {
   "cell_type": "code",
   "execution_count": 25,
   "metadata": {},
   "outputs": [
    {
     "data": {
      "text/plain": [
       "(array([[ 0.81145329, -2.6978306 ]]), array([0.20486262]))"
      ]
     },
     "execution_count": 25,
     "metadata": {},
     "output_type": "execute_result"
    }
   ],
   "source": [
    "clf.coef_, clf.intercept_"
   ]
  },
  {
   "cell_type": "markdown",
   "metadata": {},
   "source": [
    "- **clf.coef_, clf.intercept_** 를 활용하여 초평면 구하기\n",
    "<img src=\"img/ch4_2.png\" width=\"50%\">"
   ]
  },
  {
   "cell_type": "markdown",
   "metadata": {},
   "source": [
    "- 데이터의 특성을 다항식 형태로 변환한 뒤, 선형 SVM 분류를 수행한다."
   ]
  },
  {
   "cell_type": "code",
   "execution_count": 26,
   "metadata": {},
   "outputs": [],
   "source": [
    "import sklearn.preprocessing as pp\n",
    "\n",
    "poly = pp.PolynomialFeatures(degree=3)\n",
    "X_poly = poly.fit_transform(X)"
   ]
  },
  {
   "cell_type": "code",
   "execution_count": 27,
   "metadata": {},
   "outputs": [],
   "source": [
    "import sklearn.svm as svm\n",
    "\n",
    "clf = svm.SVC(C=10, kernel='linear').fit(X_poly,y)"
   ]
  },
  {
   "cell_type": "code",
   "execution_count": 28,
   "metadata": {},
   "outputs": [
    {
     "data": {
      "text/plain": [
       "(array([[-5.77315973e-15, -1.75243810e+00, -2.09583732e+00,\n",
       "         -5.49332897e+00, -3.82944358e-01, -8.89003669e-01,\n",
       "          3.90561035e+00, -1.39116772e+00,  2.23027147e+00,\n",
       "         -2.59231477e+00]]),\n",
       " array([2.58798556]))"
      ]
     },
     "execution_count": 28,
     "metadata": {},
     "output_type": "execute_result"
    }
   ],
   "source": [
    "clf.coef_, clf.intercept_"
   ]
  },
  {
   "cell_type": "code",
   "execution_count": null,
   "metadata": {},
   "outputs": [],
   "source": []
  },
  {
   "cell_type": "code",
   "execution_count": null,
   "metadata": {},
   "outputs": [],
   "source": []
  },
  {
   "cell_type": "markdown",
   "metadata": {},
   "source": [
    "- 다항식 형태로 변환된 데이터에 대해 선형 SVM 분류를 수행한 결과, 적절한 결정 경계가 나타난 것을 확인할 수 있다.\n",
    "<img src=\"img/ch4_3.png\" width=\"60%\">"
   ]
  },
  {
   "cell_type": "markdown",
   "metadata": {},
   "source": [
    "## 1.3. 결정 경계와 예측값의 관계"
   ]
  },
  {
   "cell_type": "markdown",
   "metadata": {},
   "source": [
    "- 예측값은 **predict** 메소드를 호출하여 반환되는 결과이며, 이진 분류에서는 0 또는 1로 도출된다.\n",
    "\n",
    "\n",
    "- 결정 경계에 대해 적용한 값은 **decision_function** 메소드를 호출하여 반환되는 결과이며, 그 값의 부호에 따라 예측값이 결정된다.\n",
    "    - 결과 값이 양수이면 결정 경계의 위(양성 초평면 상)에 존재한다는 의미이다. 따라서 예측값은 1이다.\n",
    "    - 결과 값이 음수이면 결정 경계의 아래(음성 초평면 상)에 존재한다는 의미이다. 따라서 예측값은 0이다."
   ]
  },
  {
   "cell_type": "markdown",
   "metadata": {},
   "source": [
    "- 어떤 데이터에 대한 **decision_function** 메소드의 반환 값은 <span class=\"mark\">그 데이터가 어떤 초평면 상에 있는지 판단의 근거</span>가 된다."
   ]
  },
  {
   "cell_type": "code",
   "execution_count": 29,
   "metadata": {},
   "outputs": [
    {
     "name": "stdout",
     "output_type": "stream",
     "text": [
      "[1 0 0]\n"
     ]
    }
   ],
   "source": [
    "X_new = np.array([[1, -0.5], [1, 0], [1, 0.5]])\n",
    "X_new_poly = poly.fit_transform(X_new)\n",
    "\n",
    "y_new_pred = clf.predict(X_new_poly)\n",
    "print(y_new_pred)"
   ]
  },
  {
   "cell_type": "code",
   "execution_count": 31,
   "metadata": {},
   "outputs": [
    {
     "name": "stdout",
     "output_type": "stream",
     "text": [
      "[ 1.842 -0.752 -2.676]\n"
     ]
    }
   ],
   "source": [
    "X_new = np.array([[1, -0.5], [1, 0], [1, 0.5]])\n",
    "X_new_poly = poly.fit_transform(X_new)\n",
    "\n",
    "y_new_decision = clf.decision_function(X_new_poly)\n",
    "print(np.round(y_new_decision, 3))"
   ]
  },
  {
   "cell_type": "markdown",
   "metadata": {},
   "source": [
    "1 -> 1.8542  \n",
    "0, 0 -> -0.752, -2.676"
   ]
  },
  {
   "cell_type": "markdown",
   "metadata": {},
   "source": [
    "# 참고: 비선형 분류 결정 경계의 플롯 표현 예"
   ]
  },
  {
   "cell_type": "markdown",
   "metadata": {},
   "source": [
    "## 비선형 SVM 분류 결정 경계의 플롯"
   ]
  },
  {
   "cell_type": "markdown",
   "metadata": {},
   "source": [
    "- 가로축(X)과 세로축(Y)의 각 좌표들마다 높이축(Z) 값이 존재할 때, 이 데이터를 3차원 육면체가 아니라 2차원 평면 상에서 등고선으로 그리거나 등고선의 내부를 채워서 높이 축의 값을 표현할 수 있다.\n",
    "    - **pyplot**의 **contour** 함수를 이용하여 등고선을 그린다.\n",
    "    - **pyplot**의 **contourf** 함수를 이용하여 등고선의 내부를 채운다.\n",
    "- 이 함수를 이용하여 결정 경계 곡선을 표시하겠다는 것이 핵심 발상이다"
   ]
  },
  {
   "cell_type": "markdown",
   "metadata": {},
   "source": [
    "- 가로축(X)과 세로축(Y)의 각 좌표들마다 높이축(Z) 값이 존재할 때, 이 데이터를 3차원 육면체가 아니라 2차원 평면 상에서 등고선으로 그리거나 등고선의 내부를 채워서 높이축의 값을 표현할 수 있다."
   ]
  },
  {
   "cell_type": "markdown",
   "metadata": {},
   "source": [
    "```python\n",
    "# plt.contour 함수\n",
    "# 가로축 X, 세로축 Y, 높이축 Z 값들을 인자로 받아서\n",
    "# 이 높이에 해당하는 Z값들을 기준으로 등고선을 표현한다.\n",
    "plt.contour(X, Y, Z, ...)\n",
    "```"
   ]
  },
  {
   "cell_type": "markdown",
   "metadata": {},
   "source": [
    "```python\n",
    "# plt.contour 함수\n",
    "# 가로축 X, 세로축 Y, 높이축 Z 값들을 인자로 받아서\n",
    "# 이 높이에 해당하는 Z값들을 기준으로 등고선의 내부를 채운다.\n",
    "plt.contour(X, Y, Z, ...)\n",
    "```"
   ]
  },
  {
   "cell_type": "markdown",
   "metadata": {},
   "source": [
    "## 실습"
   ]
  },
  {
   "cell_type": "code",
   "execution_count": 36,
   "metadata": {},
   "outputs": [],
   "source": [
    "import sklearn.datasets as d\n",
    "\n",
    "X, y = d.make_moons(n_samples=100, noise=0.15, random_state=42)"
   ]
  },
  {
   "cell_type": "code",
   "execution_count": 37,
   "metadata": {},
   "outputs": [],
   "source": [
    "import sklearn.preprocessing as pp\n",
    "import sklearn.svm as svm\n",
    "\n",
    "poly = pp.PolynomialFeatures(degree=3)\n",
    "X_poly = poly.fit_transform(X)\n",
    "\n",
    "clf = svm.SVC(kernel='linear', C=10).fit(X_ploy, y)"
   ]
  },
  {
   "cell_type": "code",
   "execution_count": 40,
   "metadata": {},
   "outputs": [
    {
     "data": {
      "image/png": "[encoded data removed]",
      "text/plain": [
       "<Figure size 432x288 with 1 Axes>"
      ]
     },
     "metadata": {
      "needs_background": "light"
     },
     "output_type": "display_data"
    }
   ],
   "source": [
    "import matplotlib.pyplot as plt\n",
    "\n",
    "c_set = ['b', 'r']\n",
    "l_set = ['class0', 'class1']\n",
    "\n",
    "for t in set(y):\n",
    "    X_pts = [X[i,0] for i in range(len(y)) if y[i] == t]\n",
    "    y_pts = [X[i,1] for i in range(len(y)) if y[i] == t]\n",
    "\n",
    "    plt.scatter(X_pts,y_pts, c=c_set[t], label=l_set[t])\n",
    "    \n",
    "plt.legend()\n",
    "plt.show()"
   ]
  },
  {
   "cell_type": "code",
   "execution_count": 39,
   "metadata": {},
   "outputs": [],
   "source": [
    "import numpy as np\n",
    "\n",
    "X1s = np.linspace(-1.5, 3.0, 100)\n",
    "X2s = np.linspace(-1, 1.5, 100)\n",
    "\n",
    "X1, X2 = np.meshgrid(X1s, X2s) # X1s, X2s으로 조합가능한 모든 좌표 생성 : len(X1s) X len(X2s) 짜리 배열 생성"
   ]
  },
  {
   "cell_type": "code",
   "execution_count": 60,
   "metadata": {},
   "outputs": [
    {
     "name": "stdout",
     "output_type": "stream",
     "text": [
      "( 0 3 )( 1 3 )( 2 3 )( 0 4 )( 1 4 )( 2 4 )( 0 5 )( 1 5 )( 2 5 )( 0 6 )( 1 6 )( 2 6 )"
     ]
    }
   ],
   "source": [
    "################################################################\n",
    "# meshgrid 예시\n",
    "\n",
    "a = np.arange(3)\n",
    "b = np.arange(3, 7)\n",
    "\n",
    "A, B = np.meshgrid(a, b)\n",
    "\n",
    "for x_pt, y_pt in zip(A, B):  # x_pt = [0 1 2], y_pt = [3 3 3]\n",
    "    for x, y in zip(x_pt, y_pt):\n",
    "        print('(',x, y,')', end='')\n",
    "        \n",
    "# A.ravel() # 1차원화\n",
    "# B.ravel()\n",
    "\n",
    "# np.vstack( ( A.ravel(), B.ravel() ) )\n",
    "# np.vstack((A.ravel(), B.ravel())).transpose()  # 전치\n",
    "\n",
    "################################################################"
   ]
  },
  {
   "cell_type": "code",
   "execution_count": 72,
   "metadata": {},
   "outputs": [
    {
     "data": {
      "text/plain": [
       "Text(0, 0.5, '$X_{2}$')"
      ]
     },
     "execution_count": 72,
     "metadata": {},
     "output_type": "execute_result"
    },
    {
     "data": {
      "image/png": "[encoded data removed]",
      "text/plain": [
       "<Figure size 432x288 with 1 Axes>"
      ]
     },
     "metadata": {
      "needs_background": "light"
     },
     "output_type": "display_data"
    }
   ],
   "source": [
    "XX = np.vstack((X1.ravel(), X2.ravel())).transpose()\n",
    "XX_poly = poly.fit_transform(XX)\n",
    "y_pred = clf.predict(XX_poly)\n",
    "y_pred_s = y_pred.reshape(X1.shape)\n",
    "\n",
    "plt.contour(X1s, X2s, y_pred_s, colors='black')\n",
    "plt.contourf(X1s, X2s, y_pred_s, cmap=plt.cm.coolwarm, alpha=0.3)\n",
    "\n",
    "plt.xlabel('$X_{1}$', fontsize=14)\n",
    "plt.ylabel('$X_{2}$', fontsize=14)"
   ]
  },
  {
   "cell_type": "code",
   "execution_count": 73,
   "metadata": {},
   "outputs": [
    {
     "data": {
      "application/javascript": [
       "$.getScript('https://kmahelona.github.io/ipython_notebook_goodies/ipython_notebook_toc.js')\n"
      ],
      "text/plain": [
       "<IPython.core.display.Javascript object>"
      ]
     },
     "metadata": {},
     "output_type": "display_data"
    }
   ],
   "source": [
    "%%javascript\n",
    "$.getScript('https://kmahelona.github.io/ipython_notebook_goodies/ipython_notebook_toc.js')"
   ]
  }
 ],
 "metadata": {
  "kernelspec": {
   "display_name": "Python 3.8.3 64-bit",
   "language": "python",
   "name": "python38364bitc7d172dfbcaf4c84b1b0b3dca7174a39"
  },
  "language_info": {
   "codemirror_mode": {
    "name": "ipython",
    "version": 3
   },
   "file_extension": ".py",
   "mimetype": "text/x-python",
   "name": "python",
   "nbconvert_exporter": "python",
   "pygments_lexer": "ipython3",
   "version": "3.8.3"
  }
 },
 "nbformat": 4,
 "nbformat_minor": 4
}
