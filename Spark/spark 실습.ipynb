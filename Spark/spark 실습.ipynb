{
 "cells": [
  {
   "cell_type": "code",
   "execution_count": 1,
   "metadata": {},
   "outputs": [],
   "source": [
    "#import pyspark"
   ]
  },
  {
   "cell_type": "code",
   "execution_count": 1,
   "metadata": {},
   "outputs": [],
   "source": [
    "from pyspark import SparkContext, SparkConf"
   ]
  },
  {
   "cell_type": "code",
   "execution_count": 2,
   "metadata": {},
   "outputs": [],
   "source": [
    "sc = SparkContext('local', 'First App')"
   ]
  },
  {
   "cell_type": "code",
   "execution_count": 3,
   "metadata": {},
   "outputs": [
    {
     "name": "stdout",
     "output_type": "stream",
     "text": [
      "max : 4\n",
      "min : 1\n",
      "sum : 10\n",
      "###### output ######\n",
      "4\n",
      "1\n",
      "16\n",
      "9\n",
      "####################\n"
     ]
    }
   ],
   "source": [
    "numList = [2, 1, 4, 3]\n",
    "nums = sc.parallelize(numList)\n",
    "squarNum = nums.map(lambda x : x*x)\n",
    "output = squarNum.collect()\n",
    "\n",
    "max_s = nums.max()\n",
    "min_s = nums.min()\n",
    "sum_s = nums.fold(0, (lambda x, y: x+y))\n",
    "\n",
    "print('max : '+str(max_s))\n",
    "print('min : '+str(min_s))\n",
    "print('sum : '+str(sum_s))\n",
    "\n",
    "print('###### output ######')\n",
    "for num in output :\n",
    "    print(num)\n",
    "print('####################')"
   ]
  },
  {
   "cell_type": "code",
   "execution_count": 4,
   "metadata": {},
   "outputs": [
    {
     "name": "stdout",
     "output_type": "stream",
     "text": [
      "firstLine : This directory includes a few sample datasets to get you started.\n",
      "numOfLines : 19\n",
      "numOfSparkLine : 0\n"
     ]
    }
   ],
   "source": [
    "textFile = sc.textFile('README.md')\n",
    "\n",
    "firstLine = textFile.first()\n",
    "numOfLines = textFile.count()\n",
    "\n",
    "SparkLine = textFile.filter(lambda line : 'Spark' in line)\n",
    "numOfSparkLine = SparkLine.count()\n",
    "\n",
    "print('firstLine : '+firstLine)\n",
    "print('numOfLines : '+str(numOfLines))\n",
    "print('numOfSparkLine : '+str(numOfSparkLine))"
   ]
  },
  {
   "cell_type": "code",
   "execution_count": 5,
   "metadata": {},
   "outputs": [
    {
     "name": "stdout",
     "output_type": "stream",
     "text": [
      "This 1\n",
      "directory 1\n",
      "includes 1\n",
      "a 3\n",
      "few 1\n",
      "sample 2\n",
      "datasets 1\n",
      "to 1\n",
      "get 1\n",
      "you 1\n",
      "started. 1\n",
      " 51\n",
      "* 3\n",
      "`california_housing_data*.csv` 1\n",
      "is 4\n",
      "California 1\n",
      "housing 1\n",
      "data 1\n",
      "from 1\n",
      "the 3\n",
      "1990 1\n",
      "US 1\n",
      "Census; 1\n",
      "more 1\n",
      "information 1\n",
      "available 1\n",
      "at: 2\n",
      "https://developers.google.com/machine-learning/crash-course/california-housing-data-description 1\n",
      "`mnist_*.csv` 1\n",
      "small 1\n",
      "of 2\n",
      "[MNIST 1\n",
      "database](https://en.wikipedia.org/wiki/MNIST_database), 1\n",
      "which 1\n",
      "described 2\n",
      "http://yann.lecun.com/exdb/mnist/ 1\n",
      "`anscombe.json` 1\n",
      "contains 1\n",
      "copy 2\n",
      "[Anscombe's 1\n",
      "quartet](https://en.wikipedia.org/wiki/Anscombe%27s_quartet); 1\n",
      "it 1\n",
      "was 2\n",
      "originally 1\n",
      "in 2\n",
      "Anscombe, 1\n",
      "F. 1\n",
      "J. 1\n",
      "(1973). 1\n",
      "'Graphs 1\n",
      "Statistical 1\n",
      "Analysis'. 1\n",
      "American 1\n",
      "Statistician. 1\n",
      "27 1\n",
      "(1): 1\n",
      "17-21. 1\n",
      "JSTOR 1\n",
      "2682899. 1\n",
      "and 1\n",
      "our 1\n",
      "prepared 1\n",
      "by 1\n",
      "[vega_datasets 1\n",
      "library](https://github.com/altair-viz/vega_datasets/blob/4f67bdaad10f45e3549984e17e1b3088c731503d/vega_datasets/_data/anscombe.json). 1\n"
     ]
    }
   ],
   "source": [
    "textFile = sc.textFile('README.md')\n",
    "textFile_w = textFile.flatMap(lambda x : x.split(' '))\n",
    "result = textFile_w.countByValue()\n",
    "\n",
    "for key, value in result.items():\n",
    "    print(key, value)"
   ]
  },
  {
   "cell_type": "code",
   "execution_count": 13,
   "metadata": {},
   "outputs": [
    {
     "name": "stderr",
     "output_type": "stream",
     "text": [
      "SYSTEM_WGETRC = c:/progra~1/wget/etc/wgetrc\n",
      "syswgetrc = C:\\Program Files (x86)\\Gow/etc/wgetrc\n"
     ]
    }
   ],
   "source": [
    "!wget -q http://kdd.ics.uci.edu/databases/kddcup99/kddcup.data_10_percent.gz"
   ]
  },
  {
   "cell_type": "code",
   "execution_count": 14,
   "metadata": {},
   "outputs": [],
   "source": [
    "!gzip -d kddcup.data_10_percent.gz"
   ]
  },
  {
   "cell_type": "code",
   "execution_count": 15,
   "metadata": {},
   "outputs": [
    {
     "name": "stdout",
     "output_type": "stream",
     "text": [
      "['0', 'tcp', 'http', 'SF', '181', '5450', '0', '0', '0', '0', '0', '1', '0', '0', '0', '0', '0', '0', '0', '0', '0', '0', '8', '8', '0.00', '0.00', '0.00', '0.00', '1.00', '0.00', '0.00', '9', '9', '1.00', '0.00', '0.11', '0.00', '0.00', '0.00', '0.00', '0.00', 'normal.']\n"
     ]
    }
   ],
   "source": [
    "data_file = 'kddcup.data_10_percent'\n",
    "\n",
    "raw_data = sc.textFile(data_file)\n",
    "\n",
    "csv_data = raw_data.map(lambda l: l.split(','))\n",
    "\n",
    "sampleLine = csv_data.first()\n",
    "print(sampleLine)"
   ]
  },
  {
   "cell_type": "code",
   "execution_count": 16,
   "metadata": {},
   "outputs": [
    {
     "name": "stdout",
     "output_type": "stream",
     "text": [
      "root\n",
      " |-- duration: long (nullable = true)\n",
      " |-- protocol_type: string (nullable = true)\n",
      " |-- service: string (nullable = true)\n",
      " |-- flag: string (nullable = true)\n",
      " |-- src_bytes: long (nullable = true)\n",
      " |-- dst_bytes: long (nullable = true)\n",
      " |-- label: string (nullable = true)\n",
      "\n",
      "+--------+-------------+-------+----+---------+---------+-------+\n",
      "|duration|protocol_type|service|flag|src_bytes|dst_bytes|  label|\n",
      "+--------+-------------+-------+----+---------+---------+-------+\n",
      "|       0|          tcp|   http|  SF|      181|     5450|normal.|\n",
      "|       0|          tcp|   http|  SF|      239|      486|normal.|\n",
      "|       0|          tcp|   http|  SF|      235|     1337|normal.|\n",
      "|       0|          tcp|   http|  SF|      219|     1337|normal.|\n",
      "|       0|          tcp|   http|  SF|      217|     2032|normal.|\n",
      "|       0|          tcp|   http|  SF|      217|     2032|normal.|\n",
      "|       0|          tcp|   http|  SF|      212|     1940|normal.|\n",
      "|       0|          tcp|   http|  SF|      159|     4087|normal.|\n",
      "|       0|          tcp|   http|  SF|      210|      151|normal.|\n",
      "|       0|          tcp|   http|  SF|      212|      786|normal.|\n",
      "|       0|          tcp|   http|  SF|      210|      624|normal.|\n",
      "|       0|          tcp|   http|  SF|      177|     1985|normal.|\n",
      "|       0|          tcp|   http|  SF|      222|      773|normal.|\n",
      "|       0|          tcp|   http|  SF|      256|     1169|normal.|\n",
      "|       0|          tcp|   http|  SF|      241|      259|normal.|\n",
      "|       0|          tcp|   http|  SF|      260|     1837|normal.|\n",
      "|       0|          tcp|   http|  SF|      241|      261|normal.|\n",
      "|       0|          tcp|   http|  SF|      257|      818|normal.|\n",
      "|       0|          tcp|   http|  SF|      233|      255|normal.|\n",
      "|       0|          tcp|   http|  SF|      233|      504|normal.|\n",
      "+--------+-------------+-------+----+---------+---------+-------+\n",
      "only showing top 20 rows\n",
      "\n",
      "+-------+-----------------+-------------+-------+------+------------------+-----------------+------------+\n",
      "|summary|         duration|protocol_type|service|  flag|         src_bytes|        dst_bytes|       label|\n",
      "+-------+-----------------+-------------+-------+------+------------------+-----------------+------------+\n",
      "|  count|           494021|       494021| 494021|494021|            494021|           494021|      494021|\n",
      "|   mean|47.97930249928647|         null|   null|  null|3025.6102959185946|868.5324247349809|        null|\n",
      "| stddev|707.7464723053739|         null|   null|  null| 988218.1010503998|33040.00125210233|        null|\n",
      "|    min|                0|         icmp|    IRC|   OTH|                 0|                0|       back.|\n",
      "|    max|            58329|          udp|  whois|    SH|         693375640|          5155468|warezmaster.|\n",
      "+-------+-----------------+-------------+-------+------+------------------+-----------------+------------+\n",
      "\n"
     ]
    }
   ],
   "source": [
    "# RDD to DataFrame\n",
    "from pyspark.sql import Row\n",
    "from pyspark.sql import SQLContext\n",
    "\n",
    "row_data = csv_data.map(lambda p: Row(\n",
    "    duration = int(p[0]),\n",
    "    protocol_type = p[1],\n",
    "    service = p[2],\n",
    "    flag = p[3],\n",
    "    src_bytes = int(p[4]),\n",
    "    dst_bytes = int(p[5]),\n",
    "    label = (p[41])\n",
    "    )\n",
    ")\n",
    "\n",
    "sqlContext = SQLContext(sc)\n",
    "\n",
    "df = sqlContext.createDataFrame(row_data)\n",
    "df.printSchema()\n",
    "df.show()\n",
    "df.describe().show()"
   ]
  },
  {
   "cell_type": "code",
   "execution_count": 18,
   "metadata": {},
   "outputs": [
    {
     "name": "stdout",
     "output_type": "stream",
     "text": [
      "+--------+--------------+\n",
      "|duration|(duration + 1)|\n",
      "+--------+--------------+\n",
      "|       0|             1|\n",
      "|       0|             1|\n",
      "|       0|             1|\n",
      "|       0|             1|\n",
      "|       0|             1|\n",
      "|       0|             1|\n",
      "|       0|             1|\n",
      "|       0|             1|\n",
      "|       0|             1|\n",
      "|       0|             1|\n",
      "|       0|             1|\n",
      "|       0|             1|\n",
      "|       0|             1|\n",
      "|       0|             1|\n",
      "|       0|             1|\n",
      "|       0|             1|\n",
      "|       0|             1|\n",
      "|       0|             1|\n",
      "|       0|             1|\n",
      "|       0|             1|\n",
      "+--------+--------------+\n",
      "only showing top 20 rows\n",
      "\n",
      "root\n",
      " |-- duration: long (nullable = true)\n",
      " |-- (duration + 1): long (nullable = true)\n",
      "\n",
      "+--------+-------------+--------+----+---------+---------+----------------+\n",
      "|duration|protocol_type| service|flag|src_bytes|dst_bytes|           label|\n",
      "+--------+-------------+--------+----+---------+---------+----------------+\n",
      "|       1|          tcp|    smtp|  SF|     1550|      326|         normal.|\n",
      "|      79|          tcp|    http|  SF|      231|      328|         normal.|\n",
      "|     102|          tcp|    http|  SF|      201|     2613|         normal.|\n",
      "|       1|          tcp|    smtp|  SF|     1596|      329|         normal.|\n",
      "|       1|          tcp|    smtp|  SF|     1148|      327|         normal.|\n",
      "|       1|          tcp|    smtp|  SF|     3591|      338|         normal.|\n",
      "|       1|          tcp|    smtp|  SF|     1572|      337|         normal.|\n",
      "|       8|          udp|domain_u|  SF|       98|       32|         normal.|\n",
      "|       7|          udp|domain_u|  SF|       89|       36|         normal.|\n",
      "|       4|          udp|domain_u|  SF|       89|       41|         normal.|\n",
      "|     184|          tcp|  telnet|  SF|     1511|     2957|buffer_overflow.|\n",
      "|     305|          tcp|  telnet|  SF|     1735|     2766|buffer_overflow.|\n",
      "|     257|          tcp|  telnet|  SF|      181|     1222|         normal.|\n",
      "|       1|          tcp|    smtp|  SF|     1587|      332|         normal.|\n",
      "|       1|          tcp|    smtp|  SF|     2007|      335|         normal.|\n",
      "|       1|          tcp|    smtp|  SF|     1315|      367|         normal.|\n",
      "|      27|          tcp|     ftp|  SF|      916|     2720|         normal.|\n",
      "|      25|          tcp|     ftp|  SF|      336|     1063|         normal.|\n",
      "|      20|          tcp|     ftp|  SF|      226|      767|         normal.|\n",
      "|      27|          tcp|     ftp|  SF|     1458|     4152|         normal.|\n",
      "+--------+-------------+--------+----+---------+---------+----------------+\n",
      "only showing top 20 rows\n",
      "\n",
      "+-------------+------+\n",
      "|protocol_type| count|\n",
      "+-------------+------+\n",
      "|          tcp|190065|\n",
      "|          udp| 20354|\n",
      "|         icmp|283602|\n",
      "+-------------+------+\n",
      "\n"
     ]
    }
   ],
   "source": [
    "# Select duration & duration incremented by 1\n",
    "df.select(df['duration'], df['duration'] + 1).show()\n",
    "df.select(df['duration'], df['duration'] + 1).printSchema()\n",
    "\n",
    "# Select duration greater than 0\n",
    "df.filter(df['duration'] > 0).show()\n",
    "\n",
    "# Count people by protocol_type\n",
    "df.groupBy(df['protocol_type']).count().show()"
   ]
  },
  {
   "cell_type": "code",
   "execution_count": 22,
   "metadata": {},
   "outputs": [
    {
     "name": "stdout",
     "output_type": "stream",
     "text": [
      "+--------+------------------------------+\n",
      "|duration|(duration + CAST(1 AS BIGINT))|\n",
      "+--------+------------------------------+\n",
      "|       0|                             1|\n",
      "|       0|                             1|\n",
      "|       0|                             1|\n",
      "|       0|                             1|\n",
      "|       0|                             1|\n",
      "|       0|                             1|\n",
      "|       0|                             1|\n",
      "|       0|                             1|\n",
      "|       0|                             1|\n",
      "|       0|                             1|\n",
      "|       0|                             1|\n",
      "|       0|                             1|\n",
      "|       0|                             1|\n",
      "|       0|                             1|\n",
      "|       0|                             1|\n",
      "|       0|                             1|\n",
      "|       0|                             1|\n",
      "|       0|                             1|\n",
      "|       0|                             1|\n",
      "|       0|                             1|\n",
      "+--------+------------------------------+\n",
      "only showing top 20 rows\n",
      "\n",
      "+--------+-------------+--------+----+---------+---------+----------------+\n",
      "|duration|protocol_type| service|flag|src_bytes|dst_bytes|           label|\n",
      "+--------+-------------+--------+----+---------+---------+----------------+\n",
      "|       1|          tcp|    smtp|  SF|     1550|      326|         normal.|\n",
      "|      79|          tcp|    http|  SF|      231|      328|         normal.|\n",
      "|     102|          tcp|    http|  SF|      201|     2613|         normal.|\n",
      "|       1|          tcp|    smtp|  SF|     1596|      329|         normal.|\n",
      "|       1|          tcp|    smtp|  SF|     1148|      327|         normal.|\n",
      "|       1|          tcp|    smtp|  SF|     3591|      338|         normal.|\n",
      "|       1|          tcp|    smtp|  SF|     1572|      337|         normal.|\n",
      "|       8|          udp|domain_u|  SF|       98|       32|         normal.|\n",
      "|       7|          udp|domain_u|  SF|       89|       36|         normal.|\n",
      "|       4|          udp|domain_u|  SF|       89|       41|         normal.|\n",
      "|     184|          tcp|  telnet|  SF|     1511|     2957|buffer_overflow.|\n",
      "|     305|          tcp|  telnet|  SF|     1735|     2766|buffer_overflow.|\n",
      "|     257|          tcp|  telnet|  SF|      181|     1222|         normal.|\n",
      "|       1|          tcp|    smtp|  SF|     1587|      332|         normal.|\n",
      "|       1|          tcp|    smtp|  SF|     2007|      335|         normal.|\n",
      "|       1|          tcp|    smtp|  SF|     1315|      367|         normal.|\n",
      "|      27|          tcp|     ftp|  SF|      916|     2720|         normal.|\n",
      "|      25|          tcp|     ftp|  SF|      336|     1063|         normal.|\n",
      "|      20|          tcp|     ftp|  SF|      226|      767|         normal.|\n",
      "|      27|          tcp|     ftp|  SF|     1458|     4152|         normal.|\n",
      "+--------+-------------+--------+----+---------+---------+----------------+\n",
      "only showing top 20 rows\n",
      "\n",
      "+-------------+--------------------+\n",
      "|protocol_type|count(protocol_type)|\n",
      "+-------------+--------------------+\n",
      "|          tcp|              190065|\n",
      "|          udp|               20354|\n",
      "|         icmp|              283602|\n",
      "+-------------+--------------------+\n",
      "\n"
     ]
    }
   ],
   "source": [
    "df.registerTempTable('interactions')\n",
    "\n",
    "selectSQL = sqlContext.sql('''\n",
    "    SELECT duration, duration+1\n",
    "    FROM interactions\n",
    "''')\n",
    "selectSQL.show()\n",
    "\n",
    "whereSQL = sqlContext.sql('''\n",
    "    SELECT *\n",
    "    FROM interactions\n",
    "    WHERE duration > 0\n",
    "''')\n",
    "whereSQL.show()\n",
    "\n",
    "groupbySQL = sqlContext.sql('''\n",
    "    SELECT protocol_type, count(protocol_type)\n",
    "    FROM interactions\n",
    "    GROUP BY protocol_type\n",
    "''')\n",
    "groupbySQL.show()"
   ]
  },
  {
   "cell_type": "code",
   "execution_count": 23,
   "metadata": {},
   "outputs": [
    {
     "name": "stdout",
     "output_type": "stream",
     "text": [
      "+-------------+--------------------+\n",
      "|protocol_type|count(protocol_type)|\n",
      "+-------------+--------------------+\n",
      "|          tcp|              190065|\n",
      "|          udp|               20354|\n",
      "|         icmp|              283602|\n",
      "+-------------+--------------------+\n",
      "\n",
      "Query performed in 5.901 seconds\n",
      "+-------------+------+\n",
      "|protocol_type| count|\n",
      "+-------------+------+\n",
      "|          tcp|190065|\n",
      "|          udp| 20354|\n",
      "|         icmp|283602|\n",
      "+-------------+------+\n",
      "\n",
      "Query performed in 5.712 seconds\n"
     ]
    }
   ],
   "source": [
    "# comparison\n",
    "from time import time\n",
    "\n",
    "t0 = time()\n",
    "groupbySQL = sqlContext.sql('''\n",
    "    SELECT protocol_type, count(protocol_type)\n",
    "    FROM interactions\n",
    "    GROUP BY protocol_type\n",
    "''').show()\n",
    "tt = time()- t0\n",
    "\n",
    "print('Query performed in {} seconds'.format(round(tt,3)))\n",
    "\n",
    "t0 = time()\n",
    "df.select('protocol_type')\\\n",
    "    .groupBy('protocol_type')\\\n",
    "    .count()\\\n",
    "    .show()\n",
    "tt = time()- t0\n",
    "\n",
    "print('Query performed in {} seconds'.format(round(tt,3)))"
   ]
  },
  {
   "cell_type": "code",
   "execution_count": null,
   "metadata": {},
   "outputs": [],
   "source": []
  }
 ],
 "metadata": {
  "kernelspec": {
   "display_name": "Python 3",
   "language": "python",
   "name": "python3"
  },
  "language_info": {
   "codemirror_mode": {
    "name": "ipython",
    "version": 3
   },
   "file_extension": ".py",
   "mimetype": "text/x-python",
   "name": "python",
   "nbconvert_exporter": "python",
   "pygments_lexer": "ipython3",
   "version": "3.8.3"
  }
 },
 "nbformat": 4,
 "nbformat_minor": 4
}
